{
 "cells": [
  {
   "cell_type": "code",
   "execution_count": 1,
   "id": "1edc6c21",
   "metadata": {},
   "outputs": [
    {
     "name": "stdout",
     "output_type": "stream",
     "text": [
      "Hello World\n"
     ]
    }
   ],
   "source": [
    "print(\"Hello World\")"
   ]
  },
  {
   "cell_type": "code",
   "execution_count": 9,
   "id": "e61e76a3",
   "metadata": {},
   "outputs": [
    {
     "name": "stdout",
     "output_type": "stream",
     "text": [
      "HelloWorld\n"
     ]
    }
   ],
   "source": [
    "print(\"Hello\" + \"World\",sep=' ')"
   ]
  },
  {
   "cell_type": "code",
   "execution_count": 11,
   "id": "bbd89433",
   "metadata": {},
   "outputs": [
    {
     "name": "stdout",
     "output_type": "stream",
     "text": [
      "Hello World İnönü Üniversitesi\n"
     ]
    }
   ],
   "source": [
    "print(\"Hello\",\"World\",\"İnönü\",\"Üniversitesi\")"
   ]
  },
  {
   "cell_type": "code",
   "execution_count": 2,
   "id": "103f2b8b",
   "metadata": {},
   "outputs": [
    {
     "name": "stdout",
     "output_type": "stream",
     "text": [
      "<class 'str'>\n"
     ]
    }
   ],
   "source": [
    "hello=\"Hello World İnönü Üniversitesi\"\n",
    "print(type(hello))"
   ]
  },
  {
   "cell_type": "code",
   "execution_count": 7,
   "id": "3582638a",
   "metadata": {},
   "outputs": [
    {
     "name": "stdout",
     "output_type": "stream",
     "text": [
      "<class 'complex'>\n"
     ]
    }
   ],
   "source": [
    "number=12345.8\n",
    "print(type(number))"
   ]
  },
  {
   "cell_type": "code",
   "execution_count": 15,
   "id": "91d37c23",
   "metadata": {},
   "outputs": [
    {
     "name": "stdout",
     "output_type": "stream",
     "text": [
      "hello world 155555hello!world 2\n"
     ]
    }
   ],
   "source": [
    "print(\"hello\",\"world 1\",end='55555')\n",
    "print(\"hello\",\"world 2\",sep='!', end='\\n')"
   ]
  },
  {
   "cell_type": "code",
   "execution_count": 21,
   "id": "e299da3e",
   "metadata": {},
   "outputs": [
    {
     "name": "stdout",
     "output_type": "stream",
     "text": [
      "0.8\n"
     ]
    }
   ],
   "source": [
    "print(4/5)"
   ]
  },
  {
   "cell_type": "code",
   "execution_count": 22,
   "id": "25877bc0",
   "metadata": {},
   "outputs": [
    {
     "name": "stdout",
     "output_type": "stream",
     "text": [
      "6\n"
     ]
    }
   ],
   "source": [
    "list1=[1,2,3,4,5,6,7,8,9]\n",
    "print(list1[5])"
   ]
  },
  {
   "cell_type": "code",
   "execution_count": 1,
   "id": "05bb2634",
   "metadata": {},
   "outputs": [],
   "source": [
    "list3=[1,2,3,]\n"
   ]
  },
  {
   "cell_type": "code",
   "execution_count": 4,
   "id": "b0a89d12",
   "metadata": {},
   "outputs": [
    {
     "name": "stdout",
     "output_type": "stream",
     "text": [
      "4\n"
     ]
    }
   ],
   "source": [
    "a=7\n",
    "b=4\n",
    "print(a&b)"
   ]
  },
  {
   "cell_type": "code",
   "execution_count": 1,
   "id": "35c1f4a5",
   "metadata": {},
   "outputs": [
    {
     "name": "stdout",
     "output_type": "stream",
     "text": [
      "12\n"
     ]
    }
   ],
   "source": [
    "a=5\n",
    "b=6\n",
    "a=b\n",
    "print(a+b)"
   ]
  },
  {
   "cell_type": "code",
   "execution_count": 3,
   "id": "f1b49511",
   "metadata": {},
   "outputs": [
    {
     "name": "stdout",
     "output_type": "stream",
     "text": [
      "14\n"
     ]
    }
   ],
   "source": [
    "c=4\n",
    "g=7\n",
    "c=g\n",
    "print(c+g)"
   ]
  },
  {
   "cell_type": "code",
   "execution_count": 4,
   "id": "4038964e",
   "metadata": {},
   "outputs": [
    {
     "name": "stdout",
     "output_type": "stream",
     "text": [
      "False\n"
     ]
    }
   ],
   "source": [
    "a=5\n",
    "f=7\n",
    "\n",
    "print(a==f)"
   ]
  },
  {
   "cell_type": "code",
   "execution_count": 7,
   "id": "b6a991e4",
   "metadata": {},
   "outputs": [
    {
     "name": "stdout",
     "output_type": "stream",
     "text": [
      "birinci sayıyı gir=87\n",
      "ikinci sayıyı gir=22\n"
     ]
    }
   ],
   "source": [
    "a=input(\"birinci sayıyı gir=\")\n",
    "b=input(\"ikinci sayıyı gir=\")"
   ]
  },
  {
   "cell_type": "code",
   "execution_count": 8,
   "id": "ae0af91b",
   "metadata": {},
   "outputs": [
    {
     "name": "stdout",
     "output_type": "stream",
     "text": [
      "109\n"
     ]
    }
   ],
   "source": [
    "print(int(a)+int(b))"
   ]
  },
  {
   "cell_type": "code",
   "execution_count": 9,
   "id": "9c12e67f",
   "metadata": {},
   "outputs": [
    {
     "name": "stdout",
     "output_type": "stream",
     "text": [
      "akımı giriniz=4\n",
      "direnci giriniz=5\n"
     ]
    }
   ],
   "source": [
    "I=input(\"akımı giriniz=\")\n",
    "R=input(\"direnci giriniz=\")"
   ]
  },
  {
   "cell_type": "code",
   "execution_count": 11,
   "id": "b7b2428a",
   "metadata": {},
   "outputs": [
    {
     "name": "stdout",
     "output_type": "stream",
     "text": [
      "20\n"
     ]
    }
   ],
   "source": [
    "print(int(I)*int(R))"
   ]
  },
  {
   "cell_type": "code",
   "execution_count": 13,
   "id": "994faf4c",
   "metadata": {},
   "outputs": [
    {
     "name": "stdout",
     "output_type": "stream",
     "text": [
      "akımı giriniz=5\n",
      "direnci giriniz=2\n",
      "10\n"
     ]
    }
   ],
   "source": [
    "I=input(\"akımı giriniz=\")\n",
    "R=input(\"direnci giriniz=\")\n",
    "print(int(I)*int(R))"
   ]
  },
  {
   "cell_type": "code",
   "execution_count": 14,
   "id": "2c62b683",
   "metadata": {},
   "outputs": [
    {
     "name": "stdout",
     "output_type": "stream",
     "text": [
      "kısa kenarı giriniz=5\n",
      "uzun kenarı giriniz=4\n",
      "alan 20\n",
      "çevre 18\n"
     ]
    }
   ],
   "source": [
    "a=input(\"kısa kenarı giriniz=\")\n",
    "b=input(\"uzun kenarı giriniz=\")\n",
    "print(\"alan\",int(a)*int(b))\n",
    "print(\"çevre\",2*int(a)+2*int(b))"
   ]
  },
  {
   "cell_type": "code",
   "execution_count": 15,
   "id": "e366ca84",
   "metadata": {},
   "outputs": [
    {
     "name": "stdout",
     "output_type": "stream",
     "text": [
      "kısa kenarı giriniz=8\n",
      "uzun kenarı giriniz=12\n",
      "alan 96\n",
      "çevre 40\n"
     ]
    }
   ],
   "source": [
    "a=input(\"kısa kenarı giriniz=\")\n",
    "b=input(\"uzun kenarı giriniz=\")\n",
    "print(\"alan\",int(a)*int(b))\n",
    "print(\"çevre\",2*int(a)+2*int(b))"
   ]
  },
  {
   "cell_type": "code",
   "execution_count": 17,
   "id": "5c6a5588",
   "metadata": {},
   "outputs": [
    {
     "name": "stdout",
     "output_type": "stream",
     "text": [
      "yüzlük notu giriniz =58\n",
      "5'lik karşılığı=  2.9\n"
     ]
    }
   ],
   "source": [
    "ogrnot=input(\"yüzlük notu giriniz =\")\n",
    "print(\"5'lik karşılığı= \", int(ogrnot)/20)"
   ]
  },
  {
   "cell_type": "code",
   "execution_count": 1,
   "id": "a3a7bde1",
   "metadata": {},
   "outputs": [
    {
     "name": "stdout",
     "output_type": "stream",
     "text": [
      "fiyat= 85\n",
      "KDV= 18\n",
      "KDV'li fiyat=  100.3\n"
     ]
    }
   ],
   "source": [
    "Fiyat= int(input(\"fiyat= \"))\n",
    "KDV=int(input(\"KDV= \"))\n",
    "print(\"KDV'li fiyat= \", Fiyat + Fiyat * KDV/100 )\n",
    "#                         50  +   50  * 18/100"
   ]
  },
  {
   "cell_type": "code",
   "execution_count": 5,
   "id": "fc065012",
   "metadata": {},
   "outputs": [
    {
     "name": "stdout",
     "output_type": "stream",
     "text": [
      "Alış fiyatı= 75\n",
      "KDV=18\n",
      "Vergi=5\n",
      "KDV'li Fiyat =  92.25\n"
     ]
    }
   ],
   "source": [
    "Fiyat= int(input(\"Alış fiyatı= \"))\n",
    "KDV= int(input(\"KDV=\"))\n",
    "Vergi= int(input(\"Vergi=\"))\n",
    "print(\"KDV'li Fiyat = \", Fiyat + Fiyat * KDV/100 + Fiyat * Vergi/100 )\n",
    "#       50 +50 * 18/100"
   ]
  },
  {
   "cell_type": "code",
   "execution_count": 3,
   "id": "48e13ffe",
   "metadata": {},
   "outputs": [
    {
     "name": "stdout",
     "output_type": "stream",
     "text": [
      "çemberin yarıçapını giriniz=5\n",
      "çemberin alanı 78.5\n"
     ]
    }
   ],
   "source": [
    "a=input (\"çemberin yarıçapını giriniz=\")\n",
    "print(\"çemberin alanı\",int(a)*int(a)*3.14)"
   ]
  },
  {
   "cell_type": "code",
   "execution_count": 7,
   "id": "95fc5dac",
   "metadata": {},
   "outputs": [
    {
     "ename": "SyntaxError",
     "evalue": "invalid syntax (<ipython-input-7-685190b0d942>, line 5)",
     "output_type": "error",
     "traceback": [
      "\u001b[1;36m  File \u001b[1;32m\"<ipython-input-7-685190b0d942>\"\u001b[1;36m, line \u001b[1;32m5\u001b[0m\n\u001b[1;33m    print(\"yüzler=\",a,\"  onlar=\",b)\u001b[0m\n\u001b[1;37m    ^\u001b[0m\n\u001b[1;31mSyntaxError\u001b[0m\u001b[1;31m:\u001b[0m invalid syntax\n"
     ]
    }
   ],
   "source": [
    "sayi =int(input(\"sayıyı girin\"))                      # sayı=256\n",
    "a=int(sayı/100)           #2\n",
    "b=int(int(sayı-a*100)/10  #5\n",
    "\n",
    "print(\"yüzler=\",a,\"  onlar=\",b)"
   ]
  },
  {
   "cell_type": "code",
   "execution_count": 8,
   "id": "c1920d1b",
   "metadata": {},
   "outputs": [
    {
     "name": "stdout",
     "output_type": "stream",
     "text": [
      "Gün sayısını giriniz = 1453\n",
      "yıl = 3\n",
      "ay = 48\n"
     ]
    }
   ],
   "source": [
    "sayı= int(input(\"Gün sayısını giriniz = \"))\n",
    "print(\"yıl =\", sayı//365)\n",
    "print(\"ay =\", sayı//30)"
   ]
  },
  {
   "cell_type": "raw",
   "id": "719e61b9",
   "metadata": {},
   "source": []
  },
  {
   "cell_type": "code",
   "execution_count": 13,
   "id": "67032c4b",
   "metadata": {},
   "outputs": [
    {
     "name": "stdout",
     "output_type": "stream",
     "text": [
      "değişken değeri 100 dür\n",
      "görüşürüz\n"
     ]
    }
   ],
   "source": [
    "var=100\n",
    "if (var==100):\n",
    "    print(\"değişken değeri 100 dür\")\n",
    "print(\"görüşürüz\")"
   ]
  },
  {
   "cell_type": "code",
   "execution_count": 14,
   "id": "f5db7e55",
   "metadata": {},
   "outputs": [
    {
     "name": "stdout",
     "output_type": "stream",
     "text": [
      "görüşürüz\n"
     ]
    }
   ],
   "source": [
    "var=1100\n",
    "if (var==100):\n",
    "    print(\"değişken değeri 100 dür\")\n",
    "print(\"görüşürüz\")"
   ]
  },
  {
   "cell_type": "code",
   "execution_count": 15,
   "id": "03866cbd",
   "metadata": {},
   "outputs": [
    {
     "name": "stdout",
     "output_type": "stream",
     "text": [
      "değişken değeri 1100 dür\n",
      "görüşürüz\n"
     ]
    }
   ],
   "source": [
    "var=100\n",
    "if (var==100):\n",
    "    print(\"değişken değeri 1100 dür\")\n",
    "print(\"görüşürüz\")"
   ]
  },
  {
   "cell_type": "code",
   "execution_count": 16,
   "id": "cd1f3b7a",
   "metadata": {},
   "outputs": [
    {
     "name": "stdout",
     "output_type": "stream",
     "text": [
      "görüşürüz\n"
     ]
    }
   ],
   "source": [
    "var=100\n",
    "if (var==1100):\n",
    "    print(\"değişken değeri 100 dür\")\n",
    "print(\"görüşürüz\")"
   ]
  },
  {
   "cell_type": "code",
   "execution_count": 17,
   "id": "2df042df",
   "metadata": {},
   "outputs": [
    {
     "name": "stdout",
     "output_type": "stream",
     "text": [
      "False\n"
     ]
    }
   ],
   "source": [
    "x=0\n",
    "y=['10',5,'abc',18 ]\n",
    "sonuç = x in y \n",
    "print(sonuç)"
   ]
  },
  {
   "cell_type": "code",
   "execution_count": 19,
   "id": "6f23129a",
   "metadata": {},
   "outputs": [
    {
     "name": "stdout",
     "output_type": "stream",
     "text": [
      "False\n"
     ]
    }
   ],
   "source": [
    "x= 6\n",
    "y= 9\n",
    "sonuç = x is y \n",
    "print(sonuç)"
   ]
  },
  {
   "cell_type": "code",
   "execution_count": 22,
   "id": "4e89affc",
   "metadata": {},
   "outputs": [
    {
     "name": "stdout",
     "output_type": "stream",
     "text": [
      "False\n"
     ]
    }
   ],
   "source": [
    "x=\"7\"\n",
    "y=\"8\"\n",
    "sonuç = x==y\n",
    "print(sonuç)"
   ]
  },
  {
   "cell_type": "code",
   "execution_count": 23,
   "id": "76bc9924",
   "metadata": {},
   "outputs": [
    {
     "name": "stdout",
     "output_type": "stream",
     "text": [
      "False\n"
     ]
    }
   ],
   "source": [
    "x=6\n",
    "y=9\n",
    "sonuç = x==y\n",
    "print(sonuç)"
   ]
  },
  {
   "cell_type": "code",
   "execution_count": 24,
   "id": "0267a77e",
   "metadata": {},
   "outputs": [
    {
     "name": "stdout",
     "output_type": "stream",
     "text": [
      "False\n"
     ]
    }
   ],
   "source": [
    "x= 60\n",
    "y=59\n",
    "print(x is y)"
   ]
  },
  {
   "cell_type": "code",
   "execution_count": 25,
   "id": "b253a68e",
   "metadata": {},
   "outputs": [
    {
     "name": "stdout",
     "output_type": "stream",
     "text": [
      "True\n"
     ]
    }
   ],
   "source": [
    "x=60\n",
    "y=60\n",
    "print(x is y)"
   ]
  },
  {
   "cell_type": "code",
   "execution_count": 26,
   "id": "db6cdda0",
   "metadata": {},
   "outputs": [
    {
     "name": "stdout",
     "output_type": "stream",
     "text": [
      "bir sayı giriniz=45\n",
      "pozitif\n"
     ]
    }
   ],
   "source": [
    "sayı =int(input(\"bir sayı giriniz=\"))\n",
    "if sayı>0:\n",
    "    print(\"pozitif\")\n",
    "if sayı<0:\n",
    "     print(\"negatif\")"
   ]
  },
  {
   "cell_type": "code",
   "execution_count": 27,
   "id": "efcaa818",
   "metadata": {},
   "outputs": [
    {
     "name": "stdout",
     "output_type": "stream",
     "text": [
      "bir sayı giriniz=-87\n",
      "negatif\n"
     ]
    }
   ],
   "source": [
    "sayı =int(input(\"bir sayı giriniz=\"))\n",
    "if sayı>0:\n",
    "    print(\"pozitif\")\n",
    "if sayı<0:\n",
    "     print(\"negatif\")"
   ]
  },
  {
   "cell_type": "code",
   "execution_count": 32,
   "id": "2dc272d0",
   "metadata": {},
   "outputs": [
    {
     "name": "stdout",
     "output_type": "stream",
     "text": [
      "bir sayı giriniz=3\n",
      "pozitif\n"
     ]
    }
   ],
   "source": [
    "sayı = int(input(\"bir sayı giriniz=\"))\n",
    "if sayı>0:\n",
    "    print(\"pozitif\")\n",
    "else:\n",
    "    if sayı<0:\n",
    "        print(\"negatif\")\n",
    "    else:\n",
    "        print(\"sıfır\")"
   ]
  },
  {
   "cell_type": "code",
   "execution_count": 34,
   "id": "91d2ea81",
   "metadata": {},
   "outputs": [
    {
     "name": "stdout",
     "output_type": "stream",
     "text": [
      "bir sayı giriniz=5\n",
      "pozitif\n"
     ]
    }
   ],
   "source": [
    "sayı = int(input(\"bir sayı giriniz=\"))\n",
    "if sayı>0:\n",
    "    print(\"pozitif\")\n",
    "else:\n",
    "    if sayı<0:\n",
    "        print(\"negatif\")\n",
    "    else:\n",
    "        print(\"sıfır\")"
   ]
  },
  {
   "cell_type": "code",
   "execution_count": 37,
   "id": "7995d3d0",
   "metadata": {},
   "outputs": [
    {
     "name": "stdout",
     "output_type": "stream",
     "text": [
      "vize notunu giriniz=85\n",
      "final notunu giriniz=10\n",
      "kaldı\n"
     ]
    }
   ],
   "source": [
    "sayı = int(input(\"bir sayı giriniz=\"))\n",
    "if sayı>0:\n",
    "    print(\"pozitif\")\n",
    "else:\n",
    "    if sayı<0:\n",
    "        print(\"negatif\")\n",
    "    else:\n",
    "        print(\"sıfır\")"
   ]
  },
  {
   "cell_type": "code",
   "execution_count": 8,
   "id": "5f88a33b",
   "metadata": {},
   "outputs": [
    {
     "ename": "NameError",
     "evalue": "name 'sayı' is not defined",
     "output_type": "error",
     "traceback": [
      "\u001b[1;31m---------------------------------------------------------------------------\u001b[0m",
      "\u001b[1;31mNameError\u001b[0m                                 Traceback (most recent call last)",
      "\u001b[1;32m<ipython-input-8-6aa75cd27f4a>\u001b[0m in \u001b[0;36m<module>\u001b[1;34m\u001b[0m\n\u001b[0;32m      1\u001b[0m \u001b[1;31m#sayı=256\u001b[0m\u001b[1;33m\u001b[0m\u001b[1;33m\u001b[0m\u001b[1;33m\u001b[0m\u001b[0m\n\u001b[0;32m      2\u001b[0m   \u001b[1;31m#2\u001b[0m\u001b[1;33m\u001b[0m\u001b[1;33m\u001b[0m\u001b[1;33m\u001b[0m\u001b[0m\n\u001b[1;32m----> 3\u001b[1;33m \u001b[0ma\u001b[0m \u001b[1;33m=\u001b[0m \u001b[0mint\u001b[0m\u001b[1;33m(\u001b[0m\u001b[0msayı\u001b[0m \u001b[1;33m//\u001b[0m \u001b[1;36m100\u001b[0m\u001b[1;33m)\u001b[0m\u001b[1;33m\u001b[0m\u001b[1;33m\u001b[0m\u001b[0m\n\u001b[0m\u001b[0;32m      4\u001b[0m \u001b[0mb\u001b[0m \u001b[1;33m=\u001b[0m \u001b[0mint\u001b[0m\u001b[1;33m(\u001b[0m\u001b[0mint\u001b[0m\u001b[1;33m(\u001b[0m\u001b[0msayı\u001b[0m\u001b[1;33m-\u001b[0m\u001b[0ma\u001b[0m\u001b[1;33m*\u001b[0m\u001b[1;36m100\u001b[0m\u001b[1;33m)\u001b[0m\u001b[1;33m/\u001b[0m\u001b[1;36m10\u001b[0m\u001b[1;33m)\u001b[0m   \u001b[1;31m#5\u001b[0m\u001b[1;33m\u001b[0m\u001b[1;33m\u001b[0m\u001b[0m\n\u001b[0;32m      5\u001b[0m \u001b[0mc\u001b[0m \u001b[1;33m=\u001b[0m \u001b[0msayı\u001b[0m \u001b[1;33m%\u001b[0m \u001b[1;36m10\u001b[0m                 \u001b[1;31m#6\u001b[0m\u001b[1;33m\u001b[0m\u001b[1;33m\u001b[0m\u001b[0m\n",
      "\u001b[1;31mNameError\u001b[0m: name 'sayı' is not defined"
     ]
    }
   ],
   "source": [
    "                            #sayı=256\n",
    "                              #2\n",
    "a = int(sayı // 100)\n",
    "b = int(int(sayı-a*100)/10)   #5\n",
    "c = sayı % 10                 #6\n",
    "print(\"yüzler=\",a,\"  onlar=\",b,\"  birler=\",c)"
   ]
  },
  {
   "cell_type": "code",
   "execution_count": null,
   "id": "098cba08",
   "metadata": {},
   "outputs": [],
   "source": []
  },
  {
   "cell_type": "code",
   "execution_count": 1,
   "id": "b27df950",
   "metadata": {},
   "outputs": [
    {
     "name": "stdout",
     "output_type": "stream",
     "text": [
      "bir sayı giriniz=256\n",
      "pozitif\n"
     ]
    }
   ],
   "source": [
    "sayı = int(input(\"bir sayı giriniz=\"))\n",
    "if sayı>0:\n",
    "    print(\"pozitif\")\n",
    "else:\n",
    "    if sayı<0:\n",
    "        print(\"negatif\")\n",
    "    else:\n",
    "        print(\"sıfır\")"
   ]
  },
  {
   "cell_type": "code",
   "execution_count": 2,
   "id": "ffdb2d92",
   "metadata": {},
   "outputs": [
    {
     "name": "stdout",
     "output_type": "stream",
     "text": [
      "yüzler= 2   onlar= 5   birler= 6\n"
     ]
    }
   ],
   "source": [
    "a = int(sayı // 100)\n",
    "b = int(int(sayı-a*100)/10)   #5\n",
    "c = sayı % 10                 #6\n",
    "print(\"yüzler=\",a,\"  onlar=\",b,\"  birler=\",c)"
   ]
  },
  {
   "cell_type": "code",
   "execution_count": 2,
   "id": "e0e35b3f",
   "metadata": {},
   "outputs": [
    {
     "name": "stdout",
     "output_type": "stream",
     "text": [
      "0 1 2 3 4 "
     ]
    }
   ],
   "source": [
    "for x in range(5):\n",
    "    print(x,end=\" \")"
   ]
  },
  {
   "cell_type": "code",
   "execution_count": 3,
   "id": "be7e6b24",
   "metadata": {},
   "outputs": [
    {
     "name": "stdout",
     "output_type": "stream",
     "text": [
      "0,1,2,3,4,"
     ]
    }
   ],
   "source": [
    "a=0\n",
    "while a<5:\n",
    "    print(a,end=\",\")\n",
    "    a+=1"
   ]
  },
  {
   "cell_type": "code",
   "execution_count": 5,
   "id": "312291fb",
   "metadata": {},
   "outputs": [
    {
     "name": "stdout",
     "output_type": "stream",
     "text": [
      "5\n",
      "6\n",
      "7\n",
      "8\n",
      "9\n"
     ]
    }
   ],
   "source": [
    "for x in range(5,10):\n",
    "    print(x)"
   ]
  },
  {
   "cell_type": "code",
   "execution_count": 6,
   "id": "da0ae0e5",
   "metadata": {},
   "outputs": [
    {
     "name": "stdout",
     "output_type": "stream",
     "text": [
      "5\n",
      "7\n",
      "9\n"
     ]
    }
   ],
   "source": [
    "for x in range(5,10,2):\n",
    "    print(x)"
   ]
  },
  {
   "cell_type": "code",
   "execution_count": 7,
   "id": "035c984a",
   "metadata": {},
   "outputs": [
    {
     "name": "stdout",
     "output_type": "stream",
     "text": [
      "0\n",
      "1\n",
      "2\n",
      "3\n",
      "4\n",
      "5\n",
      "işlem bitti\n"
     ]
    }
   ],
   "source": [
    "for x in range (6):\n",
    "    print(x)\n",
    "else:\n",
    "    print(\"işlem bitti\")"
   ]
  },
  {
   "cell_type": "code",
   "execution_count": 8,
   "id": "1d5d06c1",
   "metadata": {},
   "outputs": [
    {
     "name": "stdout",
     "output_type": "stream",
     "text": [
      "0 1 2 3 4 5 işlem bitti\n"
     ]
    }
   ],
   "source": [
    "for x in range(6):\n",
    "    print(x,end=\" \")\n",
    "print(\"işlem bitti\")    "
   ]
  },
  {
   "cell_type": "code",
   "execution_count": 9,
   "id": "097a0051",
   "metadata": {},
   "outputs": [
    {
     "name": "stdout",
     "output_type": "stream",
     "text": [
      "elma\n",
      "muz\n",
      "kayısı\n"
     ]
    }
   ],
   "source": [
    "meyveler = [\"elma\",\"muz\",\"kayısı\"]\n",
    "for meyve in meyveler:\n",
    "    print(meyve)"
   ]
  },
  {
   "cell_type": "code",
   "execution_count": 10,
   "id": "45cb104d",
   "metadata": {},
   "outputs": [
    {
     "name": "stdout",
     "output_type": "stream",
     "text": [
      "elma.\n",
      "muz.\n",
      "kayısı.\n"
     ]
    }
   ],
   "source": [
    "i=0\n",
    "while len ( meyveler)>i:\n",
    "    print(meyveler[i]+\".\")\n",
    "    i+=1"
   ]
  },
  {
   "cell_type": "code",
   "execution_count": 11,
   "id": "06bbb369",
   "metadata": {},
   "outputs": [
    {
     "name": "stdout",
     "output_type": "stream",
     "text": [
      "elma\n",
      "armut\n",
      "muz\n"
     ]
    }
   ],
   "source": [
    "dictMeyve={\"elma\":0.4,\"armut\":0.56,\"muz\":0.33}\n",
    "for key in dictMeyve:\n",
    "    print(key)"
   ]
  },
  {
   "cell_type": "code",
   "execution_count": 15,
   "id": "336c46fb",
   "metadata": {},
   "outputs": [
    {
     "name": "stdout",
     "output_type": "stream",
     "text": [
      "('elma', 0.4)\n",
      "('armut', 0.56)\n",
      "('muz', 0.33)\n"
     ]
    }
   ],
   "source": [
    "dictMeyve={\"elma\":0.4,\"armut\":0.56,\"muz\":0.33}\n",
    "for item in dictMeyve.items():\n",
    "    print(item)"
   ]
  },
  {
   "cell_type": "code",
   "execution_count": 16,
   "id": "920a759a",
   "metadata": {},
   "outputs": [
    {
     "name": "stdout",
     "output_type": "stream",
     "text": [
      "0.4\n",
      "0.56\n",
      "0.33\n"
     ]
    }
   ],
   "source": [
    "dictMeyve={\"elma\":0.4,\"armut\":0.56,\"muz\":0.33}\n",
    "for value in dictMeyve.values():\n",
    "    print(value)"
   ]
  },
  {
   "cell_type": "code",
   "execution_count": 18,
   "id": "14a16ec8",
   "metadata": {},
   "outputs": [
    {
     "name": "stdout",
     "output_type": "stream",
     "text": [
      "('elma', 0.4) <class 'tuple'>\n",
      "('armut', 0.56) <class 'tuple'>\n",
      "('muz', 0.33) <class 'tuple'>\n"
     ]
    }
   ],
   "source": [
    "dictMeyve={\"elma\":0.4,\"armut\":0.56,\"muz\":0.33}\n",
    "for item in dictMeyve.items():\n",
    "    print(item,type(item))\n"
   ]
  },
  {
   "cell_type": "code",
   "execution_count": 19,
   "id": "359fb966",
   "metadata": {},
   "outputs": [
    {
     "name": "stdout",
     "output_type": "stream",
     "text": [
      "elma\n",
      "armut\n",
      "muz\n"
     ]
    }
   ],
   "source": [
    "for item in dictMeyve.items():\n",
    "    print(item[0])"
   ]
  },
  {
   "cell_type": "code",
   "execution_count": 20,
   "id": "7a6c2931",
   "metadata": {},
   "outputs": [
    {
     "name": "stdout",
     "output_type": "stream",
     "text": [
      "0.4\n",
      "0.56\n",
      "0.33\n"
     ]
    }
   ],
   "source": [
    "for item in dictMeyve.items():\n",
    "    print(item[1])"
   ]
  },
  {
   "cell_type": "code",
   "execution_count": 23,
   "id": "b2504966",
   "metadata": {},
   "outputs": [
    {
     "name": "stdout",
     "output_type": "stream",
     "text": [
      "elma --> 0.4\n",
      "armut --> 0.56\n",
      "muz --> 0.33\n"
     ]
    }
   ],
   "source": [
    "dictMeyve={\"elma\":0.4,\"armut\":0.56,\"muz\":0.33}\n",
    "for key,value in dictMeyve.items():\n",
    "    print(key,\"-->\",value)"
   ]
  },
  {
   "cell_type": "code",
   "execution_count": 24,
   "id": "71c9fc6c",
   "metadata": {},
   "outputs": [
    {
     "name": "stdout",
     "output_type": "stream",
     "text": [
      "elma.\n",
      "son\n"
     ]
    }
   ],
   "source": [
    "meyveler=[\"elma\",\"muz\",\"kayısı\"]\n",
    "for meyve in meyveler:\n",
    "    if meyve ==\"muz\":\n",
    "        break\n",
    "    print(meyve+\".\")\n",
    "print(\"son\")\n",
    "     "
   ]
  },
  {
   "cell_type": "code",
   "execution_count": 29,
   "id": "600e1b23",
   "metadata": {},
   "outputs": [
    {
     "name": "stdout",
     "output_type": "stream",
     "text": [
      "k\n",
      "a\n",
      "y\n",
      "ı\n"
     ]
    }
   ],
   "source": [
    "for x in \"kayısı\":\n",
    "    if x ==\"s\":\n",
    "        break\n",
    "    print(x)\n",
    "   "
   ]
  },
  {
   "cell_type": "code",
   "execution_count": 30,
   "id": "e6bf4dac",
   "metadata": {},
   "outputs": [
    {
     "name": "stdout",
     "output_type": "stream",
     "text": [
      "k a y ı "
     ]
    }
   ],
   "source": [
    "for x in \"kayısı\":\n",
    "    if x ==\"s\":\n",
    "        break\n",
    "    print(x,end=\" \")"
   ]
  },
  {
   "cell_type": "code",
   "execution_count": 47,
   "id": "403c396a",
   "metadata": {},
   "outputs": [
    {
     "name": "stdout",
     "output_type": "stream",
     "text": [
      "y ..\n",
      "o ..\n",
      "u ..\n",
      "r ..\n",
      "t ..\n"
     ]
    }
   ],
   "source": [
    "for x in \"yoğurt\":\n",
    "    if x == \"ğ\":\n",
    "        continue\n",
    "    print(x,\"..\")\n",
    "    "
   ]
  },
  {
   "cell_type": "code",
   "execution_count": 51,
   "id": "a9c5701d",
   "metadata": {},
   "outputs": [
    {
     "name": "stdout",
     "output_type": "stream",
     "text": [
      " \n",
      "k\n",
      "a\n",
      "y\n",
      "ı\n",
      "s\n",
      "ı\n"
     ]
    }
   ],
   "source": [
    "i_count =1\n",
    "for x in \" kayısı\":\n",
    "    print(x)\n",
    "    if x == \"i\":\n",
    "        i_count+=1\n",
    "        if i_count==2:\n",
    "            break\n",
    "        print(x)"
   ]
  },
  {
   "cell_type": "code",
   "execution_count": 52,
   "id": "00634f59",
   "metadata": {},
   "outputs": [
    {
     "name": "stdout",
     "output_type": "stream",
     "text": [
      "beyaz ['silgi', 'kalem', 'defter']\n",
      "beyaz ['silgi', 'kalem', 'defter']\n",
      "beyaz ['silgi', 'kalem', 'defter']\n",
      "kırmızı ['silgi', 'kalem', 'defter']\n",
      "kırmızı ['silgi', 'kalem', 'defter']\n",
      "kırmızı ['silgi', 'kalem', 'defter']\n"
     ]
    }
   ],
   "source": [
    "renkler= [\"beyaz\",\"kırmızı\"]\n",
    "malzemeler=[\"silgi\",\"kalem\",\"defter\"]\n",
    "for renk in renkler:\n",
    "    for malzeme in malzemeler:\n",
    "        print(renk, malzemeler)"
   ]
  },
  {
   "cell_type": "code",
   "execution_count": 54,
   "id": "8c9744a8",
   "metadata": {},
   "outputs": [
    {
     "name": "stdout",
     "output_type": "stream",
     "text": [
      "beyaz ['silgi', 'kalem', 'defter']\n",
      "kırmızı ['silgi', 'kalem', 'defter']\n",
      "beyaz ['silgi', 'kalem', 'defter']\n",
      "kırmızı ['silgi', 'kalem', 'defter']\n",
      "beyaz ['silgi', 'kalem', 'defter']\n",
      "kırmızı ['silgi', 'kalem', 'defter']\n"
     ]
    }
   ],
   "source": [
    " for malzeme in malzemeler:\n",
    "        for renk in renkler:\n",
    "            print(renk, malzemeler)"
   ]
  },
  {
   "cell_type": "code",
   "execution_count": 55,
   "id": "4363c55a",
   "metadata": {},
   "outputs": [
    {
     "name": "stdout",
     "output_type": "stream",
     "text": [
      "son\n"
     ]
    }
   ],
   "source": [
    "for x in [1,2,3,4,5]:\n",
    "    pass\n",
    "print(\"son\")"
   ]
  },
  {
   "cell_type": "code",
   "execution_count": 57,
   "id": "a271b84d",
   "metadata": {},
   "outputs": [
    {
     "data": {
      "text/plain": [
       "'silgi'"
      ]
     },
     "execution_count": 57,
     "metadata": {},
     "output_type": "execute_result"
    }
   ],
   "source": [
    "malzemeler=[\"silgi\",\"kalem\",\"defter\"]\n",
    "itr=iter(malzemeler)\n",
    "next(itr)"
   ]
  },
  {
   "cell_type": "code",
   "execution_count": 58,
   "id": "77f78b73",
   "metadata": {},
   "outputs": [
    {
     "data": {
      "text/plain": [
       "'kalem'"
      ]
     },
     "execution_count": 58,
     "metadata": {},
     "output_type": "execute_result"
    }
   ],
   "source": [
    "next(itr)"
   ]
  },
  {
   "cell_type": "code",
   "execution_count": 59,
   "id": "1b978ab4",
   "metadata": {},
   "outputs": [
    {
     "data": {
      "text/plain": [
       "'defter'"
      ]
     },
     "execution_count": 59,
     "metadata": {},
     "output_type": "execute_result"
    }
   ],
   "source": [
    "next(itr)"
   ]
  },
  {
   "cell_type": "code",
   "execution_count": 61,
   "id": "52f1482c",
   "metadata": {},
   "outputs": [
    {
     "name": "stdout",
     "output_type": "stream",
     "text": [
      "No object Found\n"
     ]
    }
   ],
   "source": [
    "chars=[\"a\",\"b\",\"c\",\"d\"]\n",
    "key=\"k\"\n",
    "for ch in chars:\n",
    "    if ch==key:\n",
    "        break\n",
    "else:\n",
    "    print(\"No object Found\")"
   ]
  },
  {
   "cell_type": "code",
   "execution_count": 62,
   "id": "46564180",
   "metadata": {},
   "outputs": [
    {
     "name": "stdout",
     "output_type": "stream",
     "text": [
      "0 , 2 , 4 , 6 , 8 , 10 , 12 , 14 , 16 , 18 , 20 , 22 , 24 , 26 , 28 , 30 , 32 , 34 , 36 , 38 , 40 , 42 , 44 , 46 , 48 , 50 , 52 , 54 , 56 , 58 , 60 , 62 , 64 , 66 , 68 , 70 , 72 , 74 , 76 , 78 , 80 , 82 , 84 , 86 , 88 , 90 , 92 , 94 , 96 , 98 , "
     ]
    }
   ],
   "source": [
    "for i in range(100):\n",
    "    if i%2==0:\n",
    "        print(i,end=\" , \")"
   ]
  },
  {
   "cell_type": "code",
   "execution_count": 64,
   "id": "81a66f42",
   "metadata": {},
   "outputs": [
    {
     "name": "stdout",
     "output_type": "stream",
     "text": [
      "1,3,5,7,9,11,13,15,17,19,21,23,25,27,29,31,33,35,37,39,41,43,45,47,49,51,53,55,57,59,61,63,65,67,69,71,73,75,77,79,81,83,85,87,89,91,93,95,97,99,"
     ]
    }
   ],
   "source": [
    "for i in range (1,101,2):\n",
    "    print(i, end=\",\")"
   ]
  },
  {
   "cell_type": "code",
   "execution_count": 3,
   "id": "a2b359cf",
   "metadata": {},
   "outputs": [
    {
     "name": "stdout",
     "output_type": "stream",
     "text": [
      "Fibonacci'nin ilk n terimi için n=9\n",
      "0 1 1 2 3 5 8 13 21 34 "
     ]
    }
   ],
   "source": [
    "n = int(input(\"Fibonacci'nin ilk n terimi için n=\"))\n",
    "#Fibonacci serisi önceki iki elemanın toplamıyla bulunur\n",
    "#F(n) = F(n-1) + F(n-2)\n",
    "#\n",
    "#n=6\n",
    "# 0 1 2      3 4 5 6 7 ...\n",
    "# 0 1 1      2 3 5 8 13\n",
    "\n",
    "A=0\n",
    "print(A, end=\" \")\n",
    "B=1\n",
    "print(B, end=\" \")\n",
    "for i in range(n-1):\n",
    "    F=A+B\n",
    "    print(F, end=\" \")\n",
    "    A=B\n",
    "    B=F"
   ]
  },
  {
   "cell_type": "code",
   "execution_count": 7,
   "id": "0951dfa3",
   "metadata": {},
   "outputs": [
    {
     "name": "stdout",
     "output_type": "stream",
     "text": [
      "sayıyı giriniz=1\n",
      "sayıyı giriniz=-6\n",
      "sayıyı giriniz=-9\n",
      "sayıyı giriniz=78\n",
      "sayıyı giriniz=56\n",
      "sayıyı giriniz=0\n",
      "sayıyı giriniz=0\n",
      "sayıyı giriniz=45\n",
      "sayıyı giriniz=-87\n",
      "sayıyı giriniz=-6\n",
      "p= 4\n",
      "n= 4\n",
      "s= 2\n"
     ]
    }
   ],
   "source": [
    "p=0\n",
    "n=0\n",
    "s=0\n",
    "for i in range(10):\n",
    "    sayı=int(input(\"sayıyı giriniz=\"))\n",
    "    if sayı>0:\n",
    "        p = p+1\n",
    "    else:\n",
    "        if sayı < 0:\n",
    "                n = n+1\n",
    "        else:\n",
    "                s = s +1\n",
    "print(\"p=\" , p)\n",
    "print(\"n=\", n)\n",
    "print(\"s=\", s)"
   ]
  },
  {
   "cell_type": "code",
   "execution_count": 8,
   "id": "ba7d741d",
   "metadata": {},
   "outputs": [
    {
     "name": "stdout",
     "output_type": "stream",
     "text": [
      "serinin ilk elemanı=5\n",
      "toplam eleman sayısı=6\n",
      "artış ddeğeri=4\n",
      "5 9 13 17 21 25 "
     ]
    }
   ],
   "source": [
    "se= int(input(\"serinin ilk elemanı=\"))\n",
    "te= int(input(\"toplam eleman sayısı=\"))\n",
    "ad=int(input(\"artış ddeğeri=\"))\n",
    "\n",
    "top=se\n",
    "print(top, end=\" \")\n",
    "for i in range(te-1):\n",
    "    top=top+ad\n",
    "    print(top, end=\" \")"
   ]
  },
  {
   "cell_type": "code",
   "execution_count": 9,
   "id": "d82c4878",
   "metadata": {},
   "outputs": [
    {
     "name": "stdout",
     "output_type": "stream",
     "text": [
      "serinin ilk elemanı=5\n",
      "toplam eleman sayısı=6\n",
      "artış ddeğeri=4\n",
      "90 "
     ]
    }
   ],
   "source": [
    "se= int(input(\"serinin ilk elemanı=\"))\n",
    "te= int(input(\"toplam eleman sayısı=\"))\n",
    "ad=int(input(\"artış ddeğeri=\"))\n",
    "\n",
    "ss=se\n",
    "top=se\n",
    "for i in range(te-1):\n",
    "    top=top+ad\n",
    "    ss= ss+ top\n",
    "print(ss, end=\" \")\n",
    "    "
   ]
  },
  {
   "cell_type": "code",
   "execution_count": 11,
   "id": "504685a9",
   "metadata": {},
   "outputs": [
    {
     "name": "stdout",
     "output_type": "stream",
     "text": [
      "serinin ilk elemanı=5\n",
      "toplam eleman sayısı=6\n",
      "artış ddeğeri=4\n",
      "5+9+13+17+21+25=90\n"
     ]
    }
   ],
   "source": [
    "se= int(input(\"serinin ilk elemanı=\"))\n",
    "te= int(input(\"toplam eleman sayısı=\"))\n",
    "ad=int(input(\"artış ddeğeri=\"))\n",
    "\n",
    "ss=se\n",
    "top=se\n",
    "print(top, end=\"+\")\n",
    "for i in range(te-1):\n",
    "    top = top + ad\n",
    "    ss = ss + top\n",
    "    if i == (te-2):\n",
    "        print(top,end=\"=\")\n",
    "    else:\n",
    "        print(top,end=\"+\")\n",
    "print(ss)"
   ]
  },
  {
   "cell_type": "code",
   "execution_count": 12,
   "id": "e84f46d0",
   "metadata": {},
   "outputs": [
    {
     "name": "stdout",
     "output_type": "stream",
     "text": [
      "-8398\n"
     ]
    }
   ],
   "source": [
    "x = -20\n",
    "f = x**3 -x**2 + 2\n",
    "print(f)"
   ]
  },
  {
   "cell_type": "code",
   "execution_count": 13,
   "id": "2b772cb3",
   "metadata": {},
   "outputs": [
    {
     "name": "stdout",
     "output_type": "stream",
     "text": [
      "k= 0    f= 2\n",
      "k= 1    f= 2\n",
      "k= 2    f= 6\n",
      "k= 3    f= 20\n",
      "k= 4    f= 50\n",
      "k= 5    f= 102\n",
      "k= 6    f= 182\n",
      "k= 7    f= 296\n",
      "k= 8    f= 450\n",
      "k= 9    f= 650\n"
     ]
    }
   ],
   "source": [
    "k = 0\n",
    "kn = 0\n",
    "x = -20\n",
    "\n",
    "while k < 10:\n",
    "    f= k**3 - k**2 + 2\n",
    "    ft = 3*(k**2) - 2*k +10**-10\n",
    "    x = x - f / ft\n",
    "    print(\"k=\",k,\"   f=\",f)\n",
    "    k = k + 1 "
   ]
  },
  {
   "cell_type": "code",
   "execution_count": 14,
   "id": "44b9ab83",
   "metadata": {},
   "outputs": [
    {
     "name": "stdout",
     "output_type": "stream",
     "text": [
      "x= -10   f= 117\n",
      "x= -9   f= 96\n",
      "x= -8   f= 77\n",
      "x= -7   f= 60\n",
      "x= -6   f= 45\n",
      "x= -5   f= 32\n",
      "x= -4   f= 21\n",
      "x= -3   f= 12\n",
      "x= -2   f= 5\n",
      "x= -1   f= 0\n",
      "x= 0   f= -3\n",
      "x= 1   f= -4\n",
      "x= 2   f= -3\n",
      "x= 3   f= 0\n",
      "x= 4   f= 5\n",
      "x= 5   f= 12\n",
      "x= 6   f= 21\n",
      "x= 7   f= 32\n",
      "x= 8   f= 45\n",
      "x= 9   f= 60\n",
      "x= 10   f= 77\n"
     ]
    }
   ],
   "source": [
    "x = -10\n",
    "while x<=10:\n",
    "    f=x**2 - 2*x - 3\n",
    "    print(\"x=\",x,\"  f=\",f)\n",
    "    x = x + 1"
   ]
  },
  {
   "cell_type": "code",
   "execution_count": 17,
   "id": "f40e0cd3",
   "metadata": {},
   "outputs": [
    {
     "name": "stdout",
     "output_type": "stream",
     "text": [
      "x= -10   f= 117\n",
      "x= -9   f= 96\n",
      "x= -8   f= 77\n",
      "x= -7   f= 60\n",
      "x= -6   f= 45\n",
      "x= -5   f= 32\n",
      "x= -4   f= 21\n",
      "x= -3   f= 12\n",
      "x= -2   f= 5\n",
      "x= -1   f= 0\n",
      "x= 0   f= -3\n",
      "x= 1   f= -4\n",
      "x= 2   f= -3\n",
      "x= 3   f= 0\n",
      "x= 4   f= 5\n",
      "x= 5   f= 12\n",
      "x= 6   f= 21\n",
      "x= 7   f= 32\n",
      "x= 8   f= 45\n",
      "x= 9   f= 60\n",
      "x= 10   f= 77\n",
      "x eksenini 2 noktada kesiyor\n"
     ]
    }
   ],
   "source": [
    "c= 0\n",
    "x= -10\n",
    "while x<=10:\n",
    "    f = x**2 - 2*x -3\n",
    "    print(\"x=\",x,\"  f=\",f)\n",
    "    if f ==0:\n",
    "        c+=1\n",
    "    x=x+1\n",
    "print(\"x eksenini\",c,\"noktada kesiyor\")"
   ]
  },
  {
   "cell_type": "code",
   "execution_count": 1,
   "id": "4f8c7dfc",
   "metadata": {},
   "outputs": [
    {
     "name": "stdout",
     "output_type": "stream",
     "text": [
      "n=151\n",
      "151 sayısı asaldır\n"
     ]
    }
   ],
   "source": [
    "n= int(input(\"n=\"))\n",
    "asal=1\n",
    "for i in range(2,n,1): #range(start,stop,step)\n",
    "    if n%i ==0:\n",
    "        asal=0\n",
    "        \n",
    "if asal == 0:\n",
    "    print(n,\"sayısı asal değildir\")\n",
    "else:\n",
    "    print(n,\"sayısı asaldır\")"
   ]
  },
  {
   "cell_type": "code",
   "execution_count": 3,
   "id": "2407ce82",
   "metadata": {},
   "outputs": [
    {
     "name": "stdout",
     "output_type": "stream",
     "text": [
      "n=453\n",
      "3\n",
      "151\n"
     ]
    }
   ],
   "source": [
    "n = int(input(\"n=\"))\n",
    "Acarpan = 2\n",
    "\n",
    "while n>1:\n",
    "    if n%Acarpan == 0:\n",
    "        n=n / Acarpan\n",
    "        print(Acarpan)\n",
    "    else:\n",
    "        Acarpan = Acarpan + 1"
   ]
  },
  {
   "cell_type": "code",
   "execution_count": 4,
   "id": "c38b770d",
   "metadata": {},
   "outputs": [
    {
     "name": "stdout",
     "output_type": "stream",
     "text": [
      "n=78543\n",
      "3\n",
      "4\n",
      "5\n",
      "8\n",
      "7\n"
     ]
    }
   ],
   "source": [
    "n = int(input(\"n=\"))\n",
    "while n>0:\n",
    "    sonhane= int (n%10) \n",
    "    print(sonhane)\n",
    "    n = ( n - sonhane) / 10\n",
    "    "
   ]
  },
  {
   "cell_type": "code",
   "execution_count": 5,
   "id": "acc4f80b",
   "metadata": {},
   "outputs": [
    {
     "name": "stdout",
     "output_type": "stream",
     "text": [
      "n=5482748\n",
      "8   8\n",
      "4   32\n",
      "7   224\n",
      "2   448\n",
      "8   3584\n",
      "4   14336\n",
      "5   71680\n"
     ]
    }
   ],
   "source": [
    "n = int(input(\"n=\"))\n",
    "carpım=1\n",
    "while n>0:\n",
    "    sonhane= int (n%10)\n",
    "    carpım = carpım * sonhane\n",
    "    print(sonhane,\" \",carpım)\n",
    "    n = ( n - sonhane) / 10\n",
    "    \n",
    "    "
   ]
  },
  {
   "cell_type": "code",
   "execution_count": 6,
   "id": "ab12c421",
   "metadata": {},
   "outputs": [
    {
     "name": "stdout",
     "output_type": "stream",
     "text": [
      "sayı giriniz5482748\n",
      "8\n"
     ]
    }
   ],
   "source": [
    "x = input(\"sayı giriniz\")\n",
    "while 1< len(str(x)):\n",
    "    s=1\n",
    "    for a in str(x):\n",
    "        s=int(a)\n",
    "    print(s)\n",
    "    x=s"
   ]
  },
  {
   "cell_type": "code",
   "execution_count": 11,
   "id": "cac8dc04",
   "metadata": {},
   "outputs": [
    {
     "name": "stdout",
     "output_type": "stream",
     "text": [
      "n-5482748\n",
      "71680\n",
      "0\n"
     ]
    }
   ],
   "source": [
    "n = int( input(\"n-\"))\n",
    "\n",
    "while n>9:\n",
    "    carpım=1\n",
    "    while n > 0:\n",
    "        sonhane = int (n%10)\n",
    "        carpım = carpım * sonhane\n",
    "        n = (n-sonhane) / 10\n",
    "    print(carpım)\n",
    "    n = carpım"
   ]
  },
  {
   "cell_type": "code",
   "execution_count": 15,
   "id": "1d4a6ead",
   "metadata": {},
   "outputs": [
    {
     "name": "stdout",
     "output_type": "stream",
     "text": [
      "n-110111000100101\n",
      "110111000100101   64\n"
     ]
    }
   ],
   "source": [
    "n1 = int(input(\"n-\"))\n",
    "top=0\n",
    "basamak = 0 \n",
    "n=n1\n",
    "while n > 0 :\n",
    "    sonhane = int(n%10)\n",
    "    n = (n-sonhane) / 10\n",
    "    top += sonhane*(2^basamak)\n",
    "    basamak+=1\n",
    "print(n1,\" \",top)"
   ]
  },
  {
   "cell_type": "code",
   "execution_count": 16,
   "id": "4e2393f4",
   "metadata": {},
   "outputs": [
    {
     "name": "stdout",
     "output_type": "stream",
     "text": [
      "n-110001010100101011111111110000011110100101001110\n",
      "0\n",
      "0\n",
      "6\n",
      "4\n",
      "6\n",
      "6\n",
      "4\n",
      "4\n",
      "4\n",
      "6\n",
      "8\n",
      "0\n",
      "2\n",
      "6\n",
      "0\n",
      "2\n",
      "6\n",
      "2\n",
      "0\n",
      "4\n",
      "8\n",
      "2\n",
      "8\n",
      "8\n",
      "2\n",
      "4\n",
      "4\n",
      "6\n",
      "0\n",
      "6\n",
      "4\n",
      "2\n",
      "0\n",
      "1\n",
      "0\n",
      "1\n",
      "0\n",
      "0\n",
      "1\n",
      "0\n",
      "1\n",
      "0\n",
      "1\n",
      "0\n",
      "0\n",
      "0\n",
      "1\n",
      "1\n",
      "110001010100101011111111110000011110100101001110   2233\n"
     ]
    }
   ],
   "source": [
    "n1 = int(input(\"n-\"))\n",
    "top=0\n",
    "basamak = 0 \n",
    "n=n1\n",
    "while n > 0 :\n",
    "    sonhane = int(n%10)\n",
    "    print(sonhane)\n",
    "    n = (n-sonhane) / 10\n",
    "    top += sonhane*(2^basamak)\n",
    "    basamak+=1\n",
    "print(n1,\" \",top)\n"
   ]
  },
  {
   "cell_type": "code",
   "execution_count": 17,
   "id": "6aedae9c",
   "metadata": {},
   "outputs": [
    {
     "name": "stdout",
     "output_type": "stream",
     "text": [
      "n-11000101\n",
      "1\n",
      "0\n",
      "1\n",
      "0\n",
      "0\n",
      "0\n",
      "1\n",
      "1\n",
      "11000101   11\n"
     ]
    }
   ],
   "source": [
    "n1 = int(input(\"n-\"))\n",
    "top=0\n",
    "basamak = 0 \n",
    "n=n1\n",
    "while n > 0 :\n",
    "    sonhane = int(n%10)\n",
    "    print(sonhane)\n",
    "    n = (n-sonhane) / 10\n",
    "    top += sonhane*(2^basamak)\n",
    "    basamak+=1\n",
    "print(n1,\" \",top)\n"
   ]
  },
  {
   "cell_type": "code",
   "execution_count": 18,
   "id": "b1f88e86",
   "metadata": {},
   "outputs": [
    {
     "name": "stdout",
     "output_type": "stream",
     "text": [
      "n-110101001010\n",
      "35\n"
     ]
    }
   ],
   "source": [
    "n = int(input(\"n-\"))\n",
    "top=0\n",
    "basamak = 0 \n",
    "while n > 0 :\n",
    "    sonhane = int(n%10)\n",
    "    n = (n-sonhane) / 10\n",
    "    top += sonhane*(2^basamak)\n",
    "    basamak+=1\n",
    "print(top)\n"
   ]
  },
  {
   "cell_type": "code",
   "execution_count": 20,
   "id": "87e88477",
   "metadata": {},
   "outputs": [
    {
     "name": "stdout",
     "output_type": "stream",
     "text": [
      "0   20\n",
      "20   18.0\n",
      "56.0   16.2\n",
      "88.4   14.58\n",
      "117.56   13.122\n",
      "143.804   11.809800000000001\n",
      "167.4236   10.628820000000001\n",
      "188.68124   9.565938000000001\n",
      "207.813116   8.6093442\n",
      "225.0318044   7.748409780000001\n",
      "240.52862396   6.973568802000001\n",
      "254.475761564   6.276211921800001\n",
      "267.0281854076   5.64859072962\n",
      "278.32536686684   5.083731656658\n",
      "288.492830180156   4.5753584909922\n",
      "297.64354716214035   4.11782264189298\n",
      "305.8791924459263   3.706040377703682\n",
      "313.2912732013337   3.3354363399333136\n",
      "319.96214588120034   3.0018927059399823\n",
      "325.9659312930803   2.701703435345984\n",
      "331.3693381637723   2.4315330918113855\n",
      "336.23240434739506   2.188379782630247\n",
      "340.60916391265556   1.9695418043672224\n",
      "344.54824752139   1.7725876239305\n",
      "348.093422769251   1.5953288615374501\n",
      "351.28408049232587   1.435795975383705\n",
      "354.1556724430933   1.2922163778453346\n",
      "356.74010519878397   1.1629947400608012\n",
      "359.0660946789056   1.046695266054721\n",
      "361.159485211015   0.9420257394492489\n",
      "363.0435366899135   0.847823165504324\n",
      "364.73918302092216   0.7630408489538917\n",
      "366.26526471882994   0.6867367640585025\n",
      "367.63873824694696   0.6180630876526523\n",
      "368.87486442225224   0.5562567788873871\n",
      "369.987377980027   0.5006311009986484\n",
      "370.9886401820243   0.4505679908987836\n"
     ]
    }
   ],
   "source": [
    "h = 20\n",
    "yol = 0\n",
    "print(yol,\" \",h)\n",
    "\n",
    "yol = yol+h\n",
    "h =h*0.9\n",
    "print(yol,\" \",h)\n",
    "\n",
    "while h>0.5:\n",
    "    yol = yol + 2*h\n",
    "    h= h*0.9\n",
    "    print(yol,\" \",h)"
   ]
  },
  {
   "cell_type": "code",
   "execution_count": 21,
   "id": "6b6bed03",
   "metadata": {},
   "outputs": [
    {
     "name": "stdout",
     "output_type": "stream",
     "text": [
      "n-10101011101\n",
      "10101011101   31\n"
     ]
    }
   ],
   "source": [
    "n1 = int(input(\"n-\"))\n",
    "top=0\n",
    "basamak = 0 \n",
    "n=n1\n",
    "while n > 0 :\n",
    "    sonhane = int(n%10)\n",
    "    n = (n-sonhane) / 10\n",
    "    top += sonhane*(2^basamak)\n",
    "    basamak+=1\n",
    "print(n1,\" \",top)"
   ]
  },
  {
   "cell_type": "code",
   "execution_count": 22,
   "id": "3650195e",
   "metadata": {},
   "outputs": [
    {
     "name": "stdout",
     "output_type": "stream",
     "text": [
      "n-187\n",
      "187   166\n"
     ]
    }
   ],
   "source": [
    "n1 = int(input(\"n-\"))\n",
    "top=0\n",
    "basamak = 0 \n",
    "n=n1\n",
    "while n > 0 :\n",
    "    sonhane = int(n%10)\n",
    "    n = (n-sonhane) / 10\n",
    "    top += sonhane*(10^basamak)\n",
    "    basamak+=1\n",
    "print(n1,\" \",top)"
   ]
  },
  {
   "cell_type": "code",
   "execution_count": 2,
   "id": "d69863b0",
   "metadata": {},
   "outputs": [
    {
     "name": "stdout",
     "output_type": "stream",
     "text": [
      "The original tuple 1:(1, 3, 5)\n",
      "The original tuple 2:(4, 6)\n",
      "the tuple after concatenatıon is :(1, 3, 5, 4, 6)\n"
     ]
    }
   ],
   "source": [
    "test_tup1=(1,3,5)\n",
    "test_tup2=(4,6)\n",
    "\n",
    "print(\"The original tuple 1:\" + str(test_tup1))\n",
    "print(\"The original tuple 2:\" + str(test_tup2))\n",
    "\n",
    "res= test_tup1 + test_tup2\n",
    "    \n",
    "print(\"the tuple after concatenatıon is :\" +str(res))\n"
   ]
  },
  {
   "cell_type": "code",
   "execution_count": 1,
   "id": "112220e7",
   "metadata": {},
   "outputs": [
    {
     "name": "stdout",
     "output_type": "stream",
     "text": [
      "a=18\n",
      "b=24\n",
      "obeb: 1\n",
      "obeb: 1\n",
      "obeb: 1\n",
      "obeb: 1\n"
     ]
    }
   ],
   "source": [
    "a = int(input(\"a=\"))\n",
    "b = int(input(\"b=\"))\n",
    "\n",
    "for i in range(1,a+1,1):\n",
    "    if(a%i==0) and (b%i==0):\n",
    "        obeb=1\n",
    "    \n",
    "        print(\"obeb:\",obeb)"
   ]
  },
  {
   "cell_type": "code",
   "execution_count": 4,
   "id": "52f58e21",
   "metadata": {},
   "outputs": [
    {
     "name": "stdout",
     "output_type": "stream",
     "text": [
      "Fatma cicek\n",
      "Fatma cicek\n"
     ]
    }
   ],
   "source": [
    "ad_soyad='Fatma cicek'\n",
    "yas=20\n",
    "baba_adı='Abdulkadir'\n",
    "boy=1.57\n",
    "\n",
    "liste=[\"Fatma cicek\",20,\"Abdulkadir\",1.57]\n",
    "print(liste[0])\n",
    "print(ad_soyad)\n",
    "      "
   ]
  },
  {
   "cell_type": "code",
   "execution_count": 5,
   "id": "c159bcd5",
   "metadata": {},
   "outputs": [
    {
     "name": "stdout",
     "output_type": "stream",
     "text": [
      "20\n"
     ]
    }
   ],
   "source": [
    "ad_soyad='Fatma cicek'\n",
    "yas=20\n",
    "baba_adı='Abdulkadir'\n",
    "boy=1.57\n",
    "\n",
    "liste=[\"Fatma cicek\",20,\"Abdulkadir\",1.57]\n",
    "\n",
    "print(liste[1])"
   ]
  },
  {
   "cell_type": "code",
   "execution_count": 7,
   "id": "ff7ed164",
   "metadata": {},
   "outputs": [
    {
     "name": "stdout",
     "output_type": "stream",
     "text": [
      "Fatma cicek\n",
      "20\n",
      "Abdulkadir\n",
      "1.57\n"
     ]
    }
   ],
   "source": [
    "ad_soyad='Fatma cicek'\n",
    "yas=20\n",
    "baba_adı='Abdulkadir'\n",
    "boy=1.57\n",
    "\n",
    "liste=[\"Fatma cicek\",20,\"Abdulkadir\",1.57]\n",
    " \n",
    "for i in range(0,4):\n",
    "    print(liste[i])"
   ]
  },
  {
   "cell_type": "code",
   "execution_count": 8,
   "id": "169fb14f",
   "metadata": {},
   "outputs": [
    {
     "name": "stdout",
     "output_type": "stream",
     "text": [
      "20\n",
      "Abdulkadir\n"
     ]
    }
   ],
   "source": [
    "ad_soyad='Fatma cicek'\n",
    "yas=20\n",
    "baba_adı='Abdulkadir'\n",
    "boy=1.57\n",
    "\n",
    "liste=[\"Fatma cicek\",20,\"Abdulkadir\",1.57]\n",
    "\n",
    "for i in range(1,3):\n",
    "    print(liste[i])\n"
   ]
  },
  {
   "cell_type": "code",
   "execution_count": 25,
   "id": "cc15e1b8",
   "metadata": {},
   "outputs": [
    {
     "ename": "SyntaxError",
     "evalue": "invalid syntax (<ipython-input-25-9d8960c8b360>, line 9)",
     "output_type": "error",
     "traceback": [
      "\u001b[1;36m  File \u001b[1;32m\"<ipython-input-25-9d8960c8b360>\"\u001b[1;36m, line \u001b[1;32m9\u001b[0m\n\u001b[1;33m    if liste[i]==41\u001b[0m\n\u001b[1;37m                   ^\u001b[0m\n\u001b[1;31mSyntaxError\u001b[0m\u001b[1;31m:\u001b[0m invalid syntax\n"
     ]
    }
   ],
   "source": [
    "adsoyad = 'fatih talu'\n",
    "yas = 41\n",
    "babaadi = 'Sadettin'\n",
    "boy = 1.75\n",
    "\n",
    "liste = ['fatih talu',41,'Sadettin',1.75]\n",
    "\n",
    "for i in range(0,4):\n",
    "    if liste[i]==41\n",
    "        del liste[i]\n",
    "        \n",
    "print(liste)"
   ]
  },
  {
   "cell_type": "code",
   "execution_count": 26,
   "id": "39c148b4",
   "metadata": {},
   "outputs": [
    {
     "name": "stdout",
     "output_type": "stream",
     "text": [
      "32\n"
     ]
    }
   ],
   "source": [
    "L = [4,8,9,-9,6,8,0,6]\n",
    "top = 0\n",
    "for x in L:\n",
    "    top += x\n",
    "print(top)"
   ]
  },
  {
   "cell_type": "code",
   "execution_count": 27,
   "id": "5238b436",
   "metadata": {},
   "outputs": [
    {
     "name": "stdout",
     "output_type": "stream",
     "text": [
      "32\n"
     ]
    }
   ],
   "source": [
    "L = [4,8,9,-9,6,8,0,6]\n",
    "\n",
    "print(sum(L))"
   ]
  },
  {
   "cell_type": "code",
   "execution_count": 29,
   "id": "9f2627f5",
   "metadata": {},
   "outputs": [
    {
     "name": "stdout",
     "output_type": "stream",
     "text": [
      "toplam: 32\n",
      "eleman sayısı: 8\n",
      "ortalama: 4.0\n"
     ]
    }
   ],
   "source": [
    "L = [4,8,9,-9,6,8,0,6]\n",
    "top = 0\n",
    "c= 0\n",
    "for x in L:\n",
    "    top += x\n",
    "    c += 1\n",
    "print(\"toplam:\",top)\n",
    "print(\"eleman sayısı:\",c)\n",
    "print(\"ortalama:\",top/c)"
   ]
  },
  {
   "cell_type": "code",
   "execution_count": 30,
   "id": "366a252f",
   "metadata": {},
   "outputs": [
    {
     "name": "stdout",
     "output_type": "stream",
     "text": [
      "32\n",
      "8\n"
     ]
    }
   ],
   "source": [
    "L = [4,8,9,-9,6,8,0,6]\n",
    "\n",
    "print(sum(L))\n",
    "print(len(L))"
   ]
  },
  {
   "cell_type": "code",
   "execution_count": 33,
   "id": "7f287e8a",
   "metadata": {},
   "outputs": [
    {
     "name": "stdout",
     "output_type": "stream",
     "text": [
      "['fatih talu', 41, 'Sadettin', 1.75]\n",
      "True\n",
      "['fatih talu', 'Sadettin', 1.75]\n"
     ]
    }
   ],
   "source": [
    "adsoyad = 'fatih talu'\n",
    "yas = 41\n",
    "babaadi = 'Sadettin'\n",
    "boy = 1.75\n",
    "\n",
    "liste = ['fatih talu',41,'Sadettin',1.75]\n",
    "\n",
    "print(liste)\n",
    "\n",
    "print(41 in liste)\n",
    "\n",
    "for i in range(0,3):\n",
    "    if liste[i]==41:\n",
    "        del liste[i]\n",
    "        \n",
    "print(liste)"
   ]
  },
  {
   "cell_type": "code",
   "execution_count": 35,
   "id": "f89ad864",
   "metadata": {},
   "outputs": [
    {
     "name": "stdout",
     "output_type": "stream",
     "text": [
      "['fatih talu', 41, 'Sadettin', 1.75]\n",
      "True\n",
      "False\n",
      "['fatih talu', 'Sadettin', 1.75]\n"
     ]
    }
   ],
   "source": [
    "adsoyad = 'fatih talu'\n",
    "yas = 41\n",
    "babaadi = 'Sadettin'\n",
    "boy = 1.75\n",
    "\n",
    "liste = ['fatih talu',41,'Sadettin',1.75]\n",
    "\n",
    "print(liste)\n",
    "\n",
    "print('fatih talu' in liste)\n",
    "print('fatma' in liste)\n",
    "\n",
    "for i in range(0,3):\n",
    "    if liste[i]==41:\n",
    "        del liste[i]\n",
    "        \n",
    "print(liste)"
   ]
  },
  {
   "cell_type": "code",
   "execution_count": 36,
   "id": "b71d1bf3",
   "metadata": {},
   "outputs": [
    {
     "name": "stdout",
     "output_type": "stream",
     "text": [
      "1.75\n",
      "Sadettin\n",
      "41\n",
      "fatih talu\n"
     ]
    }
   ],
   "source": [
    "liste = ['fatih talu',41,'Sadettin',1.75]\n",
    "\n",
    "for i in range(1,5):\n",
    "    print(liste[-i])"
   ]
  },
  {
   "cell_type": "code",
   "execution_count": 38,
   "id": "632eb829",
   "metadata": {},
   "outputs": [
    {
     "name": "stdout",
     "output_type": "stream",
     "text": [
      "4\n",
      "41\n",
      "0\n",
      "41\n",
      "[0, 41, 5, 1.75, 10]\n"
     ]
    }
   ],
   "source": [
    "liste = [0,41,5,1.75]\n",
    "\n",
    "print(len(liste))\n",
    "print(max(liste))\n",
    "print(min(liste))\n",
    "print(max(liste))\n",
    "\n",
    "liste.append(10)\n",
    "liste.count(10)\n",
    "print(liste)"
   ]
  },
  {
   "cell_type": "code",
   "execution_count": 41,
   "id": "890f5aa8",
   "metadata": {},
   "outputs": [
    {
     "name": "stdout",
     "output_type": "stream",
     "text": [
      "0\n"
     ]
    }
   ],
   "source": [
    "liste = [0,41,5,1.75]\n",
    "\n",
    "print(liste.count(1))"
   ]
  },
  {
   "cell_type": "code",
   "execution_count": 42,
   "id": "2d68b01b",
   "metadata": {},
   "outputs": [
    {
     "name": "stdout",
     "output_type": "stream",
     "text": [
      "1\n"
     ]
    }
   ],
   "source": [
    "liste = [0,41,5,1.75]\n",
    "\n",
    "print(liste.count(0))"
   ]
  },
  {
   "cell_type": "code",
   "execution_count": 43,
   "id": "a0a56f9f",
   "metadata": {},
   "outputs": [
    {
     "name": "stdout",
     "output_type": "stream",
     "text": [
      "[0, 4, 6, 8, 9]\n"
     ]
    }
   ],
   "source": [
    "liste1 = [4,8,9,0,6]\n",
    "liste1.sort()\n",
    "print(liste1)"
   ]
  },
  {
   "cell_type": "code",
   "execution_count": 44,
   "id": "044349ac",
   "metadata": {},
   "outputs": [
    {
     "name": "stdout",
     "output_type": "stream",
     "text": [
      "4\n",
      "8\n",
      "9\n",
      "-9\n",
      "60\n",
      "8\n"
     ]
    }
   ],
   "source": [
    "liste1 = [4,8,9,-9,60,8,0,6]\n",
    "i= iter(liste1)\n",
    "print (next(i))\n",
    "print (next(i))\n",
    "print (next(i))\n",
    "print (next(i))\n",
    "print (next(i))\n",
    "print (next(i))"
   ]
  },
  {
   "cell_type": "code",
   "execution_count": 48,
   "id": "e25e0b4d",
   "metadata": {},
   "outputs": [
    {
     "name": "stdout",
     "output_type": "stream",
     "text": [
      "4 8 9 -9 60 8 0 6 "
     ]
    }
   ],
   "source": [
    "L= [4,8,9,-9,60,8,0,6]\n",
    "\n",
    "for x in iter(liste1):\n",
    "    print (x,end=\" \")"
   ]
  },
  {
   "cell_type": "code",
   "execution_count": 46,
   "id": "8126ae0c",
   "metadata": {},
   "outputs": [
    {
     "name": "stdout",
     "output_type": "stream",
     "text": [
      "5.4\n",
      "10.24\n"
     ]
    }
   ],
   "source": [
    "L = [4,8,9,0,6]\n",
    " \n",
    "#ortalama\n",
    "top=0\n",
    "c=0\n",
    "for x in L:\n",
    "    top += x \n",
    "    c += 1\n",
    "ort = top/c\n",
    "print(ort)\n",
    "\n",
    "#standart sapma\n",
    "top=0\n",
    "for x in L:\n",
    "    top += (x-ort)**2\n",
    "ss=top/c\n",
    "print(ss)\n",
    "# standart sapma ortalamadan küçük olması gerekir. Sistem çalışsa bile cevap yanlış."
   ]
  },
  {
   "cell_type": "code",
   "execution_count": 47,
   "id": "f9e4afd6",
   "metadata": {},
   "outputs": [
    {
     "name": "stdout",
     "output_type": "stream",
     "text": [
      "5.4\n",
      "3.2\n"
     ]
    }
   ],
   "source": [
    "L = [4,8,9,0,6]\n",
    " \n",
    "#ortalama\n",
    "top=0\n",
    "c=0\n",
    "for x in L:\n",
    "    top += x \n",
    "    c += 1\n",
    "ort = top/c\n",
    "print(ort)\n",
    "\n",
    "#standart sapma\n",
    "top=0\n",
    "for x in L:\n",
    "    top += (x-ort)**2\n",
    "ss=(top/c)**0.5\n",
    "print(ss)"
   ]
  },
  {
   "cell_type": "code",
   "execution_count": 49,
   "id": "c1ad1404",
   "metadata": {},
   "outputs": [
    {
     "name": "stdout",
     "output_type": "stream",
     "text": [
      "86\n",
      "8\n"
     ]
    }
   ],
   "source": [
    "liste1 = [4,8,9,-9,60,8,0,6]\n",
    "\n",
    "print(sum(L))\n",
    "print(len(L))"
   ]
  },
  {
   "cell_type": "code",
   "execution_count": 50,
   "id": "f50e4292",
   "metadata": {},
   "outputs": [
    {
     "name": "stdout",
     "output_type": "stream",
     "text": [
      "aramak istediğiniz sayıyı giriniz=89\n",
      "0\n"
     ]
    }
   ],
   "source": [
    "L= [4,8,9,-9,60,8,0,6]\n",
    "aranan = int(input(\"aramak istediğiniz sayıyı giriniz=\"))\n",
    "\n",
    "kontrol = 0\n",
    "for x in L:\n",
    "    if x==aranan:\n",
    "        kontrol = 1\n",
    "print(kontrol)"
   ]
  },
  {
   "cell_type": "code",
   "execution_count": 52,
   "id": "ee337f63",
   "metadata": {},
   "outputs": [
    {
     "name": "stdout",
     "output_type": "stream",
     "text": [
      "aramak istediğiniz sayıyı giriniz=6\n",
      "1\n"
     ]
    }
   ],
   "source": [
    "L= [4,8,9,-9,60,8,0,6,]\n",
    "aranan = int(input(\"aramak istediğiniz sayıyı giriniz=\"))\n",
    "\n",
    "kontrol = 0\n",
    "for x in L:\n",
    "    if x==aranan:\n",
    "        kontrol = 1\n",
    "print(kontrol)"
   ]
  },
  {
   "cell_type": "code",
   "execution_count": 54,
   "id": "95b426b1",
   "metadata": {},
   "outputs": [
    {
     "name": "stdout",
     "output_type": "stream",
     "text": [
      "False\n"
     ]
    }
   ],
   "source": [
    "L= [4,8,9,-9,60,8,0,6,]\n",
    "\n",
    "print(10 in L)"
   ]
  },
  {
   "cell_type": "code",
   "execution_count": 55,
   "id": "67db049e",
   "metadata": {},
   "outputs": [
    {
     "name": "stdout",
     "output_type": "stream",
     "text": [
      "True\n"
     ]
    }
   ],
   "source": [
    "L= [4,8,9,-9,60,8,0,6,]\n",
    "\n",
    "print(6 in L)"
   ]
  },
  {
   "cell_type": "code",
   "execution_count": 56,
   "id": "e3deb2fa",
   "metadata": {},
   "outputs": [
    {
     "name": "stdout",
     "output_type": "stream",
     "text": [
      "aramak istediğiniz sayıyı giriniz=4\n",
      "true\n"
     ]
    }
   ],
   "source": [
    "L= [4,8,9,-9,60,8,0,6,]\n",
    "aranan = int(input(\"aramak istediğiniz sayıyı giriniz=\"))\n",
    "\n",
    "kontrol = 0\n",
    "for x in L:\n",
    "    if x==aranan:\n",
    "        kontrol =1\n",
    "if  kontrol==0:\n",
    "    print(\"false\")\n",
    "else:\n",
    "    print(\"true\")"
   ]
  },
  {
   "cell_type": "code",
   "execution_count": 58,
   "id": "40fb47e6",
   "metadata": {},
   "outputs": [
    {
     "name": "stdout",
     "output_type": "stream",
     "text": [
      "aramak istediğiniz sayıyı giriniz=789\n",
      "false\n"
     ]
    }
   ],
   "source": [
    "L= [4,8,9,-9,60,8,0,6]\n",
    "aranan = int(input(\"aramak istediğiniz sayıyı giriniz=\"))\n",
    "\n",
    "kontrol = 0\n",
    "for x in L:\n",
    "    if x==aranan:\n",
    "        kontrol =1\n",
    "if  kontrol==0:\n",
    "    print(\"false\")\n",
    "else:\n",
    "    print(\"true\")\n"
   ]
  },
  {
   "cell_type": "code",
   "execution_count": 59,
   "id": "6c75507e",
   "metadata": {},
   "outputs": [
    {
     "name": "stdout",
     "output_type": "stream",
     "text": [
      "Korelasyon Katsayısı= 0.2510486284145481\n"
     ]
    }
   ],
   "source": [
    "x = [4,8,9,-9,60,8,0,6]\n",
    "y = [3,9,2,1,7,8,10,5]\n",
    "a=0;c=0;e=0;xT=0;yT=0;n=0\n",
    "for i in range(0,len(x)):\n",
    "    #print(x[i],\" \"y[i])\n",
    "    a+=x[i]*y[i]\n",
    "    c+=x[i]*x[i]\n",
    "    e +=y[i]*y[i]\n",
    "    xT+=x[i]\n",
    "    yT+=y[i]\n",
    "    n+= 1\n",
    "    \n",
    "b = xT*yT\n",
    "d = xT**2\n",
    "f= yT**2\n",
    "\n",
    "r = (n*a - b) / ((n*c-d)*(n*e-f))**0.5\n",
    "print(\"Korelasyon Katsayısı=\" ,r)"
   ]
  },
  {
   "cell_type": "code",
   "execution_count": 5,
   "id": "c912fa0e",
   "metadata": {},
   "outputs": [
    {
     "name": "stdout",
     "output_type": "stream",
     "text": [
      "sıralı değil [4, 8, 9, -9, 60, 8, 0, 6]\n",
      "sıralı: [-9, 0, 4, 6, 8, 8, 9, 60]\n"
     ]
    }
   ],
   "source": [
    "L = [4,8,9,-9,60,8,0,6]\n",
    "\n",
    "print(\"sıralı değil\",L)\n",
    "\n",
    "for j in range(0,len(L)-1):\n",
    "    for i in range(0,len(L)-1):\n",
    "        if L[i]>L[i+1]:\n",
    "            tmp = L[i+1]\n",
    "            L[i+1] =L[i]\n",
    "            L[i] = tmp\n",
    "                    \n",
    "print(\"sıralı:\",L)"
   ]
  },
  {
   "cell_type": "code",
   "execution_count": 6,
   "id": "e36654e9",
   "metadata": {},
   "outputs": [
    {
     "name": "stdout",
     "output_type": "stream",
     "text": [
      "sıralı değil: [6, 7, 45, 6, 7, 9, 2, 0]\n",
      "[6, 7, 45, 6, 7, 9, 2, 0]\n",
      "[6, 7, 6, 7, 9, 2, 0, 45]\n",
      "[6, 6, 7, 7, 2, 0, 9, 45]\n",
      "[6, 6, 7, 2, 0, 7, 9, 45]\n",
      "[6, 6, 2, 0, 7, 7, 9, 45]\n",
      "[6, 2, 0, 6, 7, 7, 9, 45]\n",
      "[2, 0, 6, 6, 7, 7, 9, 45]\n"
     ]
    }
   ],
   "source": [
    "L = [ 6,7,45,6,7,9,2,0]\n",
    "\n",
    "print(\"sıralı değil:\",L)\n",
    "\n",
    "for j in range(0,len(L)-1):\n",
    "    print(L)\n",
    "    for i in range(0,len(L)-1):\n",
    "        if L[i]>L[i+1]:\n",
    "            tmp = L[i+1]\n",
    "            L[i+1] =L[i]\n",
    "            L[i] = tmp\n",
    "                    "
   ]
  },
  {
   "cell_type": "code",
   "execution_count": 8,
   "id": "fad6dd2b",
   "metadata": {},
   "outputs": [
    {
     "ename": "IndentationError",
     "evalue": "unexpected indent (<ipython-input-8-e95fe4eb50bf>, line 2)",
     "output_type": "error",
     "traceback": [
      "\u001b[1;36m  File \u001b[1;32m\"<ipython-input-8-e95fe4eb50bf>\"\u001b[1;36m, line \u001b[1;32m2\u001b[0m\n\u001b[1;33m    a = input(sayi/100)          #2\u001b[0m\n\u001b[1;37m    ^\u001b[0m\n\u001b[1;31mIndentationError\u001b[0m\u001b[1;31m:\u001b[0m unexpected indent\n"
     ]
    }
   ],
   "source": [
    "                                #sayi=256\n",
    "    a = input(sayi/100)          #2\n",
    "    b =input(int(sayi-a*100)/10) #5\n",
    "    c = sayi % 10                #6\n",
    "    print(\"yüzler=\",a,\"onlar=\",b,\"birler=\",c)"
   ]
  },
  {
   "cell_type": "code",
   "execution_count": 1,
   "id": "0d9e8d58",
   "metadata": {},
   "outputs": [
    {
     "data": {
      "text/plain": [
       "7"
      ]
     },
     "execution_count": 1,
     "metadata": {},
     "output_type": "execute_result"
    }
   ],
   "source": [
    "3+4"
   ]
  },
  {
   "cell_type": "code",
   "execution_count": 1,
   "id": "285db694",
   "metadata": {},
   "outputs": [
    {
     "name": "stdout",
     "output_type": "stream",
     "text": [
      "5\n"
     ]
    }
   ],
   "source": [
    "a = 'Fatih talu bir bilg. müh. dür'\n",
    "c = 0 \n",
    "#for x in a:\n",
    "#   if x ==' ':\n",
    "for indeks in range(len(a)):\n",
    "    if a[indeks]==' ':\n",
    "        c+=1\n",
    "print(c)"
   ]
  },
  {
   "cell_type": "code",
   "execution_count": 2,
   "id": "3dd783ca",
   "metadata": {},
   "outputs": [
    {
     "name": "stdout",
     "output_type": "stream",
     "text": [
      "Birinci cümleyi giriniz=asdf dd 434 ss\n",
      "İkinci cümleyi giriniz=ddd '''++++ aa\n",
      "10\n"
     ]
    }
   ],
   "source": [
    "s1 = input('Birinci cümleyi giriniz=')\n",
    "s2 = input('İkinci cümleyi giriniz=')\n",
    "\n",
    "#for x in a:\n",
    "#   if x ==' ':\n",
    "for indeks in range(len(a)):\n",
    "    if a[indeks]==' ':\n",
    "        c+=1\n",
    "print(c)"
   ]
  },
  {
   "cell_type": "code",
   "execution_count": 6,
   "id": "48940242",
   "metadata": {},
   "outputs": [
    {
     "name": "stdout",
     "output_type": "stream",
     "text": [
      "Birinci cümleyi giriniz=bil. muh. lab\n",
      "İkinci cümleyi giriniz=bil. muh. ve yaz. muh.\n",
      "Cümleler eşit\n",
      "Cümleler eşit\n",
      "Cümleler eşit\n",
      "Cümleler eşit\n",
      "Cümleler eşit\n",
      "Cümleler eşit\n",
      "Cümleler eşit\n",
      "Cümleler eşit\n",
      "Cümleler eşit\n",
      "Cümleler eşit\n",
      "Cümleler eşit değil\n",
      "Cümleler eşit değil\n",
      "Cümleler eşit değil\n",
      "10\n"
     ]
    }
   ],
   "source": [
    "s1 = input('Birinci cümleyi giriniz=')\n",
    "s2 = input('İkinci cümleyi giriniz=')\n",
    "for i in range(len(s1)):\n",
    "    if s1[i]!=s2[i]:\n",
    "        print(\"Cümleler eşit değil\")\n",
    "    else:\n",
    "        print(\"Cümleler eşit\")\n",
    "        \n",
    "print(c)"
   ]
  },
  {
   "cell_type": "code",
   "execution_count": 7,
   "id": "eb872757",
   "metadata": {},
   "outputs": [
    {
     "name": "stdout",
     "output_type": "stream",
     "text": [
      "Birinci cümleyi giriniz=bil. muh. lab\n",
      "İkinci cümleyi giriniz=bil. muh. ve yaz. muh.\n",
      "cümleler eşit değil\n"
     ]
    }
   ],
   "source": [
    "s1 = input(\"Birinci cümleyi giriniz=\")\n",
    "s2 = input(\"İkinci cümleyi giriniz=\")\n",
    "if len(s1)==len(s2):\n",
    "    c = 0\n",
    "    for i in range(len(s1)):\n",
    "        if s1[i]==s2[i]:\n",
    "            c = 1\n",
    "            break\n",
    "else: \n",
    "    c=1\n",
    "\n",
    "if c==0:\n",
    "    print(\"cümleler eşit\")\n",
    "else:\n",
    "    print(\"cümleler eşit değil\")"
   ]
  },
  {
   "cell_type": "code",
   "execution_count": 21,
   "id": "400d75b6",
   "metadata": {},
   "outputs": [
    {
     "name": "stdout",
     "output_type": "stream",
     "text": [
      "cümleyi giriniz=bilgisayar mühendisliğine giriş\n",
      "1\n"
     ]
    }
   ],
   "source": [
    "s = input(\"cümleyi giriniz=\")\n",
    "kelime=+1\n",
    "for i in range(len(s)):\n",
    "    if s[i]==' ' and s[i-1]!=' ':\n",
    "           kelime=+1\n",
    "print(kelime)"
   ]
  },
  {
   "cell_type": "code",
   "execution_count": 23,
   "id": "2448f615",
   "metadata": {},
   "outputs": [
    {
     "name": "stdout",
     "output_type": "stream",
     "text": [
      "cümleyi giriniz=bil. müh. 44443\n",
      "1\n"
     ]
    }
   ],
   "source": [
    "s = input(\"cümleyi giriniz=\")\n",
    "kelime=0\n",
    "for i in range(len(s)):\n",
    "    if s[i]==' ' and s[i-1]!=' ' and i!=0:\n",
    "           kelime=+1\n",
    "print(kelime)"
   ]
  },
  {
   "cell_type": "code",
   "execution_count": null,
   "id": "8c3a1076",
   "metadata": {},
   "outputs": [],
   "source": [
    "s = input('cümleyi giriniz=')\n",
    "kelime = 1\n",
    "rakam = 0\n",
    "for i in range(len(s)):\n",
    "    if s[i]==' ' and s[i-1]!=' ' and i!"
   ]
  }
 ],
 "metadata": {
  "kernelspec": {
   "display_name": "Python 3",
   "language": "python",
   "name": "python3"
  },
  "language_info": {
   "codemirror_mode": {
    "name": "ipython",
    "version": 3
   },
   "file_extension": ".py",
   "mimetype": "text/x-python",
   "name": "python",
   "nbconvert_exporter": "python",
   "pygments_lexer": "ipython3",
   "version": "3.8.8"
  }
 },
 "nbformat": 4,
 "nbformat_minor": 5
}
