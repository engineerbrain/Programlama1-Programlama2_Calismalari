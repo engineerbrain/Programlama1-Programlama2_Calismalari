{
 "cells": [
  {
   "cell_type": "code",
   "execution_count": 9,
   "id": "f8cedfc7",
   "metadata": {},
   "outputs": [
    {
     "name": "stdout",
     "output_type": "stream",
     "text": [
      "Bir sayı giriniz = 3\n",
      "Bir sayı giriniz = 55\n",
      "58\n"
     ]
    }
   ],
   "source": [
    "a = int(input(\"Bir sayı giriniz = \"))\n",
    "b = int(input(\"Bir sayı giriniz = \"))\n",
    "toplam = a + b\n",
    "print(toplam)"
   ]
  },
  {
   "cell_type": "code",
   "execution_count": 5,
   "id": "32bc6723",
   "metadata": {},
   "outputs": [
    {
     "name": "stdout",
     "output_type": "stream",
     "text": [
      "Bir sayı giriniz = 8\n",
      "Bir sayı giriniz = 9\n",
      "17\n"
     ]
    }
   ],
   "source": [
    "top = 0\n",
    "for i in range(2):\n",
    "    a = int(input(\"Bir sayı giriniz = \"))\n",
    "    top += a\n",
    "print(top)"
   ]
  },
  {
   "cell_type": "code",
   "execution_count": 10,
   "id": "6f1ef1cf",
   "metadata": {},
   "outputs": [
    {
     "name": "stdout",
     "output_type": "stream",
     "text": [
      "Bir değer giriniz = 6\n",
      "Bir değer giriniz = 7\n",
      "42\n"
     ]
    }
   ],
   "source": [
    "R = int(input(\"Bir değer giriniz = \"))\n",
    "I = int(input(\"Bir değer giriniz = \"))\n",
    "V = R * I\n",
    "print(V)"
   ]
  },
  {
   "cell_type": "code",
   "execution_count": 22,
   "id": "0f26ca30",
   "metadata": {},
   "outputs": [
    {
     "name": "stdout",
     "output_type": "stream",
     "text": [
      "Kısa kenarı giriniz = 5\n",
      "Uzun kenarı giriniz = 8\n",
      "Alan =  40\n",
      "Çevre =  26\n"
     ]
    }
   ],
   "source": [
    "a = int(input(\"Kısa kenarı giriniz = \"))\n",
    "b = int(input(\"Uzun kenarı giriniz = \"))\n",
    "\n",
    "if a < b:\n",
    "    dikdörtgen_alan = a * b\n",
    "    dikdörtgen_cevre = 2*(a + b)\n",
    "    print(\"Alan = \", dikdörtgen_alan)\n",
    "    print(\"Çevre = \", dikdörtgen_cevre)\n",
    "else:\n",
    "    print(\"değerler hatalı\")\n",
    "        \n",
    "        "
   ]
  },
  {
   "cell_type": "code",
   "execution_count": 23,
   "id": "b8cba4ec",
   "metadata": {},
   "outputs": [
    {
     "name": "stdout",
     "output_type": "stream",
     "text": [
      "Kısa kenarı giriniz = 9\n",
      "Uzun kenarı giriniz = 4\n",
      "değerler hatalı\n"
     ]
    }
   ],
   "source": [
    "a = int(input(\"Kısa kenarı giriniz = \"))\n",
    "b = int(input(\"Uzun kenarı giriniz = \"))\n",
    "\n",
    "if a < b:\n",
    "    dikdörtgen_alan = a * b\n",
    "    dikdörtgen_cevre = 2*(a + b)\n",
    "    print(\"Alan = \", dikdörtgen_alan)\n",
    "    print(\"Çevre = \", dikdörtgen_cevre)\n",
    "else:\n",
    "    print(\"değerler hatalı\")\n",
    "        \n",
    "        "
   ]
  },
  {
   "cell_type": "code",
   "execution_count": 27,
   "id": "cb9d64ab",
   "metadata": {},
   "outputs": [
    {
     "name": "stdout",
     "output_type": "stream",
     "text": [
      "Yarıçap değerini giriniz = 10\n",
      "alan =  314.0\n",
      "çevre =  62.800000000000004\n"
     ]
    }
   ],
   "source": [
    "r = int(input(\"Yarıçap değerini giriniz = \"))\n",
    "pi = 3.14\n",
    "d_alan = r**2*pi\n",
    "d_cevre = 2*r*pi\n",
    "print(\"alan = \",d_alan)\n",
    "print(\"çevre = \",d_cevre)"
   ]
  },
  {
   "cell_type": "code",
   "execution_count": 30,
   "id": "e91dffa3",
   "metadata": {},
   "outputs": [
    {
     "name": "stdout",
     "output_type": "stream",
     "text": [
      "Gün sayısını giriniz = 397\n",
      "yıl =  1  ay =  2  arta kalan gün =  8\n"
     ]
    }
   ],
   "source": [
    "a = int(input(\"Gün sayısını giriniz = \"))\n",
    "\n",
    "y = a // 365             #yıl\n",
    "m = (a - (y*365)) // 12    #ay\n",
    "k = a - ((y*365) + (m*12))     #arta kalan gün\n",
    "\n",
    "print(\"yıl = \",y,\" ay = \",m,\" arta kalan gün = \",k)"
   ]
  },
  {
   "cell_type": "code",
   "execution_count": 33,
   "id": "db51714f",
   "metadata": {},
   "outputs": [
    {
     "name": "stdout",
     "output_type": "stream",
     "text": [
      "Gün sayısını giriniz=397\n",
      "yıl =  1   ay =  2   arta_kalan_gün =  56\n"
     ]
    }
   ],
   "source": [
    "a = int(input(\"Gün sayısını giriniz=\"))\n",
    "\n",
    "yil = x = a // 365\n",
    "ay = y = (a - (x)*365) // 12\n",
    "arta_kalan_gün = z = a - ((x)*365) + ((y)*12)\n",
    "\n",
    "print(\"yıl = \",x, \"  ay = \",y, \"  arta_kalan_gün = \",z)"
   ]
  },
  {
   "cell_type": "code",
   "execution_count": 35,
   "id": "153af85a",
   "metadata": {},
   "outputs": [
    {
     "name": "stdout",
     "output_type": "stream",
     "text": [
      "Öğrencinin notunu giriniz = 50\n",
      "Öğrencinin 5'lik nottaki değeri = 2\n"
     ]
    }
   ],
   "source": [
    "a = int(input(\"Öğrencinin notunu giriniz = \"))\n",
    "\n",
    "b = a // 20\n",
    "print(\"Öğrencinin 5'lik nottaki değeri =\", b)"
   ]
  },
  {
   "cell_type": "code",
   "execution_count": 36,
   "id": "8b3839ac",
   "metadata": {},
   "outputs": [
    {
     "name": "stdout",
     "output_type": "stream",
     "text": [
      "Fiyatın değerini giriniz =  100\n",
      "KDV değerini giriniz = 18\n",
      "T.Fiyat =  118.0\n"
     ]
    }
   ],
   "source": [
    "F = int(input(\"Fiyatın değerini giriniz =  \"))\n",
    "K = int(input(\"KDV değerini giriniz = \"))\n",
    "toplam_fiyat = F + F*K/100\n",
    "print(\"T.Fiyat = \",toplam_fiyat)"
   ]
  },
  {
   "cell_type": "code",
   "execution_count": 39,
   "id": "b7c67ad2",
   "metadata": {},
   "outputs": [
    {
     "name": "stdout",
     "output_type": "stream",
     "text": [
      "Üç basamaklı bir sayı giriniz = 567\n",
      "yüzler bas. =  5  onlar bas. =  6  birler bas. =  7\n"
     ]
    }
   ],
   "source": [
    "a = int(input(\"Üç basamaklı bir sayı giriniz = \"))\n",
    "\n",
    "y = a // 100\n",
    "o = (a -(y*100)) // 10\n",
    "b = a - ((y*100) + (o*10))\n",
    "\n",
    "print(\"yüzler bas. = \",y,\" onlar bas. = \",o,\" birler bas. = \",b)"
   ]
  },
  {
   "cell_type": "code",
   "execution_count": 42,
   "id": "ea5f7d78",
   "metadata": {},
   "outputs": [
    {
     "name": "stdout",
     "output_type": "stream",
     "text": [
      "Üç basamaklı bir sayı giriniz = 456\n",
      "yüzler bas. =  4  onlar bas. =  5  birler bas. =  6\n",
      "yer değiştirilmiş hali ==>  654\n",
      "yüzler bas. =  6  onlar bas. =  5  birler bas. =  4\n"
     ]
    }
   ],
   "source": [
    "a = int(input(\"Üç basamaklı bir sayı giriniz = \"))\n",
    "\n",
    "y = a // 100\n",
    "o = (a -(y*100)) // 10\n",
    "b = a - ((y*100) + (o*10))\n",
    "\n",
    "print(\"yüzler bas. = \",y,\" onlar bas. = \",o,\" birler bas. = \",b)\n",
    "print(\"yer değiştirilmiş hali ==> \",str(b) + str(o) + str(y))\n",
    "print(\"yüzler bas. = \",b,\" onlar bas. = \",o,\" birler bas. = \",y)"
   ]
  },
  {
   "cell_type": "code",
   "execution_count": 43,
   "id": "7e56070e",
   "metadata": {},
   "outputs": [
    {
     "name": "stdout",
     "output_type": "stream",
     "text": [
      "a =  4  b =  5\n",
      "a =  5  b =  5\n"
     ]
    }
   ],
   "source": [
    "a = 4\n",
    "b = 5\n",
    "print(\"a = \",a,\" b = \",b)\n",
    "a = b\n",
    "b = a\n",
    "print(\"a = \",a,\" b = \",b)\n",
    "\n"
   ]
  },
  {
   "cell_type": "code",
   "execution_count": 51,
   "id": "3ee6ffa5",
   "metadata": {
    "scrolled": true
   },
   "outputs": [
    {
     "name": "stdout",
     "output_type": "stream",
     "text": [
      "A noktasının apsis değerini giriniz = 3\n",
      "A noktasının ordinat değerini giriniz = 4\n",
      "A_noktası =  (3,4)\n",
      "B noktasının apsis değerini giriniz = 3\n",
      "B noktasının ordinat değerini giriniz = 6\n",
      "B_noktası =  (3,6)\n",
      "C_noktası =  (3,8)\n"
     ]
    }
   ],
   "source": [
    "\n",
    "x1 = int(input(\"A noktasının apsis değerini giriniz = \"))\n",
    "y1 = int(input(\"A noktasının ordinat değerini giriniz = \"))\n",
    "A_noktası = \"(\" + str(x1) +\",\" + str(y1) + \")\"\n",
    "print(\"A_noktası = \",A_noktası)\n",
    "\n",
    "x2 = int(input(\"B noktasının apsis değerini giriniz = \"))\n",
    "y2 = int(input(\"B noktasının ordinat değerini giriniz = \"))\n",
    "\n",
    "B_noktası = \"(\" + str(x2) +\",\" + str(y2) + \")\" # orta nokta koordinatları\n",
    "print(\"B_noktası = \",B_noktası)\n",
    "\n",
    "x3 = 2*x2 - x1\n",
    "y3 = 2*y2 - y1\n",
    "\n",
    "C_noktası = \"(\" + str(x3) + \",\" + str(y3) + \")\"\n",
    "print(\"C_noktası = \",C_noktası)"
   ]
  },
  {
   "cell_type": "code",
   "execution_count": 54,
   "id": "76eb5dc7",
   "metadata": {},
   "outputs": [
    {
     "name": "stdout",
     "output_type": "stream",
     "text": [
      "Bir sayı giriniz =0\n",
      "sıfırdır\n"
     ]
    }
   ],
   "source": [
    "a = int(input(\"Bir sayı giriniz =\"))\n",
    "\n",
    "if a>0:\n",
    "    print(\"pozitiftir\")\n",
    "elif a<0:\n",
    "    print(\"negatiftir\")\n",
    "else:\n",
    "    print(\"sıfırdır\")"
   ]
  },
  {
   "cell_type": "code",
   "execution_count": 59,
   "id": "b586d5e1",
   "metadata": {},
   "outputs": [
    {
     "name": "stdout",
     "output_type": "stream",
     "text": [
      "Bir sayı giriniz =4684684684684684684684684684684684687\n",
      "Bir sayı giriniz =5765\n",
      "Bir sayı giriniz =375\n",
      "Bir sayı giriniz =5\n",
      "Bir sayı giriniz =0\n",
      "Bir sayı giriniz =0\n",
      "Bir sayı giriniz =0\n",
      "Bir sayı giriniz =0\n",
      "Bir sayı giriniz =-566347892347826\n",
      "Bir sayı giriniz =-57867\n",
      "p =  4\n",
      "n =  2\n",
      "s =  4\n"
     ]
    }
   ],
   "source": [
    "p = 0\n",
    "n = 0\n",
    "s = 0\n",
    "for i in range(10):\n",
    "    a = int(input(\"Bir sayı giriniz =\"))\n",
    "\n",
    "    if a>0:\n",
    "        p +=1\n",
    "    elif a<0:\n",
    "        n += 1\n",
    "    else:   \n",
    "        s += 1\n",
    "\n",
    "print(\"p = \",p)\n",
    "print(\"n = \",n)\n",
    "print(\"s = \",s)"
   ]
  },
  {
   "cell_type": "code",
   "execution_count": 62,
   "id": "e780ee7e",
   "metadata": {},
   "outputs": [
    {
     "name": "stdout",
     "output_type": "stream",
     "text": [
      "Vize notunu giriniz =6\n",
      "Final notunu giriniz =70\n",
      "44.4\n",
      "ort yeterli değil\n"
     ]
    }
   ],
   "source": [
    "a = int(input(\"Vize notunu giriniz =\"))\n",
    "b = int(input(\"Final notunu giriniz =\"))\n",
    "\n",
    "if b>60:\n",
    "    ort = 0.4*a + 0.6*b\n",
    "    print(ort)\n",
    "    if ort >= 55:\n",
    "        print(\"Geçtiniz\")\n",
    "    else:\n",
    "        print(\"ort yeterli değil\")\n",
    "else:\n",
    "    print(\"kaldınız\")"
   ]
  },
  {
   "cell_type": "code",
   "execution_count": 69,
   "id": "a119d81b",
   "metadata": {},
   "outputs": [
    {
     "name": "stdout",
     "output_type": "stream",
     "text": [
      "Bir sayı giriniz = 6\n",
      "Bir sayı giriniz = 7\n",
      "Bir sayı giriniz = 3\n",
      "Büyük sayı =  7\n"
     ]
    }
   ],
   "source": [
    "a = int(input(\"Bir sayı giriniz = \"))\n",
    "b = int(input(\"Bir sayı giriniz = \"))\n",
    "c = int(input(\"Bir sayı giriniz = \"))\n",
    "\n",
    "if a > b and a > c:\n",
    "    print(\"Büyük sayı = \",a)\n",
    "elif b > a and b > c:\n",
    "    print(\"Büyük sayı = \",b)\n",
    "elif c > a and c > a:\n",
    "    print(\"Büyük sayı = \",c)\n",
    "elif a == b == c:\n",
    "    print(\"Birbirlerine eşittir\")\n",
    "else:\n",
    "    print(\"Herhangi iki değerde eşitlik var\")\n",
    "    \n"
   ]
  },
  {
   "cell_type": "code",
   "execution_count": 71,
   "id": "26715dfd",
   "metadata": {},
   "outputs": [
    {
     "name": "stdout",
     "output_type": "stream",
     "text": [
      "Bir sayı giriniz = 11\n",
      "6'nın katı değil\n"
     ]
    }
   ],
   "source": [
    "a = int(input(\"Bir sayı giriniz = \"))\n",
    "\n",
    "if a%6==0:\n",
    "    print(\"6'nin katı\")\n",
    "else:\n",
    "    print(\"6'nın katı değil\")"
   ]
  },
  {
   "cell_type": "code",
   "execution_count": 72,
   "id": "544b99d9",
   "metadata": {},
   "outputs": [
    {
     "name": "stdout",
     "output_type": "stream",
     "text": [
      "Öğrecinin notunu giriniz ==> 56\n",
      "C\n"
     ]
    }
   ],
   "source": [
    "a = int(input(\"Öğrecinin notunu giriniz ==> \"))\n",
    "if 70 <= a <= 100:\n",
    "    print(\"A\")\n",
    "elif 60 <= a < 70:\n",
    "    print(\"B\")\n",
    "elif 50 <= a < 60:\n",
    "    print(\"C\")\n",
    "elif 40 <= a < 50:\n",
    "    print(\"D\")\n",
    "else:\n",
    "    print(\"F\")"
   ]
  },
  {
   "cell_type": "code",
   "execution_count": 77,
   "id": "67b2c534",
   "metadata": {},
   "outputs": [
    {
     "name": "stdout",
     "output_type": "stream",
     "text": [
      "işçi maaşını giriniz = 10000\n",
      "çocuk sayısını giriniz = 5\n",
      "yeni_maas 11500.0\n"
     ]
    }
   ],
   "source": [
    "a = int(input(\"işçi maaşını giriniz = \"))\n",
    "b = int(input(\"çocuk sayısını giriniz = \"))\n",
    "if b ==1:\n",
    "    yeni_maas = a + a*5/100\n",
    "    print(\"yeni_maas\",yeni_maas)\n",
    "elif b ==2:\n",
    "    yeni_maas = a + a*10/100\n",
    "    print(\"yeni_maas\",yeni_maas)\n",
    "elif b >= 3:        \n",
    "    yeni_maas = a + a*15/100\n",
    "    print(\"yeni_maas\",yeni_maas)\n",
    "else:\n",
    "    print(\"yeni_maas\",a)"
   ]
  },
  {
   "cell_type": "code",
   "execution_count": 85,
   "id": "9afccb6c",
   "metadata": {},
   "outputs": [
    {
     "name": "stdout",
     "output_type": "stream",
     "text": [
      "1)Toplama\n",
      "2)Çıkarma\n",
      "3)Çarpma\n",
      "4)Bölme\n",
      "Bir işlem seçiniz = 4\n",
      "Bir sayı giriniz =8\n",
      "Bir sayı giriniz =4\n",
      "sonuc =  2.0\n"
     ]
    }
   ],
   "source": [
    "print(\"1)Toplama\\n2)Çıkarma\\n3)Çarpma\\n4)Bölme\")\n",
    "a = int(input(\"Bir işlem seçiniz = \"))\n",
    "b = int(input(\"Bir sayı giriniz = \"))\n",
    "c = int(input(\"Bir sayı giriniz = \"))\n",
    "if a == 1:\n",
    "    sonuc = b + c\n",
    "    print(\"sonuc = \",sonuc)\n",
    "elif a == 2:\n",
    "    sonuc = b - c\n",
    "    print(\"sonuc = \",sonuc)\n",
    "elif a == 3:\n",
    "    sonuc = b * c\n",
    "    print(\"sonuc = \",sonuc)\n",
    "else:\n",
    "    sonuc = b / c\n",
    "    print(\"sonuc = \",sonuc)\n"
   ]
  },
  {
   "cell_type": "code",
   "execution_count": 96,
   "id": "82f976ef",
   "metadata": {},
   "outputs": [
    {
     "name": "stdout",
     "output_type": "stream",
     "text": [
      "a değerini giriniz = 3\n",
      "b değerini giriniz = 4\n",
      "c değerini giriniz = 5\n",
      "x1 değerini giriniz = 3\n",
      "y1 değerini giriniz = 4\n",
      "yarıçap giriniz = 7\n",
      "d doğrusu =  3x + 4y + 5\n",
      "M =  (3,4)\n",
      "d1 =  0.6\n",
      "doğru çemberi kesiyor\n"
     ]
    }
   ],
   "source": [
    "a = int(input(\"a değerini giriniz = \"))\n",
    "b = int(input(\"b değerini giriniz = \"))\n",
    "c = int(input(\"c değerini giriniz = \"))\n",
    "x1 = int(input(\"x1 değerini giriniz = \"))\n",
    "y1 = int(input(\"y1 değerini giriniz = \"))\n",
    "r = int(input(\"yarıçap giriniz = \"))\n",
    "d = str(a) + \"x\" + \" + \" + str(b) + \"y\"+ \" + \" + str(c)\n",
    "M = \"(\" + str(x1) + \",\" + str(y1) + \")\"\n",
    "print(\"d doğrusu = \",d)\n",
    "print(\"M = \",M)\n",
    "\n",
    "d1 = abs(a*x1 + b*y1 + c) / (a**2 + b**2)**1/2\n",
    "print(\"d1 = \",d1)\n",
    "\n",
    "if d1 > r:\n",
    "    print(\"Doğru çemberi kesmiyor\")\n",
    "elif r == d1:\n",
    "    print(\"Doğru çembere teğet\")\n",
    "else:\n",
    "    print(\"doğru çemberi kesiyor\")\n",
    "\n"
   ]
  },
  {
   "cell_type": "code",
   "execution_count": 98,
   "id": "e05fd87f",
   "metadata": {},
   "outputs": [
    {
     "name": "stdout",
     "output_type": "stream",
     "text": [
      "Sayıyı giriniz = 1\n",
      "Sayıyı giriniz = 2\n",
      "Sayıyı giriniz = 3\n",
      "Sayıyı giriniz = 4\n",
      "Sayıyı giriniz = 5\n",
      "toplam =  15\n",
      "ort =  3.0\n"
     ]
    }
   ],
   "source": [
    "toplam = 0\n",
    "for i in range(5):\n",
    "    a = int(input(\"Sayıyı giriniz = \"))\n",
    "    toplam += a\n",
    "    ort = toplam / 5\n",
    "print(\"toplam = \",toplam)\n",
    "print(\"ort = \",ort)\n",
    "    \n",
    "\n",
    "    "
   ]
  },
  {
   "cell_type": "code",
   "execution_count": 115,
   "id": "7e8e2174",
   "metadata": {},
   "outputs": [
    {
     "name": "stdout",
     "output_type": "stream",
     "text": [
      "İlk N sayısını giriniz = 5\n",
      "1\n",
      "3\n",
      "5\n"
     ]
    }
   ],
   "source": [
    "N = int(input(\"İlk N sayısını giriniz = \"))\n",
    "for i in range(1,N + 1,1):\n",
    "    if i % 2 != 0:\n",
    "        print(i)\n",
    "        continue"
   ]
  },
  {
   "cell_type": "code",
   "execution_count": 127,
   "id": "3a736de3",
   "metadata": {},
   "outputs": [
    {
     "name": "stdout",
     "output_type": "stream",
     "text": [
      "sayıyı giriniz = 6\n",
      "Tam bölenler : \n",
      "1\n",
      "2\n",
      "3\n",
      "6\n",
      "tam bölen sayısı =  4\n"
     ]
    }
   ],
   "source": [
    "N = int(input(\"sayıyı giriniz = \"))\n",
    "print(\"Tam bölenler : \" )\n",
    "c = 0\n",
    "for i in range(1,N + 1,1):\n",
    "    if N % i == 0:\n",
    "        print(i)\n",
    "        c += 1\n",
    "print(\"tam bölen sayısı = \",c)"
   ]
  },
  {
   "cell_type": "code",
   "execution_count": 1,
   "id": "954050d3",
   "metadata": {},
   "outputs": [
    {
     "name": "stdout",
     "output_type": "stream",
     "text": [
      "Taban değerini yazın = 4\n",
      "Üs değerini yazın = 3\n",
      "Sonuç ==>  64\n"
     ]
    }
   ],
   "source": [
    "a = int(input(\"Taban değerini yazın = \"))\n",
    "b = int(input(\"Üs değerini yazın = \"))\n",
    "\n",
    "sonuc = a**b\n",
    "print(\"Sonuç ==> \",sonuc)"
   ]
  },
  {
   "cell_type": "code",
   "execution_count": 21,
   "id": "56ea8f67",
   "metadata": {},
   "outputs": [
    {
     "name": "stdout",
     "output_type": "stream",
     "text": [
      "İlk N sayısını giriniz = 9\n",
      "Tek sayıların toplamı =  25\n",
      "Çift sayıların çarpımı =  384\n"
     ]
    }
   ],
   "source": [
    "N = int(input(\"İlk N sayısını giriniz = \"))\n",
    "toplam = 0\n",
    "carpım = 1\n",
    "for i in range(1,N + 1,1):\n",
    "    if i % 2 != 0:\n",
    "        toplam += i \n",
    "\n",
    "    elif  i % 2 == 0:\n",
    "        carpım *= i\n",
    "\n",
    "print(\"Tek sayıların toplamı = \",toplam)\n",
    "print(\"Çift sayıların çarpımı = \",carpım)\n"
   ]
  },
  {
   "cell_type": "code",
   "execution_count": 24,
   "id": "6d2160de",
   "metadata": {},
   "outputs": [
    {
     "name": "stdout",
     "output_type": "stream",
     "text": [
      "Sayı giriniz = 5\n",
      "120\n"
     ]
    }
   ],
   "source": [
    "a = int(input(\"Sayı giriniz = \"))\n",
    "fak = 1\n",
    "for i in range(1,a + 1,1):\n",
    "    fak *= i\n",
    "print(fak)"
   ]
  },
  {
   "cell_type": "code",
   "execution_count": 7,
   "id": "c4683248",
   "metadata": {},
   "outputs": [
    {
     "name": "stdout",
     "output_type": "stream",
     "text": [
      "Fibonaccinin ilk n terimi = 7\n",
      "0 1 1 2 3 5 8 13 "
     ]
    }
   ],
   "source": [
    "# fibonacciyi hesaplayan program\n",
    "\n",
    "n = int(input(\"Fibonaccinin ilk n terimi = \"))\n",
    "\n",
    "a = 0\n",
    "print(a , end = \" \")\n",
    "b = 1\n",
    "print(b , end = \" \")\n",
    "\n",
    "for i in range(n -1) :\n",
    "    f = a + b\n",
    "    print(f ,  end = \" \")\n",
    "    \n",
    "    a = b\n",
    "    b = f"
   ]
  },
  {
   "cell_type": "code",
   "execution_count": 9,
   "id": "813dd6bc",
   "metadata": {},
   "outputs": [
    {
     "name": "stdout",
     "output_type": "stream",
     "text": [
      "Fibonaccinin ilk n terimi = 7\n",
      "0 1 1 2 3 5 8 13 "
     ]
    }
   ],
   "source": [
    "n = int(input(\"Fibonaccinin ilk n terimi = \"))\n",
    "\n",
    "a = 0\n",
    "print(a , end = \" \" )\n",
    "b = 1\n",
    "print(b, end = \" \")\n",
    "for i in range( n - 1):\n",
    "    f = a + b\n",
    "    print(f, end = \" \" )\n",
    "    \n",
    "    a = b\n",
    "    b = f\n",
    "    "
   ]
  },
  {
   "cell_type": "code",
   "execution_count": 13,
   "id": "0257877a",
   "metadata": {},
   "outputs": [
    {
     "name": "stdout",
     "output_type": "stream",
     "text": [
      "Serinin ilk elemanını yazınız = 50\n",
      "Toplam eleman sayısını yazınız = 3\n",
      "Artış miktarı = 1\n",
      "153\n"
     ]
    }
   ],
   "source": [
    "a = int(input(\"Serinin ilk elemanını yazınız = \"))\n",
    "b = int(input(\"Toplam eleman sayısını yazınız = \"))\n",
    "c = int(input(\"Artış miktarı = \"))\n",
    "toplam = 0\n",
    "for i in range(a,a + b ,c):\n",
    "    toplam += i\n",
    "print(toplam)"
   ]
  },
  {
   "cell_type": "code",
   "execution_count": 31,
   "id": "bc8a1212",
   "metadata": {},
   "outputs": [
    {
     "name": "stdout",
     "output_type": "stream",
     "text": [
      "Bir değer giriniz = 93\n",
      "93 asal sayı değildir\n"
     ]
    }
   ],
   "source": [
    "a = int(input(\"Bir değer giriniz = \"))\n",
    "asal = 0\n",
    "for i in range(2,a,1):\n",
    "    if a % i == 0:\n",
    "        asal = 0\n",
    "        break\n",
    "if asal ==0:\n",
    "    print(a,\"asal sayı değildir\")\n",
    "else:\n",
    "    print(a,\"asal sayıdır\")"
   ]
  },
  {
   "cell_type": "code",
   "execution_count": 33,
   "id": "48b2bd4f",
   "metadata": {},
   "outputs": [
    {
     "name": "stdout",
     "output_type": "stream",
     "text": [
      "Bir değer giriniz = 9\n",
      "3\n"
     ]
    }
   ],
   "source": [
    "a = int(input(\"Bir değer giriniz = \"))\n",
    "asal = 0\n",
    "for i in range(1,a + 1,1):\n",
    "    if a % i == 0:\n",
    "        asal += 1\n",
    "\n",
    "print(asal)"
   ]
  },
  {
   "cell_type": "code",
   "execution_count": 34,
   "id": "5f1bb9dd",
   "metadata": {},
   "outputs": [
    {
     "name": "stdout",
     "output_type": "stream",
     "text": [
      "Bir sayı giriniz = 9\n",
      "3\n"
     ]
    }
   ],
   "source": [
    "n = int(input(\"Bir sayı giriniz = \"))\n",
    "asal_carpan = 0\n",
    "for i in range(1,n + 1,1):\n",
    "    if n%i ==0:\n",
    "        asal_carpan += 1\n",
    "        \n",
    "print(asal_carpan)"
   ]
  },
  {
   "cell_type": "code",
   "execution_count": 40,
   "id": "d7308cfb",
   "metadata": {},
   "outputs": [
    {
     "name": "stdout",
     "output_type": "stream",
     "text": [
      "Bir sayı giriniz = 56\n",
      "2\n",
      "4\n",
      "7\n",
      "8\n",
      "14\n",
      "28\n",
      "56\n",
      "asal_carpan 7\n"
     ]
    }
   ],
   "source": [
    "n = int(input(\"Bir sayı giriniz = \"))\n",
    "asal_carpan = 0\n",
    "for i in range(2,n + 1 ,1):\n",
    "    if n%i ==0:\n",
    "        asal_carpan += 1\n",
    "        print(i)\n",
    "print(\"asal_carpan\",asal_carpan)"
   ]
  },
  {
   "cell_type": "code",
   "execution_count": 65,
   "id": "446205e4",
   "metadata": {},
   "outputs": [
    {
     "name": "stdout",
     "output_type": "stream",
     "text": [
      "Lütfen bir sayı giriniz... : 5668438785706476543038997654567643354677887675655455677878676565455666767767676767676767676767676767676767676767676767676767676767676767676767676767676767676767676767676767676767676767676767676767676767676737256\n",
      "Basamak sayısı... :  211\n"
     ]
    }
   ],
   "source": [
    "sayi = str(input(\"Lütfen bir sayı giriniz... : \"))\n",
    "\n",
    "basamak = len(sayi)\n",
    "\n",
    "print(\"Basamak sayısı... : \", basamak)"
   ]
  },
  {
   "cell_type": "code",
   "execution_count": 58,
   "id": "614f37a5",
   "metadata": {},
   "outputs": [
    {
     "name": "stdout",
     "output_type": "stream",
     "text": [
      "Bir sayı girin: 67\n",
      "sayının rakamları çarpımı: 42\n"
     ]
    }
   ],
   "source": [
    "sayi=input(\"Bir sayı girin: \")#str formatında giriş yapar\n",
    "carpim=1\n",
    "for rakam in str(sayi):\n",
    "    if int(rakam) != 0:\n",
    "        carpim *= int(rakam)\n",
    "print(\"sayının rakamları çarpımı:\",carpim)\n",
    " "
   ]
  },
  {
   "cell_type": "code",
   "execution_count": 56,
   "id": "5287ec0e",
   "metadata": {},
   "outputs": [
    {
     "name": "stdout",
     "output_type": "stream",
     "text": [
      "Bir sayı girin: 67\n",
      "sayının rakamları çarpımı: 544344939077443064003729240247842752644293064388798874532860126869671081148416000000000000000\n"
     ]
    }
   ],
   "source": [
    "sayi=int(input(\"Bir sayı girin: \"))\n",
    "carpim=1\n",
    "for i in range(sayi):\n",
    "    if i != 0:\n",
    "        carpim *= i\n",
    "print(\"sayının rakamları çarpımı:\",carpim)\n",
    " "
   ]
  },
  {
   "cell_type": "code",
   "execution_count": 64,
   "id": "3e239936",
   "metadata": {},
   "outputs": [
    {
     "name": "stdout",
     "output_type": "stream",
     "text": [
      "Lütfen sin değeri........:49\n",
      "49 değeri [1/(2)**1/2,(3)**1/2/2] aralığındadır.\n"
     ]
    }
   ],
   "source": [
    "a = int(input(\"Lütfen sin değerini giriniz........: \"))\n",
    "\n",
    "if 0 <= a <= 30:\n",
    "    print(a,\"değeri [0,1/2] aralığındadır.\")\n",
    "elif 30 <= a <= 45:\n",
    "    print(a,\"değeri [1/2,1/(2)**1/2] aralığındadır.\")\n",
    "elif 45 <= a <= 60:\n",
    "    print(a,\"değeri [1/(2)**1/2,(3)**1/2/2] aralığındadır.\")\n",
    "elif 60 <= a <= 90:\n",
    "    print(a,\"değeri [(3)**1/2/2,1] aralığındadır.\")\n",
    "else:\n",
    "    print(\"Lütfen girdiğiniz değerin [0,90] aralığında olmasına dikkat ediniz....... \")\n",
    "    "
   ]
  },
  {
   "cell_type": "code",
   "execution_count": 67,
   "id": "26d7422c",
   "metadata": {},
   "outputs": [
    {
     "name": "stdout",
     "output_type": "stream",
     "text": [
      "n = 9\n",
      "9\n"
     ]
    }
   ],
   "source": [
    "n = int(input(\"n = \"))\n",
    "top = 0\n",
    "basamak = 0\n",
    "while n > 0:\n",
    "    sonhane = int(n%10)\n",
    "    n = (n - sonhane) / 10\n",
    "    top += sonhane * (2**basamak)\n",
    "    basamak += 1\n",
    "print(top)"
   ]
  },
  {
   "cell_type": "code",
   "execution_count": 77,
   "id": "95cf4a9d",
   "metadata": {},
   "outputs": [
    {
     "name": "stdout",
     "output_type": "stream",
     "text": [
      "Sayı giriniz......: 365\n",
      "90\n",
      "0\n"
     ]
    }
   ],
   "source": [
    "n = int(input(\"Sayı giriniz......: \"))\n",
    "\n",
    "while n>9:\n",
    "    carpim = 1 \n",
    "    while n>0:\n",
    "        sonhane = int(n%10)\n",
    "        carpim *= sonhane\n",
    "        n = (n-sonhane) /10\n",
    "    print(carpim)\n",
    "    n = carpim"
   ]
  },
  {
   "cell_type": "code",
   "execution_count": 79,
   "id": "332f4191",
   "metadata": {},
   "outputs": [
    {
     "name": "stdout",
     "output_type": "stream",
     "text": [
      "0    5\n",
      "5    4.0\n",
      "13.0    3.2\n",
      "19.4    2.5600000000000005\n",
      "24.52    2.0480000000000005\n",
      "28.616    1.6384000000000005\n",
      "31.8928    1.3107200000000006\n",
      "34.51424    1.0485760000000004\n",
      "36.611392    0.8388608000000004\n"
     ]
    }
   ],
   "source": [
    "h  = 5\n",
    "yol = 0\n",
    "print(yol,\"  \",h)\n",
    "\n",
    "yol += h\n",
    "h *= 0.8\n",
    "print(yol,\"  \",h)\n",
    "\n",
    "while h > 1:\n",
    "    yol = yol + 2*h\n",
    "    h *= 0.8\n",
    "    print(yol,\"  \",h)"
   ]
  },
  {
   "cell_type": "code",
   "execution_count": 81,
   "id": "aec621db",
   "metadata": {},
   "outputs": [
    {
     "name": "stdout",
     "output_type": "stream",
     "text": [
      "Kenar uzunluğu1 = 6\n",
      "Kenar uzunluğu2 = 9\n",
      "Kenar uzunluğu3 = 5\n",
      "cesitkenar ü\n",
      "cevre =  20\n",
      "alan =  14.142135623730951\n"
     ]
    }
   ],
   "source": [
    "a = int(input(\"Kenar uzunluğu1 = \"))\n",
    "b = int(input(\"Kenar uzunluğu2 = \"))\n",
    "c = int(input(\"Kenar uzunluğu3 = \"))\n",
    "if a ==b==c:\n",
    "    print(\"eskenar ü\")\n",
    "else:\n",
    "    if a==b or a==c or b==c:\n",
    "        print(\"ikizkenar ü\")\n",
    "    else:\n",
    "        print(\"cesitkenar ü\")\n",
    "        \n",
    "        cevre = a + b + c \n",
    "        u = cevre / 2\n",
    "        alan = (u*(u-a)*(u-b)*(u-c))**(1/2)\n",
    "        print(\"cevre = \",cevre)\n",
    "        print(\"alan = \",alan)"
   ]
  },
  {
   "cell_type": "code",
   "execution_count": 83,
   "id": "1558dc8b",
   "metadata": {},
   "outputs": [
    {
     "name": "stdout",
     "output_type": "stream",
     "text": [
      "N = 78\n",
      "i =  1 Basamaklar toplamı =  1\n",
      "harshad\n",
      "i =  2 Basamaklar toplamı =  2\n",
      "harshad\n",
      "i =  3 Basamaklar toplamı =  3\n",
      "harshad\n",
      "i =  4 Basamaklar toplamı =  4\n",
      "harshad\n",
      "i =  5 Basamaklar toplamı =  5\n",
      "harshad\n",
      "i =  6 Basamaklar toplamı =  6\n",
      "harshad\n",
      "i =  7 Basamaklar toplamı =  7\n",
      "harshad\n",
      "i =  8 Basamaklar toplamı =  8\n",
      "harshad\n",
      "i =  9 Basamaklar toplamı =  9\n",
      "harshad\n",
      "i =  10 Basamaklar toplamı =  1\n",
      "harshad değil\n",
      "i =  11 Basamaklar toplamı =  2\n",
      "harshad değil\n",
      "i =  12 Basamaklar toplamı =  3\n",
      "harshad değil\n",
      "i =  13 Basamaklar toplamı =  4\n",
      "harshad değil\n",
      "i =  14 Basamaklar toplamı =  5\n",
      "harshad değil\n",
      "i =  15 Basamaklar toplamı =  6\n",
      "harshad değil\n",
      "i =  16 Basamaklar toplamı =  7\n",
      "harshad değil\n",
      "i =  17 Basamaklar toplamı =  8\n",
      "harshad değil\n",
      "i =  18 Basamaklar toplamı =  9\n",
      "harshad değil\n",
      "i =  19 Basamaklar toplamı =  10\n",
      "harshad değil\n",
      "i =  20 Basamaklar toplamı =  2\n",
      "harshad değil\n",
      "i =  21 Basamaklar toplamı =  3\n",
      "harshad değil\n",
      "i =  22 Basamaklar toplamı =  4\n",
      "harshad değil\n",
      "i =  23 Basamaklar toplamı =  5\n",
      "harshad değil\n",
      "i =  24 Basamaklar toplamı =  6\n",
      "harshad değil\n",
      "i =  25 Basamaklar toplamı =  7\n",
      "harshad değil\n",
      "i =  26 Basamaklar toplamı =  8\n",
      "harshad değil\n",
      "i =  27 Basamaklar toplamı =  9\n",
      "harshad değil\n",
      "i =  28 Basamaklar toplamı =  10\n",
      "harshad değil\n",
      "i =  29 Basamaklar toplamı =  11\n",
      "harshad değil\n",
      "i =  30 Basamaklar toplamı =  3\n",
      "harshad değil\n",
      "i =  31 Basamaklar toplamı =  4\n",
      "harshad değil\n",
      "i =  32 Basamaklar toplamı =  5\n",
      "harshad değil\n",
      "i =  33 Basamaklar toplamı =  6\n",
      "harshad değil\n",
      "i =  34 Basamaklar toplamı =  7\n",
      "harshad değil\n",
      "i =  35 Basamaklar toplamı =  8\n",
      "harshad değil\n",
      "i =  36 Basamaklar toplamı =  9\n",
      "harshad değil\n",
      "i =  37 Basamaklar toplamı =  10\n",
      "harshad değil\n",
      "i =  38 Basamaklar toplamı =  11\n",
      "harshad değil\n",
      "i =  39 Basamaklar toplamı =  12\n",
      "harshad değil\n",
      "i =  40 Basamaklar toplamı =  4\n",
      "harshad değil\n",
      "i =  41 Basamaklar toplamı =  5\n",
      "harshad değil\n",
      "i =  42 Basamaklar toplamı =  6\n",
      "harshad değil\n",
      "i =  43 Basamaklar toplamı =  7\n",
      "harshad değil\n",
      "i =  44 Basamaklar toplamı =  8\n",
      "harshad değil\n",
      "i =  45 Basamaklar toplamı =  9\n",
      "harshad değil\n",
      "i =  46 Basamaklar toplamı =  10\n",
      "harshad değil\n",
      "i =  47 Basamaklar toplamı =  11\n",
      "harshad değil\n",
      "i =  48 Basamaklar toplamı =  12\n",
      "harshad değil\n",
      "i =  49 Basamaklar toplamı =  13\n",
      "harshad değil\n",
      "i =  50 Basamaklar toplamı =  5\n",
      "harshad değil\n",
      "i =  51 Basamaklar toplamı =  6\n",
      "harshad değil\n",
      "i =  52 Basamaklar toplamı =  7\n",
      "harshad değil\n",
      "i =  53 Basamaklar toplamı =  8\n",
      "harshad değil\n",
      "i =  54 Basamaklar toplamı =  9\n",
      "harshad değil\n",
      "i =  55 Basamaklar toplamı =  10\n",
      "harshad değil\n",
      "i =  56 Basamaklar toplamı =  11\n",
      "harshad değil\n",
      "i =  57 Basamaklar toplamı =  12\n",
      "harshad değil\n",
      "i =  58 Basamaklar toplamı =  13\n",
      "harshad değil\n",
      "i =  59 Basamaklar toplamı =  14\n",
      "harshad değil\n",
      "i =  60 Basamaklar toplamı =  6\n",
      "harshad değil\n",
      "i =  61 Basamaklar toplamı =  7\n",
      "harshad değil\n",
      "i =  62 Basamaklar toplamı =  8\n",
      "harshad değil\n",
      "i =  63 Basamaklar toplamı =  9\n",
      "harshad değil\n",
      "i =  64 Basamaklar toplamı =  10\n",
      "harshad değil\n",
      "i =  65 Basamaklar toplamı =  11\n",
      "harshad değil\n",
      "i =  66 Basamaklar toplamı =  12\n",
      "harshad değil\n",
      "i =  67 Basamaklar toplamı =  13\n",
      "harshad değil\n",
      "i =  68 Basamaklar toplamı =  14\n",
      "harshad değil\n",
      "i =  69 Basamaklar toplamı =  15\n",
      "harshad değil\n",
      "i =  70 Basamaklar toplamı =  7\n",
      "harshad değil\n",
      "i =  71 Basamaklar toplamı =  8\n",
      "harshad değil\n",
      "i =  72 Basamaklar toplamı =  9\n",
      "harshad değil\n",
      "i =  73 Basamaklar toplamı =  10\n",
      "harshad değil\n",
      "i =  74 Basamaklar toplamı =  11\n",
      "harshad değil\n",
      "i =  75 Basamaklar toplamı =  12\n",
      "harshad değil\n",
      "i =  76 Basamaklar toplamı =  13\n",
      "harshad değil\n",
      "i =  77 Basamaklar toplamı =  14\n",
      "harshad değil\n",
      "i =  78 Basamaklar toplamı =  15\n",
      "harshad değil\n"
     ]
    }
   ],
   "source": [
    "N = int(input(\"N = \"))\n",
    "for i in range(1,N+1,1):\n",
    "    k = i\n",
    "    basamaklar_toplamı = 0\n",
    "    while k > 0:\n",
    "        son_basamak = k%10\n",
    "        basamaklar_toplamı += son_basamak\n",
    "        k = (k-son_basamak) / 10\n",
    "    print(\"i = \",i,\"Basamaklar toplamı = \",int(basamaklar_toplamı))\n",
    "    \n",
    "    if (i == basamaklar_toplamı):\n",
    "        print(\"harshad\")\n",
    "    else:\n",
    "        print(\"harshad değil\")\n",
    "        "
   ]
  },
  {
   "cell_type": "code",
   "execution_count": 1,
   "id": "7bc4a5a2",
   "metadata": {},
   "outputs": [
    {
     "name": "stdout",
     "output_type": "stream",
     "text": [
      "a = programlama dersinden kaldım  \n",
      "4\n"
     ]
    }
   ],
   "source": [
    "a = input(\"a = \")\n",
    "bosluk = 0\n",
    "for i in a:\n",
    "    if i == \" \":\n",
    "        bosluk += 1\n",
    "print(bosluk)"
   ]
  },
  {
   "cell_type": "code",
   "execution_count": 2,
   "id": "d46b9da1",
   "metadata": {},
   "outputs": [
    {
     "name": "stdout",
     "output_type": "stream",
     "text": [
      "a = programlamadan kaldım\n",
      "5\n"
     ]
    }
   ],
   "source": [
    "a = input(\"a = \")\n",
    "bosluk = 0\n",
    "for i in a:\n",
    "    if i == \"a\":\n",
    "        bosluk += 1\n",
    "print(bosluk)"
   ]
  },
  {
   "cell_type": "code",
   "execution_count": 6,
   "id": "e30e9db0",
   "metadata": {},
   "outputs": [
    {
     "name": "stdout",
     "output_type": "stream",
     "text": [
      "a = program  lama dersinden kaldım.. lama tüyleri yumuşaktı\n",
      "0\n"
     ]
    }
   ],
   "source": [
    "a = input(\"a = \")\n",
    "bosluk = 0\n",
    "for i in a:\n",
    "    if i == \"lama\":\n",
    "        bosluk += 1\n",
    "print(bosluk)"
   ]
  },
  {
   "cell_type": "code",
   "execution_count": 10,
   "id": "0a9329b1",
   "metadata": {},
   "outputs": [
    {
     "name": "stdout",
     "output_type": "stream",
     "text": [
      "a = programlama dersinden kaldım.. lamanın tüyleri yumuşaktı\n",
      "2\n"
     ]
    }
   ],
   "source": [
    "a = input(\"a = \")\n",
    "bosluk = 0\n",
    "for i in a:\n",
    "    if i == \"t\":\n",
    "        bosluk += 1\n",
    "print(bosluk)"
   ]
  },
  {
   "cell_type": "code",
   "execution_count": 15,
   "id": "a0794e11",
   "metadata": {},
   "outputs": [
    {
     "name": "stdout",
     "output_type": "stream",
     "text": [
      "fatma\n",
      "cicek\n",
      "20\n",
      "1.57\n",
      "50\n",
      "['fatma', 'cicek', 1.57, 50]\n"
     ]
    }
   ],
   "source": [
    "list =['fatma','cicek',20,1.57,50]\n",
    "\n",
    "for i in range(0,5):\n",
    "    print(list[i])\n",
    "    \n",
    "del list[2]\n",
    "print(list)"
   ]
  },
  {
   "cell_type": "code",
   "execution_count": 5,
   "id": "7b90032d",
   "metadata": {},
   "outputs": [
    {
     "name": "stdout",
     "output_type": "stream",
     "text": [
      "Girilen sayı adedi..........: 6\n",
      "Lütfen bir sayı giriniz..........: 1\n",
      "Lütfen bir sayı giriniz..........: 2\n",
      "Lütfen bir sayı giriniz..........: 3\n",
      "Lütfen bir sayı giriniz..........: 4\n",
      "Lütfen bir sayı giriniz..........: 5\n",
      "Lütfen bir sayı giriniz..........: 6\n",
      "Toplam.............:  21\n",
      "Eleman sayısı......:  6\n",
      "Ortalama...........:  3.5\n"
     ]
    }
   ],
   "source": [
    "c = 0\n",
    "top = 0\n",
    "d = int(input(\"Girilen sayı adedi..........: \"))\n",
    "for i in range(d):\n",
    "    a = int(input(\"Lütfen bir sayı giriniz..........: \"))\n",
    "    top += a\n",
    "    c += 1\n",
    "\n",
    "ort = top / c\n",
    "print(\"Toplam.............: \",top)\n",
    "print(\"Eleman sayısı......: \",c)\n",
    "print(\"Ortalama...........: \",ort)"
   ]
  },
  {
   "cell_type": "code",
   "execution_count": 13,
   "id": "057e2f89",
   "metadata": {},
   "outputs": [
    {
     "name": "stdout",
     "output_type": "stream",
     "text": [
      "Girilen sayı adedi..........: 5\n",
      "Lütfen bir sayı giriniz..........: 4\n",
      "Lütfen bir sayı giriniz..........: 8\n",
      "Lütfen bir sayı giriniz..........: 9\n",
      "Lütfen bir sayı giriniz..........: 0\n",
      "Lütfen bir sayı giriniz..........: 6\n",
      "ort......:   5.4\n",
      "ss.......:   0.03599999999999996\n"
     ]
    }
   ],
   "source": [
    "c = 0\n",
    "top = 0\n",
    "top1= 0\n",
    "d = int(input(\"Girilen sayı adedi..........: \"))\n",
    "for i in range(d):\n",
    "    a = int(input(\"Lütfen bir sayı giriniz..........: \"))\n",
    "    top += a\n",
    "    c += 1\n",
    "\n",
    "ort = top / c\n",
    "top1 = (a - ort)**2\n",
    "ss = (top1/c)**1/2\n",
    "print(\"ort......:  \",ort)\n",
    "print(\"ss.......:  \",ss)"
   ]
  },
  {
   "cell_type": "code",
   "execution_count": 9,
   "id": "7db19950",
   "metadata": {},
   "outputs": [
    {
     "name": "stdout",
     "output_type": "stream",
     "text": [
      "aranan sayı....:98\n",
      "98 sayısı listede yoktur\n"
     ]
    }
   ],
   "source": [
    "list = [1,2,3,4,5,6,7,8,90]\n",
    "a = int(input(\"aranan sayı....:\"))\n",
    "c = 0\n",
    "for i in list:\n",
    "    if a == i:\n",
    "        c = 1\n",
    "if c == 1:\n",
    "    print(a,\"sayısı listededir\")\n",
    "else:\n",
    "    print(a,\"sayısı listede yoktur\")        "
   ]
  },
  {
   "cell_type": "code",
   "execution_count": 12,
   "id": "f2f59d21",
   "metadata": {},
   "outputs": [
    {
     "name": "stdout",
     "output_type": "stream",
     "text": [
      "Korelasyon Katsayısı......:  -0.21782867251728316\n"
     ]
    }
   ],
   "source": [
    "x = [1,2,3,4,5,6,7,8,90]\n",
    "y = [1,2,3,4,5,6,754,87,90]\n",
    "a=0;c=0;e=0;xT=0;yT=0;n=0\n",
    "for i in range(0,len(x)):\n",
    "    a += x[i]+y[i]\n",
    "    c += x[i]*x[i]\n",
    "    e += y[i]*y[i]\n",
    "    xT += x[i]\n",
    "    yT += y[i]\n",
    "    n += 1\n",
    "\n",
    "b = xT*yT\n",
    "d = xT**2\n",
    "f =yT**2\n",
    "\n",
    "r = (n*a - b) / ((n*c-d)*(n*e-f))**0.5\n",
    "print(\"Korelasyon Katsayısı......: \",r)\n",
    "    "
   ]
  },
  {
   "cell_type": "code",
   "execution_count": 14,
   "id": "c047e95e",
   "metadata": {},
   "outputs": [
    {
     "name": "stdout",
     "output_type": "stream",
     "text": [
      "Bir cümle giriniz.......: programlama dersinden kaldım\n",
      "Tekrarı bulunacak elelman....: l\n",
      "2\n"
     ]
    }
   ],
   "source": [
    "a = input(\"Bir cümle giriniz.......: \")\n",
    "b = input(\"Tekrarı bulunacak elelman....: \")\n",
    "kontrol = 0\n",
    "for i in a:\n",
    "    if i == b:\n",
    "        kontrol += 1\n",
    "print(kontrol)"
   ]
  },
  {
   "cell_type": "code",
   "execution_count": 15,
   "id": "9aecb7cb",
   "metadata": {},
   "outputs": [
    {
     "name": "stdout",
     "output_type": "stream",
     "text": [
      "Bir cümle giriniz.......: programlama dersinden      kaldım\n",
      "7\n"
     ]
    }
   ],
   "source": [
    "a = input(\"Bir cümle giriniz.......: \")\n",
    "\n",
    "kontrol = 0\n",
    "for i in a:\n",
    "    if i == \" \":\n",
    "        kontrol += 1\n",
    "print(kontrol)"
   ]
  },
  {
   "cell_type": "code",
   "execution_count": 16,
   "id": "ed276e08",
   "metadata": {},
   "outputs": [
    {
     "name": "stdout",
     "output_type": "stream",
     "text": [
      "Bir cümle giriniz.......: hrthgbn\n",
      "Bir cümle giriniz.......: nkteroıy\n",
      "Cümleler eşit değil\n"
     ]
    }
   ],
   "source": [
    "a = input(\"Bir cümle giriniz.......: \")\n",
    "b= input(\"Bir cümle giriniz.......: \")\n",
    "c = 0\n",
    "for i in range(len(a)):\n",
    "    if a[i] != b[i]:\n",
    "        c = 1\n",
    "        break\n",
    "if c == 0:\n",
    "    print(\"Cümleler eşit\")\n",
    "else:\n",
    "    print(\"Cümleler eşit değil\")"
   ]
  },
  {
   "cell_type": "code",
   "execution_count": 17,
   "id": "ea072dbb",
   "metadata": {},
   "outputs": [
    {
     "name": "stdout",
     "output_type": "stream",
     "text": [
      "Bir cümle giriniz = programlamadan 29 ortalama ile kaldım\n",
      "Rakam......: 2\n"
     ]
    }
   ],
   "source": [
    "a = input(\"Bir cümle giriniz = \")\n",
    "b = 0\n",
    "for i in range(len(a)):\n",
    "    if a[i] in [\"0\",\"1\",\"2\",\"3\",\"4\",\"5\",\"6\",\"7\",\"8\",\"9\"]:\n",
    "        b += 1\n",
    "print(\"Rakam......:\",b)\n",
    "        \n"
   ]
  },
  {
   "cell_type": "code",
   "execution_count": 21,
   "id": "fb5cce12",
   "metadata": {},
   "outputs": [
    {
     "name": "stdout",
     "output_type": "stream",
     "text": [
      "Bir cümle giriniz ...:  programlama dersinden kaldım\n",
      "3\n"
     ]
    }
   ],
   "source": [
    "a = input(\"Bir cümle giriniz ...: \")\n",
    "kelime = 1 \n",
    "for i in range(len(a)):\n",
    "    if a[i] == \" \" and a[i-1] != \" \" and i != 0:\n",
    "        kelime += 1\n",
    "print(kelime)"
   ]
  },
  {
   "cell_type": "code",
   "execution_count": 22,
   "id": "168fc9cc",
   "metadata": {},
   "outputs": [
    {
     "name": "stdout",
     "output_type": "stream",
     "text": [
      "Bir cümle yazınız .......: programla dersinin bütünden iyi not alacağıma inanıyorum\n",
      "Tırnak içine almak istediğiniz elemanı yazınız ....: iyi not\n",
      " programla dersinin bütünden 'iyi not' alacağıma inanıyorum\n"
     ]
    }
   ],
   "source": [
    "a = input(\"Bir cümle yazınız .......: \")\n",
    "b = input(\"Tırnak içine almak istediğiniz elemanı yazınız ....: \")\n",
    "\n",
    "c = \" \"\n",
    "for i in range(len(a)):\n",
    "    if a[i:i+len(b)] == b:\n",
    "        c += a[0:i]\n",
    "        c += \"'\"+ b +\"'\"\n",
    "        c += a[i +len(b):len(a)]\n",
    "print(c)"
   ]
  },
  {
   "cell_type": "code",
   "execution_count": 23,
   "id": "d7dc1805",
   "metadata": {},
   "outputs": [
    {
     "name": "stdout",
     "output_type": "stream",
     "text": [
      "Bir cümle yazınız .......: programla dersinin bütünden iyi not alacağıma inanıyorum\n",
      "Tırnak içine almak istediğiniz elemanı yazınız ....: iyi not\n",
      " programla dersinin bütünden  alacağıma inanıyorum\n"
     ]
    }
   ],
   "source": [
    "a = input(\"Bir cümle yazınız .......: \")\n",
    "b = input(\"Tırnak içine almak istediğiniz elemanı yazınız ....: \")\n",
    "\n",
    "c = \" \"\n",
    "for i in range(len(a)):\n",
    "    if a[i:i+len(b)] == b:\n",
    "        c += a[0:i]\n",
    "        c += a[i +len(b):len(a)]\n",
    "print(c)"
   ]
  },
  {
   "cell_type": "code",
   "execution_count": 28,
   "id": "d42fdb98",
   "metadata": {},
   "outputs": [
    {
     "name": "stdout",
     "output_type": "stream",
     "text": [
      "Bir cümle giriniz = 'Programla dersinin bütünden iyi not alacağıma inanıyorum.'\n",
      "Noktalama işareti......: 3\n"
     ]
    }
   ],
   "source": [
    "a = input(\"Bir cümle giriniz = \")\n",
    "b = 0\n",
    "for i in range(len(a)):\n",
    "    if a[i] in [\".\",\",\",\"!\",\"?\",\";\",\":\",\"-\",\"'\",\"'\",\"()\",\"...\"]:\n",
    "        b += 1\n",
    "print(\"Noktalama işareti......:\",b)\n",
    "        "
   ]
  },
  {
   "cell_type": "code",
   "execution_count": 29,
   "id": "9d19fb65",
   "metadata": {},
   "outputs": [
    {
     "name": "stdout",
     "output_type": "stream",
     "text": [
      "Bir cümle yazınız .......:  'Programla dersinin bütünden iyi not alacağıma inanıyorum.'\n",
      "Tırnak içine almak istediğiniz elemanı yazınız ....: .\n",
      "  'Programla dersinin bütünden iyi not alacağıma inanıyorum'\n"
     ]
    }
   ],
   "source": [
    "a = input(\"Bir cümle yazınız .......: \")\n",
    "b = input(\"Tırnak içine almak istediğiniz elemanı yazınız ....: \")\n",
    "\n",
    "c = \" \"\n",
    "for i in range(len(a)):\n",
    "    if a[i:i+len(b)] == b:\n",
    "        c += a[0:i]\n",
    "        c += a[i +len(b):len(a)]\n",
    "print(c)\n"
   ]
  },
  {
   "cell_type": "code",
   "execution_count": 30,
   "id": "bddf10d5",
   "metadata": {},
   "outputs": [
    {
     "name": "stdout",
     "output_type": "stream",
     "text": [
      "Bir cümle yazınız .......: 'Programla dersinin bütünden iyi not alacağıma inanıyorum.'\n",
      "Tırnak içine almak istediğiniz elemanı yazınız ....: iyi not\n",
      " 'iyi not'\n"
     ]
    }
   ],
   "source": [
    "a = input(\"Bir cümle yazınız .......: \")\n",
    "b = input(\"Tırnak içine almak istediğiniz elemanı yazınız ....: \")\n",
    "\n",
    "c = \" \"\n",
    "for i in range(len(a)):\n",
    "    if a[i:i+len(b)] == b:\n",
    "        \n",
    "        c += \"'\"+ b +\"'\"\n",
    "\n",
    "print(c)"
   ]
  },
  {
   "cell_type": "code",
   "execution_count": 3,
   "id": "fd08c19e",
   "metadata": {},
   "outputs": [
    {
     "name": "stdout",
     "output_type": "stream",
     "text": [
      "Bir cümlr giriniz ==> Malatya'da yoğun kar yağışı oldu.\n",
      "Tırnak içine alınacak eleman ==> yoğun\n",
      " Malatya'da 'yoğun' kar yağışı oldu.\n"
     ]
    }
   ],
   "source": [
    "a = input(\"Bir cümlr giriniz ==> \")\n",
    "b = input(\"Tırnak içine alınacak eleman ==> \")\n",
    "c = \" \"\n",
    "for i in range(0,len(a)):\n",
    "    if a[i:i+len(b)] == b:\n",
    "        c += a[0:i]\n",
    "        c += \"'\" + b + \"'\"\n",
    "        c += a[i+len(b):len(a)]\n",
    "print(c)\n",
    "\n",
    "          "
   ]
  },
  {
   "cell_type": "code",
   "execution_count": null,
   "id": "0ee57011",
   "metadata": {},
   "outputs": [],
   "source": [
    "a = input(\"Bir cümle giriniz ...: \")\n",
    "kelime = 1 \n",
    "for i in range(len(a)):\n",
    "    if a[i] == \" \" and a[i-1] != \" \" and i != 0:\n",
    "        kelime += 1\n",
    "print(kelime)"
   ]
  },
  {
   "cell_type": "code",
   "execution_count": 7,
   "id": "83b9c138",
   "metadata": {},
   "outputs": [
    {
     "name": "stdout",
     "output_type": "stream",
     "text": [
      "Bir cümlr giriniz ==>  Malatya'da 'yoğun' kar yağışı                 oldu.\n",
      "5\n"
     ]
    }
   ],
   "source": [
    "a = input(\"Bir cümlr giriniz ==> \")\n",
    "kelime = 1\n",
    "for i in range(len(a)):\n",
    "    if a[i] == \" \" and a[i-1] != \" \" and i != 0:\n",
    "        kelime += 1\n",
    "print(kelime)"
   ]
  },
  {
   "cell_type": "code",
   "execution_count": 9,
   "id": "d631dc85",
   "metadata": {},
   "outputs": [
    {
     "name": "stdout",
     "output_type": "stream",
     "text": [
      "Bir cümlr giriniz ==> Malatya'da 'yoğun' kar yağış oldu.\n",
      "4\n"
     ]
    }
   ],
   "source": [
    "a = input(\"Bir cümlr giriniz ==> \")\n",
    "bosluk = 0\n",
    "for i in a:\n",
    "    if i == \" \":\n",
    "        bosluk += 1\n",
    "print(bosluk)"
   ]
  },
  {
   "cell_type": "code",
   "execution_count": 14,
   "id": "5951c84c",
   "metadata": {},
   "outputs": [
    {
     "name": "stdout",
     "output_type": "stream",
     "text": [
      "Bir cümlr giriniz ==> Malatya'da 'yoğun' kar yağış oldu. Ortalama 60 cm\n",
      "kelime.....:  8\n",
      "rakam.....:  2\n",
      "bosluk.....:  7\n",
      "noktalama  işareti.....:  4\n"
     ]
    }
   ],
   "source": [
    "a = input(\"Bir cümlr giriniz ==> \")\n",
    "kelime = 1\n",
    "for i in range(len(a)):\n",
    "    if a[i] == \" \" and a[i-1] != \" \" and i != 0:\n",
    "        kelime += 1\n",
    "print(\"kelime.....: \" , kelime)\n",
    "\n",
    "rakam = 0\n",
    "for i in range(len(a)):\n",
    "    if a[i] in [\"0\",\"1\",\"2\",\"3\",\"4\",\"5\",\"6\",\"7\",\"8\",\"9\"]:\n",
    "        rakam += 1\n",
    "print(\"rakam.....: \" , rakam)  \n",
    "bosluk = 0\n",
    "for i in a:\n",
    "    if i == \" \":\n",
    "        bosluk += 1\n",
    "print(\"bosluk.....: \" , bosluk)\n",
    "nok_isrt = 0\n",
    "for i in  a:\n",
    "    if i in [\".\",\",\",\"!\",\"?\",\";\",\":\",\"-\",\"'\",\"'\",\"()\",\"...\"]:\n",
    "        nok_isrt += 1\n",
    "print(\"noktalama  işareti.....: \",nok_isrt)"
   ]
  },
  {
   "cell_type": "code",
   "execution_count": 33,
   "id": "9c92558a",
   "metadata": {},
   "outputs": [
    {
     "name": "stdout",
     "output_type": "stream",
     "text": [
      "Bir sayı giriniz.: 6\n",
      "6 ! = 720\n"
     ]
    }
   ],
   "source": [
    "sayi= int(input(\"Bir sayı giriniz.: \"))\n",
    "fak = 1\n",
    "for i in range(1,sayi + 1 ):\n",
    "    fak *= i\n",
    "       \n",
    "print(sayi,\"! =\",fak)"
   ]
  },
  {
   "cell_type": "code",
   "execution_count": 43,
   "id": "f9d42dd9",
   "metadata": {},
   "outputs": [
    {
     "name": "stdout",
     "output_type": "stream",
     "text": [
      "0  ! =  1\n",
      "1  ! =  1\n",
      "2  ! =  2\n",
      "3  ! =  6\n",
      "4  ! =  24\n",
      "5  ! =  120\n",
      "6  ! =  720\n",
      "7  ! =  5040\n",
      "8  ! =  40320\n",
      "9  ! =  362880\n",
      "10  ! =  3628800\n",
      "11  ! =  39916800\n",
      "12  ! =  479001600\n",
      "13  ! =  6227020800\n",
      "14  ! =  87178291200\n",
      "15  ! =  1307674368000\n",
      "16  ! =  20922789888000\n",
      "17  ! =  355687428096000\n",
      "18  ! =  6402373705728000\n",
      "19  ! =  121645100408832000\n",
      "20  ! =  2432902008176640000\n"
     ]
    }
   ],
   "source": [
    "def faktoriyel(sayi):\n",
    "    fak = 1\n",
    "    for i in range(sayi,1,-1):\n",
    "        fak *= i\n",
    "\n",
    "    return fak    \n",
    "for i in range(21):\n",
    "    print(str(i),\" ! = \",str(faktoriyel(i)))"
   ]
  },
  {
   "cell_type": "code",
   "execution_count": 71,
   "id": "f1067bfd",
   "metadata": {},
   "outputs": [
    {
     "name": "stdout",
     "output_type": "stream",
     "text": [
      "7\n",
      "asal adedi.....:  4\n"
     ]
    }
   ],
   "source": [
    "def asalsıralama(n):\n",
    "    asal = 1\n",
    "    i = 2\n",
    "    print(i)\n",
    "    for i in range(2,n,1):\n",
    "        if n%i != 0 and i%2 != 0:\n",
    "            asal += 1\n",
    "    return asal\n",
    "print(i)\n",
    "print(\"asal adedi.....: \",asal)"
   ]
  },
  {
   "cell_type": "code",
   "execution_count": 74,
   "id": "c680ef2b",
   "metadata": {},
   "outputs": [
    {
     "name": "stdout",
     "output_type": "stream",
     "text": [
      "n = 8\n",
      "2\n",
      "3\n",
      "5\n",
      "7\n",
      "asal adedi........:  4\n"
     ]
    }
   ],
   "source": [
    "n = int(input(\"n = \"))\n",
    "asal = 1\n",
    "i = 2\n",
    "print(i)\n",
    "for i in range(2,n,1):\n",
    "    if n%i != 0 and i%2 != 0:\n",
    "        asal += 1\n",
    "        print(i)\n",
    "print(\"asal adedi........: \",asal)"
   ]
  },
  {
   "cell_type": "code",
   "execution_count": 75,
   "id": "df06a590",
   "metadata": {},
   "outputs": [],
   "source": [
    "def Asalmi(p):\n",
    "    sonuc = 1\n",
    "    for i in range(2,p):\n",
    "        if p%i == 0:\n",
    "            sonuc = 0\n",
    "            break\n",
    "            \n",
    "    return sonuc"
   ]
  },
  {
   "cell_type": "code",
   "execution_count": 76,
   "id": "35ff770d",
   "metadata": {},
   "outputs": [
    {
     "name": "stdout",
     "output_type": "stream",
     "text": [
      "ilk kaç asal sayıyı bulalım ==> 9\n",
      "2\n",
      "3\n",
      "5\n",
      "7\n",
      "11\n",
      "13\n",
      "17\n",
      "19\n",
      "23\n"
     ]
    }
   ],
   "source": [
    "c = 0\n",
    "N = int(input(\"ilk kaç asal sayıyı bulalım ==> \"))\n",
    "sayi = 2 \n",
    "while N > c:\n",
    "    if Asalmi(sayi) == 1:\n",
    "        print(sayi)\n",
    "        c += 1\n",
    "    sayi += 1  \n"
   ]
  },
  {
   "cell_type": "code",
   "execution_count": 1,
   "id": "88094093",
   "metadata": {},
   "outputs": [
    {
     "name": "stdout",
     "output_type": "stream",
     "text": [
      "Bir sayı giriniz ==> 7\n",
      "Bir sayı giriniz ==> 8\n",
      "Toplam ==>  15\n"
     ]
    }
   ],
   "source": [
    "top = 0\n",
    "for i in range(2):\n",
    "    a = int(input(\"Bir sayı giriniz ==> \"))\n",
    "    top += a\n",
    "print(\"Toplam ==> \",top)"
   ]
  },
  {
   "cell_type": "code",
   "execution_count": 2,
   "id": "059bc61c",
   "metadata": {},
   "outputs": [
    {
     "name": "stdout",
     "output_type": "stream",
     "text": [
      "I = 6\n",
      "R = 9\n",
      "V =  54\n"
     ]
    }
   ],
   "source": [
    "I = int(input(\"I = \"))\n",
    "R = int(input(\"R = \"))\n",
    "V = I * R\n",
    "print(\"V = \",V)"
   ]
  },
  {
   "cell_type": "code",
   "execution_count": 3,
   "id": "62505272",
   "metadata": {},
   "outputs": [
    {
     "name": "stdout",
     "output_type": "stream",
     "text": [
      "Kısa kenarı giriniz ==> 6\n",
      "Uzun kenarı giriniz ==> 9\n",
      "Dikdörtgen alan ==>  54\n",
      "Dikdörtgen çevre ==>  30\n"
     ]
    }
   ],
   "source": [
    "a = int(input(\"Kısa kenarı giriniz ==> \"))\n",
    "b = int(input(\"Uzun kenarı giriniz ==> \"))\n",
    "if b > a:\n",
    "    D_alan = b*a\n",
    "    D_cevre = 2*(a + b)\n",
    "    print(\"Dikdörtgen alan ==> \",D_alan)\n",
    "    print(\"Dikdörtgen çevre ==> \",D_cevre)    \n",
    "else:\n",
    "    print(\"Tekrar değer giriniz ==>\")"
   ]
  },
  {
   "cell_type": "code",
   "execution_count": 4,
   "id": "83c54c3d",
   "metadata": {},
   "outputs": [
    {
     "name": "stdout",
     "output_type": "stream",
     "text": [
      "Yarıçap değeri ==> 5\n",
      "Dairede alan ==> 78.5\n",
      "Dairede çevre ==> 31.400000000000002\n"
     ]
    }
   ],
   "source": [
    "r = int(input(\"Yarıçap değeri ==> \"))\n",
    "pi = 3.14\n",
    "D_alan = pi*r**2\n",
    "D_cevre = 2*pi*r\n",
    "print(\"Dairede alan ==>\",D_alan)\n",
    "print(\"Dairede çevre ==>\",D_cevre)\n"
   ]
  },
  {
   "cell_type": "code",
   "execution_count": 10,
   "id": "ac05771c",
   "metadata": {},
   "outputs": [
    {
     "name": "stdout",
     "output_type": "stream",
     "text": [
      "Gün sayısını bulunuz ==> 397\n",
      "y = 1\n",
      "m =  1\n",
      "d =  2\n",
      "yıl ==>  1 ay ==>  1 Artan gün ==>  2\n"
     ]
    }
   ],
   "source": [
    "a = int(input(\"Gün sayısını bulunuz ==> \"))\n",
    "y = a // 365\n",
    "print(\"y =\",y)\n",
    "m = (a - (y*365)) // 30\n",
    "print(\"m = \",m)\n",
    "d = a-((y*365) + (m*30))\n",
    "print(\"d = \",d)\n",
    "print(\"yıl ==> \",y,\"ay ==> \",m,\"Artan gün ==> \",d)\n"
   ]
  },
  {
   "cell_type": "code",
   "execution_count": 11,
   "id": "e7a7669a",
   "metadata": {},
   "outputs": [
    {
     "name": "stdout",
     "output_type": "stream",
     "text": [
      "Öğrencinin 100'lük notunu giriniz ==> 98\n",
      "Öğrencinin 5'lik notunu giriniz ==> 4.9\n"
     ]
    }
   ],
   "source": [
    "a = int(input(\"Öğrencinin 100'lük notunu giriniz ==> \" ))\n",
    "d = a / 20\n",
    "print(\"Öğrencinin 5'lik notunu giriniz ==>\",d)"
   ]
  },
  {
   "cell_type": "code",
   "execution_count": 12,
   "id": "e1e70069",
   "metadata": {},
   "outputs": [
    {
     "name": "stdout",
     "output_type": "stream",
     "text": [
      "Fiyatı giriniz ==> 100\n",
      "KDV giriniz ==> 18\n",
      "Yeni fiyat ==>  118.0\n"
     ]
    }
   ],
   "source": [
    "f = int(input(\"Fiyatı giriniz ==> \"))\n",
    "k = int(input(\"KDV giriniz ==> \"))\n",
    "y_fiyat = f + f*k/100\n",
    "print(\"Yeni fiyat ==> \",y_fiyat)"
   ]
  },
  {
   "cell_type": "code",
   "execution_count": 18,
   "id": "3b07bd6f",
   "metadata": {},
   "outputs": [
    {
     "name": "stdout",
     "output_type": "stream",
     "text": [
      "Fiyatı giriniz ==> 100\n",
      "KDV giriniz ==> 18\n",
      "Yeni fiyat ==>  118.0\n"
     ]
    }
   ],
   "source": [
    "f = int(input(\"Fiyatı giriniz ==> \"))\n",
    "k = int(input(\"KDV giriniz ==> \"))\n",
    "y_fiyat = f + f*k/100\n",
    "print(\"Yeni fiyat ==> \",y_fiyat)"
   ]
  },
  {
   "cell_type": "code",
   "execution_count": 19,
   "id": "2d223c9c",
   "metadata": {},
   "outputs": [
    {
     "name": "stdout",
     "output_type": "stream",
     "text": [
      "Bir sayı giriniz ==> 678\n",
      "Yüzler =  6 Onlar =  7 Birler =  8\n"
     ]
    }
   ],
   "source": [
    "a = int(input(\"Bir sayı giriniz ==> \"))\n",
    "if 100 <= a < 1000:\n",
    "    y = a // 100\n",
    "    o = (a - (y*100)) // 10\n",
    "    b = a - ((y*100) + (o*10))\n",
    "print(\"Yüzler = \",y,\"Onlar = \",o,\"Birler = \",b)"
   ]
  },
  {
   "cell_type": "code",
   "execution_count": 24,
   "id": "80de822c",
   "metadata": {},
   "outputs": [
    {
     "name": "stdout",
     "output_type": "stream",
     "text": [
      "Bir sayı giriniz ==> 789\n",
      "987\n",
      "Yüzler =  9 Onlar =  8 Birler=  7\n"
     ]
    }
   ],
   "source": [
    "a = int(input(\"Bir sayı giriniz ==> \"))\n",
    "if 100 <= a < 1000:\n",
    "    y = a // 100\n",
    "    o = (a - (y*100)) // 10\n",
    "    b = a - ((y*100) + (o*10))\n",
    "    print(str(b) + str(o) + str(y))\n",
    "    print(\"Yüzler = \",b,\"Onlar = \",o,\"Birler= \",y)\n",
    "else:\n",
    "    print(\"Girdiğiniz sayının üç basamaklı olmasına dikkat ediniz!!!\")"
   ]
  },
  {
   "cell_type": "code",
   "execution_count": 26,
   "id": "4db3e3de",
   "metadata": {},
   "outputs": [
    {
     "name": "stdout",
     "output_type": "stream",
     "text": [
      "a =7\n",
      "b =9\n",
      "a =  9\n"
     ]
    }
   ],
   "source": [
    "a = input(\"a = \")\n",
    "b = input(\"b = \")\n",
    "\n",
    "a = b\n",
    "b = a\n",
    "\n",
    "print(\"a = \",a)"
   ]
  },
  {
   "cell_type": "code",
   "execution_count": 27,
   "id": "4bcc651f",
   "metadata": {},
   "outputs": [
    {
     "name": "stdout",
     "output_type": "stream",
     "text": [
      "A noktasının apsis değerini giriniz = 4\n",
      "A noktasının ordinat değerini giriniz = 6\n",
      "A_noktası =  (4,6)\n",
      "B noktasının apsis değerini giriniz = 7\n",
      "B noktasının ordinat değerini giriniz = 8\n",
      "B_noktası =  (7,8)\n",
      "C_noktası =  (10,10)\n"
     ]
    }
   ],
   "source": [
    "\n",
    "x1 = int(input(\"A noktasının apsis değerini giriniz = \"))\n",
    "y1 = int(input(\"A noktasının ordinat değerini giriniz = \"))\n",
    "A_noktası = \"(\" + str(x1) +\",\" + str(y1) + \")\"\n",
    "print(\"A_noktası = \",A_noktası)\n",
    "\n",
    "x2 = int(input(\"B noktasının apsis değerini giriniz = \"))\n",
    "y2 = int(input(\"B noktasının ordinat değerini giriniz = \"))\n",
    "\n",
    "B_noktası = \"(\" + str(x2) +\",\" + str(y2) + \")\" # orta nokta koordinatları\n",
    "print(\"B_noktası = \",B_noktası)\n",
    "\n",
    "x3 = 2*x2 - x1\n",
    "y3 = 2*y2 - y1\n",
    "\n",
    "C_noktası = \"(\" + str(x3) + \",\" + str(y3) + \")\"\n",
    "print(\"C_noktası = \",C_noktası)"
   ]
  },
  {
   "cell_type": "code",
   "execution_count": 30,
   "id": "ae5a46fc",
   "metadata": {
    "scrolled": true
   },
   "outputs": [
    {
     "name": "stdout",
     "output_type": "stream",
     "text": [
      "Sayı giriniz ==> 6\n",
      "6 , pozitiftir\n",
      "Sayı giriniz ==> 7\n",
      "7 , pozitiftir\n",
      "Sayı giriniz ==> 8\n",
      "8 , pozitiftir\n",
      "Sayı giriniz ==> 9\n",
      "9 , pozitiftir\n",
      "Sayı giriniz ==> -7898690\n",
      "-7898690 , negatiftir\n",
      "Sayı giriniz ==> -897\n",
      "-897 , negatiftir\n",
      "Sayı giriniz ==> 7\n",
      "7 , pozitiftir\n",
      "Sayı giriniz ==> 7697\n",
      "7697 , pozitiftir\n",
      "Sayı giriniz ==> 0\n",
      "0 , sıfırdır\n",
      "Sayı giriniz ==> -675\n",
      "-675 , negatiftir\n",
      "                         \n",
      "pozitif sayı adedi ==>  6\n",
      "negatif sayı adedi ==>  3\n",
      "sıfır sayı adedi ==>  1\n"
     ]
    }
   ],
   "source": [
    "p = 0\n",
    "n = 0\n",
    "s = 0\n",
    "for i in range(10):\n",
    "    a = int(input(\" Sayı giriniz ==> \"))\n",
    "    if a > 0:\n",
    "        p += 1\n",
    "        print(a,\", pozitiftir\")\n",
    "    elif a < 0:\n",
    "        n += 1\n",
    "        print(a,\", negatiftir\")\n",
    "    else:\n",
    "        s += 1\n",
    "        print(a,\", sıfırdır\")\n",
    "\n",
    "print(\"                         \")\n",
    "print(\"pozitif sayı adedi ==> \",p)\n",
    "print(\"negatif sayı adedi ==> \",n)\n",
    "print(\"sıfır sayı adedi ==> \",s)"
   ]
  },
  {
   "cell_type": "code",
   "execution_count": 36,
   "id": "f17858d0",
   "metadata": {},
   "outputs": [
    {
     "name": "stdout",
     "output_type": "stream",
     "text": [
      "Vize notu = 6\n",
      "Final notu = 88\n",
      "Tebrikler :) ,  55.199999999999996 ortalama ile geçtiniz..\n"
     ]
    }
   ],
   "source": [
    "v = int(input(\"Vize notu = \"))\n",
    "f = int(input(\"Final notu = \"))\n",
    "if f > 60:\n",
    "    ort = v*0.4 + f*0.6\n",
    "    if ort >= 55:\n",
    "        print(\"Tebrikler :) , \" ,ort,\"ortalama ile geçtiniz..\")\n",
    "    else:\n",
    "        print(ort,\"ortalama ile kaldınız..\")\n",
    "else:\n",
    "    ort = v*0.4 + f*0.6\n",
    "    print(ort,\" Büte Kaldınız :( \")"
   ]
  },
  {
   "cell_type": "code",
   "execution_count": 47,
   "id": "96fc8e33",
   "metadata": {},
   "outputs": [
    {
     "name": "stdout",
     "output_type": "stream",
     "text": [
      "a = 12\n",
      "katı\n"
     ]
    }
   ],
   "source": [
    "a = int(input(\"a = \"))\n",
    "if a % 6 == 0:\n",
    "    print(\"katı\")\n",
    "else:\n",
    "    print(\"katı değil\")"
   ]
  },
  {
   "cell_type": "code",
   "execution_count": 48,
   "id": "31c6a78d",
   "metadata": {},
   "outputs": [
    {
     "name": "stdout",
     "output_type": "stream",
     "text": [
      "a = 6\n",
      "b = 0\n",
      "c = 9\n",
      "c\n"
     ]
    }
   ],
   "source": [
    "a = int(input(\"a = \"))\n",
    "b = int(input(\"b = \"))\n",
    "c = int(input(\"c = \"))\n",
    "if a > b and a > c:\n",
    "    print(\"a\")\n",
    "elif b > a and b > c:\n",
    "    print(\"b\")\n",
    "elif c > a and c > b:\n",
    "    print(\"c\")\n",
    "else:\n",
    "    print(\"Eşitlik var\")"
   ]
  },
  {
   "cell_type": "code",
   "execution_count": 49,
   "id": "341f57e2",
   "metadata": {},
   "outputs": [
    {
     "name": "stdout",
     "output_type": "stream",
     "text": [
      "Öğrecinin notunu giriniz ==> 98\n",
      "A\n"
     ]
    }
   ],
   "source": [
    "a = int(input(\"Öğrecinin notunu giriniz ==> \"))\n",
    "if 70 <= a <= 100:\n",
    "    print(\"A\")\n",
    "elif 60 <= a < 70:\n",
    "    print(\"B\")\n",
    "elif 50 <= a < 60:\n",
    "    print(\"C\")\n",
    "elif 40 <= a < 50:\n",
    "    print(\"D\")\n",
    "else:\n",
    "    print(\"F\")"
   ]
  },
  {
   "cell_type": "code",
   "execution_count": 50,
   "id": "a1232bad",
   "metadata": {},
   "outputs": [
    {
     "name": "stdout",
     "output_type": "stream",
     "text": [
      "işçi maaşını giriniz = 3400\n",
      "çocuk sayısını giriniz = 5\n",
      "yeni_maas 3910.0\n"
     ]
    }
   ],
   "source": [
    "a = int(input(\"işçi maaşını giriniz = \"))\n",
    "b = int(input(\"çocuk sayısını giriniz = \"))\n",
    "if b ==1:\n",
    "    yeni_maas = a + a*5/100\n",
    "    print(\"yeni_maas\",yeni_maas)\n",
    "elif b ==2:\n",
    "    yeni_maas = a + a*10/100\n",
    "    print(\"yeni_maas\",yeni_maas)\n",
    "elif b >= 3:        \n",
    "    yeni_maas = a + a*15/100\n",
    "    print(\"yeni_maas\",yeni_maas)\n",
    "else:\n",
    "    print(\"yeni_maas\",a)"
   ]
  },
  {
   "cell_type": "code",
   "execution_count": 51,
   "id": "1a14e3ca",
   "metadata": {
    "scrolled": true
   },
   "outputs": [
    {
     "name": "stdout",
     "output_type": "stream",
     "text": [
      "1)Toplama\n",
      "2)Çıkarma\n",
      "3)Çarpma\n",
      "4)Bölme\n",
      "Bir işlem seçiniz = 3\n",
      "Bir sayı giriniz = 76\n",
      "Bir sayı giriniz = 90\n",
      "sonuc =  6840\n"
     ]
    }
   ],
   "source": [
    "print(\"1)Toplama\\n2)Çıkarma\\n3)Çarpma\\n4)Bölme\")\n",
    "a = int(input(\"Bir işlem seçiniz = \"))\n",
    "b = int(input(\"Bir sayı giriniz = \"))\n",
    "c = int(input(\"Bir sayı giriniz = \"))\n",
    "if a == 1:\n",
    "    sonuc = b + c\n",
    "    print(\"sonuc = \",sonuc)\n",
    "elif a == 2:\n",
    "    sonuc = b - c\n",
    "    print(\"sonuc = \",sonuc)\n",
    "elif a == 3:\n",
    "    sonuc = b * c\n",
    "    print(\"sonuc = \",sonuc)\n",
    "else:\n",
    "    sonuc = b / c\n",
    "    print(\"sonuc = \",sonuc)\n"
   ]
  },
  {
   "cell_type": "code",
   "execution_count": 52,
   "id": "176b5019",
   "metadata": {
    "scrolled": true
   },
   "outputs": [
    {
     "name": "stdout",
     "output_type": "stream",
     "text": [
      "a değerini giriniz = 4\n",
      "b değerini giriniz = 8\n",
      "c değerini giriniz = 23\n",
      "x1 değerini giriniz = 9\n",
      "y1 değerini giriniz = 11\n",
      "yarıçap giriniz = 10\n",
      "d doğrusu =  4x + 8y + 23\n",
      "M =  (9,11)\n",
      "d1 =  0.91875\n",
      "doğru çemberi kesiyor\n"
     ]
    }
   ],
   "source": [
    "a = int(input(\"a değerini giriniz = \"))\n",
    "b = int(input(\"b değerini giriniz = \"))\n",
    "c = int(input(\"c değerini giriniz = \"))\n",
    "x1 = int(input(\"x1 değerini giriniz = \"))\n",
    "y1 = int(input(\"y1 değerini giriniz = \"))\n",
    "r = int(input(\"yarıçap giriniz = \"))\n",
    "d = str(a) + \"x\" + \" + \" + str(b) + \"y\"+ \" + \" + str(c)\n",
    "M = \"(\" + str(x1) + \",\" + str(y1) + \")\"\n",
    "print(\"d doğrusu = \",d)\n",
    "print(\"M = \",M)\n",
    "\n",
    "d1 = abs(a*x1 + b*y1 + c) / (a**2 + b**2)**1/2\n",
    "print(\"d1 = \",d1)\n",
    "\n",
    "if d1 > r:\n",
    "    print(\"Doğru çemberi kesmiyor\")\n",
    "elif r == d1:\n",
    "    print(\"Doğru çembere teğet\")\n",
    "else:\n",
    "    print(\"doğru çemberi kesiyor\")\n",
    "\n"
   ]
  },
  {
   "cell_type": "code",
   "execution_count": 56,
   "id": "7c497209",
   "metadata": {},
   "outputs": [
    {
     "name": "stdout",
     "output_type": "stream",
     "text": [
      "a = 5\n",
      "a = 6\n",
      "a = 7\n",
      "a = 8\n",
      "a = 9\n",
      "7.0\n",
      "35\n"
     ]
    }
   ],
   "source": [
    "top = 0\n",
    "for i in range(5):\n",
    "    a = int(input(\"a = \"))\n",
    "    top += a\n",
    "ort = top / 5\n",
    "print(ort)\n",
    "print(top)"
   ]
  },
  {
   "cell_type": "code",
   "execution_count": 61,
   "id": "ef1a30d6",
   "metadata": {},
   "outputs": [
    {
     "name": "stdout",
     "output_type": "stream",
     "text": [
      "a = 5\n",
      "a = 9\n",
      "a = 7\n",
      "a = 87\n",
      "a = -6\n",
      "87\n",
      "-6\n"
     ]
    }
   ],
   "source": [
    "min = 0\n",
    "max = 0\n",
    "for i in range(5):\n",
    "    a = int(input(\"a = \"))\n",
    "    if a > max:\n",
    "        max = a\n",
    "    elif a < min:\n",
    "        min = a\n",
    "print(max)\n",
    "print(min)\n",
    "    "
   ]
  },
  {
   "cell_type": "code",
   "execution_count": 65,
   "id": "1543415e",
   "metadata": {},
   "outputs": [
    {
     "name": "stdout",
     "output_type": "stream",
     "text": [
      "b = -689\n",
      "a = -578638046\n",
      "a = -8359768045678\n",
      "a = -1\n",
      "a = -54\n",
      "-1\n",
      "-8359768045678\n"
     ]
    }
   ],
   "source": [
    "b = int(input(\"b = \"))\n",
    "min = b\n",
    "max = b\n",
    "for i in range(4):\n",
    "    a = int(input(\"a = \"))\n",
    "    if a > max:\n",
    "        max = a\n",
    "    elif a < min:\n",
    "        min = a\n",
    "print(max)\n",
    "print(min)"
   ]
  },
  {
   "cell_type": "code",
   "execution_count": 68,
   "id": "f8abff02",
   "metadata": {},
   "outputs": [
    {
     "name": "stdout",
     "output_type": "stream",
     "text": [
      "n = 14\n",
      "1\n",
      "3\n",
      "5\n",
      "7\n",
      "9\n",
      "11\n",
      "13\n"
     ]
    }
   ],
   "source": [
    "n = int(input(\"n = \"))\n",
    "for i in range(1,n + 1,1):\n",
    "    if i % 2 != 0:\n",
    "        print(i)"
   ]
  },
  {
   "cell_type": "code",
   "execution_count": 67,
   "id": "5408d5e5",
   "metadata": {},
   "outputs": [
    {
     "name": "stdout",
     "output_type": "stream",
     "text": [
      "a = -768\n",
      "a = -1\n",
      "a = -3578\n",
      "a = -89\n",
      "a = -59\n",
      "max =  -1  min =  -3578\n"
     ]
    }
   ],
   "source": [
    "min = a\n",
    "max = a\n",
    "for i in range(5):\n",
    "    a = int(input(\"a = \"))\n",
    "    if a > max:\n",
    "        max = a\n",
    "    elif a < min:\n",
    "        min = a\n",
    "print(\"max = \",max,\" min = \",min)"
   ]
  },
  {
   "cell_type": "code",
   "execution_count": 71,
   "id": "7b002008",
   "metadata": {},
   "outputs": [
    {
     "name": "stdout",
     "output_type": "stream",
     "text": [
      "n = 20\n",
      "1\n",
      "2\n",
      "4\n",
      "5\n",
      "10\n",
      "20\n",
      "c =  6\n"
     ]
    }
   ],
   "source": [
    "n = int(input(\"n = \"))\n",
    "c = 0\n",
    "for i in range(1,n + 1,1):\n",
    "    if n % i == 0:\n",
    "        c += 1   \n",
    "        print(i)\n",
    "print(\"c = \",c)"
   ]
  },
  {
   "cell_type": "code",
   "execution_count": 72,
   "id": "077b36cb",
   "metadata": {},
   "outputs": [
    {
     "name": "stdout",
     "output_type": "stream",
     "text": [
      "a = 3\n",
      "b = 6\n",
      "c =  729\n"
     ]
    }
   ],
   "source": [
    "a = int(input(\"a = \"))\n",
    "b = int(input(\"b = \"))\n",
    "c = a ** b\n",
    "print(\"c = \",c)"
   ]
  },
  {
   "cell_type": "code",
   "execution_count": 74,
   "id": "f75978a9",
   "metadata": {},
   "outputs": [
    {
     "name": "stdout",
     "output_type": "stream",
     "text": [
      "n = 9\n",
      "top =  25\n",
      "carp =  384\n"
     ]
    }
   ],
   "source": [
    "n = int(input(\"n = \"))\n",
    "top = 0\n",
    "carp = 1\n",
    "for i in range(1,n + 1,1):\n",
    "    if i % 2 != 0:\n",
    "        top += i   \n",
    "    else:\n",
    "        carp *= i\n",
    "print(\"top = \",top)\n",
    "print(\"carp = \",carp)"
   ]
  },
  {
   "cell_type": "code",
   "execution_count": 79,
   "id": "184f9e81",
   "metadata": {},
   "outputs": [
    {
     "name": "stdout",
     "output_type": "stream",
     "text": [
      "sayi = 5\n",
      "fak =  120\n"
     ]
    }
   ],
   "source": [
    "sayi = int(input(\"sayi = \"))\n",
    "fak = 1\n",
    "for i in range(1,sayi + 1,1):\n",
    "    fak *= i\n",
    "print(\"fak = \",fak)"
   ]
  },
  {
   "cell_type": "code",
   "execution_count": 84,
   "id": "70680139",
   "metadata": {},
   "outputs": [
    {
     "name": "stdout",
     "output_type": "stream",
     "text": [
      "serinin ilk elemanı = 4\n",
      "toplam eleman sayısı = 7\n",
      "artış miktarı = 2\n",
      "i 4\n",
      "i 6\n",
      "i 8\n",
      "i 10\n",
      "top 28\n"
     ]
    }
   ],
   "source": [
    "a = int(input(\"serinin ilk elemanı = \"))\n",
    "b = int(input(\"toplam eleman sayısı = \"))\n",
    "c = int(input(\"artış miktarı = \"))\n",
    "top = 0\n",
    "for i in range(a,a + b + 1,c):\n",
    "    top += i\n",
    "    print(\"i\",i)\n",
    "print(\"top\",top)"
   ]
  },
  {
   "cell_type": "code",
   "execution_count": 88,
   "id": "a246c196",
   "metadata": {},
   "outputs": [
    {
     "name": "stdout",
     "output_type": "stream",
     "text": [
      "n = 8\n",
      "0 1 1 2 3 5 8 13 21 "
     ]
    }
   ],
   "source": [
    "n = int(input(\"n = \"))\n",
    "a = 0\n",
    "print(a, end = \" \")\n",
    "b =1\n",
    "print(b, end = \" \")\n",
    "\n",
    "for i in range(n-1):\n",
    "    \n",
    "    f = a + b\n",
    "    print(f, end = \" \")\n",
    "    \n",
    "    a = b\n",
    "    b = f\n"
   ]
  },
  {
   "cell_type": "code",
   "execution_count": 90,
   "id": "22c8ed85",
   "metadata": {},
   "outputs": [
    {
     "name": "stdout",
     "output_type": "stream",
     "text": [
      "Bir sayı giriniz = 14\n",
      "asal değil\n"
     ]
    }
   ],
   "source": [
    "a = int(input(\"Bir sayı giriniz = \"))\n",
    "asal = 0\n",
    "for i in range(1,a + 1,1):\n",
    "    if a % i == 0:\n",
    "        asal = 0\n",
    "        break\n",
    "if asal == 1:\n",
    "    print(\"asal\")\n",
    "else:\n",
    "    print(\"asal değil\")"
   ]
  },
  {
   "cell_type": "code",
   "execution_count": 94,
   "id": "17b7699e",
   "metadata": {},
   "outputs": [
    {
     "name": "stdout",
     "output_type": "stream",
     "text": [
      "Bir sayı giriniz = 8\n",
      "i =  1\n",
      "i =  2\n",
      "i =  4\n",
      "i =  8\n",
      "asal =  4\n"
     ]
    }
   ],
   "source": [
    "a = int(input(\"Bir sayı giriniz = \"))\n",
    "asal = 0\n",
    "for i in range(1,a + 1,1):\n",
    "    if a % i == 0:\n",
    "        asal += 1\n",
    "        print(\"i = \",i)\n",
    "print(\"asal = \",asal)"
   ]
  },
  {
   "cell_type": "code",
   "execution_count": 97,
   "id": "ea3b7371",
   "metadata": {},
   "outputs": [
    {
     "name": "stdout",
     "output_type": "stream",
     "text": [
      "n = 765\n",
      "carpım 1\n",
      "210\n",
      "carpım 1\n",
      "0\n"
     ]
    }
   ],
   "source": [
    "n = int(input(\"n = \"))\n",
    "while n > 9:\n",
    "    carpım = 1\n",
    "    while n > 0:\n",
    "        sonhane = int(n%10)\n",
    "        carpım *= sonhane\n",
    "        n = (n - sonhane) / 10\n",
    "    print(carpım)\n",
    "    n = carpım"
   ]
  },
  {
   "cell_type": "code",
   "execution_count": 98,
   "id": "4629e1e0",
   "metadata": {},
   "outputs": [
    {
     "name": "stdout",
     "output_type": "stream",
     "text": [
      "Lütfen sin değerini giriniz........: 89\n",
      "89 değeri [(3)**1/2/2,1] aralığındadır.\n"
     ]
    }
   ],
   "source": [
    "a = int(input(\"Lütfen sin değerini giriniz........: \"))\n",
    "\n",
    "if 0 <= a <= 30:\n",
    "    print(a,\"değeri [0,1/2] aralığındadır.\")\n",
    "elif 30 <= a <= 45:\n",
    "    print(a,\"değeri [1/2,1/(2)**1/2] aralığındadır.\")\n",
    "elif 45 <= a <= 60:\n",
    "    print(a,\"değeri [1/(2)**1/2,(3)**1/2/2] aralığındadır.\")\n",
    "elif 60 <= a <= 90:\n",
    "    print(a,\"değeri [(3)**1/2/2,1] aralığındadır.\")\n",
    "else:\n",
    "    print(\"Lütfen girdiğiniz değerin [0,90] aralığında olmasına dikkat ediniz....... \")\n",
    "    "
   ]
  },
  {
   "cell_type": "code",
   "execution_count": 101,
   "id": "8b2d1a2c",
   "metadata": {},
   "outputs": [
    {
     "name": "stdout",
     "output_type": "stream",
     "text": [
      "Bir sayı giriniz : 45\n",
      "1 0 1 1 0 1  \n"
     ]
    }
   ],
   "source": [
    "x = int(input(\"Bir sayı giriniz : \"))\n",
    "sonuc = \" \"\n",
    "while x > 0:\n",
    "    kalan = x % 2\n",
    "    a = str(kalan)\n",
    "    sonuc = a + \" \" + sonuc\n",
    "    x = x // 2\n",
    "    \n",
    "print(sonuc)\n"
   ]
  },
  {
   "cell_type": "code",
   "execution_count": 105,
   "id": "84ad6617",
   "metadata": {},
   "outputs": [
    {
     "name": "stdout",
     "output_type": "stream",
     "text": [
      "Bir sayı giriniz : 56\n",
      "1 1 1 0 0 0  \n"
     ]
    }
   ],
   "source": [
    "x = int(input(\"Bir sayı giriniz : \"))\n",
    "sonuc = \" \"\n",
    "while x > 0:\n",
    "    kalan = x % 2\n",
    "    a = str(kalan)\n",
    "    sonuc = a + \" \" + sonuc \n",
    "    x = x // 2\n",
    "print(sonuc)"
   ]
  },
  {
   "cell_type": "code",
   "execution_count": 109,
   "id": "4951d22c",
   "metadata": {},
   "outputs": [
    {
     "name": "stdout",
     "output_type": "stream",
     "text": [
      "x = 3\n",
      "1 1  \n"
     ]
    }
   ],
   "source": [
    "x = int(input(\"x = \"))\n",
    "sonuc = \" \"\n",
    "while x > 0:\n",
    "    kalan = x % 2\n",
    "    a = str(kalan)\n",
    "    sonuc = a + \" \" + sonuc\n",
    "    x = x // 2\n",
    "print(sonuc)"
   ]
  },
  {
   "cell_type": "code",
   "execution_count": 123,
   "id": "89927744",
   "metadata": {},
   "outputs": [
    {
     "name": "stdout",
     "output_type": "stream",
     "text": [
      "n = 56\n"
     ]
    }
   ],
   "source": [
    "n = int(input(\"n = \"))\n",
    "while n > 9:\n",
    "    carpım = 1\n",
    "    while n > 0:\n",
    "        sonhane = int(n%10)\n",
    "        carpım *= sonhane\n",
    "        n = (n - sonhane) / 10\n",
    "    print(carpım)\n",
    "    n = carpım"
   ]
  },
  {
   "cell_type": "code",
   "execution_count": 124,
   "id": "2a753a7e",
   "metadata": {},
   "outputs": [
    {
     "name": "stdout",
     "output_type": "stream",
     "text": [
      "n = 45\n",
      "20\n",
      "0\n"
     ]
    }
   ],
   "source": [
    "n = int(input(\"n = \"))\n",
    "while n > 9:\n",
    "    carpım = 1\n",
    "    while n > 0:\n",
    "        sonhane = int(n%10)\n",
    "        carpım *= sonhane\n",
    "        n = (n - sonhane) / 10\n",
    "    print(carpım)\n",
    "    n = carpım"
   ]
  },
  {
   "cell_type": "code",
   "execution_count": 128,
   "id": "d1b716cd",
   "metadata": {},
   "outputs": [
    {
     "name": "stdout",
     "output_type": "stream",
     "text": [
      "x = 101\n",
      "5\n"
     ]
    }
   ],
   "source": [
    "x = input(\"x = \")\n",
    "y = len(x)\n",
    "sonuc = 0\n",
    "for ch in x:\n",
    "    y -= 1\n",
    "    if ch == \"1\":\n",
    "        sonuc = sonuc + 2**y\n",
    "print(sonuc)"
   ]
  },
  {
   "cell_type": "code",
   "execution_count": 130,
   "id": "d50a03cf",
   "metadata": {},
   "outputs": [
    {
     "name": "stdout",
     "output_type": "stream",
     "text": [
      "x = 101\n",
      "5\n"
     ]
    }
   ],
   "source": [
    "x = input(\"x = \")\n",
    "y = len(x)\n",
    "sonuc = 0\n",
    "for i in x:\n",
    "    y -= 1\n",
    "    if i == \"1\":\n",
    "        sonuc = sonuc + 2 ** y \n",
    "print(sonuc)"
   ]
  },
  {
   "cell_type": "code",
   "execution_count": 3,
   "id": "cfe03388",
   "metadata": {},
   "outputs": [
    {
     "name": "stdout",
     "output_type": "stream",
     "text": [
      "İlk x terim = 34\n",
      "Olmayacak sayı = 7\n",
      "0 1 2 3 4 5 6 8 9 10 11 12 13 14 15 16 18 19 20 21 22 23 24 25 26 28 29 30 31 32 33 "
     ]
    }
   ],
   "source": [
    "x = input(\"İlk x terim = \")\n",
    "y = input(\"Olmayacak sayı = \")\n",
    "a = int(x)\n",
    "\n",
    "for i in range(a):\n",
    "    i = str(i)\n",
    "    kontrol = 0\n",
    "    for j in i:\n",
    "        if j== y:\n",
    "            kontrol = 1\n",
    "    if kontrol == 0:\n",
    "        print(i,end = \" \")\n",
    "    else:\n",
    "        kontrol = 0"
   ]
  },
  {
   "cell_type": "code",
   "execution_count": 2,
   "id": "ae82b13d",
   "metadata": {},
   "outputs": [
    {
     "name": "stdout",
     "output_type": "stream",
     "text": [
      "x = 10101\n",
      "21\n"
     ]
    }
   ],
   "source": [
    "x = input(\"x = \")\n",
    "y = len(x)\n",
    "sonuc = 0\n",
    "for i in x:\n",
    "    y -= 1\n",
    "    if i == \"1\":\n",
    "        sonuc = sonuc  + 2 ** y\n",
    "print(sonuc)"
   ]
  },
  {
   "cell_type": "code",
   "execution_count": 4,
   "id": "56af87bd",
   "metadata": {},
   "outputs": [
    {
     "name": "stdout",
     "output_type": "stream",
     "text": [
      "x = 234689849489975323600154662000\n",
      "234689849489975323600154662000  sayısı  30 basamaklıdır...\n"
     ]
    }
   ],
   "source": [
    "x = input(\"x = \")\n",
    "y = len(x)\n",
    "print(x,\" sayısı \",y,\"basamaklıdır...\")"
   ]
  },
  {
   "cell_type": "code",
   "execution_count": 6,
   "id": "4c3b0bf6",
   "metadata": {},
   "outputs": [
    {
     "name": "stdout",
     "output_type": "stream",
     "text": [
      "x = 164867851316879765444555555555555555544444444\n",
      "164867851316879765444555555555555555544444444 sayısı 45 basamaklıdır...\n"
     ]
    }
   ],
   "source": [
    "x = input(\"x = \")\n",
    "c = 0\n",
    "for i in x:\n",
    "    c += 1\n",
    "print(x,\"sayısı\",c,\"basamaklıdır...\")"
   ]
  },
  {
   "cell_type": "code",
   "execution_count": null,
   "id": "754a6daf",
   "metadata": {},
   "outputs": [],
   "source": [
    "x = input(\"İlk x terim = \")\n",
    "y = input(\"Olmayacak sayı = \")\n",
    "a = int(x)\n",
    "\n",
    "for i in range(a):\n",
    "    i = str(i)\n",
    "    kontrol = 0\n",
    "    for j in i:\n",
    "        if j== y:\n",
    "            kontrol = 1\n",
    "    if kontrol == 0:\n",
    "        print(i,end = \" \")\n",
    "    else:\n",
    "        kontrol = 0"
   ]
  },
  {
   "cell_type": "code",
   "execution_count": 2,
   "id": "8a9d3b96",
   "metadata": {},
   "outputs": [
    {
     "name": "stdout",
     "output_type": "stream",
     "text": [
      "n = 76\n",
      "1 0 0 1 1 0 0  \n"
     ]
    }
   ],
   "source": [
    "n = int(input(\"n = \"))\n",
    "sonuc = \" \"\n",
    "while n > 0:\n",
    "    kalan = n % 2\n",
    "    a = str(kalan)\n",
    "    sonuc = a + \" \" + sonuc\n",
    "    n = n // 2\n",
    "print(sonuc)"
   ]
  },
  {
   "cell_type": "code",
   "execution_count": 4,
   "id": "771deea8",
   "metadata": {},
   "outputs": [
    {
     "name": "stdout",
     "output_type": "stream",
     "text": [
      "x = 101\n",
      "5\n"
     ]
    }
   ],
   "source": [
    "x = input(\"x = \")\n",
    "y = len(x)\n",
    "sonuc = 0\n",
    "for i in x:\n",
    "    y -=1\n",
    "    if i == \"1\":\n",
    "        sonuc = sonuc + 2**y\n",
    "print(sonuc)"
   ]
  },
  {
   "cell_type": "code",
   "execution_count": 10,
   "id": "6ec1f958",
   "metadata": {},
   "outputs": [
    {
     "name": "stdout",
     "output_type": "stream",
     "text": [
      "x = 23\n",
      "6\n"
     ]
    }
   ],
   "source": [
    "x = int(input(\"x = \"))\n",
    "while x > 9:\n",
    "    carpım = 1\n",
    "    while x >0:\n",
    "        sonhane = int(x % 10)\n",
    "        carpım *= sonhane\n",
    "        x = (x -sonhane)  / 10\n",
    "    print(carpım)\n",
    "    x = carpım"
   ]
  },
  {
   "cell_type": "code",
   "execution_count": 8,
   "id": "6e9e7259",
   "metadata": {},
   "outputs": [
    {
     "name": "stdout",
     "output_type": "stream",
     "text": [
      "n = 34\n",
      "12\n",
      "2\n"
     ]
    }
   ],
   "source": [
    "n = int(input(\"n = \"))\n",
    "while n > 9:\n",
    "    carpım = 1\n",
    "    while n > 0:\n",
    "        sonhane = int(n%10)\n",
    "        carpım *= sonhane\n",
    "        n = (n - sonhane) / 10\n",
    "    print(carpım)\n",
    "    n = carpım"
   ]
  },
  {
   "cell_type": "code",
   "execution_count": 12,
   "id": "ac91c288",
   "metadata": {},
   "outputs": [
    {
     "name": "stdout",
     "output_type": "stream",
     "text": [
      "x = 687585858588558788548579247896586846289798\n",
      "687585858588558788548579247896586846289798 sayısı 42 basamaklıdır\n"
     ]
    }
   ],
   "source": [
    "x = input(\"x = \")\n",
    "print(x,\"sayısı\",len(x),\"basamaklıdır\")"
   ]
  },
  {
   "cell_type": "code",
   "execution_count": 14,
   "id": "745c6b28",
   "metadata": {},
   "outputs": [
    {
     "name": "stdout",
     "output_type": "stream",
     "text": [
      "x = 4635555555555575653517723473574367891212734655555475345645623645366666666665126354545454543661215634216421578435675867439000000000457777777776263\n",
      "Sayı 145 basamaklıdır\n"
     ]
    }
   ],
   "source": [
    "x = input(\"x = \")\n",
    "c = 0\n",
    "for i in x:\n",
    "    c += 1\n",
    "print(\"Sayı\",c,\"basamaklıdır\")"
   ]
  },
  {
   "cell_type": "code",
   "execution_count": 17,
   "id": "18b9e7ba",
   "metadata": {},
   "outputs": [
    {
     "name": "stdout",
     "output_type": "stream",
     "text": [
      "İlk x terim = 89\n",
      "Olmayacak sayı = 8\n",
      "0 1 2 3 4 5 6 7 9 10 11 12 13 14 15 16 17 19 20 21 22 23 24 25 26 27 29 30 31 32 33 34 35 36 37 39 40 41 42 43 44 45 46 47 49 50 51 52 53 54 55 56 57 59 60 61 62 63 64 65 66 67 69 70 71 72 73 74 75 76 77 79 "
     ]
    }
   ],
   "source": [
    "x = input(\"İlk x terim = \")\n",
    "y = input(\"Olmayacak sayı = \")\n",
    "a = int(x)\n",
    "\n",
    "for i in range(a):\n",
    "    i = str(i)\n",
    "    kontrol = 0\n",
    "    for j in i:\n",
    "        if j== y:\n",
    "            kontrol = 1\n",
    "    if kontrol == 0:\n",
    "        print(i,end = \" \")\n",
    "    else:\n",
    "        kontrol = 0"
   ]
  },
  {
   "cell_type": "code",
   "execution_count": 18,
   "id": "74f59aba",
   "metadata": {},
   "outputs": [
    {
     "name": "stdout",
     "output_type": "stream",
     "text": [
      "x = 56\n",
      "y = 5\n",
      "0 1 2 3 4 6 7 8 9 10 11 12 13 14 16 17 18 19 20 21 22 23 24 26 27 28 29 30 31 32 33 34 36 37 38 39 40 41 42 43 44 46 47 48 49 "
     ]
    }
   ],
   "source": [
    "x = input(\"x = \")\n",
    "y = input(\"y = \")\n",
    "a = int(x)\n",
    "for i in range(a):\n",
    "    i = str(i)\n",
    "    kontrol = 0\n",
    "    for j in i:\n",
    "        if j ==y:\n",
    "            kontrol = 1\n",
    "    if kontrol  == 0:\n",
    "        print(i,end = \" \")\n",
    "    else:\n",
    "        kontrol = 0"
   ]
  },
  {
   "cell_type": "code",
   "execution_count": 21,
   "id": "0cb8e96c",
   "metadata": {},
   "outputs": [
    {
     "name": "stdout",
     "output_type": "stream",
     "text": [
      "yükseklik = 100\n",
      "yükseklik yüzdesi = 20\n"
     ]
    },
    {
     "data": {
      "text/plain": [
       "148.6"
      ]
     },
     "execution_count": 21,
     "metadata": {},
     "output_type": "execute_result"
    }
   ],
   "source": [
    "x = int(input(\"yükseklik = \"))\n",
    "y = int(input(\"yükseklik yüzdesi = \"))\n",
    "\n",
    "sonuc = x\n",
    "while x > 1:\n",
    "    x = x*(y/100)\n",
    "    sonuc = sonuc + 2*x\n",
    "sonuc= sonuc -1\n",
    "sonuc"
   ]
  },
  {
   "cell_type": "code",
   "execution_count": 29,
   "id": "b66d6c2f",
   "metadata": {},
   "outputs": [
    {
     "name": "stdout",
     "output_type": "stream",
     "text": [
      "x = 45\n",
      "45 listede yok\n"
     ]
    }
   ],
   "source": [
    "L = [1,23,3,4,5,6]\n",
    "x = int(input(\"x = \"))\n",
    "c = 0\n",
    "for i in L:\n",
    "    if i == x:\n",
    "        c =1\n",
    "if c == 0:\n",
    "    print(x,\"listede yok\")\n",
    "else:\n",
    "    print(x,\"listede\")"
   ]
  },
  {
   "cell_type": "code",
   "execution_count": 2,
   "id": "a13b9db8",
   "metadata": {},
   "outputs": [
    {
     "name": "stdout",
     "output_type": "stream",
     "text": [
      "sıralı değil\n",
      "[60, 0, 56, 4, -4, 7]\n",
      "[0, 56, 4, -4, 7, 60]\n",
      "[0, 4, -4, 7, 56, 60]\n",
      "[0, -4, 4, 7, 56, 60]\n",
      "[-4, 0, 4, 7, 56, 60]\n"
     ]
    }
   ],
   "source": [
    "L = [60,0,56,4,-4,7]\n",
    "print(\"sıralı değil\")\n",
    "for j in range(0,len(L)-1):\n",
    "    print(L)\n",
    "    for i in range(0,len(L)-1):\n",
    "        if L[i] > L[i+1]:\n",
    "            a = L[i+1]\n",
    "            L[i+1] = L[i]\n",
    "            L[i] = a\n",
    "            "
   ]
  },
  {
   "cell_type": "code",
   "execution_count": null,
   "id": "ff9f9caf",
   "metadata": {},
   "outputs": [],
   "source": [
    "def harfnotu(sayi):\n",
    "    if "
   ]
  },
  {
   "cell_type": "code",
   "execution_count": null,
   "id": "0705f82b",
   "metadata": {},
   "outputs": [],
   "source": []
  }
 ],
 "metadata": {
  "kernelspec": {
   "display_name": "Python 3.9.12 ('base')",
   "language": "python",
   "name": "python3"
  },
  "language_info": {
   "codemirror_mode": {
    "name": "ipython",
    "version": 3
   },
   "file_extension": ".py",
   "mimetype": "text/x-python",
   "name": "python",
   "nbconvert_exporter": "python",
   "pygments_lexer": "ipython3",
   "version": "3.9.12"
  },
  "vscode": {
   "interpreter": {
    "hash": "1e854b30af4d22ca3d790366190bafa345d2aab608baadce5c3678fe3d7b708e"
   }
  }
 },
 "nbformat": 4,
 "nbformat_minor": 5
}
