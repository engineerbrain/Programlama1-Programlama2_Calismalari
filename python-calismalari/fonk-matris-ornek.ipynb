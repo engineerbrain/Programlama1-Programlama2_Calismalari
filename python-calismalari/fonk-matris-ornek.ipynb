{
 "cells": [
  {
   "cell_type": "code",
   "execution_count": 55,
   "id": "dbe5f2cf",
   "metadata": {},
   "outputs": [
    {
     "name": "stdout",
     "output_type": "stream",
     "text": [
      "Bir sayı giriniz3\n",
      "3! = 6\n"
     ]
    }
   ],
   "source": [
    "sayi = int(input(\"Bir sayı giriniz\"))\n",
    "faktoriyel = 1\n",
    "for i in range(1,sayi + 1):\n",
    "        faktoriyel *= i\n",
    "print(f\"{sayi}! = {faktoriyel}\")"
   ]
  },
  {
   "cell_type": "code",
   "execution_count": 57,
   "id": "0c61f279",
   "metadata": {},
   "outputs": [],
   "source": [
    "def faktoriyel(sayi):\n",
    "    sonuc = 1\n",
    "    for i in range(sayi,1,-1):\n",
    "        sonuc *= i\n",
    "    return sonuc"
   ]
  },
  {
   "cell_type": "code",
   "execution_count": 59,
   "id": "ddb4d56a",
   "metadata": {},
   "outputs": [
    {
     "name": "stdout",
     "output_type": "stream",
     "text": [
      "0 ! = 1\n",
      "1 ! = 1\n",
      "2 ! = 2\n",
      "3 ! = 6\n",
      "4 ! = 24\n",
      "5 ! = 120\n",
      "6 ! = 720\n",
      "7 ! = 5040\n",
      "8 ! = 40320\n",
      "9 ! = 362880\n"
     ]
    }
   ],
   "source": [
    "for i in range(10):\n",
    "    print(str(i),\"! =\",str(faktoriyel(i)))"
   ]
  },
  {
   "cell_type": "code",
   "execution_count": 82,
   "id": "a369ad28",
   "metadata": {},
   "outputs": [
    {
     "name": "stdout",
     "output_type": "stream",
     "text": [
      "Bir sayı giriniz=4\n",
      "4 ! = 24\n"
     ]
    }
   ],
   "source": [
    "sayi = int(input(\"Bir sayı giriniz=\"))\n",
    "faktoriyel = 1\n",
    "i = 2\n",
    "while i <= sayi:\n",
    "    faktoriyel *= i\n",
    "    i += 1\n",
    "print(f\"{sayi} ! = {faktoriyel}\")"
   ]
  },
  {
   "cell_type": "code",
   "execution_count": 81,
   "id": "765ce4e8",
   "metadata": {},
   "outputs": [
    {
     "name": "stdout",
     "output_type": "stream",
     "text": [
      "Bir sayı giriniz=3\n",
      "6\n"
     ]
    }
   ],
   "source": [
    "sayi = int(input(\"Bir sayı giriniz=\"))\n",
    "faktoriyel = 1\n",
    "for i in range(1,sayi + 1):\n",
    "    faktoriyel *= i\n",
    "print(faktoriyel)"
   ]
  },
  {
   "cell_type": "code",
   "execution_count": 69,
   "id": "1caed030",
   "metadata": {},
   "outputs": [],
   "source": [
    "def faktoriyel(sayi):                  \n",
    "    sonuc = 1                           \n",
    "    for i in range(sayi,1,-1):\n",
    "        sonuc *= i\n",
    "    return sonuc\n",
    "    \n",
    "    \n",
    "    #def faktoriyel(sayi):\n",
    "    #sonuc = 1\n",
    "   # for i in range(sayi,1,-1):\n",
    "    #    sonuc *= i\n",
    "    #return sonuc\n",
    "                                    "
   ]
  },
  {
   "cell_type": "code",
   "execution_count": 70,
   "id": "0fc9fcd0",
   "metadata": {},
   "outputs": [
    {
     "name": "stdout",
     "output_type": "stream",
     "text": [
      "0 ! = 1\n",
      "1 ! = 1\n",
      "2 ! = 2\n",
      "3 ! = 6\n",
      "4 ! = 24\n",
      "5 ! = 120\n",
      "6 ! = 720\n",
      "7 ! = 5040\n",
      "8 ! = 40320\n",
      "9 ! = 362880\n"
     ]
    }
   ],
   "source": [
    "for i in range(10):\n",
    "    print(str(i),\"! =\",str(faktoriyel(i)))"
   ]
  },
  {
   "cell_type": "code",
   "execution_count": 71,
   "id": "da6ace05",
   "metadata": {},
   "outputs": [
    {
     "name": "stdout",
     "output_type": "stream",
     "text": [
      "Bir sayı giriniz=6\n",
      "6 ! = 720\n"
     ]
    }
   ],
   "source": [
    "sayi = int(input(\"Bir sayı giriniz=\"))\n",
    "faktoriyel = 1\n",
    "i = 2\n",
    "while i < sayi + 1:\n",
    "    faktoriyel *= i\n",
    "    i +=1\n",
    "print(f\"{sayi} ! = {faktoriyel}\")"
   ]
  },
  {
   "cell_type": "code",
   "execution_count": 4,
   "id": "4cf74e39",
   "metadata": {},
   "outputs": [
    {
     "name": "stdout",
     "output_type": "stream",
     "text": [
      "Saati Giriniz : 6\n",
      "Dakikayı Giriniz : 9\n",
      "Saat  6 9  geçiyor.\n"
     ]
    }
   ],
   "source": [
    "# SORU 1:\n",
    "# Saati söyleyen programı yazınız. (24 saate göre)\n",
    "x=int(input(\"Saati Giriniz : \"))\n",
    "y=int(input(\"Dakikayı Giriniz : \"))\n",
    "if(x<0 or x>23):\n",
    "    print(\"Geçerli bir saat girmediniz\")\n",
    "elif (y<0 or y>59):\n",
    "    print(\"Geçerli bir saat girmediniz\")\n",
    "else:\n",
    "    if(y==0):\n",
    "        print(\"Saat \",x)\n",
    "    if(y==15):\n",
    "        print(\"Saat \",x,\" çeyrek geçiyor.\")\n",
    "    if(y==30):\n",
    "        print(\"Saat \",x,\" buçuk.\")\n",
    "    if(y==45):\n",
    "        print(\"Saat \",x+1,\" çeyrek var.\")\n",
    "    if(y>0 and y<30):\n",
    "        print(\"Saat \",x,y,\" geçiyor.\")\n",
    "    if(y>30 and y<60):\n",
    "        print(\"Saat \",x+1,60-y,\" var.\")\n"
   ]
  },
  {
   "cell_type": "code",
   "execution_count": null,
   "id": "2262a3ab",
   "metadata": {},
   "outputs": [],
   "source": [
    "x = int(input(\"Bulunduğunuz saat dilimini yazın\")) # sadece saat yazın,lütfen dakikayı yazmayın.\n",
    "if x >= 0 or x <= 23:\n",
    "    print(\"Saat aralığını lütfen düzeltin\")\n",
    "else:\n",
    "    if x \n",
    "        \n"
   ]
  },
  {
   "cell_type": "code",
   "execution_count": 11,
   "id": "500d5995",
   "metadata": {},
   "outputs": [],
   "source": [
    "def faktoriyel(sayi):\n",
    "    sonuc = 1\n",
    "    for i in range(sayi,1,-1):\n",
    "        sonuc *= i\n",
    "    return sonuc\n",
    "    "
   ]
  },
  {
   "cell_type": "code",
   "execution_count": 12,
   "id": "836fc54d",
   "metadata": {},
   "outputs": [
    {
     "name": "stdout",
     "output_type": "stream",
     "text": [
      "0 ! = 1\n",
      "1 ! = 1\n",
      "2 ! = 2\n",
      "3 ! = 6\n",
      "4 ! = 24\n",
      "5 ! = 120\n",
      "6 ! = 720\n",
      "7 ! = 5040\n",
      "8 ! = 40320\n",
      "9 ! = 362880\n"
     ]
    }
   ],
   "source": [
    "for i in range(10):\n",
    "    print(str(i),\"! =\",str(faktoriyel(i)))"
   ]
  },
  {
   "cell_type": "code",
   "execution_count": 13,
   "id": "90a6cf98",
   "metadata": {},
   "outputs": [
    {
     "name": "stdout",
     "output_type": "stream",
     "text": [
      "Bir sayı giriniz=5\n",
      "5 ! = 120\n"
     ]
    }
   ],
   "source": [
    "sayi = int(input(\"Bir sayı giriniz=\"))\n",
    "faktoriyel = 1\n",
    "i = 2\n",
    "while i < sayi + 1:\n",
    "    faktoriyel *= i\n",
    "    i += 1\n",
    "print(f\"{sayi} ! = {faktoriyel}\")"
   ]
  },
  {
   "cell_type": "code",
   "execution_count": 16,
   "id": "a5e7d7b7",
   "metadata": {},
   "outputs": [
    {
     "name": "stdout",
     "output_type": "stream",
     "text": [
      "Bir sayı giriniz=4\n",
      "24\n"
     ]
    }
   ],
   "source": [
    "sayi = int(input(\"Bir sayı giriniz=\"))\n",
    "faktoriyel = 1\n",
    "for i in range(1,sayi +1):\n",
    "    faktoriyel *= i\n",
    "print(faktoriyel)"
   ]
  },
  {
   "cell_type": "code",
   "execution_count": 19,
   "id": "dd5588af",
   "metadata": {},
   "outputs": [
    {
     "name": "stdout",
     "output_type": "stream",
     "text": [
      "Bir sayı giriniz=4\n",
      "24\n",
      "4 ! = 24\n"
     ]
    }
   ],
   "source": [
    "sayi = int(input(\"Bir sayı giriniz=\"))\n",
    "faktoriyel = 1\n",
    "for i in range(1,sayi +1):\n",
    "    faktoriyel *= i\n",
    "print(faktoriyel)\n",
    "print(f\"{sayi} ! = {faktoriyel}\")"
   ]
  },
  {
   "cell_type": "code",
   "execution_count": 20,
   "id": "319a17fb",
   "metadata": {},
   "outputs": [],
   "source": [
    "def Asalmi(sayi):\n",
    "    sonuc = 1\n",
    "    for i in range(2 , sayi):\n",
    "        if sayi % i == 0:\n",
    "            sonuc = 0\n",
    "            break\n",
    "    return sonuc"
   ]
  },
  {
   "cell_type": "code",
   "execution_count": 1,
   "id": "be207a07",
   "metadata": {},
   "outputs": [
    {
     "name": "stdout",
     "output_type": "stream",
     "text": [
      "İlk kaç asal sayıyı bulalım=7\n"
     ]
    },
    {
     "ename": "NameError",
     "evalue": "name 'Asalmi' is not defined",
     "output_type": "error",
     "traceback": [
      "\u001b[1;31m---------------------------------------------------------------------------\u001b[0m",
      "\u001b[1;31mNameError\u001b[0m                                 Traceback (most recent call last)",
      "\u001b[1;32m<ipython-input-1-0fbbde5625fe>\u001b[0m in \u001b[0;36m<module>\u001b[1;34m\u001b[0m\n\u001b[0;32m      3\u001b[0m \u001b[0msayi\u001b[0m \u001b[1;33m=\u001b[0m \u001b[1;36m2\u001b[0m\u001b[1;33m\u001b[0m\u001b[1;33m\u001b[0m\u001b[0m\n\u001b[0;32m      4\u001b[0m \u001b[1;32mwhile\u001b[0m \u001b[0mN\u001b[0m \u001b[1;33m>\u001b[0m \u001b[0mc\u001b[0m \u001b[1;33m:\u001b[0m\u001b[1;33m\u001b[0m\u001b[1;33m\u001b[0m\u001b[0m\n\u001b[1;32m----> 5\u001b[1;33m     \u001b[1;32mif\u001b[0m \u001b[0mAsalmi\u001b[0m\u001b[1;33m(\u001b[0m\u001b[0msayi\u001b[0m\u001b[1;33m)\u001b[0m \u001b[1;33m==\u001b[0m \u001b[1;36m1\u001b[0m\u001b[1;33m:\u001b[0m\u001b[1;33m\u001b[0m\u001b[1;33m\u001b[0m\u001b[0m\n\u001b[0m\u001b[0;32m      6\u001b[0m         \u001b[0mprint\u001b[0m\u001b[1;33m(\u001b[0m\u001b[0msayi\u001b[0m\u001b[1;33m)\u001b[0m\u001b[1;33m\u001b[0m\u001b[1;33m\u001b[0m\u001b[0m\n\u001b[0;32m      7\u001b[0m         \u001b[0mc\u001b[0m \u001b[1;33m+=\u001b[0m \u001b[1;36m1\u001b[0m\u001b[1;33m\u001b[0m\u001b[1;33m\u001b[0m\u001b[0m\n",
      "\u001b[1;31mNameError\u001b[0m: name 'Asalmi' is not defined"
     ]
    }
   ],
   "source": [
    "c = 0\n",
    "N = int(input(\"İlk kaç asal sayıyı bulalım=\"))\n",
    "sayi = 2\n",
    "while N > c :\n",
    "    if Asalmi(sayi) == 1:\n",
    "        print(sayi)\n",
    "        c += 1\n",
    "    sayi += 1"
   ]
  },
  {
   "cell_type": "code",
   "execution_count": 3,
   "id": "c6382e81",
   "metadata": {},
   "outputs": [],
   "source": [
    "def asalmi(p):\n",
    "    sonuc = 1\n",
    "    for i in range(2, p):\n",
    "        if p % i == 0:\n",
    "            sonuc = 0\n",
    "            break\n",
    "    return sonuc "
   ]
  },
  {
   "cell_type": "code",
   "execution_count": 4,
   "id": "c46537e9",
   "metadata": {},
   "outputs": [
    {
     "name": "stdout",
     "output_type": "stream",
     "text": [
      "ilk kac asal sayıyı bulalım=6\n",
      "2\n",
      "3\n",
      "5\n",
      "7\n",
      "11\n",
      "13\n"
     ]
    }
   ],
   "source": [
    "c = 0\n",
    "N = int(input(\"ilk kac asal sayıyı bulalım=\"))\n",
    "sayi = 2\n",
    "while N > c:\n",
    "    if asalmi(sayi) == 1:\n",
    "        print(sayi)\n",
    "        c += 1\n",
    "    sayi += 1"
   ]
  },
  {
   "cell_type": "code",
   "execution_count": 7,
   "id": "7d39ef3f",
   "metadata": {},
   "outputs": [],
   "source": [
    "def faktoriyel(sayi):\n",
    "    sonuc = 1\n",
    "    for i in range(sayi,1,-1):\n",
    "        sonuc *= i\n",
    "    return sonuc"
   ]
  },
  {
   "cell_type": "code",
   "execution_count": 8,
   "id": "448da25d",
   "metadata": {},
   "outputs": [
    {
     "name": "stdout",
     "output_type": "stream",
     "text": [
      "0 ! =  1\n",
      "1 ! =  1\n",
      "2 ! =  2\n",
      "3 ! =  6\n",
      "4 ! =  24\n"
     ]
    }
   ],
   "source": [
    "for i in range(5):\n",
    "    print(str(i),\"! = \",str(faktoriyel(i)))"
   ]
  },
  {
   "cell_type": "code",
   "execution_count": 23,
   "id": "9b89c8f7",
   "metadata": {},
   "outputs": [],
   "source": [
    "def fak(p):\n",
    "    sonuc = 1 \n",
    "    for i in range(p,1,-1):\n",
    "        sonuc *= i\n",
    "    return sonuc"
   ]
  },
  {
   "cell_type": "code",
   "execution_count": 24,
   "id": "a38227a5",
   "metadata": {},
   "outputs": [
    {
     "name": "stdout",
     "output_type": "stream",
     "text": [
      "bir sayı giriniz:24\n",
      "4!\n"
     ]
    }
   ],
   "source": [
    "n = int(input(\"bir sayı giriniz:\"))\n",
    "c = 2\n",
    "while c<n:\n",
    "    if n == fak(c):\n",
    "        print(str(c) + '!')\n",
    "        break\n",
    "    else:\n",
    "        if n<fak(c):\n",
    "            print(str(c-1)+'!-'+str(c)+'!')\n",
    "            break\n",
    "\n",
    "    c += 1"
   ]
  },
  {
   "cell_type": "code",
   "execution_count": 27,
   "id": "deff167b",
   "metadata": {},
   "outputs": [],
   "source": [
    "def fak(sayi):\n",
    "    sonuc = 1\n",
    "    for i in range(sayi,1,-1):\n",
    "        sonuc *= i\n",
    "    return sonuc"
   ]
  },
  {
   "cell_type": "code",
   "execution_count": 29,
   "id": "07b4935f",
   "metadata": {},
   "outputs": [
    {
     "name": "stdout",
     "output_type": "stream",
     "text": [
      "Bir sayı giriniz:67\n",
      "4! - 5!\n"
     ]
    }
   ],
   "source": [
    "N = int(input(\"Bir sayı giriniz:\"))\n",
    "c = 2\n",
    "while c < N:\n",
    "    if N == fak(c):\n",
    "        print(str(c) + '!')\n",
    "        break\n",
    "    else:\n",
    "        if N < fak(c):\n",
    "            print(str(c-1)+'! - '+str(c) + '!')\n",
    "            break\n",
    "            \n",
    "    c += 1"
   ]
  },
  {
   "cell_type": "code",
   "execution_count": 34,
   "id": "598d82f2",
   "metadata": {},
   "outputs": [
    {
     "name": "stdout",
     "output_type": "stream",
     "text": [
      "x =5\n",
      "y = 6\n",
      "113.11805555555556\n"
     ]
    }
   ],
   "source": [
    "x = int(input(\"x = \"))\n",
    "k = int(input(\"y = \"))\n",
    "def fak(a):\n",
    "    sonuc = 1\n",
    "    for i in range(1,a + 1,1):\n",
    "        sonuc *= i\n",
    "    return sonuc\n",
    "top = 1\n",
    "for i in range(1,k + 1,1):\n",
    "    pay = (x**i) \n",
    "    payda = fak(i)\n",
    "    top = top + pay / payda\n",
    "\n",
    "print(top)"
   ]
  },
  {
   "cell_type": "code",
   "execution_count": 35,
   "id": "565e1033",
   "metadata": {},
   "outputs": [
    {
     "name": "stdout",
     "output_type": "stream",
     "text": [
      "[[2, 1, 5, 6], [2, 1, 4, 7]]\n"
     ]
    }
   ],
   "source": [
    "import random\n",
    "\n",
    "n = 2 # satır\n",
    "m = 4 # sütun\n",
    "a = [[round(random.random()*10) for i in range(m)] for j in range(n)]\n",
    "\n",
    "print(a)"
   ]
  },
  {
   "cell_type": "code",
   "execution_count": 36,
   "id": "4294aa61",
   "metadata": {},
   "outputs": [],
   "source": [
    "def randomMatrix(satır,sutun):\n",
    "    M = [[round(random.random()*10) for i in range(satır)]for j in range(sutun)]\n",
    "    return M\n",
    "\n",
    "def SifirMatrix(satır,sutun):\n",
    "    M = [[0 for i in range(satır)]for j in range(sutun)]\n",
    "    return M"
   ]
  },
  {
   "cell_type": "code",
   "execution_count": 37,
   "id": "8b508981",
   "metadata": {},
   "outputs": [
    {
     "name": "stdout",
     "output_type": "stream",
     "text": [
      "[[1, 2], [4, 9], [4, 5], [6, 4]]\n",
      "[[9, 4], [5, 9], [9, 2], [5, 2]]\n",
      "[[0, 0], [0, 0], [0, 0], [0, 0]]\n"
     ]
    }
   ],
   "source": [
    "m1 = randomMatrix(2,4)\n",
    "m2 = randomMatrix(2,4)\n",
    "m3 = SifirMatrix(2,4)\n",
    "\n",
    "print(m1)\n",
    "print(m2)\n",
    "print(m3)"
   ]
  }
 ],
 "metadata": {
  "kernelspec": {
   "display_name": "Python 3",
   "language": "python",
   "name": "python3"
  },
  "language_info": {
   "codemirror_mode": {
    "name": "ipython",
    "version": 3
   },
   "file_extension": ".py",
   "mimetype": "text/x-python",
   "name": "python",
   "nbconvert_exporter": "python",
   "pygments_lexer": "ipython3",
   "version": "3.8.8"
  }
 },
 "nbformat": 4,
 "nbformat_minor": 5
}
