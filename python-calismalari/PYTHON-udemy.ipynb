{
 "cells": [
  {
   "cell_type": "markdown",
   "id": "dc39fd3d",
   "metadata": {},
   "source": [
    "# PYTHON'DA SAYILAR"
   ]
  },
  {
   "cell_type": "code",
   "execution_count": 1,
   "id": "3d25e3de",
   "metadata": {},
   "outputs": [],
   "source": [
    "# 29.06.22"
   ]
  },
  {
   "cell_type": "markdown",
   "id": "56fa9dfa",
   "metadata": {},
   "source": [
    "1. Tamsayı(Integer) ve Ondalıklı Sayı(Float) veri tipleri\n",
    "2.Basit Matematik İşlemleri\n",
    "3.Değişken Tanımlama"
   ]
  },
  {
   "cell_type": "markdown",
   "id": "fd70f05e",
   "metadata": {},
   "source": [
    "# Tamsayılar(Integer)"
   ]
  },
  {
   "cell_type": "markdown",
   "id": "6ce67774",
   "metadata": {},
   "source": [
    "Matematikte gördüğümüz tüm sayılar(negatif,0,pozitif) aslında Python'da bir veri tipidir. Tamsayılar ise ingilizce olarak integer olarak geçmektedir.\n",
    "\n",
    "örnek:\n",
    "2,-100,565..."
   ]
  },
  {
   "cell_type": "markdown",
   "id": "4f78c762",
   "metadata": {},
   "source": [
    "# Ondalık Sayılar(Float)"
   ]
  },
  {
   "cell_type": "markdown",
   "id": "b3bcfd54",
   "metadata": {},
   "source": [
    "Matematikte gördüğümüz tüm sayılar aslında Python'da bir veri tipidir. Ondalık sayılar ise ingilizce olarak float olarak geçmektedir.\n",
    "\n",
    "örnek:3.14,5.25648,-56.235464556355..."
   ]
  },
  {
   "cell_type": "markdown",
   "id": "8007bcee",
   "metadata": {},
   "source": [
    "# Basit Matematik Operatörleri"
   ]
  },
  {
   "cell_type": "markdown",
   "id": "e27d621f",
   "metadata": {},
   "source": [
    "Bildiğimiz 4 işlem"
   ]
  },
  {
   "cell_type": "code",
   "execution_count": 2,
   "id": "47f3fef2",
   "metadata": {
    "scrolled": false
   },
   "outputs": [
    {
     "data": {
      "text/plain": [
       "7"
      ]
     },
     "execution_count": 2,
     "metadata": {},
     "output_type": "execute_result"
    }
   ],
   "source": [
    "#Toplama\n",
    "3+4"
   ]
  },
  {
   "cell_type": "code",
   "execution_count": 3,
   "id": "3ee78192",
   "metadata": {},
   "outputs": [
    {
     "data": {
      "text/plain": [
       "-5"
      ]
     },
     "execution_count": 3,
     "metadata": {},
     "output_type": "execute_result"
    }
   ],
   "source": [
    "#Çıkarma\n",
    "2-7"
   ]
  },
  {
   "cell_type": "code",
   "execution_count": 4,
   "id": "f842f7b3",
   "metadata": {},
   "outputs": [
    {
     "data": {
      "text/plain": [
       "0"
      ]
     },
     "execution_count": 4,
     "metadata": {},
     "output_type": "execute_result"
    }
   ],
   "source": [
    "#Çarpma\n",
    "1*0"
   ]
  },
  {
   "cell_type": "code",
   "execution_count": 147,
   "id": "ae1362cc",
   "metadata": {},
   "outputs": [
    {
     "data": {
      "text/plain": [
       "2.0"
      ]
     },
     "execution_count": 147,
     "metadata": {},
     "output_type": "execute_result"
    }
   ],
   "source": [
    "#Bölme\n",
    "4/2"
   ]
  },
  {
   "cell_type": "code",
   "execution_count": 148,
   "id": "e5fbb052",
   "metadata": {},
   "outputs": [
    {
     "data": {
      "text/plain": [
       "9"
      ]
     },
     "execution_count": 148,
     "metadata": {},
     "output_type": "execute_result"
    }
   ],
   "source": [
    "#Bölüm\n",
    "45//5"
   ]
  },
  {
   "cell_type": "code",
   "execution_count": 149,
   "id": "883f500f",
   "metadata": {},
   "outputs": [
    {
     "data": {
      "text/plain": [
       "0"
      ]
     },
     "execution_count": 149,
     "metadata": {},
     "output_type": "execute_result"
    }
   ],
   "source": [
    "#Kalan\n",
    "45%5"
   ]
  },
  {
   "cell_type": "code",
   "execution_count": 150,
   "id": "1b03e5b4",
   "metadata": {},
   "outputs": [
    {
     "data": {
      "text/plain": [
       "125"
      ]
     },
     "execution_count": 150,
     "metadata": {},
     "output_type": "execute_result"
    }
   ],
   "source": [
    "#Üs\n",
    "5**3"
   ]
  },
  {
   "cell_type": "markdown",
   "id": "88c35a19",
   "metadata": {},
   "source": [
    "# Değişkenler ve Değişken Tanımlama"
   ]
  },
  {
   "cell_type": "markdown",
   "id": "de1a9e3f",
   "metadata": {},
   "source": [
    "Değişkenler bir programlama dilinde olmazsa olmaz bir kavramdır. Değişkenler aslında bir veri tipinden değer tutan birimlerdir."
   ]
  },
  {
   "cell_type": "code",
   "execution_count": 6,
   "id": "ab38830b",
   "metadata": {},
   "outputs": [],
   "source": [
    "#Değişken ismi ve Değişkenin değeri\n",
    "i = 10"
   ]
  },
  {
   "cell_type": "code",
   "execution_count": 7,
   "id": "60831a97",
   "metadata": {},
   "outputs": [
    {
     "data": {
      "text/plain": [
       "10"
      ]
     },
     "execution_count": 7,
     "metadata": {},
     "output_type": "execute_result"
    }
   ],
   "source": [
    "# Değişkenimizi ekrana bastıralım..\n",
    "i"
   ]
  },
  {
   "cell_type": "code",
   "execution_count": 8,
   "id": "07b43eeb",
   "metadata": {},
   "outputs": [
    {
     "data": {
      "text/plain": [
       "10000"
      ]
     },
     "execution_count": 8,
     "metadata": {},
     "output_type": "execute_result"
    }
   ],
   "source": [
    "# İşlem yapalım..\n",
    "i*i*i*i"
   ]
  },
  {
   "cell_type": "code",
   "execution_count": 9,
   "id": "8c0609f8",
   "metadata": {},
   "outputs": [
    {
     "data": {
      "text/plain": [
       "100"
      ]
     },
     "execution_count": 9,
     "metadata": {},
     "output_type": "execute_result"
    }
   ],
   "source": [
    "i**2"
   ]
  },
  {
   "cell_type": "markdown",
   "id": "03313fa0",
   "metadata": {},
   "source": [
    "!!! Değişkene isim verilirken dikkat edilmesi gereken noktalar..\n",
    "\n",
    "1.Değişken isimleri bir sayıyla başlayamaz..\n",
    "\n",
    "2.Değişken ismi kelimelerden oluşuyorsa aralarında boşluk olamaz.\n",
    "\n",
    "3.:\"\",<>/?|\\!@#$''.+ Buradaki semboller değişken ismi içinde kullanılamaz.(Sadece _ sembolü kullanılabilir.)\n",
    "\n",
    "4.Tanımlı anahtar kelimeler değişken ismi olarak kullanılamaz.(while,not vs.)"
   ]
  },
  {
   "cell_type": "code",
   "execution_count": 10,
   "id": "1692dbe0",
   "metadata": {},
   "outputs": [
    {
     "ename": "SyntaxError",
     "evalue": "invalid syntax (Temp/ipykernel_21448/3427619821.py, line 1)",
     "output_type": "error",
     "traceback": [
      "\u001b[1;36m  File \u001b[1;32m\"C:\\Users\\MONSTER\\AppData\\Local\\Temp/ipykernel_21448/3427619821.py\"\u001b[1;36m, line \u001b[1;32m1\u001b[0m\n\u001b[1;33m    i? = 5\u001b[0m\n\u001b[1;37m     ^\u001b[0m\n\u001b[1;31mSyntaxError\u001b[0m\u001b[1;31m:\u001b[0m invalid syntax\n"
     ]
    }
   ],
   "source": [
    "i? = 5"
   ]
  },
  {
   "cell_type": "code",
   "execution_count": 13,
   "id": "64aeae55",
   "metadata": {},
   "outputs": [
    {
     "data": {
      "text/plain": [
       "56"
      ]
     },
     "execution_count": 13,
     "metadata": {},
     "output_type": "execute_result"
    }
   ],
   "source": [
    "_k = 56\n",
    "_k"
   ]
  },
  {
   "cell_type": "code",
   "execution_count": 14,
   "id": "f8bd06d1",
   "metadata": {},
   "outputs": [
    {
     "data": {
      "text/plain": [
       "25.12"
      ]
     },
     "execution_count": 14,
     "metadata": {},
     "output_type": "execute_result"
    }
   ],
   "source": [
    "# örnek:\n",
    "pi_sayisi = 3.14\n",
    "cap = 4\n",
    "cevre = pi_sayisi*cap*2\n",
    "cevre"
   ]
  },
  {
   "cell_type": "code",
   "execution_count": 16,
   "id": "cfd8597e",
   "metadata": {},
   "outputs": [],
   "source": [
    "a = 5\n",
    "b = 655"
   ]
  },
  {
   "cell_type": "code",
   "execution_count": 17,
   "id": "03494d1c",
   "metadata": {},
   "outputs": [
    {
     "data": {
      "text/plain": [
       "5"
      ]
     },
     "execution_count": 17,
     "metadata": {},
     "output_type": "execute_result"
    }
   ],
   "source": [
    "a"
   ]
  },
  {
   "cell_type": "code",
   "execution_count": 18,
   "id": "bc037271",
   "metadata": {},
   "outputs": [
    {
     "data": {
      "text/plain": [
       "655"
      ]
     },
     "execution_count": 18,
     "metadata": {},
     "output_type": "execute_result"
    }
   ],
   "source": [
    "b"
   ]
  },
  {
   "cell_type": "code",
   "execution_count": 19,
   "id": "76dcdef5",
   "metadata": {},
   "outputs": [],
   "source": [
    "a,b = b,a"
   ]
  },
  {
   "cell_type": "code",
   "execution_count": 20,
   "id": "929bf3b4",
   "metadata": {},
   "outputs": [
    {
     "data": {
      "text/plain": [
       "655"
      ]
     },
     "execution_count": 20,
     "metadata": {},
     "output_type": "execute_result"
    }
   ],
   "source": [
    "a"
   ]
  },
  {
   "cell_type": "code",
   "execution_count": 21,
   "id": "ffdf0409",
   "metadata": {},
   "outputs": [
    {
     "data": {
      "text/plain": [
       "5"
      ]
     },
     "execution_count": 21,
     "metadata": {},
     "output_type": "execute_result"
    }
   ],
   "source": [
    "b"
   ]
  },
  {
   "cell_type": "code",
   "execution_count": 22,
   "id": "7aa47c83",
   "metadata": {},
   "outputs": [],
   "source": [
    "i = 5"
   ]
  },
  {
   "cell_type": "code",
   "execution_count": 23,
   "id": "081ec19f",
   "metadata": {},
   "outputs": [
    {
     "data": {
      "text/plain": [
       "5"
      ]
     },
     "execution_count": 23,
     "metadata": {},
     "output_type": "execute_result"
    }
   ],
   "source": [
    "i"
   ]
  },
  {
   "cell_type": "code",
   "execution_count": 24,
   "id": "9277f76d",
   "metadata": {},
   "outputs": [],
   "source": [
    "i = i + 1"
   ]
  },
  {
   "cell_type": "code",
   "execution_count": 25,
   "id": "0bb34601",
   "metadata": {},
   "outputs": [
    {
     "data": {
      "text/plain": [
       "6"
      ]
     },
     "execution_count": 25,
     "metadata": {},
     "output_type": "execute_result"
    }
   ],
   "source": [
    "i"
   ]
  },
  {
   "cell_type": "code",
   "execution_count": 26,
   "id": "186cac26",
   "metadata": {},
   "outputs": [],
   "source": [
    "# Uzun yazmaktansa\n",
    "i += 1"
   ]
  },
  {
   "cell_type": "code",
   "execution_count": 27,
   "id": "3630af20",
   "metadata": {},
   "outputs": [
    {
     "data": {
      "text/plain": [
       "7"
      ]
     },
     "execution_count": 27,
     "metadata": {},
     "output_type": "execute_result"
    }
   ],
   "source": [
    "i"
   ]
  },
  {
   "cell_type": "code",
   "execution_count": 28,
   "id": "83f39462",
   "metadata": {},
   "outputs": [],
   "source": [
    "b = 3\n",
    "b *= 5"
   ]
  },
  {
   "cell_type": "code",
   "execution_count": 29,
   "id": "215241e8",
   "metadata": {},
   "outputs": [
    {
     "data": {
      "text/plain": [
       "15"
      ]
     },
     "execution_count": 29,
     "metadata": {},
     "output_type": "execute_result"
    }
   ],
   "source": [
    "b"
   ]
  },
  {
   "cell_type": "markdown",
   "id": "3928ff69",
   "metadata": {},
   "source": [
    "# Yorum Satırı"
   ]
  },
  {
   "cell_type": "markdown",
   "id": "3aee0e84",
   "metadata": {},
   "source": [
    "Programlarımıza açıklama olarak eklediğimiz satırlardır. Eğer bir programda yorum satırları kullanılmışsa bu satırlar Python tarafından görülmez ve çalıştırılmaz."
   ]
  },
  {
   "cell_type": "code",
   "execution_count": 4,
   "id": "05ff62d0",
   "metadata": {},
   "outputs": [],
   "source": [
    "# Tekli yorum satırı"
   ]
  },
  {
   "cell_type": "code",
   "execution_count": 9,
   "id": "f4110137",
   "metadata": {},
   "outputs": [
    {
     "name": "stdout",
     "output_type": "stream",
     "text": [
      "python\n"
     ]
    }
   ],
   "source": [
    "\"\"\"\n",
    "birden fazla\n",
    "satırlı \n",
    "açıklama satırı\n",
    "\"\"\"\n",
    "print(\"python\")"
   ]
  },
  {
   "cell_type": "markdown",
   "id": "11a5cb7d",
   "metadata": {},
   "source": [
    "# Karakter Dizileri - Stringler"
   ]
  },
  {
   "cell_type": "code",
   "execution_count": 38,
   "id": "afaccc2b",
   "metadata": {},
   "outputs": [
    {
     "ename": "SyntaxError",
     "evalue": "EOL while scanning string literal (Temp/ipykernel_21448/1741601503.py, line 1)",
     "output_type": "error",
     "traceback": [
      "\u001b[1;36m  File \u001b[1;32m\"C:\\Users\\MONSTER\\AppData\\Local\\Temp/ipykernel_21448/1741601503.py\"\u001b[1;36m, line \u001b[1;32m1\u001b[0m\n\u001b[1;33m    \"Python'\u001b[0m\n\u001b[1;37m            ^\u001b[0m\n\u001b[1;31mSyntaxError\u001b[0m\u001b[1;31m:\u001b[0m EOL while scanning string literal\n"
     ]
    }
   ],
   "source": [
    "\"Python'"
   ]
  },
  {
   "cell_type": "code",
   "execution_count": 39,
   "id": "37175347",
   "metadata": {},
   "outputs": [
    {
     "data": {
      "text/plain": [
       "'Merhaba'"
      ]
     },
     "execution_count": 39,
     "metadata": {},
     "output_type": "execute_result"
    }
   ],
   "source": [
    "\"Merhaba\""
   ]
  },
  {
   "cell_type": "code",
   "execution_count": 40,
   "id": "305300a0",
   "metadata": {},
   "outputs": [
    {
     "ename": "SyntaxError",
     "evalue": "invalid syntax (Temp/ipykernel_21448/3169680094.py, line 1)",
     "output_type": "error",
     "traceback": [
      "\u001b[1;36m  File \u001b[1;32m\"C:\\Users\\MONSTER\\AppData\\Local\\Temp/ipykernel_21448/3169680094.py\"\u001b[1;36m, line \u001b[1;32m1\u001b[0m\n\u001b[1;33m    'Murat'ın bugün dersi var'\u001b[0m\n\u001b[1;37m           ^\u001b[0m\n\u001b[1;31mSyntaxError\u001b[0m\u001b[1;31m:\u001b[0m invalid syntax\n"
     ]
    }
   ],
   "source": [
    "'Fatma'ın bugün dersi var'"
   ]
  },
  {
   "cell_type": "code",
   "execution_count": 41,
   "id": "89fcc6fc",
   "metadata": {},
   "outputs": [
    {
     "data": {
      "text/plain": [
       "\"Fatma'ın bugün dersi var.\""
      ]
     },
     "execution_count": 41,
     "metadata": {},
     "output_type": "execute_result"
    }
   ],
   "source": [
    "\"Fatma'ın bugün dersi var.\""
   ]
  },
  {
   "cell_type": "code",
   "execution_count": 43,
   "id": "31cd93b8",
   "metadata": {},
   "outputs": [
    {
     "data": {
      "text/plain": [
       "\"Fatma'ın bugün dersi var\""
      ]
     },
     "execution_count": 43,
     "metadata": {},
     "output_type": "execute_result"
    }
   ],
   "source": [
    "'Fatma\\'ın bugün dersi var'"
   ]
  },
  {
   "cell_type": "markdown",
   "id": "8bd8048f",
   "metadata": {},
   "source": [
    "# Stringleri Parçalama ve İndeksleme"
   ]
  },
  {
   "cell_type": "code",
   "execution_count": 44,
   "id": "57b5ceb0",
   "metadata": {},
   "outputs": [],
   "source": [
    "a = \"Merhaba\""
   ]
  },
  {
   "cell_type": "code",
   "execution_count": 45,
   "id": "0529f23b",
   "metadata": {},
   "outputs": [
    {
     "data": {
      "text/plain": [
       "'h'"
      ]
     },
     "execution_count": 45,
     "metadata": {},
     "output_type": "execute_result"
    }
   ],
   "source": [
    "a[3]"
   ]
  },
  {
   "cell_type": "code",
   "execution_count": 46,
   "id": "769fe227",
   "metadata": {},
   "outputs": [
    {
     "data": {
      "text/plain": [
       "'M'"
      ]
     },
     "execution_count": 46,
     "metadata": {},
     "output_type": "execute_result"
    }
   ],
   "source": [
    "a[0]"
   ]
  },
  {
   "cell_type": "code",
   "execution_count": 47,
   "id": "0b1a97e0",
   "metadata": {},
   "outputs": [
    {
     "data": {
      "text/plain": [
       "'a'"
      ]
     },
     "execution_count": 47,
     "metadata": {},
     "output_type": "execute_result"
    }
   ],
   "source": [
    "a[6]"
   ]
  },
  {
   "cell_type": "code",
   "execution_count": 49,
   "id": "15142482",
   "metadata": {},
   "outputs": [
    {
     "data": {
      "text/plain": [
       "'a'"
      ]
     },
     "execution_count": 49,
     "metadata": {},
     "output_type": "execute_result"
    }
   ],
   "source": [
    "a[-1]"
   ]
  },
  {
   "cell_type": "code",
   "execution_count": 52,
   "id": "716bb0e1",
   "metadata": {},
   "outputs": [],
   "source": [
    "d = \"fatma\""
   ]
  },
  {
   "cell_type": "code",
   "execution_count": 53,
   "id": "40943da7",
   "metadata": {},
   "outputs": [
    {
     "data": {
      "text/plain": [
       "'a'"
      ]
     },
     "execution_count": 53,
     "metadata": {},
     "output_type": "execute_result"
    }
   ],
   "source": [
    "d[-1]"
   ]
  },
  {
   "cell_type": "code",
   "execution_count": 54,
   "id": "492930db",
   "metadata": {},
   "outputs": [
    {
     "data": {
      "text/plain": [
       "'m'"
      ]
     },
     "execution_count": 54,
     "metadata": {},
     "output_type": "execute_result"
    }
   ],
   "source": [
    "d[-2]"
   ]
  },
  {
   "cell_type": "code",
   "execution_count": 55,
   "id": "49bea3e8",
   "metadata": {},
   "outputs": [
    {
     "data": {
      "text/plain": [
       "'a'"
      ]
     },
     "execution_count": 55,
     "metadata": {},
     "output_type": "execute_result"
    }
   ],
   "source": [
    "d[-4]"
   ]
  },
  {
   "cell_type": "code",
   "execution_count": 56,
   "id": "76bdeaf8",
   "metadata": {},
   "outputs": [],
   "source": [
    "a = \"Python Programlama Dili\""
   ]
  },
  {
   "cell_type": "code",
   "execution_count": 57,
   "id": "c64c67c4",
   "metadata": {},
   "outputs": [
    {
     "data": {
      "text/plain": [
       "'on Pro'"
      ]
     },
     "execution_count": 57,
     "metadata": {},
     "output_type": "execute_result"
    }
   ],
   "source": [
    "a[4:10]"
   ]
  },
  {
   "cell_type": "code",
   "execution_count": 58,
   "id": "883c9591",
   "metadata": {},
   "outputs": [
    {
     "data": {
      "text/plain": [
       "'Python Pro'"
      ]
     },
     "execution_count": 58,
     "metadata": {},
     "output_type": "execute_result"
    }
   ],
   "source": [
    "a[:10]"
   ]
  },
  {
   "cell_type": "code",
   "execution_count": 59,
   "id": "690f5728",
   "metadata": {},
   "outputs": [
    {
     "data": {
      "text/plain": [
       "'on Programlama Dili'"
      ]
     },
     "execution_count": 59,
     "metadata": {},
     "output_type": "execute_result"
    }
   ],
   "source": [
    "a[4:]"
   ]
  },
  {
   "cell_type": "code",
   "execution_count": 60,
   "id": "b2c75998",
   "metadata": {},
   "outputs": [
    {
     "data": {
      "text/plain": [
       "'Python Programlama Dili'"
      ]
     },
     "execution_count": 60,
     "metadata": {},
     "output_type": "execute_result"
    }
   ],
   "source": [
    "a[:]\n"
   ]
  },
  {
   "cell_type": "code",
   "execution_count": 61,
   "id": "fc44ad43",
   "metadata": {},
   "outputs": [
    {
     "data": {
      "text/plain": [
       "'Python Programlama Dil'"
      ]
     },
     "execution_count": 61,
     "metadata": {},
     "output_type": "execute_result"
    }
   ],
   "source": [
    "a[:-1]"
   ]
  },
  {
   "cell_type": "code",
   "execution_count": 62,
   "id": "f5707666",
   "metadata": {},
   "outputs": [
    {
     "data": {
      "text/plain": [
       "'Pto rgalm ii'"
      ]
     },
     "execution_count": 62,
     "metadata": {},
     "output_type": "execute_result"
    }
   ],
   "source": [
    "a[::2]"
   ]
  },
  {
   "cell_type": "code",
   "execution_count": 63,
   "id": "c991ef10",
   "metadata": {},
   "outputs": [
    {
     "data": {
      "text/plain": [
       "'Ph oaa l'"
      ]
     },
     "execution_count": 63,
     "metadata": {},
     "output_type": "execute_result"
    }
   ],
   "source": [
    "a[::3]"
   ]
  },
  {
   "cell_type": "code",
   "execution_count": 64,
   "id": "6202871c",
   "metadata": {},
   "outputs": [
    {
     "data": {
      "text/plain": [
       "'o rg'"
      ]
     },
     "execution_count": 64,
     "metadata": {},
     "output_type": "execute_result"
    }
   ],
   "source": [
    "a[4:12:2]"
   ]
  },
  {
   "cell_type": "code",
   "execution_count": 65,
   "id": "d635cb3e",
   "metadata": {},
   "outputs": [
    {
     "data": {
      "text/plain": [
       "'iliD amalmargorP nohtyP'"
      ]
     },
     "execution_count": 65,
     "metadata": {},
     "output_type": "execute_result"
    }
   ],
   "source": [
    "a[::-1]"
   ]
  },
  {
   "cell_type": "code",
   "execution_count": 66,
   "id": "64111bfa",
   "metadata": {},
   "outputs": [],
   "source": [
    "string =  \"MErhaba\""
   ]
  },
  {
   "cell_type": "code",
   "execution_count": 67,
   "id": "b7af3d0b",
   "metadata": {},
   "outputs": [
    {
     "data": {
      "text/plain": [
       "7"
      ]
     },
     "execution_count": 67,
     "metadata": {},
     "output_type": "execute_result"
    }
   ],
   "source": [
    "len(string)"
   ]
  },
  {
   "cell_type": "code",
   "execution_count": 68,
   "id": "e42f6bf4",
   "metadata": {},
   "outputs": [],
   "source": [
    "string = \"Merhaba\""
   ]
  },
  {
   "cell_type": "code",
   "execution_count": 69,
   "id": "8dd10e81",
   "metadata": {},
   "outputs": [
    {
     "ename": "TypeError",
     "evalue": "'str' object does not support item assignment",
     "output_type": "error",
     "traceback": [
      "\u001b[1;31m---------------------------------------------------------------------------\u001b[0m",
      "\u001b[1;31mTypeError\u001b[0m                                 Traceback (most recent call last)",
      "\u001b[1;32m~\\AppData\\Local\\Temp/ipykernel_21448/2882779659.py\u001b[0m in \u001b[0;36m<module>\u001b[1;34m\u001b[0m\n\u001b[1;32m----> 1\u001b[1;33m \u001b[0mstring\u001b[0m\u001b[1;33m[\u001b[0m\u001b[1;36m3\u001b[0m\u001b[1;33m]\u001b[0m \u001b[1;33m=\u001b[0m \u001b[1;34m't'\u001b[0m\u001b[1;33m\u001b[0m\u001b[1;33m\u001b[0m\u001b[0m\n\u001b[0m",
      "\u001b[1;31mTypeError\u001b[0m: 'str' object does not support item assignment"
     ]
    }
   ],
   "source": [
    "string[3] = 't'"
   ]
  },
  {
   "cell_type": "code",
   "execution_count": 70,
   "id": "dad3223c",
   "metadata": {},
   "outputs": [
    {
     "data": {
      "text/plain": [
       "'Python Programlama Dili'"
      ]
     },
     "execution_count": 70,
     "metadata": {},
     "output_type": "execute_result"
    }
   ],
   "source": [
    "# Stringleri toplayalım yani birbirine ekleyelim.\n",
    "a = \"Python \"\n",
    "b = \"Programlama \"\n",
    "c = \"Dili\"\n",
    "a + b + c"
   ]
  },
  {
   "cell_type": "code",
   "execution_count": 71,
   "id": "3f6aff57",
   "metadata": {},
   "outputs": [
    {
     "data": {
      "text/plain": [
       "'PythonPythonPython'"
      ]
     },
     "execution_count": 71,
     "metadata": {},
     "output_type": "execute_result"
    }
   ],
   "source": [
    "\"Python\" * 3"
   ]
  },
  {
   "cell_type": "code",
   "execution_count": 72,
   "id": "ff1ce1dc",
   "metadata": {},
   "outputs": [
    {
     "data": {
      "text/plain": [
       "'Fatma Çiçek'"
      ]
     },
     "execution_count": 72,
     "metadata": {},
     "output_type": "execute_result"
    }
   ],
   "source": [
    "a = \"Fatma \"\n",
    "\n",
    "a =  a + \"Çiçek\"\n",
    "a"
   ]
  },
  {
   "cell_type": "markdown",
   "id": "603d439c",
   "metadata": {},
   "source": [
    "# Veri tipi Dönüşümleri"
   ]
  },
  {
   "cell_type": "code",
   "execution_count": 73,
   "id": "714e62c1",
   "metadata": {},
   "outputs": [
    {
     "data": {
      "text/plain": [
       "43.0"
      ]
     },
     "execution_count": 73,
     "metadata": {},
     "output_type": "execute_result"
    }
   ],
   "source": [
    "a = 43\n",
    "a = float(a)\n",
    "a"
   ]
  },
  {
   "cell_type": "code",
   "execution_count": 74,
   "id": "11626d32",
   "metadata": {},
   "outputs": [
    {
     "data": {
      "text/plain": [
       "-1.0"
      ]
     },
     "execution_count": 74,
     "metadata": {},
     "output_type": "execute_result"
    }
   ],
   "source": [
    "float(-1)"
   ]
  },
  {
   "cell_type": "code",
   "execution_count": 75,
   "id": "dad72530",
   "metadata": {},
   "outputs": [
    {
     "data": {
      "text/plain": [
       "3"
      ]
     },
     "execution_count": 75,
     "metadata": {},
     "output_type": "execute_result"
    }
   ],
   "source": [
    "b = 3.14\n",
    "int(b)"
   ]
  },
  {
   "cell_type": "code",
   "execution_count": 76,
   "id": "d748acb4",
   "metadata": {},
   "outputs": [
    {
     "data": {
      "text/plain": [
       "'345'"
      ]
     },
     "execution_count": 76,
     "metadata": {},
     "output_type": "execute_result"
    }
   ],
   "source": [
    "str(345)"
   ]
  },
  {
   "cell_type": "code",
   "execution_count": 77,
   "id": "f254f71e",
   "metadata": {},
   "outputs": [
    {
     "data": {
      "text/plain": [
       "3"
      ]
     },
     "execution_count": 77,
     "metadata": {},
     "output_type": "execute_result"
    }
   ],
   "source": [
    "a = str(345)\n",
    "len(a)\n"
   ]
  },
  {
   "cell_type": "code",
   "execution_count": 78,
   "id": "5c858b99",
   "metadata": {},
   "outputs": [
    {
     "data": {
      "text/plain": [
       "'3.14'"
      ]
     },
     "execution_count": 78,
     "metadata": {},
     "output_type": "execute_result"
    }
   ],
   "source": [
    "a = str(3.14)\n",
    "a"
   ]
  },
  {
   "cell_type": "code",
   "execution_count": 79,
   "id": "bfca8d30",
   "metadata": {},
   "outputs": [
    {
     "data": {
      "text/plain": [
       "4"
      ]
     },
     "execution_count": 79,
     "metadata": {},
     "output_type": "execute_result"
    }
   ],
   "source": [
    "len(a)"
   ]
  },
  {
   "cell_type": "code",
   "execution_count": 80,
   "id": "b45c79f0",
   "metadata": {},
   "outputs": [
    {
     "ename": "ValueError",
     "evalue": "invalid literal for int() with base 10: '45345assadasd'",
     "output_type": "error",
     "traceback": [
      "\u001b[1;31m---------------------------------------------------------------------------\u001b[0m",
      "\u001b[1;31mValueError\u001b[0m                                Traceback (most recent call last)",
      "\u001b[1;32m~\\AppData\\Local\\Temp/ipykernel_21448/409586111.py\u001b[0m in \u001b[0;36m<module>\u001b[1;34m\u001b[0m\n\u001b[0;32m      1\u001b[0m \u001b[0ma\u001b[0m \u001b[1;33m=\u001b[0m \u001b[1;34m\"45345assadasd\"\u001b[0m\u001b[1;33m\u001b[0m\u001b[1;33m\u001b[0m\u001b[0m\n\u001b[1;32m----> 2\u001b[1;33m \u001b[0mint\u001b[0m\u001b[1;33m(\u001b[0m\u001b[0ma\u001b[0m\u001b[1;33m)\u001b[0m\u001b[1;33m\u001b[0m\u001b[1;33m\u001b[0m\u001b[0m\n\u001b[0m",
      "\u001b[1;31mValueError\u001b[0m: invalid literal for int() with base 10: '45345assadasd'"
     ]
    }
   ],
   "source": [
    "a = \"45345assadasd\"\n",
    "int(a)"
   ]
  },
  {
   "cell_type": "code",
   "execution_count": 81,
   "id": "e676d8a1",
   "metadata": {},
   "outputs": [
    {
     "data": {
      "text/plain": [
       "3454545"
      ]
     },
     "execution_count": 81,
     "metadata": {},
     "output_type": "execute_result"
    }
   ],
   "source": [
    "a = \"3454545\"\n",
    "int(a)"
   ]
  },
  {
   "cell_type": "code",
   "execution_count": 82,
   "id": "7d330513",
   "metadata": {},
   "outputs": [
    {
     "data": {
      "text/plain": [
       "3.1444545"
      ]
     },
     "execution_count": 82,
     "metadata": {},
     "output_type": "execute_result"
    }
   ],
   "source": [
    "a = \"3.1444545\"\n",
    "b = float(a)\n",
    "b"
   ]
  },
  {
   "cell_type": "code",
   "execution_count": 83,
   "id": "2b32e02f",
   "metadata": {},
   "outputs": [
    {
     "ename": "ValueError",
     "evalue": "could not convert string to float: '3.14.324324'",
     "output_type": "error",
     "traceback": [
      "\u001b[1;31m---------------------------------------------------------------------------\u001b[0m",
      "\u001b[1;31mValueError\u001b[0m                                Traceback (most recent call last)",
      "\u001b[1;32m~\\AppData\\Local\\Temp/ipykernel_21448/104420798.py\u001b[0m in \u001b[0;36m<module>\u001b[1;34m\u001b[0m\n\u001b[0;32m      1\u001b[0m \u001b[1;31m# Hatalı Kod\u001b[0m\u001b[1;33m\u001b[0m\u001b[1;33m\u001b[0m\u001b[0m\n\u001b[0;32m      2\u001b[0m \u001b[0ma\u001b[0m \u001b[1;33m=\u001b[0m \u001b[1;34m\"3.14.324324\"\u001b[0m\u001b[1;33m\u001b[0m\u001b[1;33m\u001b[0m\u001b[0m\n\u001b[1;32m----> 3\u001b[1;33m \u001b[0mb\u001b[0m \u001b[1;33m=\u001b[0m \u001b[0mfloat\u001b[0m\u001b[1;33m(\u001b[0m\u001b[0ma\u001b[0m\u001b[1;33m)\u001b[0m\u001b[1;33m\u001b[0m\u001b[1;33m\u001b[0m\u001b[0m\n\u001b[0m\u001b[0;32m      4\u001b[0m \u001b[0mb\u001b[0m\u001b[1;33m\u001b[0m\u001b[1;33m\u001b[0m\u001b[0m\n",
      "\u001b[1;31mValueError\u001b[0m: could not convert string to float: '3.14.324324'"
     ]
    }
   ],
   "source": [
    "# Hatalı Kod\n",
    "a = \"3.14.324324\"\n",
    "b = float(a)\n",
    "b"
   ]
  },
  {
   "cell_type": "markdown",
   "id": "00af6391",
   "metadata": {},
   "source": [
    "# Print Fonksiyonu ve Formatlama"
   ]
  },
  {
   "cell_type": "code",
   "execution_count": 84,
   "id": "2022ab89",
   "metadata": {},
   "outputs": [
    {
     "name": "stdout",
     "output_type": "stream",
     "text": [
      "35\n"
     ]
    }
   ],
   "source": [
    "print(35)"
   ]
  },
  {
   "cell_type": "code",
   "execution_count": 85,
   "id": "96910adc",
   "metadata": {},
   "outputs": [
    {
     "name": "stdout",
     "output_type": "stream",
     "text": [
      "3.14\n"
     ]
    }
   ],
   "source": [
    "print(3.14)"
   ]
  },
  {
   "cell_type": "code",
   "execution_count": 86,
   "id": "5f2bf66f",
   "metadata": {},
   "outputs": [
    {
     "name": "stdout",
     "output_type": "stream",
     "text": [
      "Fatma\n"
     ]
    }
   ],
   "source": [
    "print(\"Fatma\")"
   ]
  },
  {
   "cell_type": "code",
   "execution_count": 87,
   "id": "923960ba",
   "metadata": {},
   "outputs": [
    {
     "name": "stdout",
     "output_type": "stream",
     "text": [
      "19\n"
     ]
    }
   ],
   "source": [
    "a = 4\n",
    "b = 15\n",
    "print(a+b)"
   ]
  },
  {
   "cell_type": "code",
   "execution_count": 88,
   "id": "e2bd2d9a",
   "metadata": {},
   "outputs": [
    {
     "name": "stdout",
     "output_type": "stream",
     "text": [
      "35 4.54 Merhaba Python\n"
     ]
    }
   ],
   "source": [
    "print(35,4.54,\"Merhaba\",\"Python\")"
   ]
  },
  {
   "cell_type": "code",
   "execution_count": 89,
   "id": "65d799e5",
   "metadata": {},
   "outputs": [
    {
     "name": "stdout",
     "output_type": "stream",
     "text": [
      "Merhaba\n",
      "Nasılsın\n",
      "İyi misin\n"
     ]
    }
   ],
   "source": [
    "print(\"Merhaba\\nNasılsın\\nİyi misin\")"
   ]
  },
  {
   "cell_type": "code",
   "execution_count": 90,
   "id": "37723710",
   "metadata": {},
   "outputs": [
    {
     "name": "stdout",
     "output_type": "stream",
     "text": [
      "Fatma Çiçek\n"
     ]
    }
   ],
   "source": [
    "print(\"Fatma\",\"Çiçek\")"
   ]
  },
  {
   "cell_type": "code",
   "execution_count": 91,
   "id": "fcc7d946",
   "metadata": {},
   "outputs": [
    {
     "name": "stdout",
     "output_type": "stream",
     "text": [
      "Merhaba          İyi misin?\n"
     ]
    }
   ],
   "source": [
    "print(\"Merhaba          İyi misin?\")"
   ]
  },
  {
   "cell_type": "code",
   "execution_count": 92,
   "id": "ebb4525d",
   "metadata": {},
   "outputs": [
    {
     "name": "stdout",
     "output_type": "stream",
     "text": [
      "Ocak\tMart\tŞubat\n"
     ]
    }
   ],
   "source": [
    "print(\"Ocak\\tMart\\tŞubat\")"
   ]
  },
  {
   "cell_type": "code",
   "execution_count": 94,
   "id": "7a7d92cb",
   "metadata": {},
   "outputs": [
    {
     "name": "stdout",
     "output_type": "stream",
     "text": [
      "a\t\t\t\t\tb\n"
     ]
    }
   ],
   "source": [
    "print(\"a\\t\\t\\t\\t\\tb\")"
   ]
  },
  {
   "cell_type": "code",
   "execution_count": 95,
   "id": "b0417407",
   "metadata": {},
   "outputs": [
    {
     "data": {
      "text/plain": [
       "int"
      ]
     },
     "execution_count": 95,
     "metadata": {},
     "output_type": "execute_result"
    }
   ],
   "source": [
    "type(34)"
   ]
  },
  {
   "cell_type": "code",
   "execution_count": 96,
   "id": "017abb38",
   "metadata": {},
   "outputs": [
    {
     "data": {
      "text/plain": [
       "float"
      ]
     },
     "execution_count": 96,
     "metadata": {},
     "output_type": "execute_result"
    }
   ],
   "source": [
    "type(3.14)"
   ]
  },
  {
   "cell_type": "code",
   "execution_count": 97,
   "id": "326d7cba",
   "metadata": {},
   "outputs": [
    {
     "data": {
      "text/plain": [
       "str"
      ]
     },
     "execution_count": 97,
     "metadata": {},
     "output_type": "execute_result"
    }
   ],
   "source": [
    "type(\"Python\")"
   ]
  },
  {
   "cell_type": "code",
   "execution_count": 98,
   "id": "76ea1cc2",
   "metadata": {},
   "outputs": [
    {
     "name": "stdout",
     "output_type": "stream",
     "text": [
      "35 43 54 65\n"
     ]
    }
   ],
   "source": [
    "print(35,43,54,65)"
   ]
  },
  {
   "cell_type": "code",
   "execution_count": 99,
   "id": "da47f276",
   "metadata": {},
   "outputs": [
    {
     "name": "stdout",
     "output_type": "stream",
     "text": [
      "35/43/54/65\n"
     ]
    }
   ],
   "source": [
    "print(35,43,54,65,sep = \"/\")"
   ]
  },
  {
   "cell_type": "code",
   "execution_count": 151,
   "id": "9fb946dd",
   "metadata": {},
   "outputs": [
    {
     "name": "stdout",
     "output_type": "stream",
     "text": [
      "Fatma\n",
      "Çiçek\n"
     ]
    }
   ],
   "source": [
    "print(\"Fatma\",\"Çiçek\",sep = \"\\n\")"
   ]
  },
  {
   "cell_type": "code",
   "execution_count": 102,
   "id": "df6ed581",
   "metadata": {},
   "outputs": [
    {
     "name": "stdout",
     "output_type": "stream",
     "text": [
      "Python\n"
     ]
    }
   ],
   "source": [
    "print(\"Python\")"
   ]
  },
  {
   "cell_type": "code",
   "execution_count": 103,
   "id": "34519101",
   "metadata": {},
   "outputs": [
    {
     "name": "stdout",
     "output_type": "stream",
     "text": [
      "P y t h o n\n"
     ]
    }
   ],
   "source": [
    "print(*\"Python\")"
   ]
  },
  {
   "cell_type": "code",
   "execution_count": 104,
   "id": "0e2291d8",
   "metadata": {},
   "outputs": [
    {
     "name": "stdout",
     "output_type": "stream",
     "text": [
      "P/y/t/h/o/n\n"
     ]
    }
   ],
   "source": [
    "print(*\"Python\",sep = \"/\")"
   ]
  },
  {
   "cell_type": "code",
   "execution_count": 105,
   "id": "7404afab",
   "metadata": {},
   "outputs": [
    {
     "name": "stdout",
     "output_type": "stream",
     "text": [
      "T.B.M.M\n"
     ]
    }
   ],
   "source": [
    "print(\"T\",\"B\",\"M\",\"M\",sep =\".\")"
   ]
  },
  {
   "cell_type": "code",
   "execution_count": 106,
   "id": "df249b7c",
   "metadata": {},
   "outputs": [
    {
     "name": "stdout",
     "output_type": "stream",
     "text": [
      "T.B.M.M\n"
     ]
    }
   ],
   "source": [
    "print(*\"TBMM\",sep =\".\")"
   ]
  },
  {
   "cell_type": "code",
   "execution_count": null,
   "id": "ed560622",
   "metadata": {},
   "outputs": [],
   "source": [
    "a = int(input(\"a:\"))\n",
    "b = int(input(\"b:\"))\n",
    "c = int(input(\"c:\"))\n",
    "\n",
    "çarpım = a * b * c\n",
    "\n",
    "print(\"{} x {} x {} = {} dir\".format(a,b,c,çarpım))"
   ]
  },
  {
   "cell_type": "markdown",
   "id": "93a3337b",
   "metadata": {},
   "source": [
    "# Listeler"
   ]
  },
  {
   "cell_type": "code",
   "execution_count": 107,
   "id": "2ead9c56",
   "metadata": {},
   "outputs": [],
   "source": [
    "liste = [\"Elma\",35,\"Merhaba\",3.14,5]"
   ]
  },
  {
   "cell_type": "code",
   "execution_count": 108,
   "id": "9e246913",
   "metadata": {},
   "outputs": [
    {
     "data": {
      "text/plain": [
       "list"
      ]
     },
     "execution_count": 108,
     "metadata": {},
     "output_type": "execute_result"
    }
   ],
   "source": [
    "type(liste)"
   ]
  },
  {
   "cell_type": "code",
   "execution_count": 109,
   "id": "fd92ddfc",
   "metadata": {},
   "outputs": [
    {
     "data": {
      "text/plain": [
       "[]"
      ]
     },
     "execution_count": 109,
     "metadata": {},
     "output_type": "execute_result"
    }
   ],
   "source": [
    "liste = []\n",
    "liste"
   ]
  },
  {
   "cell_type": "code",
   "execution_count": 110,
   "id": "e1b8b1ba",
   "metadata": {},
   "outputs": [],
   "source": [
    "liste = list()"
   ]
  },
  {
   "cell_type": "code",
   "execution_count": 111,
   "id": "ded1ece6",
   "metadata": {},
   "outputs": [
    {
     "data": {
      "text/plain": [
       "[]"
      ]
     },
     "execution_count": 111,
     "metadata": {},
     "output_type": "execute_result"
    }
   ],
   "source": [
    "liste"
   ]
  },
  {
   "cell_type": "code",
   "execution_count": 112,
   "id": "c630b66a",
   "metadata": {},
   "outputs": [
    {
     "data": {
      "text/plain": [
       "9"
      ]
     },
     "execution_count": 112,
     "metadata": {},
     "output_type": "execute_result"
    }
   ],
   "source": [
    "liste2 = [1,2,3,4,5,6,7,8,9]\n",
    "len(liste2)"
   ]
  },
  {
   "cell_type": "code",
   "execution_count": 113,
   "id": "83d4c14b",
   "metadata": {},
   "outputs": [
    {
     "data": {
      "text/plain": [
       "['M', 'e', 'r', 'h', 'a', 'b', 'a']"
      ]
     },
     "execution_count": 113,
     "metadata": {},
     "output_type": "execute_result"
    }
   ],
   "source": [
    "liste = list(\"Merhaba\")\n",
    "liste"
   ]
  },
  {
   "cell_type": "code",
   "execution_count": 114,
   "id": "4427d71a",
   "metadata": {},
   "outputs": [
    {
     "data": {
      "text/plain": [
       "7"
      ]
     },
     "execution_count": 114,
     "metadata": {},
     "output_type": "execute_result"
    }
   ],
   "source": [
    "len(liste)"
   ]
  },
  {
   "cell_type": "code",
   "execution_count": 115,
   "id": "a8bb9e7f",
   "metadata": {},
   "outputs": [
    {
     "data": {
      "text/plain": [
       "[1, 2, 3, 4, 5, 6]"
      ]
     },
     "execution_count": 115,
     "metadata": {},
     "output_type": "execute_result"
    }
   ],
   "source": [
    "liste1 =  [1,2,3]\n",
    "liste2 = [4,5,6]\n",
    "liste3 = liste1 + liste2\n",
    "liste3"
   ]
  },
  {
   "cell_type": "code",
   "execution_count": 116,
   "id": "273afa35",
   "metadata": {},
   "outputs": [
    {
     "data": {
      "text/plain": [
       "[1, 2, 3, 1, 2, 3, 1, 2, 3]"
      ]
     },
     "execution_count": 116,
     "metadata": {},
     "output_type": "execute_result"
    }
   ],
   "source": [
    "liste1 * 3"
   ]
  },
  {
   "cell_type": "code",
   "execution_count": 117,
   "id": "7a98fa3f",
   "metadata": {},
   "outputs": [
    {
     "data": {
      "text/plain": [
       "[1, 2, 3]"
      ]
     },
     "execution_count": 117,
     "metadata": {},
     "output_type": "execute_result"
    }
   ],
   "source": [
    "liste1"
   ]
  },
  {
   "cell_type": "code",
   "execution_count": 118,
   "id": "9d2bc5b7",
   "metadata": {},
   "outputs": [
    {
     "data": {
      "text/plain": [
       "[1, 2, 3, 1, 2, 3, 1, 2, 3]"
      ]
     },
     "execution_count": 118,
     "metadata": {},
     "output_type": "execute_result"
    }
   ],
   "source": [
    "liste1 = liste1 * 3\n",
    "liste1"
   ]
  },
  {
   "cell_type": "code",
   "execution_count": 119,
   "id": "0c9181bf",
   "metadata": {},
   "outputs": [
    {
     "ename": "TypeError",
     "evalue": "'str' object does not support item assignment",
     "output_type": "error",
     "traceback": [
      "\u001b[1;31m---------------------------------------------------------------------------\u001b[0m",
      "\u001b[1;31mTypeError\u001b[0m                                 Traceback (most recent call last)",
      "\u001b[1;32m~\\AppData\\Local\\Temp/ipykernel_21448/3299843337.py\u001b[0m in \u001b[0;36m<module>\u001b[1;34m\u001b[0m\n\u001b[0;32m      1\u001b[0m \u001b[0ma\u001b[0m \u001b[1;33m=\u001b[0m \u001b[1;34m\"Tahta\"\u001b[0m\u001b[1;33m\u001b[0m\u001b[1;33m\u001b[0m\u001b[0m\n\u001b[1;32m----> 2\u001b[1;33m \u001b[0ma\u001b[0m\u001b[1;33m[\u001b[0m\u001b[1;36m1\u001b[0m\u001b[1;33m]\u001b[0m \u001b[1;33m=\u001b[0m \u001b[1;34m\"p\"\u001b[0m\u001b[1;33m\u001b[0m\u001b[1;33m\u001b[0m\u001b[0m\n\u001b[0m",
      "\u001b[1;31mTypeError\u001b[0m: 'str' object does not support item assignment"
     ]
    }
   ],
   "source": [
    "a = \"Tahta\"\n",
    "a[1] = \"p\""
   ]
  },
  {
   "cell_type": "code",
   "execution_count": 120,
   "id": "bd2c5811",
   "metadata": {},
   "outputs": [
    {
     "data": {
      "text/plain": [
       "[4, 5, 6]"
      ]
     },
     "execution_count": 120,
     "metadata": {},
     "output_type": "execute_result"
    }
   ],
   "source": [
    "liste2"
   ]
  },
  {
   "cell_type": "code",
   "execution_count": 121,
   "id": "2609c3de",
   "metadata": {},
   "outputs": [],
   "source": [
    "liste2[1] = 10"
   ]
  },
  {
   "cell_type": "code",
   "execution_count": 122,
   "id": "1dbb6068",
   "metadata": {},
   "outputs": [
    {
     "data": {
      "text/plain": [
       "[4, 10, 6]"
      ]
     },
     "execution_count": 122,
     "metadata": {},
     "output_type": "execute_result"
    }
   ],
   "source": [
    "liste2"
   ]
  },
  {
   "cell_type": "code",
   "execution_count": 123,
   "id": "90944fb6",
   "metadata": {},
   "outputs": [
    {
     "data": {
      "text/plain": [
       "[1, 2]"
      ]
     },
     "execution_count": 123,
     "metadata": {},
     "output_type": "execute_result"
    }
   ],
   "source": [
    "liste = [1,2,3,4,5,6]\n",
    "liste[:2]"
   ]
  },
  {
   "cell_type": "code",
   "execution_count": 124,
   "id": "3646961a",
   "metadata": {},
   "outputs": [],
   "source": [
    "liste[:2] = [10,11]"
   ]
  },
  {
   "cell_type": "code",
   "execution_count": 125,
   "id": "7675b439",
   "metadata": {},
   "outputs": [
    {
     "data": {
      "text/plain": [
       "[4, 10, 6]"
      ]
     },
     "execution_count": 125,
     "metadata": {},
     "output_type": "execute_result"
    }
   ],
   "source": [
    "liste2"
   ]
  },
  {
   "cell_type": "code",
   "execution_count": 126,
   "id": "e3aaba94",
   "metadata": {},
   "outputs": [
    {
     "data": {
      "text/plain": [
       "[10, 11, 3, 4, 5, 6]"
      ]
     },
     "execution_count": 126,
     "metadata": {},
     "output_type": "execute_result"
    }
   ],
   "source": [
    "liste"
   ]
  },
  {
   "cell_type": "code",
   "execution_count": 128,
   "id": "86f5a4e2",
   "metadata": {},
   "outputs": [],
   "source": [
    "liste.append(\"Python\")"
   ]
  },
  {
   "cell_type": "code",
   "execution_count": 129,
   "id": "02b80216",
   "metadata": {},
   "outputs": [
    {
     "data": {
      "text/plain": [
       "[10, 11, 3, 4, 5, 6, 'Python', 'Python']"
      ]
     },
     "execution_count": 129,
     "metadata": {},
     "output_type": "execute_result"
    }
   ],
   "source": [
    "liste"
   ]
  },
  {
   "cell_type": "code",
   "execution_count": 130,
   "id": "3d153fd3",
   "metadata": {},
   "outputs": [],
   "source": [
    "liste.append(12)"
   ]
  },
  {
   "cell_type": "code",
   "execution_count": 131,
   "id": "4379ceb1",
   "metadata": {},
   "outputs": [
    {
     "data": {
      "text/plain": [
       "[10, 11, 3, 4, 5, 6, 'Python', 'Python', 12]"
      ]
     },
     "execution_count": 131,
     "metadata": {},
     "output_type": "execute_result"
    }
   ],
   "source": [
    "liste"
   ]
  },
  {
   "cell_type": "code",
   "execution_count": 132,
   "id": "0fb7f652",
   "metadata": {},
   "outputs": [
    {
     "data": {
      "text/plain": [
       "12"
      ]
     },
     "execution_count": 132,
     "metadata": {},
     "output_type": "execute_result"
    }
   ],
   "source": [
    "liste.pop()"
   ]
  },
  {
   "cell_type": "code",
   "execution_count": 133,
   "id": "f35ef4ff",
   "metadata": {},
   "outputs": [
    {
     "data": {
      "text/plain": [
       "[10, 11, 3, 4, 5, 6, 'Python', 'Python']"
      ]
     },
     "execution_count": 133,
     "metadata": {},
     "output_type": "execute_result"
    }
   ],
   "source": [
    "liste"
   ]
  },
  {
   "cell_type": "code",
   "execution_count": 134,
   "id": "e6eb3738",
   "metadata": {},
   "outputs": [
    {
     "data": {
      "text/plain": [
       "10"
      ]
     },
     "execution_count": 134,
     "metadata": {},
     "output_type": "execute_result"
    }
   ],
   "source": [
    "liste.pop(0)"
   ]
  },
  {
   "cell_type": "code",
   "execution_count": 135,
   "id": "fa197fa2",
   "metadata": {},
   "outputs": [
    {
     "data": {
      "text/plain": [
       "[11, 3, 4, 5, 6, 'Python', 'Python']"
      ]
     },
     "execution_count": 135,
     "metadata": {},
     "output_type": "execute_result"
    }
   ],
   "source": [
    "liste"
   ]
  },
  {
   "cell_type": "code",
   "execution_count": 136,
   "id": "54603dc2",
   "metadata": {},
   "outputs": [],
   "source": [
    "liste = [34,2,1,5,6,32,100]\n",
    "liste.sort()"
   ]
  },
  {
   "cell_type": "code",
   "execution_count": 137,
   "id": "f5bfac8b",
   "metadata": {},
   "outputs": [
    {
     "data": {
      "text/plain": [
       "[1, 2, 5, 6, 32, 34, 100]"
      ]
     },
     "execution_count": 137,
     "metadata": {},
     "output_type": "execute_result"
    }
   ],
   "source": [
    "liste"
   ]
  },
  {
   "cell_type": "code",
   "execution_count": 138,
   "id": "744eb88e",
   "metadata": {},
   "outputs": [],
   "source": [
    "liste.sort(reverse = True)"
   ]
  },
  {
   "cell_type": "code",
   "execution_count": 139,
   "id": "7dafdf4c",
   "metadata": {},
   "outputs": [
    {
     "data": {
      "text/plain": [
       "[100, 34, 32, 6, 5, 2, 1]"
      ]
     },
     "execution_count": 139,
     "metadata": {},
     "output_type": "execute_result"
    }
   ],
   "source": [
    "liste"
   ]
  },
  {
   "cell_type": "code",
   "execution_count": 140,
   "id": "68a51d31",
   "metadata": {},
   "outputs": [],
   "source": [
    "liste = [\"Php\",\"Python\",\"Java\",\"C\"]\n",
    "liste.sort()"
   ]
  },
  {
   "cell_type": "code",
   "execution_count": 141,
   "id": "1af90420",
   "metadata": {},
   "outputs": [
    {
     "data": {
      "text/plain": [
       "['C', 'Java', 'Php', 'Python']"
      ]
     },
     "execution_count": 141,
     "metadata": {},
     "output_type": "execute_result"
    }
   ],
   "source": [
    "liste"
   ]
  },
  {
   "cell_type": "code",
   "execution_count": 142,
   "id": "c9d6af3c",
   "metadata": {},
   "outputs": [],
   "source": [
    "liste.sort(reverse = True)"
   ]
  },
  {
   "cell_type": "code",
   "execution_count": 143,
   "id": "c5d9292f",
   "metadata": {},
   "outputs": [
    {
     "data": {
      "text/plain": [
       "['Python', 'Php', 'Java', 'C']"
      ]
     },
     "execution_count": 143,
     "metadata": {},
     "output_type": "execute_result"
    }
   ],
   "source": [
    "liste"
   ]
  },
  {
   "cell_type": "code",
   "execution_count": 144,
   "id": "1088c0ca",
   "metadata": {},
   "outputs": [
    {
     "data": {
      "text/plain": [
       "[[1, 2], [3, 4], [5, 6]]"
      ]
     },
     "execution_count": 144,
     "metadata": {},
     "output_type": "execute_result"
    }
   ],
   "source": [
    "liste = [[1,2],[3,4],[5,6]]\n",
    "liste"
   ]
  },
  {
   "cell_type": "code",
   "execution_count": 145,
   "id": "8eb25fed",
   "metadata": {},
   "outputs": [
    {
     "data": {
      "text/plain": [
       "[3, 4]"
      ]
     },
     "execution_count": 145,
     "metadata": {},
     "output_type": "execute_result"
    }
   ],
   "source": [
    "liste[1]"
   ]
  },
  {
   "cell_type": "code",
   "execution_count": 146,
   "id": "09de47f3",
   "metadata": {},
   "outputs": [
    {
     "data": {
      "text/plain": [
       "4"
      ]
     },
     "execution_count": 146,
     "metadata": {},
     "output_type": "execute_result"
    }
   ],
   "source": [
    "liste[1][1]"
   ]
  },
  {
   "cell_type": "markdown",
   "id": "1023152a",
   "metadata": {},
   "source": [
    "# Demetler (Tuplelar)"
   ]
  },
  {
   "cell_type": "code",
   "execution_count": 1,
   "id": "cd902681",
   "metadata": {},
   "outputs": [],
   "source": [
    "demet = (1,2,3,4,5,6,7)"
   ]
  },
  {
   "cell_type": "code",
   "execution_count": 2,
   "id": "90ded41d",
   "metadata": {},
   "outputs": [
    {
     "data": {
      "text/plain": [
       "tuple"
      ]
     },
     "execution_count": 2,
     "metadata": {},
     "output_type": "execute_result"
    }
   ],
   "source": [
    "type(demet)"
   ]
  },
  {
   "cell_type": "code",
   "execution_count": 3,
   "id": "26e9e938",
   "metadata": {},
   "outputs": [
    {
     "data": {
      "text/plain": [
       "5"
      ]
     },
     "execution_count": 3,
     "metadata": {},
     "output_type": "execute_result"
    }
   ],
   "source": [
    "demet[4]"
   ]
  },
  {
   "cell_type": "code",
   "execution_count": 4,
   "id": "872625ff",
   "metadata": {},
   "outputs": [
    {
     "data": {
      "text/plain": [
       "7"
      ]
     },
     "execution_count": 4,
     "metadata": {},
     "output_type": "execute_result"
    }
   ],
   "source": [
    "demet[-1]"
   ]
  },
  {
   "cell_type": "code",
   "execution_count": 5,
   "id": "f66a3b09",
   "metadata": {},
   "outputs": [
    {
     "data": {
      "text/plain": [
       "1"
      ]
     },
     "execution_count": 5,
     "metadata": {},
     "output_type": "execute_result"
    }
   ],
   "source": [
    "demet[0]"
   ]
  },
  {
   "cell_type": "code",
   "execution_count": 6,
   "id": "f7e2ce3b",
   "metadata": {},
   "outputs": [],
   "source": [
    "demet2 = (1,1,1,1,1,2,2,4,5)"
   ]
  },
  {
   "cell_type": "code",
   "execution_count": 7,
   "id": "20bf28e7",
   "metadata": {},
   "outputs": [
    {
     "data": {
      "text/plain": [
       "5"
      ]
     },
     "execution_count": 7,
     "metadata": {},
     "output_type": "execute_result"
    }
   ],
   "source": [
    "demet2.count(1)"
   ]
  },
  {
   "cell_type": "code",
   "execution_count": 8,
   "id": "32dda98c",
   "metadata": {},
   "outputs": [
    {
     "data": {
      "text/plain": [
       "1"
      ]
     },
     "execution_count": 8,
     "metadata": {},
     "output_type": "execute_result"
    }
   ],
   "source": [
    "demet2.count(5)"
   ]
  },
  {
   "cell_type": "code",
   "execution_count": 9,
   "id": "8943e931",
   "metadata": {},
   "outputs": [
    {
     "data": {
      "text/plain": [
       "0"
      ]
     },
     "execution_count": 9,
     "metadata": {},
     "output_type": "execute_result"
    }
   ],
   "source": [
    "demet2.count(10)"
   ]
  },
  {
   "cell_type": "code",
   "execution_count": 10,
   "id": "c11d8caf",
   "metadata": {},
   "outputs": [
    {
     "data": {
      "text/plain": [
       "0"
      ]
     },
     "execution_count": 10,
     "metadata": {},
     "output_type": "execute_result"
    }
   ],
   "source": [
    "demet3 = (\"Python\",\"Php\",\"C\",\"Java\")\n",
    "demet3.index(\"Python\")"
   ]
  },
  {
   "cell_type": "code",
   "execution_count": 11,
   "id": "aff4c798",
   "metadata": {},
   "outputs": [
    {
     "data": {
      "text/plain": [
       "3"
      ]
     },
     "execution_count": 11,
     "metadata": {},
     "output_type": "execute_result"
    }
   ],
   "source": [
    "demet3.index(\"Java\")"
   ]
  },
  {
   "cell_type": "code",
   "execution_count": 12,
   "id": "a4bc8dfe",
   "metadata": {},
   "outputs": [
    {
     "ename": "ValueError",
     "evalue": "tuple.index(x): x not in tuple",
     "output_type": "error",
     "traceback": [
      "\u001b[1;31m---------------------------------------------------------------------------\u001b[0m",
      "\u001b[1;31mValueError\u001b[0m                                Traceback (most recent call last)",
      "\u001b[1;32m~\\AppData\\Local\\Temp/ipykernel_5620/3757764020.py\u001b[0m in \u001b[0;36m<module>\u001b[1;34m\u001b[0m\n\u001b[1;32m----> 1\u001b[1;33m \u001b[0mdemet3\u001b[0m\u001b[1;33m.\u001b[0m\u001b[0mindex\u001b[0m\u001b[1;33m(\u001b[0m\u001b[1;34m\"AngularJS\"\u001b[0m\u001b[1;33m)\u001b[0m\u001b[1;33m\u001b[0m\u001b[1;33m\u001b[0m\u001b[0m\n\u001b[0m",
      "\u001b[1;31mValueError\u001b[0m: tuple.index(x): x not in tuple"
     ]
    }
   ],
   "source": [
    "demet3.index(\"AngularJS\")"
   ]
  },
  {
   "cell_type": "code",
   "execution_count": 13,
   "id": "ad02f31b",
   "metadata": {},
   "outputs": [
    {
     "ename": "TypeError",
     "evalue": "'tuple' object does not support item assignment",
     "output_type": "error",
     "traceback": [
      "\u001b[1;31m---------------------------------------------------------------------------\u001b[0m",
      "\u001b[1;31mTypeError\u001b[0m                                 Traceback (most recent call last)",
      "\u001b[1;32m~\\AppData\\Local\\Temp/ipykernel_5620/257694492.py\u001b[0m in \u001b[0;36m<module>\u001b[1;34m\u001b[0m\n\u001b[0;32m      1\u001b[0m \u001b[0mdemet\u001b[0m \u001b[1;33m=\u001b[0m \u001b[1;33m(\u001b[0m\u001b[1;36m1\u001b[0m\u001b[1;33m,\u001b[0m\u001b[1;36m2\u001b[0m\u001b[1;33m,\u001b[0m\u001b[1;36m3\u001b[0m\u001b[1;33m,\u001b[0m\u001b[1;36m4\u001b[0m\u001b[1;33m,\u001b[0m\u001b[1;36m5\u001b[0m\u001b[1;33m)\u001b[0m\u001b[1;33m\u001b[0m\u001b[1;33m\u001b[0m\u001b[0m\n\u001b[1;32m----> 2\u001b[1;33m \u001b[0mdemet\u001b[0m\u001b[1;33m[\u001b[0m\u001b[1;33m-\u001b[0m\u001b[1;36m1\u001b[0m\u001b[1;33m]\u001b[0m \u001b[1;33m=\u001b[0m \u001b[1;36m10\u001b[0m\u001b[1;33m\u001b[0m\u001b[1;33m\u001b[0m\u001b[0m\n\u001b[0m",
      "\u001b[1;31mTypeError\u001b[0m: 'tuple' object does not support item assignment"
     ]
    }
   ],
   "source": [
    "demet = (1,2,3,4,5)\n",
    "demet[-1] = 10"
   ]
  },
  {
   "cell_type": "markdown",
   "id": "2ff99478",
   "metadata": {},
   "source": [
    "# Sözlükler - Dictionary"
   ]
  },
  {
   "cell_type": "code",
   "execution_count": 15,
   "id": "5163b167",
   "metadata": {},
   "outputs": [],
   "source": [
    "sözlük1 = {\"bir\":1,\"iki\":2,\"üç\":3,\"dört\":4}"
   ]
  },
  {
   "cell_type": "code",
   "execution_count": 16,
   "id": "68a484b3",
   "metadata": {},
   "outputs": [
    {
     "data": {
      "text/plain": [
       "dict"
      ]
     },
     "execution_count": 16,
     "metadata": {},
     "output_type": "execute_result"
    }
   ],
   "source": [
    "type(sözlük1)"
   ]
  },
  {
   "cell_type": "code",
   "execution_count": 17,
   "id": "66fc583a",
   "metadata": {},
   "outputs": [],
   "source": [
    "sözlük2 = {}"
   ]
  },
  {
   "cell_type": "code",
   "execution_count": 18,
   "id": "a546c8e3",
   "metadata": {},
   "outputs": [
    {
     "data": {
      "text/plain": [
       "{}"
      ]
     },
     "execution_count": 18,
     "metadata": {},
     "output_type": "execute_result"
    }
   ],
   "source": [
    "sözlük2"
   ]
  },
  {
   "cell_type": "code",
   "execution_count": 19,
   "id": "2fd88018",
   "metadata": {},
   "outputs": [],
   "source": [
    "sözlük2 = dict()"
   ]
  },
  {
   "cell_type": "code",
   "execution_count": 20,
   "id": "0035db87",
   "metadata": {},
   "outputs": [
    {
     "data": {
      "text/plain": [
       "{}"
      ]
     },
     "execution_count": 20,
     "metadata": {},
     "output_type": "execute_result"
    }
   ],
   "source": [
    "sözlük2"
   ]
  },
  {
   "cell_type": "code",
   "execution_count": 21,
   "id": "2bcbdf38",
   "metadata": {},
   "outputs": [
    {
     "data": {
      "text/plain": [
       "{'bir': 1, 'iki': 2, 'üç': 3, 'dört': 4}"
      ]
     },
     "execution_count": 21,
     "metadata": {},
     "output_type": "execute_result"
    }
   ],
   "source": [
    "sözlük1"
   ]
  },
  {
   "cell_type": "code",
   "execution_count": 22,
   "id": "d4cc47d8",
   "metadata": {},
   "outputs": [
    {
     "data": {
      "text/plain": [
       "1"
      ]
     },
     "execution_count": 22,
     "metadata": {},
     "output_type": "execute_result"
    }
   ],
   "source": [
    "sözlük1[\"bir\"]"
   ]
  },
  {
   "cell_type": "code",
   "execution_count": 23,
   "id": "17d74cd4",
   "metadata": {},
   "outputs": [
    {
     "data": {
      "text/plain": [
       "4"
      ]
     },
     "execution_count": 23,
     "metadata": {},
     "output_type": "execute_result"
    }
   ],
   "source": [
    "sözlük1[\"dört\"]"
   ]
  },
  {
   "cell_type": "code",
   "execution_count": 24,
   "id": "fd6fcccf",
   "metadata": {},
   "outputs": [
    {
     "ename": "KeyError",
     "evalue": "'beş'",
     "output_type": "error",
     "traceback": [
      "\u001b[1;31m---------------------------------------------------------------------------\u001b[0m",
      "\u001b[1;31mKeyError\u001b[0m                                  Traceback (most recent call last)",
      "\u001b[1;32m~\\AppData\\Local\\Temp/ipykernel_5620/2377591889.py\u001b[0m in \u001b[0;36m<module>\u001b[1;34m\u001b[0m\n\u001b[1;32m----> 1\u001b[1;33m \u001b[0msözlük1\u001b[0m\u001b[1;33m[\u001b[0m\u001b[1;34m\"beş\"\u001b[0m\u001b[1;33m]\u001b[0m\u001b[1;33m\u001b[0m\u001b[1;33m\u001b[0m\u001b[0m\n\u001b[0m",
      "\u001b[1;31mKeyError\u001b[0m: 'beş'"
     ]
    }
   ],
   "source": [
    "sözlük1[\"beş\"]"
   ]
  },
  {
   "cell_type": "code",
   "execution_count": 25,
   "id": "b13d3004",
   "metadata": {},
   "outputs": [
    {
     "data": {
      "text/plain": [
       "{'bir': 1, 'iki': 2, 'üç': 3, 'dört': 4}"
      ]
     },
     "execution_count": 25,
     "metadata": {},
     "output_type": "execute_result"
    }
   ],
   "source": [
    "sözlük1"
   ]
  },
  {
   "cell_type": "code",
   "execution_count": 26,
   "id": "2e90ade1",
   "metadata": {},
   "outputs": [],
   "source": [
    "sözlük1[\"beş\"] = 5"
   ]
  },
  {
   "cell_type": "code",
   "execution_count": 27,
   "id": "77721512",
   "metadata": {},
   "outputs": [
    {
     "data": {
      "text/plain": [
       "{'bir': 1, 'iki': 2, 'üç': 3, 'dört': 4, 'beş': 5}"
      ]
     },
     "execution_count": 27,
     "metadata": {},
     "output_type": "execute_result"
    }
   ],
   "source": [
    "sözlük1"
   ]
  },
  {
   "cell_type": "code",
   "execution_count": 28,
   "id": "207976f8",
   "metadata": {},
   "outputs": [],
   "source": [
    "a = {\"bir\" : [1,2,3,4], \"iki\": [[1,2],[3,4],[5,6]],\"üç\" : 15}"
   ]
  },
  {
   "cell_type": "code",
   "execution_count": 29,
   "id": "428ff8e9",
   "metadata": {},
   "outputs": [
    {
     "data": {
      "text/plain": [
       "[[1, 2], [3, 4], [5, 6]]"
      ]
     },
     "execution_count": 29,
     "metadata": {},
     "output_type": "execute_result"
    }
   ],
   "source": [
    "a[\"iki\"]"
   ]
  },
  {
   "cell_type": "code",
   "execution_count": 30,
   "id": "6d4f52b4",
   "metadata": {},
   "outputs": [
    {
     "data": {
      "text/plain": [
       "[3, 4]"
      ]
     },
     "execution_count": 30,
     "metadata": {},
     "output_type": "execute_result"
    }
   ],
   "source": [
    "a[\"iki\"][1]"
   ]
  },
  {
   "cell_type": "code",
   "execution_count": 31,
   "id": "c3b87e27",
   "metadata": {},
   "outputs": [
    {
     "data": {
      "text/plain": [
       "4"
      ]
     },
     "execution_count": 31,
     "metadata": {},
     "output_type": "execute_result"
    }
   ],
   "source": [
    "a[\"iki\"][1][1]"
   ]
  },
  {
   "cell_type": "code",
   "execution_count": 32,
   "id": "08ed61b9",
   "metadata": {},
   "outputs": [
    {
     "data": {
      "text/plain": [
       "{'bir': 1, 'iki': 2, 'üç': 3, 'dört': 4, 'beş': 5}"
      ]
     },
     "execution_count": 32,
     "metadata": {},
     "output_type": "execute_result"
    }
   ],
   "source": [
    "sözlük1"
   ]
  },
  {
   "cell_type": "code",
   "execution_count": 33,
   "id": "7173ac68",
   "metadata": {},
   "outputs": [],
   "source": [
    "sözlük1[\"beş\"] = 10"
   ]
  },
  {
   "cell_type": "code",
   "execution_count": 34,
   "id": "09d89569",
   "metadata": {},
   "outputs": [],
   "source": [
    "sözlük1[\"beş\"] += 1"
   ]
  },
  {
   "cell_type": "code",
   "execution_count": 35,
   "id": "084cd9be",
   "metadata": {},
   "outputs": [
    {
     "data": {
      "text/plain": [
       "11"
      ]
     },
     "execution_count": 35,
     "metadata": {},
     "output_type": "execute_result"
    }
   ],
   "source": [
    "sözlük1[\"beş\"]"
   ]
  },
  {
   "cell_type": "code",
   "execution_count": 36,
   "id": "ad3d2730",
   "metadata": {},
   "outputs": [],
   "source": [
    "a = {\"sayılar\":{\"bir\":1,\"iki\":2,\"üç\":3},\"meyveler\":{\"kiraz\":\"yaz\",\"portakal\":\"kış\",\"erik\":\"yaz\"}}"
   ]
  },
  {
   "cell_type": "code",
   "execution_count": 37,
   "id": "09b57d85",
   "metadata": {},
   "outputs": [
    {
     "data": {
      "text/plain": [
       "{'bir': 1, 'iki': 2, 'üç': 3}"
      ]
     },
     "execution_count": 37,
     "metadata": {},
     "output_type": "execute_result"
    }
   ],
   "source": [
    "a[\"sayılar\"]"
   ]
  },
  {
   "cell_type": "code",
   "execution_count": 38,
   "id": "bee2d2dd",
   "metadata": {},
   "outputs": [
    {
     "data": {
      "text/plain": [
       "2"
      ]
     },
     "execution_count": 38,
     "metadata": {},
     "output_type": "execute_result"
    }
   ],
   "source": [
    "a[\"sayılar\"][\"iki\"]"
   ]
  },
  {
   "cell_type": "code",
   "execution_count": 39,
   "id": "e71b9b12",
   "metadata": {},
   "outputs": [
    {
     "data": {
      "text/plain": [
       "{'kiraz': 'yaz', 'portakal': 'kış', 'erik': 'yaz'}"
      ]
     },
     "execution_count": 39,
     "metadata": {},
     "output_type": "execute_result"
    }
   ],
   "source": [
    "a[\"meyveler\"]"
   ]
  },
  {
   "cell_type": "code",
   "execution_count": 40,
   "id": "6884ce47",
   "metadata": {},
   "outputs": [
    {
     "data": {
      "text/plain": [
       "'yaz'"
      ]
     },
     "execution_count": 40,
     "metadata": {},
     "output_type": "execute_result"
    }
   ],
   "source": [
    "a[\"meyveler\"][\"kiraz\"]"
   ]
  },
  {
   "cell_type": "code",
   "execution_count": 41,
   "id": "8dfca5fa",
   "metadata": {},
   "outputs": [
    {
     "data": {
      "text/plain": [
       "{'bir': 1, 'iki': 2, 'üç': 3, 'dört': 4, 'beş': 11}"
      ]
     },
     "execution_count": 41,
     "metadata": {},
     "output_type": "execute_result"
    }
   ],
   "source": [
    "sözlük1"
   ]
  },
  {
   "cell_type": "code",
   "execution_count": 42,
   "id": "06a043b4",
   "metadata": {},
   "outputs": [
    {
     "data": {
      "text/plain": [
       "dict_keys(['bir', 'iki', 'üç', 'dört', 'beş'])"
      ]
     },
     "execution_count": 42,
     "metadata": {},
     "output_type": "execute_result"
    }
   ],
   "source": [
    "sözlük1.keys()"
   ]
  },
  {
   "cell_type": "code",
   "execution_count": 43,
   "id": "9f89b968",
   "metadata": {},
   "outputs": [
    {
     "data": {
      "text/plain": [
       "dict_values([1, 2, 3, 4, 11])"
      ]
     },
     "execution_count": 43,
     "metadata": {},
     "output_type": "execute_result"
    }
   ],
   "source": [
    "sözlük1.values()"
   ]
  },
  {
   "cell_type": "code",
   "execution_count": 44,
   "id": "fb410bec",
   "metadata": {},
   "outputs": [
    {
     "data": {
      "text/plain": [
       "dict_items([('bir', 1), ('iki', 2), ('üç', 3), ('dört', 4), ('beş', 11)])"
      ]
     },
     "execution_count": 44,
     "metadata": {},
     "output_type": "execute_result"
    }
   ],
   "source": [
    "sözlük1.items()"
   ]
  },
  {
   "cell_type": "code",
   "execution_count": 45,
   "id": "a25acd67",
   "metadata": {},
   "outputs": [
    {
     "name": "stdout",
     "output_type": "stream",
     "text": [
      "bir 1\n",
      "iki 2\n",
      "üç 3\n",
      "dört 4\n",
      "beş 11\n"
     ]
    }
   ],
   "source": [
    "for k,v in sözlük1.items():\n",
    "    print(k,v)"
   ]
  },
  {
   "cell_type": "markdown",
   "id": "4e0ec1bc",
   "metadata": {},
   "source": [
    "# Kullanıcıdan Girdi Alma - input() Fonksiyonu"
   ]
  },
  {
   "cell_type": "code",
   "execution_count": 46,
   "id": "87a4b9c7",
   "metadata": {},
   "outputs": [
    {
     "name": "stdout",
     "output_type": "stream",
     "text": [
      "56\n"
     ]
    },
    {
     "data": {
      "text/plain": [
       "'56'"
      ]
     },
     "execution_count": 46,
     "metadata": {},
     "output_type": "execute_result"
    }
   ],
   "source": [
    "input()"
   ]
  },
  {
   "cell_type": "code",
   "execution_count": 47,
   "id": "9bb22b1b",
   "metadata": {},
   "outputs": [
    {
     "name": "stdout",
     "output_type": "stream",
     "text": [
      "Lütfen bir sayı giriniz:1345\n"
     ]
    },
    {
     "data": {
      "text/plain": [
       "'1345'"
      ]
     },
     "execution_count": 47,
     "metadata": {},
     "output_type": "execute_result"
    }
   ],
   "source": [
    "input(\"Lütfen bir sayı giriniz:\")"
   ]
  },
  {
   "cell_type": "code",
   "execution_count": 48,
   "id": "cece3a5a",
   "metadata": {},
   "outputs": [
    {
     "name": "stdout",
     "output_type": "stream",
     "text": [
      "Lütfen bir sayı giriniz:23\n",
      "Kullanıcıdan girdiği değer 23\n"
     ]
    }
   ],
   "source": [
    "a = input(\"Lütfen bir sayı giriniz:\")\n",
    "print(\"Kullanıcıdan girdiği değer\",a)"
   ]
  },
  {
   "cell_type": "code",
   "execution_count": 49,
   "id": "8b17b6e8",
   "metadata": {},
   "outputs": [
    {
     "name": "stdout",
     "output_type": "stream",
     "text": [
      "Lütfen bir sayı giriniz:9\n",
      "999\n"
     ]
    }
   ],
   "source": [
    "a = input(\"Lütfen bir sayı giriniz:\")\n",
    "print(a * 3)"
   ]
  },
  {
   "cell_type": "code",
   "execution_count": 50,
   "id": "34bb06f8",
   "metadata": {},
   "outputs": [
    {
     "name": "stdout",
     "output_type": "stream",
     "text": [
      "Lütfen bir sayı giriniz:56.78\n",
      "<class 'str'>\n"
     ]
    }
   ],
   "source": [
    "a = input(\"Lütfen bir sayı giriniz:\")\n",
    "print(type(a))"
   ]
  },
  {
   "cell_type": "code",
   "execution_count": 51,
   "id": "c46e3ded",
   "metadata": {},
   "outputs": [
    {
     "name": "stdout",
     "output_type": "stream",
     "text": [
      "Lütfen bir sayı giriniz:5689\n",
      "17067\n"
     ]
    }
   ],
   "source": [
    "a = int(input(\"Lütfen bir sayı giriniz:\"))\n",
    "print(a * 3)"
   ]
  },
  {
   "cell_type": "code",
   "execution_count": 52,
   "id": "aec91dda",
   "metadata": {},
   "outputs": [
    {
     "name": "stdout",
     "output_type": "stream",
     "text": [
      "Birinci Sayı:2\n",
      "İkinci Sayı:9\n",
      "Üçüncü Sayı:22\n",
      "Toplamları 33\n"
     ]
    }
   ],
   "source": [
    "a = int(input(\"Birinci Sayı:\"))\n",
    "b = int(input(\"İkinci Sayı:\"))\n",
    "c = int(input(\"Üçüncü Sayı:\"))\n",
    "print(\"Toplamları\",a+b+c)"
   ]
  },
  {
   "cell_type": "code",
   "execution_count": 55,
   "id": "ae208cff",
   "metadata": {},
   "outputs": [
    {
     "name": "stdout",
     "output_type": "stream",
     "text": [
      "a:56\n",
      "56\n"
     ]
    }
   ],
   "source": [
    "a = int(input(\"a:\"))\n",
    "print(a)"
   ]
  },
  {
   "cell_type": "code",
   "execution_count": 57,
   "id": "5ae76597",
   "metadata": {},
   "outputs": [
    {
     "name": "stdout",
     "output_type": "stream",
     "text": [
      "İsim:Fatma\n",
      "İsminiz Fatma\n"
     ]
    }
   ],
   "source": [
    "isim = input(\"İsim:\")\n",
    "print(\"İsminiz\",isim)"
   ]
  },
  {
   "cell_type": "markdown",
   "id": "c19558fb",
   "metadata": {},
   "source": [
    "# Programlama Ödevi - Temel Python Objeleri ve Veri Yapıları"
   ]
  },
  {
   "cell_type": "markdown",
   "id": "38dc88d1",
   "metadata": {},
   "source": [
    "#Problem 1\n",
    "\n",
    "Kullanıcıdan aldığınız 3 tane sayıyı çarparak ekrana yazdırın. Ekrana yazdırma işlemini format metoduyla yapmaya çalışın."
   ]
  },
  {
   "cell_type": "markdown",
   "id": "9313a0f6",
   "metadata": {},
   "source": [
    "#Problem 2\n",
    "\n",
    "Kullanıcıdan aldığınız boy ve kilo değerlerine göre kullanıcının beden kitle indeksini bulun.\n",
    "\n",
    "Beden Kitle İndeksi : Kilo / Boy(m) Boy(m)"
   ]
  },
  {
   "cell_type": "markdown",
   "id": "e35b9a80",
   "metadata": {},
   "source": [
    "#Problem 3\n",
    "\n",
    "Bir aracın kilometrede ne kadar yaktığı ve kaç kilometre yol yaptığı bilgilerini alın ve sürücünü toplam ne kadar ödemesini gerektiğini hesaplayın."
   ]
  },
  {
   "cell_type": "markdown",
   "id": "a2d813c7",
   "metadata": {},
   "source": [
    "#Problem 4\n",
    "\n",
    "Kullanıcıdan ad,soyad ve numara bilgisini alarak bunları alt alta ekrana yazdırın.\n",
    "\n"
   ]
  },
  {
   "cell_type": "markdown",
   "id": "52112cfe",
   "metadata": {},
   "source": [
    "#Problem 5\n",
    "\n",
    "Kullanıcıdan iki tane sayı isteyin ve bu sayıların değerlerini birbirleriyle değiştirin."
   ]
  },
  {
   "cell_type": "markdown",
   "id": "5f888a04",
   "metadata": {},
   "source": [
    "#Problem 6\n",
    "\n",
    "Kullanıcıdan bir dik üçgenin dik olan iki kenarını(a,b) alın ve hipotenüs uzunluğunu bulmaya çalışın.\n",
    "\n",
    "Hipotenüs Formülü: a^2 + b^2 = c^2"
   ]
  },
  {
   "cell_type": "markdown",
   "id": "596aa3cd",
   "metadata": {},
   "source": [
    "# Programlama Ödevi Çözümleri - Temel Python Objeleri ve Veri Yapıları"
   ]
  },
  {
   "cell_type": "code",
   "execution_count": 61,
   "id": "10bb0ab9",
   "metadata": {},
   "outputs": [
    {
     "name": "stdout",
     "output_type": "stream",
     "text": [
      "a:3\n",
      "b:4\n",
      "c:5\n",
      "3 x 4 x 5 = 60 dir\n"
     ]
    }
   ],
   "source": [
    "#Problem 1\n",
    "\n",
    "a = int(input(\"a:\"))\n",
    "b = int(input(\"b:\"))\n",
    "c = int(input(\"c:\"))\n",
    "\n",
    "çarpım = a * b * c\n",
    "\n",
    "print(\"{} x {} x {} = {} dir\".format(a,b,c,çarpım))"
   ]
  },
  {
   "cell_type": "code",
   "execution_count": 62,
   "id": "131ec31a",
   "metadata": {},
   "outputs": [
    {
     "name": "stdout",
     "output_type": "stream",
     "text": [
      "Boy:1.57\n",
      "Kilo:53\n",
      "Beden Kitle İndeksi: 21.50188648626719\n"
     ]
    }
   ],
   "source": [
    "#Problem 2\n",
    "\n",
    "boy = float(input(\"Boy:\"))\n",
    "kilo = int(input(\"Kilo:\"))\n",
    "\n",
    "print(\"Beden Kitle İndeksi:\",kilo / (boy ** 2))"
   ]
  },
  {
   "cell_type": "code",
   "execution_count": 64,
   "id": "c6102754",
   "metadata": {},
   "outputs": [
    {
     "name": "stdout",
     "output_type": "stream",
     "text": [
      "Kilometrede yakan miktar:0.22\n",
      "Kaç km yol yaptınız:139\n",
      "Tutar: 30.580000000000002 tl\n"
     ]
    }
   ],
   "source": [
    "#Problem 3\n",
    "\n",
    "yakan_miktar = float(input(\"Kilometrede yakan miktar:\"))\n",
    "\n",
    "kilometre = int(input(\"Kaç km yol yaptınız:\"))\n",
    "\n",
    "print(\"Tutar: {} tl\".format(yakan_miktar * kilometre))"
   ]
  },
  {
   "cell_type": "code",
   "execution_count": 66,
   "id": "86e2575f",
   "metadata": {},
   "outputs": [
    {
     "name": "stdout",
     "output_type": "stream",
     "text": [
      "Ad:Fatma\n",
      "Soyad:ÇİÇEK\n",
      "Numara:1421\n",
      "\n",
      "Bilgiler...\n",
      "\n",
      "Fatma\n",
      "ÇİÇEK\n",
      "1421\n"
     ]
    }
   ],
   "source": [
    "#Problem 4\n",
    "\n",
    "ad = input(\"Ad:\")\n",
    "soyad = input(\"Soyad:\")\n",
    "numara = input(\"Numara:\")\n",
    "print(\"\\nBilgiler...\\n\")\n",
    "print(\"{}\\n{}\\n{}\".format(ad,soyad,numara))"
   ]
  },
  {
   "cell_type": "code",
   "execution_count": 67,
   "id": "4c6c5a69",
   "metadata": {},
   "outputs": [
    {
     "name": "stdout",
     "output_type": "stream",
     "text": [
      "a:16\n",
      "b:47\n",
      "Değiştirilmeden Önce Değerler\n",
      "a: 16 b: 47\n",
      "\n",
      "Değiştirildikten Sonraki Değerler\n",
      "a: 47 b: 16\n",
      "\n"
     ]
    }
   ],
   "source": [
    "#Problem 5\n",
    "\n",
    "a = input(\"a:\")\n",
    "b = input(\"b:\")\n",
    "\n",
    "print(\"Değiştirilmeden Önce Değerler\\na: {} b: {}\\n\".format(a,b))\n",
    "\n",
    "a,b = b,a\n",
    "\n",
    "print(\"Değiştirildikten Sonraki Değerler\\na: {} b: {}\\n\".format(a,b))"
   ]
  },
  {
   "cell_type": "code",
   "execution_count": 68,
   "id": "6f2035bb",
   "metadata": {},
   "outputs": [
    {
     "name": "stdout",
     "output_type": "stream",
     "text": [
      "a:3\n",
      "b:4\n",
      "Hipotenüs:  5.0\n"
     ]
    }
   ],
   "source": [
    "#Problem 6\n",
    "\n",
    "a = int(input(\"a:\"))\n",
    "\n",
    "b = int(input(\"b:\"))\n",
    "\n",
    "c =  (a ** 2 + b ** 2) ** 0.5\n",
    "\n",
    "print(\"Hipotenüs: \",c)"
   ]
  },
  {
   "cell_type": "markdown",
   "id": "838a842f",
   "metadata": {},
   "source": [
    "# KOŞULLU DURUMLAR"
   ]
  },
  {
   "cell_type": "code",
   "execution_count": 2,
   "id": "a68b480c",
   "metadata": {},
   "outputs": [],
   "source": [
    "#01.07.22"
   ]
  },
  {
   "cell_type": "markdown",
   "id": "121dcad7",
   "metadata": {},
   "source": [
    "# Mantıksal Değerler ve Karşılaştırma Operatörleri"
   ]
  },
  {
   "cell_type": "markdown",
   "id": "4c8bfd26",
   "metadata": {},
   "source": [
    "Bu konuda, koşullu durumları incelemeden önce bilmemiz gereken mantıksal değerleri ve karşılaştırma operatörlerini öğrenmeye çalışacağız."
   ]
  },
  {
   "cell_type": "markdown",
   "id": "e81717ea",
   "metadata": {},
   "source": [
    "# Mantıksal Değerler (Boolean)"
   ]
  },
  {
   "cell_type": "markdown",
   "id": "dcfb4bb2",
   "metadata": {},
   "source": [
    "Mantıksal değerler ya da ingilizce ismiyle boolean değerler aslında Pythonda bir veri tipidir ve iki değere sahiplerdir: True ve False. Şimdi bu değerlerden değişkenler oluşturalım."
   ]
  },
  {
   "cell_type": "code",
   "execution_count": 3,
   "id": "07dd5253",
   "metadata": {},
   "outputs": [
    {
     "name": "stdout",
     "output_type": "stream",
     "text": [
      "<class 'bool'>\n"
     ]
    }
   ],
   "source": [
    "a =  True\n",
    "print(type(a))"
   ]
  },
  {
   "cell_type": "code",
   "execution_count": 4,
   "id": "47a522e0",
   "metadata": {},
   "outputs": [
    {
     "name": "stdout",
     "output_type": "stream",
     "text": [
      "<class 'bool'>\n"
     ]
    }
   ],
   "source": [
    "b = False\n",
    "print(type(b))"
   ]
  },
  {
   "cell_type": "markdown",
   "id": "0c2a947a",
   "metadata": {},
   "source": [
    "Pythonda bir sayı değeri eğer 0'dan farklıysa True, 0 ise False olarak anlam kazanır. Bunu bool() fonksiyonuyla dönüştürme yaparak görebiliriz."
   ]
  },
  {
   "cell_type": "code",
   "execution_count": 6,
   "id": "ac5151f8",
   "metadata": {},
   "outputs": [
    {
     "data": {
      "text/plain": [
       "True"
      ]
     },
     "execution_count": 6,
     "metadata": {},
     "output_type": "execute_result"
    }
   ],
   "source": [
    "bool(12.4)"
   ]
  },
  {
   "cell_type": "code",
   "execution_count": 7,
   "id": "76ccecd3",
   "metadata": {},
   "outputs": [
    {
     "data": {
      "text/plain": [
       "False"
      ]
     },
     "execution_count": 7,
     "metadata": {},
     "output_type": "execute_result"
    }
   ],
   "source": [
    "bool(0.0)"
   ]
  },
  {
   "cell_type": "code",
   "execution_count": 8,
   "id": "56eeab46",
   "metadata": {},
   "outputs": [
    {
     "data": {
      "text/plain": [
       "True"
      ]
     },
     "execution_count": 8,
     "metadata": {},
     "output_type": "execute_result"
    }
   ],
   "source": [
    "bool(121212)"
   ]
  },
  {
   "cell_type": "code",
   "execution_count": 9,
   "id": "aa3afe9b",
   "metadata": {},
   "outputs": [
    {
     "data": {
      "text/plain": [
       "True"
      ]
     },
     "execution_count": 9,
     "metadata": {},
     "output_type": "execute_result"
    }
   ],
   "source": [
    "bool(-1)"
   ]
  },
  {
   "cell_type": "code",
   "execution_count": 10,
   "id": "6dd59ef0",
   "metadata": {},
   "outputs": [
    {
     "data": {
      "text/plain": [
       "False"
      ]
     },
     "execution_count": 10,
     "metadata": {},
     "output_type": "execute_result"
    }
   ],
   "source": [
    "bool(0)"
   ]
  },
  {
   "cell_type": "markdown",
   "id": "4fedee14",
   "metadata": {},
   "source": [
    "Bool değerleri ayrıca birazdan göreceğimiz bir karşılaştırma operatöründen sonra ortaya çıkan sonuç değeridir"
   ]
  },
  {
   "cell_type": "code",
   "execution_count": 11,
   "id": "e9cf56f6",
   "metadata": {},
   "outputs": [
    {
     "data": {
      "text/plain": [
       "False"
      ]
     },
     "execution_count": 11,
     "metadata": {},
     "output_type": "execute_result"
    }
   ],
   "source": [
    "1 > 2 # 1 2 den büyük olmadığı için sonuç False olacaktır."
   ]
  },
  {
   "cell_type": "code",
   "execution_count": 12,
   "id": "d2430427",
   "metadata": {},
   "outputs": [
    {
     "data": {
      "text/plain": [
       "True"
      ]
     },
     "execution_count": 12,
     "metadata": {},
     "output_type": "execute_result"
    }
   ],
   "source": [
    "1 < 2 # 1 2 den küçük olduğu için sonuç True olacaktır."
   ]
  },
  {
   "cell_type": "markdown",
   "id": "e77d4230",
   "metadata": {},
   "source": [
    "Ayrıca Pythonda eğer bir değişkenin değerini sonradan belirlemek isterseniz geçici olarak bu değişken None (atanmamış anlamında) değerine eşitleyebilirsiniz."
   ]
  },
  {
   "cell_type": "code",
   "execution_count": 13,
   "id": "5a2ba446",
   "metadata": {},
   "outputs": [
    {
     "name": "stdout",
     "output_type": "stream",
     "text": [
      "None\n"
     ]
    }
   ],
   "source": [
    "a = None # Henüz değer atamadık\n",
    "print(a)"
   ]
  },
  {
   "cell_type": "code",
   "execution_count": 14,
   "id": "a43bf67f",
   "metadata": {},
   "outputs": [
    {
     "name": "stdout",
     "output_type": "stream",
     "text": [
      "4\n"
     ]
    }
   ],
   "source": [
    "a = 4 # Şimdi değer atıyoruz.\n",
    "print(a)"
   ]
  },
  {
   "cell_type": "markdown",
   "id": "a762d802",
   "metadata": {},
   "source": [
    "# Karşılaştırma Operatörler"
   ]
  },
  {
   "cell_type": "raw",
   "id": "31ffb075",
   "metadata": {},
   "source": [
    " Operatör\tGörevi\tÖrnek\n",
    " \n",
    "==\tİki değer birbirine eşitse True, değilse False değer döner.\t2 == 2 (True) , 2 == 3 (False)\n",
    "\n",
    "!=\tİki değer birbirine eşit değilse True, diğer durumda False döner.\t2 != 2 (False), 2 != 3 (True)\n",
    "\n",
    "   > Soldaki değer sağdaki değerden büyükse True, değilse False döner.\t3 > 2 (True), 2 > 3 (False)\n",
    "\n",
    "   < Soldaki değer sağdaki değerden küçükse True, değilse False döner.\t2 < 3 (True) , 3 < 2 (False)\n",
    "\n",
    " >=\tSoldaki değer sağdaki değerden büyükse veya sağdaki değere eşitse True, değilse False döner.\t3 >= 2 (True),3 >= 3 (True)\n",
    ", 2 >= 3 (False)\n",
    "\n",
    " <=\tSoldaki değer sağdaki değerden küçükse veya sağdaki değere eşitse True, değilse False döner.\t3 <= 2 (False),3 <= 3 (True) , 2 <= 3 (True)"
   ]
  },
  {
   "cell_type": "code",
   "execution_count": 16,
   "id": "a8702e96",
   "metadata": {},
   "outputs": [
    {
     "data": {
      "text/plain": [
       "True"
      ]
     },
     "execution_count": 16,
     "metadata": {},
     "output_type": "execute_result"
    }
   ],
   "source": [
    "\"Mehmet\" == \"Mehmet\""
   ]
  },
  {
   "cell_type": "code",
   "execution_count": 17,
   "id": "4beb6065",
   "metadata": {},
   "outputs": [
    {
     "data": {
      "text/plain": [
       "False"
      ]
     },
     "execution_count": 17,
     "metadata": {},
     "output_type": "execute_result"
    }
   ],
   "source": [
    "\"Mehmet\" == \"Murat\""
   ]
  },
  {
   "cell_type": "code",
   "execution_count": 18,
   "id": "0cc58e03",
   "metadata": {},
   "outputs": [
    {
     "data": {
      "text/plain": [
       "True"
      ]
     },
     "execution_count": 18,
     "metadata": {},
     "output_type": "execute_result"
    }
   ],
   "source": [
    "\"Mehmet\" != \"Murat\""
   ]
  },
  {
   "cell_type": "code",
   "execution_count": 19,
   "id": "8370c8ba",
   "metadata": {},
   "outputs": [
    {
     "data": {
      "text/plain": [
       "False"
      ]
     },
     "execution_count": 19,
     "metadata": {},
     "output_type": "execute_result"
    }
   ],
   "source": [
    "\"Oğuz\" < \"Murat\" # Alfabetik olarak bakar. "
   ]
  },
  {
   "cell_type": "code",
   "execution_count": 20,
   "id": "5e511dcc",
   "metadata": {},
   "outputs": [
    {
     "data": {
      "text/plain": [
       "True"
      ]
     },
     "execution_count": 20,
     "metadata": {},
     "output_type": "execute_result"
    }
   ],
   "source": [
    "2 < 3"
   ]
  },
  {
   "cell_type": "code",
   "execution_count": 21,
   "id": "2df12200",
   "metadata": {},
   "outputs": [
    {
     "data": {
      "text/plain": [
       "True"
      ]
     },
     "execution_count": 21,
     "metadata": {},
     "output_type": "execute_result"
    }
   ],
   "source": [
    "54 >= 54"
   ]
  },
  {
   "cell_type": "code",
   "execution_count": 22,
   "id": "eb376743",
   "metadata": {},
   "outputs": [
    {
     "data": {
      "text/plain": [
       "True"
      ]
     },
     "execution_count": 22,
     "metadata": {},
     "output_type": "execute_result"
    }
   ],
   "source": [
    "98 > 32"
   ]
  },
  {
   "cell_type": "code",
   "execution_count": 23,
   "id": "09324925",
   "metadata": {},
   "outputs": [
    {
     "data": {
      "text/plain": [
       "True"
      ]
     },
     "execution_count": 23,
     "metadata": {},
     "output_type": "execute_result"
    }
   ],
   "source": [
    "34 <= 45"
   ]
  },
  {
   "cell_type": "markdown",
   "id": "df134b8e",
   "metadata": {},
   "source": [
    "# Mantıksal Bağlaçlar"
   ]
  },
  {
   "cell_type": "markdown",
   "id": "90ba4cbd",
   "metadata": {},
   "source": [
    "Mantıksal bağlaçlar daha çok karşılaştırma işlemini kontrol ettiğimiz zamanlarda kullanılır. Bu konuda bunları öğrenmeye çalışacağız."
   ]
  },
  {
   "cell_type": "markdown",
   "id": "8e1c5aaf",
   "metadata": {},
   "source": [
    "# and Operatörü"
   ]
  },
  {
   "cell_type": "code",
   "execution_count": 24,
   "id": "3ae5008d",
   "metadata": {},
   "outputs": [
    {
     "data": {
      "text/plain": [
       "True"
      ]
     },
     "execution_count": 24,
     "metadata": {},
     "output_type": "execute_result"
    }
   ],
   "source": [
    "1 < 2 and \"Murat\" == \"Murat\""
   ]
  },
  {
   "cell_type": "code",
   "execution_count": 25,
   "id": "b540328f",
   "metadata": {},
   "outputs": [
    {
     "data": {
      "text/plain": [
       "False"
      ]
     },
     "execution_count": 25,
     "metadata": {},
     "output_type": "execute_result"
    }
   ],
   "source": [
    "2 > 3 and \"Murat\" == \"Murat\""
   ]
  },
  {
   "cell_type": "code",
   "execution_count": 26,
   "id": "64b282c4",
   "metadata": {},
   "outputs": [
    {
     "data": {
      "text/plain": [
       "False"
      ]
     },
     "execution_count": 26,
     "metadata": {},
     "output_type": "execute_result"
    }
   ],
   "source": [
    "2 == 2 and 3.14 < 2.54 and \"Elma\" != \"Armut\""
   ]
  },
  {
   "cell_type": "markdown",
   "id": "3887e282",
   "metadata": {},
   "source": [
    "İşlemlerin birinin bile sonucu False ise genel işlemin sonucu False çıkmaktadır."
   ]
  },
  {
   "cell_type": "markdown",
   "id": "2d0a5310",
   "metadata": {},
   "source": [
    "# or Operatörü"
   ]
  },
  {
   "cell_type": "markdown",
   "id": "7fcece58",
   "metadata": {},
   "source": [
    "Bu mantıksal bağlaç, bütün karşılaştırma işlemlerinin sonuçlarından en az birinin True olmasına bakar. Bağlanan karşılaştırma işlemlerinin en az birinin True olmasında genel sonuç True , diğer durumlarda ise sonuç False çıkar. Kullanımı şu şekildedir."
   ]
  },
  {
   "cell_type": "code",
   "execution_count": 27,
   "id": "4b8d0902",
   "metadata": {},
   "outputs": [
    {
     "data": {
      "text/plain": [
       "True"
      ]
     },
     "execution_count": 27,
     "metadata": {},
     "output_type": "execute_result"
    }
   ],
   "source": [
    "1 < 2 or \"Murat\" != \"Murat\""
   ]
  },
  {
   "cell_type": "code",
   "execution_count": 28,
   "id": "5e49b768",
   "metadata": {},
   "outputs": [
    {
     "data": {
      "text/plain": [
       "False"
      ]
     },
     "execution_count": 28,
     "metadata": {},
     "output_type": "execute_result"
    }
   ],
   "source": [
    "2 > 3 or \"Murat\" != \"Murat\""
   ]
  },
  {
   "cell_type": "code",
   "execution_count": 29,
   "id": "73f1d333",
   "metadata": {},
   "outputs": [
    {
     "data": {
      "text/plain": [
       "True"
      ]
     },
     "execution_count": 29,
     "metadata": {},
     "output_type": "execute_result"
    }
   ],
   "source": [
    "2 > 3 or \"Murat\" != \"Murat\" or 3.14 < 4.32"
   ]
  },
  {
   "cell_type": "markdown",
   "id": "75f37e83",
   "metadata": {},
   "source": [
    "# not operatörü"
   ]
  },
  {
   "cell_type": "markdown",
   "id": "bd8e9f6a",
   "metadata": {},
   "source": [
    "not operatörü aslında bir mantıksal bağlaç değildir. Bu operatör sadece bir mantıksal değeri veya karşılaştırma işlemininin tam tersi sonuca çevirir. Yani, not operatörü True olan bir sonucu False , False olan bir sonucu True sonucuna çevirir. Kullanımı şu şekildedir."
   ]
  },
  {
   "cell_type": "code",
   "execution_count": 30,
   "id": "849a261a",
   "metadata": {},
   "outputs": [
    {
     "data": {
      "text/plain": [
       "False"
      ]
     },
     "execution_count": 30,
     "metadata": {},
     "output_type": "execute_result"
    }
   ],
   "source": [
    "not 2 == 2"
   ]
  },
  {
   "cell_type": "code",
   "execution_count": 31,
   "id": "904e9691",
   "metadata": {},
   "outputs": [
    {
     "data": {
      "text/plain": [
       "True"
      ]
     },
     "execution_count": 31,
     "metadata": {},
     "output_type": "execute_result"
    }
   ],
   "source": [
    "not \"Python\" == \"Php\""
   ]
  },
  {
   "cell_type": "markdown",
   "id": "35e30860",
   "metadata": {},
   "source": [
    "# Operatörleri Beraber Kullanma"
   ]
  },
  {
   "cell_type": "code",
   "execution_count": 32,
   "id": "4db4c9c9",
   "metadata": {},
   "outputs": [
    {
     "data": {
      "text/plain": [
       "True"
      ]
     },
     "execution_count": 32,
     "metadata": {},
     "output_type": "execute_result"
    }
   ],
   "source": [
    "not (2.14 > 3.49 or ( 2 != 2 and \"Murat\" == \"Murat\"))"
   ]
  },
  {
   "cell_type": "code",
   "execution_count": 33,
   "id": "0830e98f",
   "metadata": {},
   "outputs": [
    {
     "data": {
      "text/plain": [
       "True"
      ]
     },
     "execution_count": 33,
     "metadata": {},
     "output_type": "execute_result"
    }
   ],
   "source": [
    "\"Araba\" < \"Zula\" and ( \"Bebek\" < \"Çoçuk\" or (not 14 ))"
   ]
  },
  {
   "cell_type": "markdown",
   "id": "e77a751c",
   "metadata": {},
   "source": [
    "# Koşullu Durumlar - if-else koşullu durumları"
   ]
  },
  {
   "cell_type": "markdown",
   "id": "1d80c5e4",
   "metadata": {},
   "source": [
    "Şimdiye kadar Pythondaki temel veritiplerini öğrendik ve gerekli temelleri aldık. Artık bundan sonra çok daha eğlenceli konular göreceğiz ve elle tutulur programlar yazmaya başlayacağız. Bu konuda ilk olarak Python programlarının çalışma mantığını göreceğiz ve daha sonrasında koşullu durumları anlamaya çalışacağız."
   ]
  },
  {
   "cell_type": "markdown",
   "id": "729d4ff0",
   "metadata": {},
   "source": [
    "# Python Programlarının çalışma mantığı"
   ]
  },
  {
   "cell_type": "markdown",
   "id": "b52ac0fd",
   "metadata": {},
   "source": [
    "Python programları çalışmaya başladığı zaman kodlarımız yukardan başlayarak teker teker çalıştırılır ve çalıştıracak kod kalmayınca programımız sona erer. Şöyle bir örneği düşünelim;"
   ]
  },
  {
   "cell_type": "code",
   "execution_count": 35,
   "id": "2c47244d",
   "metadata": {},
   "outputs": [
    {
     "name": "stdout",
     "output_type": "stream",
     "text": [
      "9\n"
     ]
    }
   ],
   "source": [
    "a = 2\n",
    "b = 3\n",
    "c = 4\n",
    "print(a+b+c)"
   ]
  },
  {
   "cell_type": "markdown",
   "id": "66bdc58b",
   "metadata": {},
   "source": [
    "Yukarıdaki basit kodda program teker teker her bir satırı ve ifadeyi çalıştırır ve çalıştıracak kod kalmayınca program sona erer.Ancak Python'da her program bu kadar basit olmayabilir. Çoğu zaman Python programlarımız belirli bloklardan oluşur ve bu bloklar her zaman çalışmak zorunda olmaz.Peki bu bloklar nasıl tanımlanır ? Pythonda bir blok tanımlama işlemi Girintiler sayesinde olmaktadır. Örnek olması açısından, Pythonda bloklar şu şekilde oluşabilir"
   ]
  },
  {
   "cell_type": "code",
   "execution_count": 36,
   "id": "3ff6fe35",
   "metadata": {},
   "outputs": [
    {
     "name": "stdout",
     "output_type": "stream",
     "text": [
      "2\n",
      "Merhaba\n"
     ]
    }
   ],
   "source": [
    "a = 2 # Blok 1 'e ait kod\n",
    "\n",
    "if (a == 2):\n",
    "    print(a) # Blok 2'ye ait kod\n",
    "print(\"Merhaba\") # Blok 1 ' ait kod"
   ]
  },
  {
   "cell_type": "markdown",
   "id": "e8612d76",
   "metadata": {},
   "source": [
    "Dikkat ederseniz burada daha önce görmediğimiz bir şey yaptık ve if in bulunduğu satırdan sonraki print işlemini bir tab kadar girintili yazdık. Burada gördüğümüz gibi, girintiler(tab) Pythonda bir blok oluşturmak için kullanılıyor ve her bloğunun çalıştırılması gerekmiyor. Mesela yukarıda gördüğümüz kodda 2 print işlemi de çalıştı. Ancak kodumuzu şu şekilde yazsaydık, ilk print işlemi çalışmayacaktı."
   ]
  },
  {
   "cell_type": "code",
   "execution_count": 38,
   "id": "1f255ec0",
   "metadata": {},
   "outputs": [
    {
     "name": "stdout",
     "output_type": "stream",
     "text": [
      "Merhaba\n"
     ]
    }
   ],
   "source": [
    " a = 2 # Blok 1 'e ait kod\n",
    "\n",
    "if (a == 3):\n",
    "    print(a) # Blok 2'ye ait kod\n",
    "print(\"Merhaba\") # Blok 1 ' ait kod"
   ]
  },
  {
   "cell_type": "markdown",
   "id": "16ef1aa7",
   "metadata": {},
   "source": [
    "# Koşullu Durumlar - if - elif - else koşullu durumları "
   ]
  },
  {
   "cell_type": "markdown",
   "id": "54d82507",
   "metadata": {},
   "source": [
    "Artık Pythonda bizi bir ileri seviyeye taşıyacak koşullu durumları öğrenmenin vakti geldi.\n",
    "\n",
    "Koşullu durumlar aslında günlük yaşamda sürekli karşılaştığımız durumlardır. Örneğin havanın yağmurlu olma koşuluna göre şemsiyemizi alırız veya uykumuzun gelme koşuluna göre uyuruz. Aslında programlamada da birçok koşullu durumla karşılaşırız. Örneğin , belli koşullara göre belli işlemleri yaparız , belli koşullara göre yapmayız. İşte bunlar koşullu durumların temeli oluşturur. İsterseniz koşullu durumları yazmaya if blokları ile başlayalım."
   ]
  },
  {
   "cell_type": "markdown",
   "id": "d77ab542",
   "metadata": {},
   "source": [
    "# if Bloğu"
   ]
  },
  {
   "cell_type": "markdown",
   "id": "f0940efd",
   "metadata": {},
   "source": [
    "if bloğu programımızın içinde herhangi bir yerde belli bir koşulu kontrol edecek isek kullanılan bloklardır.Yazımı şu şekildedir;\n",
    "\n",
    "       if (koşul): \n",
    "           # if bloğu - Koşul sağlanınca (True) çalışır. Bu hizadaki her işlem bu if bloğuna ait.\n",
    "           # if bloğu - Girintiyle oluşturulur.\n",
    "           Yapılacak İşlemler\n",
    "\n",
    "if bloğu eğer koşul sağlanırsa anlamı taşır. Eğer if kalıbındaki koşul sağlanırsa (True) if bloğu çalıştırılır, koşul sağlanmazsa (False) if bloğu çalıştırılmaz.\n",
    "\n",
    "Hemen bir örnek ile koşullu durumları anlamaya çalışalım."
   ]
  },
  {
   "cell_type": "code",
   "execution_count": 44,
   "id": "69404dbd",
   "metadata": {},
   "outputs": [
    {
     "name": "stdout",
     "output_type": "stream",
     "text": [
      "Yaşınızı giriniz:20\n"
     ]
    }
   ],
   "source": [
    "# 18 yaş kontrolü\n",
    "yaş = int(input(\"Yaşınızı giriniz:\"))\n",
    "\n",
    "if (yaş < 18):\n",
    "    # if bloğu -  Girinti ile sağlanıyor.\n",
    "    print(\"Bu mekana giremezsiniz.\")"
   ]
  },
  {
   "cell_type": "code",
   "execution_count": 41,
   "id": "61fba7df",
   "metadata": {},
   "outputs": [
    {
     "name": "stdout",
     "output_type": "stream",
     "text": [
      "Sayıyı giriniz:-56\n",
      "Negatif Sayı\n"
     ]
    }
   ],
   "source": [
    "6"
   ]
  },
  {
   "cell_type": "code",
   "execution_count": 45,
   "id": "9b57fb2e",
   "metadata": {},
   "outputs": [
    {
     "name": "stdout",
     "output_type": "stream",
     "text": [
      "Yaşınızı giriniz:20\n",
      "Mekana hoşgeldiniz.\n"
     ]
    }
   ],
   "source": [
    "# 18 yaş kontrolü\n",
    "yaş = int(input(\"Yaşınızı giriniz:\"))\n",
    "\n",
    "if (yaş < 18):\n",
    "    # if bloğu -  Girinti ile sağlanıyor.\n",
    "    print(\"Bu mekana giremezsiniz.\")\n",
    "print(\"Mekana hoşgeldiniz.\")"
   ]
  },
  {
   "cell_type": "markdown",
   "id": "ff609489",
   "metadata": {},
   "source": [
    "Burada istediğimizi elde edemedik çünkü 2. print işlemi herhangi bir koşula bağlı değil. O yüzden 2.print işlemi her durumda çalışıyor. Peki if koşulu sağlanmadığında belli bir işlemin çalışmasını nasıl sağlayacağız ? Bunun için sıradaki kalıbımızı öğrenelim."
   ]
  },
  {
   "cell_type": "markdown",
   "id": "a0da9636",
   "metadata": {},
   "source": [
    "# else Bloğu"
   ]
  },
  {
   "cell_type": "markdown",
   "id": "761bb873",
   "metadata": {},
   "source": [
    "else blokları if koşulu sağlanmadığı zaman (False) çalışan bloklardır. Kullanımı şu şekildedir;\n",
    "\n",
    "       else:\n",
    "           # else bloğu - Yukarısındaki herhangi bir if bloğu (veya ilerde göreceğimiz elif bloğu) çalışmadığı\n",
    "           # zaman çalışır. \n",
    "           # else bloğu - Girintiyle oluşturulur.\n",
    "               Yapılacak İşlemler\n",
    "\n",
    "Dikkat ederseniz burada else koşulunun yanına herhangi bir koşul yazmadık. Çünkü zaten else bloğunun çalışması ondan önce gelen diğer koşulların sağlanmamasına bağlı oluyor. İsterseniz, 18 yaş kontrolü örneğini else bloğunu dahil ederek tekrar yazalım."
   ]
  },
  {
   "cell_type": "code",
   "execution_count": 46,
   "id": "ded38837",
   "metadata": {},
   "outputs": [
    {
     "name": "stdout",
     "output_type": "stream",
     "text": [
      "Yaşınızı giriniz:20\n",
      "Mekana hoşgeldiniz.\n"
     ]
    }
   ],
   "source": [
    "# 18 yaş kontrolü\n",
    "yaş = int(input(\"Yaşınızı giriniz:\"))\n",
    "\n",
    "if (yaş < 18):\n",
    "    # if bloğu -  Girinti ile sağlanıyor.\n",
    "    print(\"Bu mekana giremezsiniz.\")\n",
    "else:\n",
    "    # else bloğu -  if koşulu sağlanmazsa çalışacak.\n",
    "    print(\"Mekana hoşgeldiniz.\")"
   ]
  },
  {
   "cell_type": "code",
   "execution_count": 47,
   "id": "b6e109ff",
   "metadata": {},
   "outputs": [
    {
     "ename": "SyntaxError",
     "evalue": "invalid syntax (Temp/ipykernel_3172/502107600.py, line 1)",
     "output_type": "error",
     "traceback": [
      "\u001b[1;36m  File \u001b[1;32m\"C:\\Users\\MONSTER\\AppData\\Local\\Temp/ipykernel_3172/502107600.py\"\u001b[1;36m, line \u001b[1;32m1\u001b[0m\n\u001b[1;33m    else:\u001b[0m\n\u001b[1;37m    ^\u001b[0m\n\u001b[1;31mSyntaxError\u001b[0m\u001b[1;31m:\u001b[0m invalid syntax\n"
     ]
    }
   ],
   "source": [
    "else:\n",
    "    print(\"Merhaba\")"
   ]
  },
  {
   "cell_type": "markdown",
   "id": "8d2e0be9",
   "metadata": {},
   "source": [
    "\n",
    "Buradaki kod hata verdi çünkü bir else bloğu kendinden önce herhangi bir koşul bloğu yok ise çalışamaz ve Pythonda hataya yol açar."
   ]
  },
  {
   "cell_type": "markdown",
   "id": "a4e55ba2",
   "metadata": {},
   "source": [
    "# if-elif-else Blokları"
   ]
  },
  {
   "cell_type": "markdown",
   "id": "20c7b7b6",
   "metadata": {},
   "source": [
    "Önceki konumuzda koşullu durumlarımızla sadece tek bir koşulu kontrol edebiliyorduk. Ancak programlamada bir durum bir çok koşula bağlı olabilir. Örneğin bir hesap makinesi programı yazdığımızda kullanıcının girdiği işlemlere göre koşullarımızı belirleyebiliriz. Bu tür durumlar için if-elif-else kalıplarını kullanırız. Kullanımı şu şekildedir;\n",
    "\n",
    "           if koşul: \n",
    "               Yapılacak İşlemler\n",
    "           elif başka bir koşul:\n",
    "               Yapılacak İşlemler\n",
    "           elif başka bir koşul:\n",
    "               Yapılacak İşlemler\n",
    "\n",
    "                //\n",
    "                //\n",
    "           else:\n",
    "               Yapılacak İşlemler \n",
    "Programlarımızda, Kaç tane koşulumuz var ise o kadar elif bloğu oluşturabiliriz. Ayrıca else in yazılması zorunlu değildir. if - elif - else kalıplarında, hangi koşul sağlanırsa program o bloğu çalıştırır ve if-elif-blokları sona erer. Şimdi isterseniz kullanıcıya işlem seçtirdiğimiz bir programla , bu kalıbı öğrenmeye başlayalım."
   ]
  },
  {
   "cell_type": "code",
   "execution_count": 48,
   "id": "f1542f72",
   "metadata": {},
   "outputs": [
    {
     "name": "stdout",
     "output_type": "stream",
     "text": [
      "İşlem seçiniz:2\n",
      "2. işlem seçildi.\n"
     ]
    }
   ],
   "source": [
    "işlem =  int(input(\"İşlem seçiniz:\")) # 3 tane işlemimiz olsun.\n",
    "\n",
    "if işlem == 1:\n",
    "    print(\"1. işlem seçildi.\")\n",
    "elif işlem == 2:\n",
    "    print(\"2. işlem seçildi.\")\n",
    "elif işlem == 3:\n",
    "    print(\"3. işlem seçildi.\")\n",
    "else:\n",
    "    print(\"Geçersiz İşlem!\")"
   ]
  },
  {
   "cell_type": "markdown",
   "id": "d58c6d1c",
   "metadata": {},
   "source": [
    "Programlarda else kalıbının kullanılmasına gerek yoktur.Buradaki kodda biz diğer durumlar için sadece opsiyonel bir else bloğu koyduk. Kodumuz else bloğu olmadan da çalışabilecektir. Ancak bu durumda yanlış bir işlem girilirse ekrana herhangi bir şeyin yazılmadığını göreceğiz. Yani, else bloğu kullanmak tamamen size bağlı."
   ]
  },
  {
   "cell_type": "code",
   "execution_count": 49,
   "id": "f8249349",
   "metadata": {},
   "outputs": [
    {
     "name": "stdout",
     "output_type": "stream",
     "text": [
      "İşlem seçiniz:4\n"
     ]
    }
   ],
   "source": [
    "işlem =  int(input(\"İşlem seçiniz:\")) # 3 tane işlemimiz olsun.\n",
    "\n",
    "if işlem == 1:\n",
    "    print(\"1. işlem seçildi.\")\n",
    "elif işlem == 2:\n",
    "    print(\"2. işlem seçildi.\")\n",
    "elif işlem == 3:\n",
    "    print(\"3. işlem seçildi.\")"
   ]
  },
  {
   "cell_type": "markdown",
   "id": "c191eaff",
   "metadata": {},
   "source": [
    "Peki , if koşulu olmadan elif bloklarını yazmak mümkün mü ? Pythonda böyle bir kullanım hataya yol açacaktır."
   ]
  },
  {
   "cell_type": "code",
   "execution_count": 50,
   "id": "7e4d43d8",
   "metadata": {},
   "outputs": [
    {
     "ename": "SyntaxError",
     "evalue": "invalid syntax (Temp/ipykernel_3172/1775373981.py, line 3)",
     "output_type": "error",
     "traceback": [
      "\u001b[1;36m  File \u001b[1;32m\"C:\\Users\\MONSTER\\AppData\\Local\\Temp/ipykernel_3172/1775373981.py\"\u001b[1;36m, line \u001b[1;32m3\u001b[0m\n\u001b[1;33m    elif işlem == 2:\u001b[0m\n\u001b[1;37m    ^\u001b[0m\n\u001b[1;31mSyntaxError\u001b[0m\u001b[1;31m:\u001b[0m invalid syntax\n"
     ]
    }
   ],
   "source": [
    "\n",
    "işlem =  int(input(\"İşlem seçiniz:\")) # 3 tane işlemimiz olsun.\n",
    "\n",
    "elif işlem == 2:\n",
    "    print(\"2. işlem seçildi.\")\n",
    "elif işlem == 3:\n",
    "    print(\"3. işlem seçildi.\")\n",
    "else:\n",
    "    print(\"Geçersiz İşlem!\")"
   ]
  },
  {
   "cell_type": "code",
   "execution_count": 51,
   "id": "8f25b64e",
   "metadata": {},
   "outputs": [
    {
     "name": "stdout",
     "output_type": "stream",
     "text": [
      "Notunuzu giriniz:56\n",
      "Dersten Kaldınız\n"
     ]
    }
   ],
   "source": [
    "note = float(input(\"Notunuzu giriniz:\"))\n",
    "\n",
    "if note >= 90:\n",
    "    print(\"AA\")\n",
    "elif note >= 85:\n",
    "    print(\"BA\")\n",
    "elif note >= 90:\n",
    "    print(\"BA\")\n",
    "elif note >= 80:\n",
    "    print(\"BB\")\n",
    "elif note >= 75:\n",
    "    print(\"CB\")\n",
    "elif note >= 70:\n",
    "    print(\"CC\")\n",
    "elif note >= 65:\n",
    "    print(\"DC\")\n",
    "elif note >= 60:\n",
    "    print(\"DD\")\n",
    "else:\n",
    "    print(\"Dersten Kaldınız\")"
   ]
  },
  {
   "cell_type": "markdown",
   "id": "86e71d72",
   "metadata": {},
   "source": [
    "Burada eğer herhangi bir bloğumuz koşulu sağlarsa print işlemi gerçekleşecek ve programımız sonlanacaktır. Ancak acaba elif bloklarını if bloklarına çevirirsek programımız nasıl çalışacak ? Hemen bakalım."
   ]
  },
  {
   "cell_type": "code",
   "execution_count": 52,
   "id": "9cdf613d",
   "metadata": {},
   "outputs": [
    {
     "name": "stdout",
     "output_type": "stream",
     "text": [
      "Notunuzu giriniz:89\n",
      "BA\n",
      "BB\n",
      "CB\n",
      "CC\n",
      "DC\n",
      "DD\n"
     ]
    }
   ],
   "source": [
    "note = float(input(\"Notunuzu giriniz:\"))\n",
    "\n",
    "if note >= 90:\n",
    "    print(\"AA\")\n",
    "if note >= 85:\n",
    "    print(\"BA\")\n",
    "if note >= 90:\n",
    "    print(\"BA\")\n",
    "if note >= 80:\n",
    "    print(\"BB\")\n",
    "if note >= 75:\n",
    "    print(\"CB\")\n",
    "if note >= 70:\n",
    "    print(\"CC\")\n",
    "if note >= 65:\n",
    "    print(\"DC\")\n",
    "if note >= 60:\n",
    "    print(\"DD\")\n",
    "else:\n",
    "    print(\"Dersten Kaldınız\")"
   ]
  },
  {
   "cell_type": "markdown",
   "id": "30573c3a",
   "metadata": {},
   "source": [
    "# basit_hesap_makinesi"
   ]
  },
  {
   "cell_type": "code",
   "execution_count": 53,
   "id": "485442af",
   "metadata": {},
   "outputs": [
    {
     "name": "stdout",
     "output_type": "stream",
     "text": [
      "-------------------------------------------------\n",
      "Hesap Makinesi Programına Hoşgeldiniz \n",
      "İşlemler;\n",
      "1. Toplama İşlemi\n",
      "2. Çıkarma İşlemi\n",
      "3. Çarpma İşlemi\n",
      "4. Bölme İşlemi\n",
      "-----------------------------------------------------------\n",
      "\n",
      "Birinci Sayı:2\n",
      "İkinci Sayı:9\n",
      "İşlem Numarasını Giriniz:3\n",
      "2 ile 9 'nin çarpımı 18 dır.\n"
     ]
    }
   ],
   "source": [
    "print(\"\"\"-------------------------------------------------\n",
    "Hesap Makinesi Programına Hoşgeldiniz \n",
    "İşlemler;\n",
    "1. Toplama İşlemi\n",
    "2. Çıkarma İşlemi\n",
    "3. Çarpma İşlemi\n",
    "4. Bölme İşlemi\n",
    "-----------------------------------------------------------\n",
    "\"\"\")\n",
    "a = int(input(\"Birinci Sayı:\")) # Birinci Sayıyı Alıyoruz.\n",
    "b = int(input(\"İkinci Sayı:\")) # İkinci Sayıyı Alıyoruz.\n",
    "\n",
    "işlem =  input(\"İşlem Numarasını Giriniz:\") # Buna göre koşullarımızı yazacağız.\n",
    "\n",
    "if (işlem == \"1\"): # Toplama İşlemi\n",
    "\n",
    "    print(\"{} ile {} 'nin toplamı {} dır.\".format(a,b,a+b))\n",
    "elif (işlem == \"2\"):\n",
    "\n",
    "    print(\"{} ile {} 'nin farkı {} dır.\".format(a, b, a - b))\n",
    "\n",
    "elif (işlem == \"3\"):\n",
    "\n",
    "    print(\"{} ile {} 'nin çarpımı {} dır.\".format(a, b, a * b))\n",
    "\n",
    "elif (işlem == \"4\"):\n",
    "\n",
    "    print(\"{} 'nın {} 'e bölümü {} dır.\".format(a, b, a / b))\n",
    "else:\n",
    "\n",
    "    print(\"Lütfen geçerli bir işlem giriniz...\")"
   ]
  },
  {
   "cell_type": "markdown",
   "id": "f5cee8a2",
   "metadata": {},
   "source": [
    "# kullanıcı_girişi"
   ]
  },
  {
   "cell_type": "code",
   "execution_count": 56,
   "id": "cd869a12",
   "metadata": {},
   "outputs": [
    {
     "name": "stdout",
     "output_type": "stream",
     "text": [
      "**********\n",
      "Kullanıcı Girişi\n",
      "**********\n",
      "\n",
      "Kullanıcı Adını Giriniz:fatma1\n",
      "Parolanızı Giriniz:5468\n",
      "Kullanıcı Adı ve Parola Hatalı...\n"
     ]
    }
   ],
   "source": [
    "print(\"**********\\nKullanıcı Girişi\\n**********\\n\")\n",
    "\n",
    "sys_kul_adı = \"fatma\" # Sistemde Kayıtlı Olduğunu Düşündüğümüz Kullanıcı Adı\n",
    "\n",
    "sys_parola  = \"12345\" # Sistemde Kayıtlı Olduğunu Düşündüğümüz Parola\n",
    "\n",
    "kullanıcı_adı = input(\"Kullanıcı Adını Giriniz:\") # Kullanıcı Adını input ile alıyoruz.\n",
    "\n",
    "parola =  input(\"Parolanızı Giriniz:\")\n",
    "\n",
    "if (kullanıcı_adı != sys_kul_adı and parola == sys_parola):\n",
    "    print(\"Kullanıcı Adı Hatalı...\")\n",
    "elif (kullanıcı_adı == sys_kul_adı and parola != sys_parola):\n",
    "    print(\"Parola Hatalı...\")\n",
    "\n",
    "elif (kullanıcı_adı != sys_kul_adı and parola != sys_parola):\n",
    "    print(\"Kullanıcı Adı ve Parola Hatalı...\")\n",
    "\n",
    "else:\n",
    "    print(\"Başarıyla Giriş Yaptınız...\")"
   ]
  },
  {
   "cell_type": "markdown",
   "id": "18e36258",
   "metadata": {},
   "source": [
    "# Programlama Ödevi - Koşullu Durumlar"
   ]
  },
  {
   "cell_type": "markdown",
   "id": "10bbd57c",
   "metadata": {},
   "source": [
    "#Problem 1\n",
    "\n",
    "Kullanıcıdan alınan boy ve kilo değerlerine göre beden kitle indeksini hesaplayın ve şu kurallara göre ekrana şu yazıları yazdırın.\n",
    "\n",
    " Beden Kitle İndeksi: Kilo / Boy(m) *  Boy(m)\n",
    "\n",
    " BKİ 18.5'un altındaysa -------> Zayıf\n",
    "\n",
    " BKİ 18.5 ile 25 arasındaysa ------> Normal\n",
    "\n",
    " BKİ 25 ile 30 arasındaysa --------> Fazla Kilolu\n",
    "\n",
    " BKİ 30'un üstündeyse -------------> Obez"
   ]
  },
  {
   "cell_type": "markdown",
   "id": "f044a568",
   "metadata": {},
   "source": [
    "#Problem 2\n",
    "\n",
    "Kullanıcıdan 3 tane sayı alın ve en büyük sayıyı ekrana yazdırın."
   ]
  },
  {
   "cell_type": "markdown",
   "id": "7a8bae68",
   "metadata": {},
   "source": [
    "#Problem 3\n",
    "\n",
    "Kullanıcının girdiği vize1,vize2,final notlarına notlarına göre harf notunu hesaplayın.\n",
    "\n",
    "    Vize1 toplam notun %30'una etki edecek.\n",
    "\n",
    "    Vize2 toplam notun %30'una etki edecek.\n",
    "\n",
    "    Final toplam notun %40'ına etki edecek.\n",
    "\n",
    "\n",
    "    Toplam Not >=  90 -----> AA\n",
    "\n",
    "    Toplam Not >=  85 -----> BA\n",
    "\n",
    "    Toplam Not >=  80 -----> BB\n",
    "\n",
    "    Toplam Not >=  75 -----> CB\n",
    "\n",
    "    Toplam Not >=  70 -----> CC\n",
    "\n",
    "    Toplam Not >=  65 -----> DC\n",
    "\n",
    "    Toplam Not >=  60 -----> DD\n",
    "\n",
    "    Toplam Not >=  55 -----> FD\n",
    "\n",
    "    Toplam Not <  55 -----> FF"
   ]
  },
  {
   "cell_type": "markdown",
   "id": "43f15750",
   "metadata": {},
   "source": [
    "#Problem 4\n",
    "\n",
    "Şimdi de geometrik şekil hesaplama işlemi yapalım. İlk olarak kullanıcıdan üçgenin mi dörtgenin mi tipini bulmak istediğini sorun.\n",
    "\n",
    "Eğer kullanıcı \"Dörtgen\" cevabını verirse , 4 tane kenar isteyip bu dörtgenin kare mi , dikdörtgen mi yoksa sıradan bir dörtgen mi olduğunu bulmaya çalışın.\n",
    "\n",
    "Eğer kullanıcı \"Üçgen\" cevabını verirse , 3 tane kenar isteyip bu üçgenin ikizkenar mı , eşkenar mı yoksa sıradan bir üçgen mi olduğunu bulmaya çalışın. Eğer verilen kenarlar bir üçgen belirtmiyorsa, ekrana \"Üçgen belirtmiyor\" şeklinde bir yazı yazın.o\n",
    "\n",
    "Üçgen belirtme şartını bilmiyorsunuz internetten bakabilirsiniz.\n",
    "\n",
    "Ayrıca , bu problemde mutlak değer bulmaya ihtiyacınız olacak. Bunun için, Pythonda hazır bir fonksiyon olan abs() fonksiyonunu kullanabilirsiniz. Kullanımı şu şekildedir ;"
   ]
  },
  {
   "cell_type": "code",
   "execution_count": 58,
   "id": "3cc7c69a",
   "metadata": {},
   "outputs": [
    {
     "data": {
      "text/plain": [
       "4"
      ]
     },
     "execution_count": 58,
     "metadata": {},
     "output_type": "execute_result"
    }
   ],
   "source": [
    "abs(-4)"
   ]
  },
  {
   "cell_type": "code",
   "execution_count": 59,
   "id": "4884b7ef",
   "metadata": {},
   "outputs": [
    {
     "data": {
      "text/plain": [
       "5"
      ]
     },
     "execution_count": 59,
     "metadata": {},
     "output_type": "execute_result"
    }
   ],
   "source": [
    "abs(5)"
   ]
  },
  {
   "cell_type": "markdown",
   "id": "f08c4db7",
   "metadata": {},
   "source": [
    "# Çözümler"
   ]
  },
  {
   "cell_type": "code",
   "execution_count": 62,
   "id": "74f51602",
   "metadata": {},
   "outputs": [
    {
     "name": "stdout",
     "output_type": "stream",
     "text": [
      "Boyunuzu Giriniz:1.57\n",
      "Kilonuzu Giriniz:53\n",
      "Normal\n"
     ]
    }
   ],
   "source": [
    "#Problem 1\n",
    "\n",
    "boy = float(input(\"Boyunuzu Giriniz:\"))\n",
    "kilo = int(input(\"Kilonuzu Giriniz:\"))\n",
    "\n",
    "bki =  kilo / (boy ** 2)\n",
    "\n",
    "if (bki < 18.5):\n",
    "    print(\"Zayıf\")\n",
    "elif (bki >= 18.5 and bki < 25):\n",
    "    print(\"Normal\")\n",
    "elif (bki >= 25 and bki < 30):\n",
    "    print(\"Fazla Kilolu\")\n",
    "else:\n",
    "    print(\"Obez\")"
   ]
  },
  {
   "cell_type": "code",
   "execution_count": 63,
   "id": "46e564bc",
   "metadata": {},
   "outputs": [
    {
     "name": "stdout",
     "output_type": "stream",
     "text": [
      "a:5\n",
      "b:6\n",
      "c:4\n",
      "En büyük sayı: 6\n"
     ]
    }
   ],
   "source": [
    "#Problem 2\n",
    "\n",
    "a =  int(input(\"a:\"))\n",
    "\n",
    "b = int(input(\"b:\"))\n",
    "\n",
    "c = int(input(\"c:\"))\n",
    "\n",
    "if (a >= b and a >= c):\n",
    "    print(\"En büyük sayı:\",a)\n",
    "elif (b >= a and b >= c):\n",
    "    print(\"En büyük sayı:\",b)\n",
    "elif (c >= a and c >= b):\n",
    "    print(\"En büyük sayı:\",c)"
   ]
  },
  {
   "cell_type": "code",
   "execution_count": 66,
   "id": "14f3e102",
   "metadata": {},
   "outputs": [
    {
     "name": "stdout",
     "output_type": "stream",
     "text": [
      "Vize1:95\n",
      "Vize2:95\n",
      "Final:85\n",
      "AA\n"
     ]
    }
   ],
   "source": [
    "#Problem 3\n",
    "\n",
    "vize1 = int(input(\"Vize1:\"))\n",
    "vize2 = int(input(\"Vize2:\"))\n",
    "final = int(input(\"Final:\"))\n",
    "\n",
    "\n",
    "genel_not =  vize1 * 3/10 + vize2 * 3/10 + final * 4/10\n",
    "\n",
    "if (genel_not >= 90):\n",
    "    print(\"AA\")\n",
    "elif (genel_not >= 85):\n",
    "    print(\"BA\")\n",
    "elif (genel_not >= 80):\n",
    "    print(\"BB\")\n",
    "elif (genel_not >= 75):\n",
    "    print(\"CB\")\n",
    "elif (genel_not >= 70):\n",
    "    print(\"CC\")\n",
    "elif (genel_not >= 65):\n",
    "    print(\"DC\")\n",
    "elif (genel_not >= 60):\n",
    "    print(\"DD\")\n",
    "elif (genel_not >= 55):\n",
    "    print(\"FD\")\n",
    "else:\n",
    "    print(\"FF\")\n",
    "    "
   ]
  },
  {
   "cell_type": "code",
   "execution_count": 67,
   "id": "91d568be",
   "metadata": {},
   "outputs": [
    {
     "name": "stdout",
     "output_type": "stream",
     "text": [
      "Hangi şeklin tipini öğrenmek istiyorsunuz?Üçgen\n",
      "Kenar-1:3\n",
      "Kenar-2:3\n",
      "Kenar-3:3\n",
      "Eşkenar Üçgen...\n"
     ]
    }
   ],
   "source": [
    "# Problem 4\n",
    "\n",
    "şekil =  input(\"Hangi şeklin tipini öğrenmek istiyorsunuz?\")\n",
    "\n",
    "if (şekil == \"Dörtgen\"):\n",
    "    print(\"Lütfen kenarları sırayla giriniz.\")\n",
    "    a = int(input(\"Kenar-1:\"))\n",
    "    b = int(input(\"Kenar-2:\"))\n",
    "    c = int(input(\"Kenar-3:\"))\n",
    "    d = int(input(\"Kenar-4:\"))\n",
    "    \n",
    "    if (a == b and a == c and a == d):\n",
    "        print(\"Kare\")\n",
    "    elif (a == c and b == d):\n",
    "        print(\"Dikdörtgen\")\n",
    "    else:\n",
    "        print(\"Dörtgen\")\n",
    "        \n",
    "    \n",
    "    \n",
    "elif (şekil == \"Üçgen\"):\n",
    "    a = int(input(\"Kenar-1:\"))\n",
    "    b = int(input(\"Kenar-2:\"))\n",
    "    c = int(input(\"Kenar-3:\"))\n",
    "    if ( abs(a+b) > c and abs(a+c) > b and abs(b+c) > a):\n",
    "        if (a == b and a == c ):\n",
    "            print(\"Eşkenar Üçgen...\")\n",
    "        elif ((a == b and a != c) or (a == c and a != b) or (b == c and b != a)):\n",
    "            print(\"İkizkenar Üçgen....\")\n",
    "        else:\n",
    "            print(\"Çeşitkenar Üçgen...\")\n",
    "    else:\n",
    "        print(\"Üçgen belirtmiyor...\")\n",
    "        \n",
    "else:\n",
    "    print(\"Geçersiz Şekil...\")"
   ]
  },
  {
   "cell_type": "code",
   "execution_count": 5,
   "id": "704d6a77",
   "metadata": {},
   "outputs": [
    {
     "ename": "IndentationError",
     "evalue": "unexpected indent (Temp/ipykernel_1908/2313174216.py, line 15)",
     "output_type": "error",
     "traceback": [
      "\u001b[1;36m  File \u001b[1;32m\"C:\\Users\\MONSTER\\AppData\\Local\\Temp/ipykernel_1908/2313174216.py\"\u001b[1;36m, line \u001b[1;32m15\u001b[0m\n\u001b[1;33m    if y == 1:\u001b[0m\n\u001b[1;37m    ^\u001b[0m\n\u001b[1;31mIndentationError\u001b[0m\u001b[1;31m:\u001b[0m unexpected indent\n"
     ]
    }
   ],
   "source": [
    "x = int(input(\"sifre giriniz: \"))\n",
    "a = 3000\n",
    "\n",
    "if x ==1234:\n",
    "    print(\"\"\"-------------------------------------------------\n",
    "Hesap Makinesi Programına Hoşgeldiniz \n",
    "İşlemler;\n",
    "1. Para çekme\n",
    "2. Para Yatırma\n",
    "3. Bakiye sorma\n",
    "-----------------------------------------------------------\n",
    "\"\"\")\n",
    "    y = input(\"İşlem giriniz: \")\n",
    "    \n",
    "    if y == \"1\":\n",
    "       z = int(input(\"Çekeceğiniz miktarı giriniz: \"))\n",
    "       print(\"Toplam para: \",a - z)\n",
    "    elif y == \"2\":\n",
    "        k = int(input(\"yatıracağınız miktarı giriniz: \"))\n",
    "        print(\"Toplam para: \",a + z)\n",
    "    else:\n",
    "        print(\"Bakiye\",a)\n",
    "\n",
    "else:\n",
    "    print(\"Şifre Hatalı...\")       "
   ]
  },
  {
   "cell_type": "markdown",
   "id": "ae52e71b",
   "metadata": {},
   "source": [
    "# PYTHON'DA DÖNGÜ YAPILARI"
   ]
  },
  {
   "cell_type": "markdown",
   "id": "ed4e82a0",
   "metadata": {},
   "source": [
    "# Döngü Yapılarını Kullanma\n"
   ]
  },
  {
   "cell_type": "markdown",
   "id": "fbe25be8",
   "metadata": {},
   "source": [
    "Şimdiye kadar yazdığımız programlarda yazdığımız programlar bir defa çalışıyor ve sona eriyordu. Ancak biz çoğu zaman programlarımızın belli koşullarda çalışmasını sürekli devam ettirmesini ve işlemlerini tekrar etmesini isteriz. İşte bunları yapmamızı sağlayan yapılara döngü diyoruz.\n",
    "\n",
    "Döngüler bütün programlama dillerinde bulunan ve belli koşullarda işlemlerini sürekli tekrar eden yapılardır. İsterseniz gerçek hayattaki programlara bakarak döngü mantığını anlamaya çalışalım.\n",
    "\n",
    "Örneğin , siz ATM makinesine gidip kartınızı yerleştiriyorsunuz ve program başlıyor. Para Çekme, Para Yatırma , Vergileri Ödeme gibi işlemleri tekrar tekrar gerçekleştiriyorsunuz. Programın sona ermesi ise Kart İade seçeneği ile gerçekleşiyor. Yani siz Kart İade tuşuna basmadığınız sürece ATM makinesi çalışmaya devam ediyor. Buna bakarak ,aslında ATM makinesi döngü yapılarını kullanıyor diyebiliriz.\n",
    "\n",
    "Başka bir örnek düşünelim. Örneğin siz bir siteye login olma işlemi gerçekleştiriyorsunuz. Biz kullanıcı adı ve parolayı yanlış girdiğimiz sürece program sürekli bize kullanıcı adı ve parola soruyor. Programın sona ermesi ise biz kullanıcı adı ve parolayı doğru girdiğimizde gerçekleşiyor. Yine burada da siz döngü yapılarının kullanıldığını düşünebilirsiniz.\n",
    "\n",
    "Biz de artık bu bölümle birlikte Pythondaki while ve for döngülerini kullanarak programlarımızı daha efektif bir şekilde yazabileceğiz."
   ]
  },
  {
   "cell_type": "markdown",
   "id": "55ec89d0",
   "metadata": {},
   "source": [
    "# For Döngüleri\n",
    "\n",
    " "
   ]
  },
  {
   "cell_type": "markdown",
   "id": "462bfe6d",
   "metadata": {},
   "source": [
    "Bu konuda Pythondaki for döngülerinin yapısını ve for döngülerinin kullanım alanlarını öğreneceğiz. Ancak ondan önce , Pythondaki in operatörünü öğrenmeye çalışalım.\n",
    "\n",
    "in Operatörü\n",
    "Pythondaki in operatörü , bir elemanın başka bir listede,demette veya stringte (karakter dizileri) bulunup bulunmadığını kontrol eder. Kullanımı şu şekildedir;\n",
    "\n"
   ]
  },
  {
   "cell_type": "code",
   "execution_count": 1,
   "id": "08a6ae52",
   "metadata": {},
   "outputs": [
    {
     "data": {
      "text/plain": [
       "True"
      ]
     },
     "execution_count": 1,
     "metadata": {},
     "output_type": "execute_result"
    }
   ],
   "source": [
    "\"a\" in \"merhaba\"\n"
   ]
  },
  {
   "cell_type": "code",
   "execution_count": 2,
   "id": "730e1023",
   "metadata": {},
   "outputs": [
    {
     "data": {
      "text/plain": [
       "True"
      ]
     },
     "execution_count": 2,
     "metadata": {},
     "output_type": "execute_result"
    }
   ],
   "source": [
    "\"mer\" in \"merhaba\"\n"
   ]
  },
  {
   "cell_type": "code",
   "execution_count": 3,
   "id": "012b8113",
   "metadata": {},
   "outputs": [
    {
     "data": {
      "text/plain": [
       "False"
      ]
     },
     "execution_count": 3,
     "metadata": {},
     "output_type": "execute_result"
    }
   ],
   "source": [
    "\"t\" in \"merhaba\""
   ]
  },
  {
   "cell_type": "code",
   "execution_count": 4,
   "id": "c8f11813",
   "metadata": {},
   "outputs": [
    {
     "data": {
      "text/plain": [
       "True"
      ]
     },
     "execution_count": 4,
     "metadata": {},
     "output_type": "execute_result"
    }
   ],
   "source": [
    "4 in [1,2,3,4]"
   ]
  },
  {
   "cell_type": "code",
   "execution_count": 5,
   "id": "acd91a59",
   "metadata": {},
   "outputs": [
    {
     "data": {
      "text/plain": [
       "False"
      ]
     },
     "execution_count": 5,
     "metadata": {},
     "output_type": "execute_result"
    }
   ],
   "source": [
    "10 in [1,2,3,4]"
   ]
  },
  {
   "cell_type": "code",
   "execution_count": 6,
   "id": "e38a51bd",
   "metadata": {},
   "outputs": [
    {
     "data": {
      "text/plain": [
       "False"
      ]
     },
     "execution_count": 6,
     "metadata": {},
     "output_type": "execute_result"
    }
   ],
   "source": [
    "4 in (1,2,3)"
   ]
  },
  {
   "cell_type": "markdown",
   "id": "6e6907a9",
   "metadata": {},
   "source": [
    "for Döngüsü\n",
    "\n",
    "for Döngüsü , listelerin ,demetlerin, stringlerin ve hatta sözlüklerin üzerinde dolaşmamızı sağlayan bir döngü türüdür. Yapısı şu şekildedir.\n",
    "\n",
    "        for eleman in veri_yapısı(liste,demet vs):\n",
    "            Yapılacak İşlemler\n",
    "Bu yapı bize şunu söyler;\n",
    "\n",
    "        eleman değişkeni her döngünün başında listenin,demetin vs. her bir elemanına eşit olacak ve her döngüde \n",
    "        bu elemanla işlem yapılacak.\n",
    "for döngüsünü daha iyi anlamak için örneklerimize bakalım.\n"
   ]
  },
  {
   "cell_type": "markdown",
   "id": "789a7f81",
   "metadata": {},
   "source": [
    "# Listeler Üzerinde Gezinmek\n"
   ]
  },
  {
   "cell_type": "code",
   "execution_count": 7,
   "id": "4b44249a",
   "metadata": {},
   "outputs": [
    {
     "name": "stdout",
     "output_type": "stream",
     "text": [
      "Eleman 1\n",
      "Eleman 2\n",
      "Eleman 3\n",
      "Eleman 4\n",
      "Eleman 5\n",
      "Eleman 6\n",
      "Eleman 7\n"
     ]
    }
   ],
   "source": [
    "liste = [1,2,3,4,5,6,7]\n",
    "\n",
    "for eleman in liste:\n",
    "    print(\"Eleman\",eleman)"
   ]
  },
  {
   "cell_type": "code",
   "execution_count": 8,
   "id": "3bf67a2d",
   "metadata": {},
   "outputs": [
    {
     "name": "stdout",
     "output_type": "stream",
     "text": [
      "Toplam 28\n"
     ]
    }
   ],
   "source": [
    "# Liste elemanlarını toplama\n",
    "liste = [1,2,3,4,5,6,7]\n",
    "toplam = 0\n",
    "for eleman in liste:\n",
    "    toplam += eleman\n",
    "print(\"Toplam\",toplam)"
   ]
  },
  {
   "cell_type": "code",
   "execution_count": 9,
   "id": "0046879c",
   "metadata": {},
   "outputs": [
    {
     "name": "stdout",
     "output_type": "stream",
     "text": [
      "2\n",
      "4\n",
      "6\n",
      "8\n"
     ]
    }
   ],
   "source": [
    "# Çift elemanları bastırma\n",
    "liste = [1,2,3,4,5,6,7,8,9]\n",
    "\n",
    "for eleman in liste:\n",
    "    if eleman % 2 == 0:\n",
    "        print(eleman)"
   ]
  },
  {
   "cell_type": "markdown",
   "id": "54e55e0c",
   "metadata": {},
   "source": [
    "# Karakter Dizileri Üzerinde Gezinmek (Stringler)"
   ]
  },
  {
   "cell_type": "code",
   "execution_count": 10,
   "id": "ef85d34f",
   "metadata": {},
   "outputs": [
    {
     "name": "stdout",
     "output_type": "stream",
     "text": [
      "P\n",
      "y\n",
      "t\n",
      "h\n",
      "o\n",
      "n\n"
     ]
    }
   ],
   "source": [
    "s =  \"Python\"\n",
    "for karakter in s:\n",
    "    print(karakter)"
   ]
  },
  {
   "cell_type": "code",
   "execution_count": 11,
   "id": "c971dc7b",
   "metadata": {},
   "outputs": [
    {
     "name": "stdout",
     "output_type": "stream",
     "text": [
      "PPP\n",
      "yyy\n",
      "ttt\n",
      "hhh\n",
      "ooo\n",
      "nnn\n"
     ]
    }
   ],
   "source": [
    "# Her bir karakterleri 3 ile çarpma\n",
    "s = \"Python\"\n",
    "\n",
    "for karakter in s:\n",
    "    print(karakter * 3)"
   ]
  },
  {
   "cell_type": "markdown",
   "id": "925f99a3",
   "metadata": {},
   "source": [
    "# Demetler üzerinde gezinmek (Demetler)"
   ]
  },
  {
   "cell_type": "code",
   "execution_count": 12,
   "id": "aac228e8",
   "metadata": {},
   "outputs": [
    {
     "name": "stdout",
     "output_type": "stream",
     "text": [
      "1\n",
      "2\n",
      "3\n",
      "4\n",
      "5\n",
      "6\n",
      "7\n"
     ]
    }
   ],
   "source": [
    "# Listelerle aynı mantık\n",
    "demet =  (1,2,3,4,5,6,7)\n",
    "\n",
    "for eleman in demet:\n",
    "    print(eleman)"
   ]
  },
  {
   "cell_type": "markdown",
   "id": "08bc8359",
   "metadata": {},
   "source": [
    "Demetlerin üzerinde for döngüsü uygularken aslında çok pratik bir yöntem bulunuyor. Aşağıdaki örneğe bakalım."
   ]
  },
  {
   "cell_type": "code",
   "execution_count": 13,
   "id": "d18fc991",
   "metadata": {},
   "outputs": [
    {
     "name": "stdout",
     "output_type": "stream",
     "text": [
      "(1, 2)\n",
      "(3, 4)\n",
      "(5, 6)\n",
      "(7, 8)\n"
     ]
    }
   ],
   "source": [
    "# Listelerin için 2 boyutlu demetler\n",
    "\n",
    "liste = [(1,2),(3,4),(5,6),(7,8)]\n",
    "\n",
    "for i in liste:\n",
    "    print(eleman) # Herbir elemanın  demet olduğu görebiliyoruz."
   ]
  },
  {
   "cell_type": "code",
   "execution_count": 14,
   "id": "38b0925a",
   "metadata": {},
   "outputs": [
    {
     "name": "stdout",
     "output_type": "stream",
     "text": [
      "1 2\n",
      "3 4\n",
      "5 6\n",
      "7 8\n"
     ]
    }
   ],
   "source": [
    "# Demet içindeki herbir elemanı almak için pratik yöntem\n",
    "liste = [(1,2),(3,4),(5,6),(7,8)]\n",
    "\n",
    "for (i,j) in liste:\n",
    "    print(i,j)"
   ]
  },
  {
   "cell_type": "code",
   "execution_count": 15,
   "id": "f0f9f0bb",
   "metadata": {},
   "outputs": [
    {
     "name": "stdout",
     "output_type": "stream",
     "text": [
      "6\n",
      "120\n",
      "504\n",
      "1320\n"
     ]
    }
   ],
   "source": [
    "# Demet içindeki elemanları çarpalım.\n",
    "liste = [(1,2,3),(4,5,6),(7,8,9),(10,11,12)]\n",
    "for (i,j,k) in liste:\n",
    "    print(i * j * k)"
   ]
  },
  {
   "cell_type": "markdown",
   "id": "7e50968b",
   "metadata": {},
   "source": [
    "# Sözlükler üzerinde gezinmek (Dictionary)"
   ]
  },
  {
   "cell_type": "markdown",
   "id": "17780a55",
   "metadata": {},
   "source": [
    "Hatırlarsanız, sözlükler konusunda 3 adet metod görmüştük. (keys(),values(),items()*). İsterseniz bunları burada hatırlayalım."
   ]
  },
  {
   "cell_type": "code",
   "execution_count": 17,
   "id": "45efba51",
   "metadata": {},
   "outputs": [
    {
     "data": {
      "text/plain": [
       "dict_keys(['bir', 'iki', 'üç', 'dört'])"
      ]
     },
     "execution_count": 17,
     "metadata": {},
     "output_type": "execute_result"
    }
   ],
   "source": [
    "sözlük = {\"bir\":1,\"iki\":2,\"üç\":3,\"dört\":4}\n",
    "\n",
    "sözlük.keys()\n"
   ]
  },
  {
   "cell_type": "code",
   "execution_count": 18,
   "id": "f1932b12",
   "metadata": {},
   "outputs": [
    {
     "data": {
      "text/plain": [
       "dict_values([1, 2, 3, 4])"
      ]
     },
     "execution_count": 18,
     "metadata": {},
     "output_type": "execute_result"
    }
   ],
   "source": [
    "sözlük.values()"
   ]
  },
  {
   "cell_type": "code",
   "execution_count": 19,
   "id": "34f0a457",
   "metadata": {},
   "outputs": [
    {
     "data": {
      "text/plain": [
       "dict_items([('bir', 1), ('iki', 2), ('üç', 3), ('dört', 4)])"
      ]
     },
     "execution_count": 19,
     "metadata": {},
     "output_type": "execute_result"
    }
   ],
   "source": [
    "sözlük.items()"
   ]
  },
  {
   "cell_type": "markdown",
   "id": "9d4b938a",
   "metadata": {},
   "source": [
    "Python sonuçları dict_keys,dict_values,dict_items olarak vermesine rağmen , bunlar üzerinde liste veya demet üzerinde gezinir gibi for döngüsüyle gezinebiliriz."
   ]
  },
  {
   "cell_type": "code",
   "execution_count": 20,
   "id": "7c22a24a",
   "metadata": {},
   "outputs": [
    {
     "name": "stdout",
     "output_type": "stream",
     "text": [
      "bir\n",
      "iki\n",
      "üç\n",
      "dört\n"
     ]
    }
   ],
   "source": [
    "# Metodları kullanmadan sözlük üzerinde gezinmek - Sadece anahtarları alabiliyoruz.\n",
    "sözlük = {\"bir\":1,\"iki\":2,\"üç\":3,\"dört\":4}\n",
    "\n",
    "for eleman in sözlük:\n",
    "    print(eleman)"
   ]
  },
  {
   "cell_type": "code",
   "execution_count": 21,
   "id": "087520cc",
   "metadata": {},
   "outputs": [
    {
     "name": "stdout",
     "output_type": "stream",
     "text": [
      "bir\n",
      "iki\n",
      "üç\n",
      "dört\n"
     ]
    }
   ],
   "source": [
    "# keys() - Aynı şey\n",
    "sözlük = {\"bir\":1,\"iki\":2,\"üç\":3,\"dört\":4}\n",
    "\n",
    "for eleman in sözlük.keys():\n",
    "    print(eleman)"
   ]
  },
  {
   "cell_type": "code",
   "execution_count": 22,
   "id": "d90e3c46",
   "metadata": {},
   "outputs": [
    {
     "name": "stdout",
     "output_type": "stream",
     "text": [
      "1\n",
      "2\n",
      "3\n",
      "4\n"
     ]
    }
   ],
   "source": [
    "# values() \n",
    "sözlük = {\"bir\":1,\"iki\":2,\"üç\":3,\"dört\":4}\n",
    "\n",
    "for eleman in sözlük.values():\n",
    "    print(eleman)"
   ]
  },
  {
   "cell_type": "code",
   "execution_count": 23,
   "id": "e5148121",
   "metadata": {},
   "outputs": [
    {
     "name": "stdout",
     "output_type": "stream",
     "text": [
      "Anahtar: bir Değer: 1\n",
      "Anahtar: iki Değer: 2\n",
      "Anahtar: üç Değer: 3\n",
      "Anahtar: dört Değer: 4\n"
     ]
    }
   ],
   "source": [
    "# items() \n",
    "sözlük = {\"bir\":1,\"iki\":2,\"üç\":3,\"dört\":4}\n",
    "\n",
    "for (i,j) in sözlük.items():\n",
    "    print(\"Anahtar:\",i,\"Değer:\",j)"
   ]
  },
  {
   "cell_type": "markdown",
   "id": "893e2723",
   "metadata": {},
   "source": [
    "İşte for döngüsü bu kadar! Bir sonraki konuda while döngülerini anlamaya çalışacağız."
   ]
  },
  {
   "cell_type": "markdown",
   "id": "2a500319",
   "metadata": {},
   "source": [
    "# While Döngüleri\n"
   ]
  },
  {
   "cell_type": "markdown",
   "id": "4b99f287",
   "metadata": {},
   "source": [
    "Bu bölümde while döngülerinin yapısını ve nasıl kullanılacağını öğrenmeye çalışacağız.\n",
    "\n",
    "while döngüleri belli bir koşul sağlandığı sürece bloğundaki işlemleri gerçekleştirmeye devam eder. while döngülerinin sona ermesi için koşul durumunun bir süre sonra False olması gereklidir.Yapısı şu şekildedir;\n",
    "\n",
    "                            while (koşul):\n",
    "                                İşlem1\n",
    "                                İşlem2\n",
    "                                İşlem3\n",
    "                                  //\n",
    "                                  //\n",
    "while döngülerini daha iyi anlamak için örneklerimize bakalım.\n"
   ]
  },
  {
   "cell_type": "code",
   "execution_count": 24,
   "id": "31fd01d4",
   "metadata": {
    "scrolled": true
   },
   "outputs": [
    {
     "name": "stdout",
     "output_type": "stream",
     "text": [
      "i'nin değeri 0\n",
      "i'nin değeri 1\n",
      "i'nin değeri 2\n",
      "i'nin değeri 3\n",
      "i'nin değeri 4\n",
      "i'nin değeri 5\n",
      "i'nin değeri 6\n",
      "i'nin değeri 7\n",
      "i'nin değeri 8\n",
      "i'nin değeri 9\n"
     ]
    }
   ],
   "source": [
    "# Döngüde i değerlerini ekrana yazdırma\n",
    "\n",
    "i = 0 \n",
    "\n",
    "while (i < 10):\n",
    "    print(\"i'nin değeri\",i)\n",
    "    i += 1 # Koşulun bir süre sonra False olması için gerekli - Unutmayalım"
   ]
  },
  {
   "cell_type": "code",
   "execution_count": 25,
   "id": "2cdd2c78",
   "metadata": {},
   "outputs": [
    {
     "name": "stdout",
     "output_type": "stream",
     "text": [
      "i'nin değeri 0\n",
      "i'nin değeri 2\n",
      "i'nin değeri 4\n",
      "i'nin değeri 6\n",
      "i'nin değeri 8\n",
      "i'nin değeri 10\n",
      "i'nin değeri 12\n",
      "i'nin değeri 14\n",
      "i'nin değeri 16\n",
      "i'nin değeri 18\n"
     ]
    }
   ],
   "source": [
    "# Döngüde i değerlerini ekrana yazdırma\n",
    "\n",
    "i = 0 \n",
    "\n",
    "while (i < 20):\n",
    "    print(\"i'nin değeri\",i)\n",
    "    i += 2 # Koşulun bir süre sonra False olması için gerekli - Unutmayalım"
   ]
  },
  {
   "cell_type": "code",
   "execution_count": 26,
   "id": "b11a61f1",
   "metadata": {},
   "outputs": [
    {
     "name": "stdout",
     "output_type": "stream",
     "text": [
      "Python Öğreniyorum\n",
      "Python Öğreniyorum\n",
      "Python Öğreniyorum\n",
      "Python Öğreniyorum\n",
      "Python Öğreniyorum\n",
      "Python Öğreniyorum\n",
      "Python Öğreniyorum\n",
      "Python Öğreniyorum\n",
      "Python Öğreniyorum\n",
      "Python Öğreniyorum\n",
      "Python Öğreniyorum\n",
      "Python Öğreniyorum\n",
      "Python Öğreniyorum\n",
      "Python Öğreniyorum\n",
      "Python Öğreniyorum\n",
      "Python Öğreniyorum\n",
      "Python Öğreniyorum\n",
      "Python Öğreniyorum\n",
      "Python Öğreniyorum\n",
      "Python Öğreniyorum\n",
      "Python Öğreniyorum\n",
      "Python Öğreniyorum\n",
      "Python Öğreniyorum\n",
      "Python Öğreniyorum\n",
      "Python Öğreniyorum\n",
      "Python Öğreniyorum\n",
      "Python Öğreniyorum\n",
      "Python Öğreniyorum\n",
      "Python Öğreniyorum\n",
      "Python Öğreniyorum\n",
      "Python Öğreniyorum\n",
      "Python Öğreniyorum\n",
      "Python Öğreniyorum\n",
      "Python Öğreniyorum\n",
      "Python Öğreniyorum\n",
      "Python Öğreniyorum\n",
      "Python Öğreniyorum\n",
      "Python Öğreniyorum\n",
      "Python Öğreniyorum\n",
      "Python Öğreniyorum\n"
     ]
    }
   ],
   "source": [
    "# Ekrana 40 defa \"Python Öğreniyorum\" yazdıralım.\n",
    "i = 0\n",
    "\n",
    "while (i < 40):\n",
    "    print(\"Python Öğreniyorum\")\n",
    "    i +=1\n"
   ]
  },
  {
   "cell_type": "code",
   "execution_count": 27,
   "id": "254e9af0",
   "metadata": {
    "scrolled": true
   },
   "outputs": [
    {
     "name": "stdout",
     "output_type": "stream",
     "text": [
      "Indeks: 0 Eleman: 1\n",
      "Indeks: 1 Eleman: 2\n",
      "Indeks: 2 Eleman: 3\n",
      "Indeks: 3 Eleman: 4\n",
      "Indeks: 4 Eleman: 5\n"
     ]
    }
   ],
   "source": [
    "# Liste üzerinde indeks ile gezinme\n",
    "liste = [1,2,3,4,5]\n",
    "\n",
    "a = 0 \n",
    "\n",
    "while (a < len(liste)):\n",
    "    print(\"Indeks:\",a,\"Eleman:\",liste[a])\n",
    "    a +=1"
   ]
  },
  {
   "cell_type": "markdown",
   "id": "d5ecd1e3",
   "metadata": {},
   "source": [
    "# Sonsuz Döngü Olayları "
   ]
  },
  {
   "cell_type": "markdown",
   "id": "b7b5645b",
   "metadata": {},
   "source": [
    "while döngüsü kullanırken biraz dikkatli olmamızda fayda var. Çünkü, while döngü koşulunun bir süre sonra False olması gerekecek ki döngümüz sonlanabilsin. Ancak eğer biz while döngülerinde bu durumu unutursak , döngümüz sonsuza kadar çalışacaktır. Biz buna sonsuz döngü olayı diyoruz. Örneğimize bakalım\n",
    "\n"
   ]
  },
  {
   "cell_type": "code",
   "execution_count": null,
   "id": "d5693423",
   "metadata": {},
   "outputs": [],
   "source": [
    "# Bu kodu çaıştırmayalım. Jupyter sıkıntı çıkarabilir :)\n",
    "i = 0 \n",
    "while (i < 10):\n",
    "    print(i)\n",
    "    # i değişkenini artırma işlemi yapmadığımız için i değişkeninin değeri sürekli 0 kalıyor \n",
    "    # ve döngü koşulu sürekli True kalıyor.\n"
   ]
  },
  {
   "cell_type": "markdown",
   "id": "a54d7f9f",
   "metadata": {},
   "source": [
    "Bir sonraki bölümde döngülerde kullanılabilen range() fonksiyonu öğreneceğiz."
   ]
  },
  {
   "cell_type": "markdown",
   "id": "b34a61c5",
   "metadata": {},
   "source": [
    "# Döngülerde kullanılan ifadeler : break ve continue"
   ]
  },
  {
   "cell_type": "markdown",
   "id": "d8addde1",
   "metadata": {},
   "source": [
    "Bu videoda döngülerde kullanılabilen break ve continue ifadelerini öğrenmeye çalışacağız. Bu ifadeleri kullanarak döngü yapılarını daha efektif kullanabiliriz.\n",
    "\n",
    "break ifadesi\n",
    "break ifadesi döngülerde programcılar tarafından en çok kullanılan ifadedir. Anlamı şu şekildedir;\n",
    "\n",
    "        Döngü herhangi bir yerde ve herhangi bir zamanda break ifadesiyle karşılaştığı zaman\n",
    "        çalışmasını bir anda durdurur. Böylelikle döngü hiçbir koşula bağlı kalmadan sonlanmış olur.\n",
    "\n",
    "\n",
    "break ifadesi sadece ve sadece içindeki bulunduğu döngüyü sonlandırır. Eğer iç içe döngüler bulunuyorsa ve en içteki döngüde break kullanılmışsa sadece içteki döngü sona erer. Örneklerle break ifadesini anlamaya çalışalım.\n"
   ]
  },
  {
   "cell_type": "code",
   "execution_count": 30,
   "id": "7d24a0df",
   "metadata": {},
   "outputs": [
    {
     "name": "stdout",
     "output_type": "stream",
     "text": [
      "0\n",
      "1\n",
      "2\n",
      "3\n",
      "4\n",
      "5\n",
      "6\n",
      "7\n",
      "8\n",
      "9\n",
      "10\n",
      "11\n",
      "12\n",
      "13\n",
      "14\n",
      "15\n",
      "16\n",
      "17\n",
      "18\n",
      "19\n"
     ]
    }
   ],
   "source": [
    "i = 0 # Bu döngüyü biliyoruz.\n",
    "\n",
    "while (i < 20):\n",
    "    print(i)\n",
    "    i +=1"
   ]
  },
  {
   "cell_type": "code",
   "execution_count": null,
   "id": "c9690eca",
   "metadata": {},
   "outputs": [],
   "source": [
    "i = 0 # break kullanmaya çalışalım.\n",
    "\n",
    "while (i < 20):\n",
    "    print(i)\n",
    "    if (i == 10):\n",
    "        break # i'nin değeri 10 olunca bu koşul sağlanıyor ve  break ifadesiyle karşılaşıldığı için döngü anında sona eriyor.\n"
   ]
  },
  {
   "cell_type": "code",
   "execution_count": null,
   "id": "48ef06da",
   "metadata": {},
   "outputs": [],
   "source": [
    "# for döngüsüyle break kullanalım.\n",
    "liste = [1,2,3,4,5,6,7,8,9]\n",
    "for i in liste:\n",
    "    if (i == 5):\n",
    "        \n",
    "        break\n",
    "    print(i)\n",
    "    "
   ]
  },
  {
   "cell_type": "code",
   "execution_count": null,
   "id": "afbd5b34",
   "metadata": {},
   "outputs": [],
   "source": [
    "while True: # Sonsuz döngü. Nasıl sonlandırabiliriz ? \n",
    "    isim = input(\"İsminiz(Çıkmak için q tuşuna basın.):\")\n",
    "    if (isim == \"q\"): # break ile tabii ki.\n",
    "        print(\"Çıkış yapılıyor...\")\n",
    "        break\n",
    "    print(isim)"
   ]
  },
  {
   "cell_type": "code",
   "execution_count": null,
   "id": "32fd58f3",
   "metadata": {},
   "outputs": [],
   "source": [
    "continue ifadesi"
   ]
  },
  {
   "cell_type": "markdown",
   "id": "02c4ea18",
   "metadata": {},
   "source": [
    "continue ifadesi break'e göre biraz daha az kullanılan bir ifadedir. Anlamı şu şekildedir;\n",
    "\n",
    "    Döngü herhangi bir yerde ve herhangi bir zamanda continue ifadesiyle karşılaştığı zaman geri kalan işlemlerini\n",
    "    yapmadan direk bloğunun başına döner.\n",
    "\n",
    "continue ifadesini anlamak için örneklerimize bakalım."
   ]
  },
  {
   "cell_type": "code",
   "execution_count": null,
   "id": "9301f984",
   "metadata": {},
   "outputs": [],
   "source": [
    "liste = [1,2,3,4,5,6,7,8,9,10]\n",
    "\n",
    "for i in liste: # Bunu biliyoruz.\n",
    "    print(\"i:\",i)"
   ]
  },
  {
   "cell_type": "code",
   "execution_count": null,
   "id": "ad8d7cbe",
   "metadata": {},
   "outputs": [],
   "source": [
    "liste = [1,2,3,4,5,6,7,8,9] # continue kullanalım.\n",
    "\n",
    "\n",
    "for i in liste:\n",
    "    if (i == 3 or i == 5):\n",
    "        continue\n",
    "    print(\"i:\",i)"
   ]
  },
  {
   "cell_type": "markdown",
   "id": "a8303e87",
   "metadata": {},
   "source": [
    "continue ifadesi while döngüleriyle kullanıldıkları zaman sonsuz döngü olayına yol açabilmektedir. Anlamak için örneğimize bakalım.\n",
    "\n",
    "Jupyterde sonsuz döngüyü çalıştırdığımızda , programı durdurmak için ilk olarak yukarıdaki \"Kernel\" e gidelim ve Interrupta tıklayalım. Bir kaç saniye bekledikten sonra \"Restart\" a tıklayalım. Böyle bir durumda Jupyter tekrar kendine gelecektir."
   ]
  },
  {
   "cell_type": "code",
   "execution_count": null,
   "id": "09d33617",
   "metadata": {},
   "outputs": [],
   "source": [
    "i = 0 # Bu kodda Sonsuz döngü olayı neden oluşur ? Bu kodu çalıştırmayalım.\n",
    "\n",
    "# Eğer çalıştırırsak sonsuz döngüyü \"Kernel\" sekmesinde \n",
    "\n",
    "while (i < 10):\n",
    "    print(i)\n",
    "    \n",
    "    if (i == 2):\n",
    "        continue\n",
    "        \n",
    "    i += 1"
   ]
  },
  {
   "cell_type": "code",
   "execution_count": null,
   "id": "c2a76711",
   "metadata": {},
   "outputs": [],
   "source": [
    "i = 0 # Kodun sorunsuz hali\n",
    "\n",
    "while (i < 10):\n",
    "    \n",
    "    if (i == 2):\n",
    "        i += 1 # Artırma işlemi\n",
    "        continue\n",
    "        \n",
    "    print(\"i:\",i)\n",
    "    i += 1"
   ]
  }
 ],
 "metadata": {
  "kernelspec": {
   "display_name": "Python 3 (ipykernel)",
   "language": "python",
   "name": "python3"
  },
  "language_info": {
   "codemirror_mode": {
    "name": "ipython",
    "version": 3
   },
   "file_extension": ".py",
   "mimetype": "text/x-python",
   "name": "python",
   "nbconvert_exporter": "python",
   "pygments_lexer": "ipython3",
   "version": "3.9.7"
  }
 },
 "nbformat": 4,
 "nbformat_minor": 5
}
