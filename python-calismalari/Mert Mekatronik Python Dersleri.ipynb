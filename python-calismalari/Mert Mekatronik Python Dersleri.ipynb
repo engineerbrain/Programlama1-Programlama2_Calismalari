{
 "cells": [
  {
   "cell_type": "markdown",
   "id": "985296b7",
   "metadata": {},
   "source": [
    "***PYTHON***"
   ]
  },
  {
   "cell_type": "code",
   "execution_count": 1,
   "id": "c31c9e18",
   "metadata": {},
   "outputs": [],
   "source": [
    "#Yorumlanabilen bir dildir.\n",
    "#İşlemleri satır satır işler aslında her dil böyle işler. yorumlanabilen bir dil olduğu için anında dönüt verir."
   ]
  },
  {
   "cell_type": "code",
   "execution_count": 3,
   "id": "412458ca",
   "metadata": {},
   "outputs": [
    {
     "name": "stdout",
     "output_type": "stream",
     "text": [
      "5\n",
      "3\n"
     ]
    }
   ],
   "source": [
    "a = 5 \n",
    "print(a)\n",
    "a = 3\n",
    "print(a)"
   ]
  },
  {
   "cell_type": "code",
   "execution_count": 5,
   "id": "2052af1e",
   "metadata": {},
   "outputs": [
    {
     "name": "stdout",
     "output_type": "stream",
     "text": [
      "314.0\n"
     ]
    }
   ],
   "source": [
    "pı = 3.14\n",
    "r = 10\n",
    "print(pı * r * r)"
   ]
  },
  {
   "cell_type": "code",
   "execution_count": 7,
   "id": "091f97e3",
   "metadata": {},
   "outputs": [],
   "source": [
    "# Değişkenler sayılarla başlayamaz ve değişkenler yazılırken yazılırken aralarında boşluk bırakılamaz."
   ]
  },
  {
   "cell_type": "code",
   "execution_count": 9,
   "id": "8cc4cd6a",
   "metadata": {},
   "outputs": [
    {
     "ename": "SyntaxError",
     "evalue": "invalid syntax (<ipython-input-9-bc9ddfb3b56e>, line 1)",
     "output_type": "error",
     "traceback": [
      "\u001b[1;36m  File \u001b[1;32m\"<ipython-input-9-bc9ddfb3b56e>\"\u001b[1;36m, line \u001b[1;32m1\u001b[0m\n\u001b[1;33m    a = daire alanı = 4\u001b[0m\n\u001b[1;37m              ^\u001b[0m\n\u001b[1;31mSyntaxError\u001b[0m\u001b[1;31m:\u001b[0m invalid syntax\n"
     ]
    }
   ],
   "source": [
    "a = daire alanı = 4\n",
    "print(a)"
   ]
  },
  {
   "cell_type": "code",
   "execution_count": 11,
   "id": "89925b21",
   "metadata": {},
   "outputs": [
    {
     "ename": "SyntaxError",
     "evalue": "invalid syntax (<ipython-input-11-a8677476cfad>, line 1)",
     "output_type": "error",
     "traceback": [
      "\u001b[1;36m  File \u001b[1;32m\"<ipython-input-11-a8677476cfad>\"\u001b[1;36m, line \u001b[1;32m1\u001b[0m\n\u001b[1;33m    a = 35daireninalanı = 3\u001b[0m\n\u001b[1;37m          ^\u001b[0m\n\u001b[1;31mSyntaxError\u001b[0m\u001b[1;31m:\u001b[0m invalid syntax\n"
     ]
    }
   ],
   "source": [
    "a = 35daireninalanı = 3\n",
    "print(a)"
   ]
  },
  {
   "cell_type": "code",
   "execution_count": 15,
   "id": "9782a592",
   "metadata": {},
   "outputs": [
    {
     "name": "stdout",
     "output_type": "stream",
     "text": [
      "25\n",
      "10\n",
      "0\n",
      "1.0\n"
     ]
    }
   ],
   "source": [
    "# operatörler\n",
    "print(5*5)\n",
    "print(5+5)\n",
    "print(5-5)\n",
    "print(5/5)"
   ]
  },
  {
   "cell_type": "code",
   "execution_count": 16,
   "id": "c8245b49",
   "metadata": {},
   "outputs": [
    {
     "name": "stdout",
     "output_type": "stream",
     "text": [
      "30\n"
     ]
    }
   ],
   "source": [
    "# yorum satırları (ne yapacağımızı hatırlatan yazı öbekleridir.) yorum satırları \"#\" işareti ile gösterilir ve çıktıda sonuç vermezler.\n",
    "\n",
    "a = 5 # dikdörtgenin kısa kenarı\n",
    "b = 6 # dikdörtgenin uzun kenarı\n",
    "print(a*b)"
   ]
  },
  {
   "cell_type": "code",
   "execution_count": 18,
   "id": "0d064747",
   "metadata": {},
   "outputs": [],
   "source": [
    "# float / int farkları , atama örnekleri"
   ]
  },
  {
   "cell_type": "code",
   "execution_count": 20,
   "id": "db120e49",
   "metadata": {},
   "outputs": [
    {
     "name": "stdout",
     "output_type": "stream",
     "text": [
      "15\n"
     ]
    }
   ],
   "source": [
    "a = 5\n",
    "b = 10\n",
    "print(a + b)"
   ]
  },
  {
   "cell_type": "code",
   "execution_count": 21,
   "id": "a99c1d82",
   "metadata": {},
   "outputs": [
    {
     "name": "stdout",
     "output_type": "stream",
     "text": [
      "2.0\n"
     ]
    }
   ],
   "source": [
    "a = 20\n",
    "b = 10\n",
    "print(a / b) \n",
    "\n",
    "# sonucu bana float şeklinde verir. (bölüm kısmının) (ondaalık sayı şeklinde = float)"
   ]
  },
  {
   "cell_type": "code",
   "execution_count": 24,
   "id": "191c86d8",
   "metadata": {},
   "outputs": [
    {
     "name": "stdout",
     "output_type": "stream",
     "text": [
      "2\n",
      "1\n"
     ]
    }
   ],
   "source": [
    "a = 20 \n",
    "b = 10\n",
    "print(a // b)\n",
    "\n",
    "c = 20\n",
    "d = 15\n",
    "print(c // d)\n",
    "\n",
    "# sonucun sadece tam kısmını verir.(bölüm kısmının)(tamsayı şeklinde = int)"
   ]
  },
  {
   "cell_type": "code",
   "execution_count": 25,
   "id": "2f6b3bac",
   "metadata": {},
   "outputs": [
    {
     "name": "stdout",
     "output_type": "stream",
     "text": [
      "5\n"
     ]
    }
   ],
   "source": [
    "a = 20\n",
    "b = 15 \n",
    "print(a % b)\n",
    "\n",
    "# kalanı gösterir."
   ]
  },
  {
   "cell_type": "code",
   "execution_count": 26,
   "id": "4c70fba4",
   "metadata": {},
   "outputs": [
    {
     "name": "stdout",
     "output_type": "stream",
     "text": [
      "243\n"
     ]
    }
   ],
   "source": [
    "a = 3\n",
    "b = 5\n",
    "print(a**b)"
   ]
  },
  {
   "cell_type": "code",
   "execution_count": 27,
   "id": "60733d24",
   "metadata": {},
   "outputs": [],
   "source": [
    "# pythonda işlem önceliği vardır."
   ]
  },
  {
   "cell_type": "code",
   "execution_count": 29,
   "id": "3220f5a9",
   "metadata": {},
   "outputs": [
    {
     "name": "stdout",
     "output_type": "stream",
     "text": [
      "19.0\n"
     ]
    }
   ],
   "source": [
    "print((12*(5-3))-12/2+1)"
   ]
  },
  {
   "cell_type": "code",
   "execution_count": 31,
   "id": "28dd6ed2",
   "metadata": {},
   "outputs": [],
   "source": [
    "# string veri tipi ve özellikleri "
   ]
  },
  {
   "cell_type": "code",
   "execution_count": 32,
   "id": "2114831e",
   "metadata": {},
   "outputs": [],
   "source": [
    "# çift tırnak ile tek tırnak arasında herhangi bir fark yoktur."
   ]
  },
  {
   "cell_type": "code",
   "execution_count": 36,
   "id": "c4eb52e9",
   "metadata": {},
   "outputs": [
    {
     "name": "stdout",
     "output_type": "stream",
     "text": [
      "python dersi\n",
      "python dersi\n",
      "python dersi\n",
      "python dersi\n",
      "python dersi\n",
      "python dersi\n",
      "python dersi\n",
      "python dersi\n",
      "python dersi\n",
      "python dersi\n"
     ]
    }
   ],
   "source": [
    "yazı = \"python dersi\"\n",
    "def cokluyazdır(sayı, gelenyazı):\n",
    "    for i in range(sayı):\n",
    "        print(gelenyazı)\n",
    "    \n",
    "cokluyazdır(10,yazı)"
   ]
  },
  {
   "cell_type": "code",
   "execution_count": 37,
   "id": "9fcf97da",
   "metadata": {},
   "outputs": [
    {
     "name": "stdout",
     "output_type": "stream",
     "text": [
      "bython dersi\n",
      "python dersi\n"
     ]
    }
   ],
   "source": [
    "yazı = \"python dersi\"\n",
    "print(yazı.replace(\"p\",\"b\"))\n",
    "print(yazı)"
   ]
  },
  {
   "cell_type": "code",
   "execution_count": 44,
   "id": "cc8bf260",
   "metadata": {},
   "outputs": [
    {
     "name": "stdout",
     "output_type": "stream",
     "text": [
      "['b', 'y', 't', 'h', 'o', 'n', ' ', 'd', 'e', 'r', 's', 'i']\n",
      "bython dersi\n"
     ]
    }
   ],
   "source": [
    "#yazı = \"python dersi\"\n",
    "#print(yazı.replace(\"p\",\"b\"))\n",
    "#print(yazı)\n",
    "yazı = \"python dersi\"\n",
    "\n",
    "yeniyazı = []\n",
    "for harf in yazı:\n",
    "    if harf ==\"p\":\n",
    "        yeniyazı.append(\"b\")\n",
    "    else:\n",
    "        yeniyazı.append(harf)\n",
    "print(yeniyazı)       \n",
    "print(\"\".join(yeniyazı))"
   ]
  },
  {
   "cell_type": "code",
   "execution_count": 47,
   "id": "58185ad2",
   "metadata": {},
   "outputs": [
    {
     "name": "stdout",
     "output_type": "stream",
     "text": [
      "python dersi\n"
     ]
    }
   ],
   "source": [
    "yazı = \"python dersi\"\n",
    "\n",
    "print(yazı[0:])"
   ]
  },
  {
   "cell_type": "code",
   "execution_count": 48,
   "id": "2ddf6ac0",
   "metadata": {},
   "outputs": [
    {
     "name": "stdout",
     "output_type": "stream",
     "text": [
      "p\n"
     ]
    }
   ],
   "source": [
    "yazı = \"python dersi\"\n",
    "\n",
    "print(yazı[0])"
   ]
  },
  {
   "cell_type": "code",
   "execution_count": 49,
   "id": "2cdc40ae",
   "metadata": {},
   "outputs": [
    {
     "name": "stdout",
     "output_type": "stream",
     "text": [
      "thon\n"
     ]
    }
   ],
   "source": [
    "yazı = \"python dersi\"\n",
    "\n",
    "print(yazı[2:6])"
   ]
  },
  {
   "cell_type": "code",
   "execution_count": 53,
   "id": "24879333",
   "metadata": {},
   "outputs": [
    {
     "name": "stdout",
     "output_type": "stream",
     "text": [
      "yod\n"
     ]
    }
   ],
   "source": [
    "yazı = \"python dersi\"\n",
    "\n",
    "print(yazı[1:8:3])\n",
    "\n",
    "#print(yazı[başlangıç:bitiş-1:artış miktarı])"
   ]
  },
  {
   "cell_type": "code",
   "execution_count": 54,
   "id": "7a85a3ed",
   "metadata": {},
   "outputs": [
    {
     "name": "stdout",
     "output_type": "stream",
     "text": [
      "i\n"
     ]
    }
   ],
   "source": [
    "print(yazı[-1])"
   ]
  },
  {
   "cell_type": "code",
   "execution_count": 58,
   "id": "fffdb66d",
   "metadata": {},
   "outputs": [
    {
     "name": "stdout",
     "output_type": "stream",
     "text": [
      "rsi\n"
     ]
    }
   ],
   "source": [
    "yazı = \"python dersi\"\n",
    "print(yazı[-3:])\n"
   ]
  },
  {
   "cell_type": "code",
   "execution_count": 59,
   "id": "e5a68cf3",
   "metadata": {},
   "outputs": [
    {
     "name": "stdout",
     "output_type": "stream",
     "text": [
      "python dersi\n"
     ]
    }
   ],
   "source": [
    "yazı = \"python dersi\"\n",
    "print(yazı[-13:])\n"
   ]
  },
  {
   "cell_type": "code",
   "execution_count": 52,
   "id": "f3d9488c",
   "metadata": {},
   "outputs": [
    {
     "name": "stdout",
     "output_type": "stream",
     "text": [
      "7\n"
     ]
    }
   ],
   "source": [
    "yazı = \"python dersi\"\n",
    "print(yazı.find(\"d\"))\n",
    "\n",
    "# istenilen karakterin hangi indekste başladığını göterir."
   ]
  },
  {
   "cell_type": "code",
   "execution_count": 62,
   "id": "0bfae30f",
   "metadata": {},
   "outputs": [
    {
     "name": "stdout",
     "output_type": "stream",
     "text": [
      "12\n"
     ]
    }
   ],
   "source": [
    "yazı = \"python dersi\"\n",
    "print(len(yazı))"
   ]
  },
  {
   "cell_type": "code",
   "execution_count": 65,
   "id": "2754a34f",
   "metadata": {},
   "outputs": [
    {
     "name": "stdout",
     "output_type": "stream",
     "text": [
      "pythondersi\n"
     ]
    }
   ],
   "source": [
    "yazı1 = \"python\"\n",
    "yazı2 = \"dersi\"\n",
    "\n",
    "toplam = yazı1 + yazı2\n",
    "\n",
    "print(toplam)"
   ]
  },
  {
   "cell_type": "code",
   "execution_count": 66,
   "id": "f26e8136",
   "metadata": {},
   "outputs": [
    {
     "name": "stdout",
     "output_type": "stream",
     "text": [
      "python dersi\n"
     ]
    }
   ],
   "source": [
    "yazı1 = \"python\"\n",
    "yazı2 = \"dersi\"\n",
    "\n",
    "toplam = yazı1 +\" \"+yazı2\n",
    "\n",
    "print(toplam)"
   ]
  },
  {
   "cell_type": "code",
   "execution_count": 67,
   "id": "c3119576",
   "metadata": {},
   "outputs": [
    {
     "name": "stdout",
     "output_type": "stream",
     "text": [
      "python  dersi\n"
     ]
    }
   ],
   "source": [
    "yazı1 = \"python\"\n",
    "yazı2 = \"  dersi\"\n",
    "\n",
    "toplam = yazı1 + yazı2\n",
    "\n",
    "print(toplam)"
   ]
  },
  {
   "cell_type": "code",
   "execution_count": 68,
   "id": "f0d16e3d",
   "metadata": {},
   "outputs": [
    {
     "name": "stdout",
     "output_type": "stream",
     "text": [
      "pythonpythonpythonpythonpythonpythonpythonpythonpythonpython\n"
     ]
    }
   ],
   "source": [
    "print(\"python\"*10)"
   ]
  },
  {
   "cell_type": "code",
   "execution_count": 69,
   "id": "ebd0b85c",
   "metadata": {},
   "outputs": [],
   "source": [
    "# veri dönüşümleri (bir objeyi başka bir objeye üretmektir)\n",
    "\n",
    "# Gömülü bazı fonksiyonlar : int()\n",
    "#                            float()\n",
    "#                            str()\n",
    "#                            type()\n",
    "#                            len()"
   ]
  },
  {
   "cell_type": "code",
   "execution_count": 70,
   "id": "acfb47c7",
   "metadata": {},
   "outputs": [
    {
     "name": "stdout",
     "output_type": "stream",
     "text": [
      "<class 'float'>\n"
     ]
    }
   ],
   "source": [
    "a = 5.42\n",
    "print(type(a))"
   ]
  },
  {
   "cell_type": "code",
   "execution_count": 72,
   "id": "cf4ed6c8",
   "metadata": {},
   "outputs": [
    {
     "name": "stdout",
     "output_type": "stream",
     "text": [
      "<class 'int'>\n"
     ]
    }
   ],
   "source": [
    "a = 5.42\n",
    "print(type(int(a)))"
   ]
  },
  {
   "cell_type": "code",
   "execution_count": 73,
   "id": "a1727749",
   "metadata": {},
   "outputs": [
    {
     "name": "stdout",
     "output_type": "stream",
     "text": [
      "5\n"
     ]
    }
   ],
   "source": [
    "a = int(5.42)\n",
    "print(a)\n"
   ]
  },
  {
   "cell_type": "code",
   "execution_count": 74,
   "id": "206f83de",
   "metadata": {},
   "outputs": [
    {
     "ename": "TypeError",
     "evalue": "can only concatenate str (not \"int\") to str",
     "output_type": "error",
     "traceback": [
      "\u001b[1;31m---------------------------------------------------------------------------\u001b[0m",
      "\u001b[1;31mTypeError\u001b[0m                                 Traceback (most recent call last)",
      "\u001b[1;32m<ipython-input-74-45e4fccc81c2>\u001b[0m in \u001b[0;36m<module>\u001b[1;34m\u001b[0m\n\u001b[0;32m      1\u001b[0m \u001b[0ma\u001b[0m \u001b[1;33m=\u001b[0m \u001b[1;34m\"400\"\u001b[0m\u001b[1;33m\u001b[0m\u001b[1;33m\u001b[0m\u001b[0m\n\u001b[1;32m----> 2\u001b[1;33m \u001b[0mprint\u001b[0m\u001b[1;33m(\u001b[0m\u001b[0ma\u001b[0m \u001b[1;33m+\u001b[0m \u001b[1;36m500\u001b[0m\u001b[1;33m)\u001b[0m\u001b[1;33m\u001b[0m\u001b[1;33m\u001b[0m\u001b[0m\n\u001b[0m",
      "\u001b[1;31mTypeError\u001b[0m: can only concatenate str (not \"int\") to str"
     ]
    }
   ],
   "source": [
    "a = \"400\"\n",
    "print(a + 500)"
   ]
  },
  {
   "cell_type": "code",
   "execution_count": 75,
   "id": "c1e0f951",
   "metadata": {},
   "outputs": [
    {
     "name": "stdout",
     "output_type": "stream",
     "text": [
      "900\n"
     ]
    }
   ],
   "source": [
    "a = \"400\"\n",
    "print(int(a) + 500)"
   ]
  },
  {
   "cell_type": "code",
   "execution_count": 77,
   "id": "b1ae7799",
   "metadata": {},
   "outputs": [
    {
     "name": "stdout",
     "output_type": "stream",
     "text": [
      "400400400400\n",
      "1600\n",
      "1600\n"
     ]
    }
   ],
   "source": [
    "a = \"400\"\n",
    "print(a*4)\n",
    "# sistem bunu bir yazı(string) olarak algılıyor.\n",
    "a = \"400\"\n",
    "print(int(a)*4)\n",
    "# sistem string olan karakteri int'a çevirince karakteri sayı olarak algılıyor.\n",
    "b = 400\n",
    "print(b*4)\n",
    "# sistem bunu matematiksel bir sayı olarak algılıyor."
   ]
  },
  {
   "cell_type": "code",
   "execution_count": 79,
   "id": "aea8065f",
   "metadata": {},
   "outputs": [
    {
     "name": "stdout",
     "output_type": "stream",
     "text": [
      "15\n"
     ]
    },
    {
     "ename": "TypeError",
     "evalue": "object of type 'int' has no len()",
     "output_type": "error",
     "traceback": [
      "\u001b[1;31m---------------------------------------------------------------------------\u001b[0m",
      "\u001b[1;31mTypeError\u001b[0m                                 Traceback (most recent call last)",
      "\u001b[1;32m<ipython-input-79-0f0bf0adb579>\u001b[0m in \u001b[0;36m<module>\u001b[1;34m\u001b[0m\n\u001b[0;32m      3\u001b[0m \u001b[1;33m\u001b[0m\u001b[0m\n\u001b[0;32m      4\u001b[0m \u001b[0mb\u001b[0m \u001b[1;33m=\u001b[0m \u001b[1;36m734854782485748\u001b[0m\u001b[1;33m\u001b[0m\u001b[1;33m\u001b[0m\u001b[0m\n\u001b[1;32m----> 5\u001b[1;33m \u001b[0mprint\u001b[0m\u001b[1;33m(\u001b[0m\u001b[0mlen\u001b[0m\u001b[1;33m(\u001b[0m\u001b[0mb\u001b[0m\u001b[1;33m)\u001b[0m\u001b[1;33m)\u001b[0m\u001b[1;33m\u001b[0m\u001b[1;33m\u001b[0m\u001b[0m\n\u001b[0m\u001b[0;32m      6\u001b[0m \u001b[1;33m\u001b[0m\u001b[0m\n\u001b[0;32m      7\u001b[0m \u001b[0mb\u001b[0m \u001b[1;33m=\u001b[0m \u001b[1;36m734854782485748\u001b[0m\u001b[1;33m\u001b[0m\u001b[1;33m\u001b[0m\u001b[0m\n",
      "\u001b[1;31mTypeError\u001b[0m: object of type 'int' has no len()"
     ]
    }
   ],
   "source": [
    "a = \"683495707893768\"\n",
    "print(len(a))\n",
    "\n",
    "b = 734854782485748\n",
    "print(len(b))\n",
    "\n",
    "# Demek oluyor ki \"len\" komutu string'lerde çalışırken int'larda çalışmıyor."
   ]
  },
  {
   "cell_type": "code",
   "execution_count": 81,
   "id": "620417a1",
   "metadata": {},
   "outputs": [
    {
     "name": "stdout",
     "output_type": "stream",
     "text": [
      "33\n"
     ]
    }
   ],
   "source": [
    "b = 734854782485748634789347893478936\n",
    "print(len(str(b)))"
   ]
  },
  {
   "cell_type": "code",
   "execution_count": 88,
   "id": "ff906bc7",
   "metadata": {},
   "outputs": [
    {
     "name": "stdout",
     "output_type": "stream",
     "text": [
      "Bir sayı giriniz1=10\n",
      "Bir sayı giriniz2=5\n",
      "1-topla\n",
      "2-çıkar\n",
      "3-çarpma\n",
      "4-bölme\n",
      "4\n",
      "2.0\n"
     ]
    }
   ],
   "source": [
    "# Basit hesap makinesi\n",
    "\n",
    "a = int(input(\"Bir sayı giriniz1=\"))\n",
    "b = int(input(\"Bir sayı giriniz2=\"))\n",
    "\n",
    "secenek = int(input(\"1-topla\\n2-çıkar\\n3-çarpma\\n4-bölme\\n\"))\n",
    "\n",
    "if secenek == 1:\n",
    "    print(a+b)\n",
    "elif secenek == 2:\n",
    "    print(a-b)\n",
    "elif secenek == 3:\n",
    "    print(a*b)\n",
    "else:\n",
    "    print(a/b)\n"
   ]
  },
  {
   "cell_type": "code",
   "execution_count": null,
   "id": "68276c97",
   "metadata": {},
   "outputs": [],
   "source": [
    "# print(\"Fonksiyonu ve özellikleri\")\n",
    "# kod tekrarını önler"
   ]
  },
  {
   "cell_type": "code",
   "execution_count": 89,
   "id": "8933bed0",
   "metadata": {},
   "outputs": [
    {
     "name": "stdout",
     "output_type": "stream",
     "text": [
      "120\n"
     ]
    }
   ],
   "source": [
    "sayı = 5\n",
    "faktoriyel = 1\n",
    "for i in range(1,sayı+1):\n",
    "    faktoriyel = faktoriyel * i\n",
    "    \n",
    "print(faktoriyel)"
   ]
  },
  {
   "cell_type": "code",
   "execution_count": 4,
   "id": "e8475994",
   "metadata": {},
   "outputs": [
    {
     "name": "stdout",
     "output_type": "stream",
     "text": [
      "Bir sayı giriniz:6\n",
      "720\n"
     ]
    }
   ],
   "source": [
    "faktoriyelAl = a = int(input(\"Bir sayı giriniz:\"))\n",
    "\n",
    "def faktoriyelAl(sayı):\n",
    "    faktoriyel = 1\n",
    "    for i in range(1,sayı+1):\n",
    "        faktoriyel = faktoriyel * i\n",
    "    return faktoriyel\n",
    "\n",
    "print(faktoriyelAl(a))\n",
    "    "
   ]
  },
  {
   "cell_type": "code",
   "execution_count": 11,
   "id": "489672e1",
   "metadata": {},
   "outputs": [
    {
     "name": "stdout",
     "output_type": "stream",
     "text": [
      "Bir sayı giriniz:9\n",
      "1\n"
     ]
    }
   ],
   "source": [
    "faktoriyelAl = a = int(input(\"Bir sayı giriniz:\"))\n",
    "\n",
    "def faktoriyelAl(sayı):\n",
    "    faktoriyel = 1\n",
    "    for i in range(1,sayı + 1):\n",
    "        faktoriyel = faktoriyel * i\n",
    "        return faktoriyel\n",
    "print(faktoriyelAl(a))\n",
    "\n",
    "# python da komutların boşluk sayısı önemlidir."
   ]
  },
  {
   "cell_type": "code",
   "execution_count": 17,
   "id": "311998d3",
   "metadata": {},
   "outputs": [
    {
     "name": "stdout",
     "output_type": "stream",
     "text": [
      "720\n"
     ]
    }
   ],
   "source": [
    "def hesapla(*sayılar,islem):\n",
    "    if islem == \"+\":\n",
    "        sonuc = 0\n",
    "        for i in sayılar:\n",
    "            sonuc += 1\n",
    "    else: \n",
    "        sonuc =1 \n",
    "        for i in sayılar:\n",
    "            sonuc *= i\n",
    "    return sonuc\n",
    "\n",
    "print(hesapla(1,2,3,4,5,6,islem = \"*\") )"
   ]
  },
  {
   "cell_type": "code",
   "execution_count": 18,
   "id": "f61f3996",
   "metadata": {},
   "outputs": [
    {
     "name": "stdout",
     "output_type": "stream",
     "text": [
      "python\n",
      "dersi\n"
     ]
    }
   ],
   "source": [
    "print(\"python\\ndersi\")"
   ]
  },
  {
   "cell_type": "code",
   "execution_count": 19,
   "id": "d71613ab",
   "metadata": {},
   "outputs": [
    {
     "name": "stdout",
     "output_type": "stream",
     "text": [
      "python\tdersi\n"
     ]
    }
   ],
   "source": [
    "print(\"python\\tdersi\")"
   ]
  },
  {
   "cell_type": "code",
   "execution_count": 21,
   "id": "e9f63f28",
   "metadata": {},
   "outputs": [
    {
     "name": "stdout",
     "output_type": "stream",
     "text": [
      "<class 'int'>\n",
      "<class 'float'>\n",
      "<class 'str'>\n",
      "<class 'bool'>\n"
     ]
    }
   ],
   "source": [
    "a =5\n",
    "b = 10.9\n",
    "c = \"python\"\n",
    "d = True\n",
    "\n",
    "print(type(a))\n",
    "print(type(b))\n",
    "print(type(c))\n",
    "print(type(d))"
   ]
  },
  {
   "cell_type": "code",
   "execution_count": 22,
   "id": "34b123b5",
   "metadata": {},
   "outputs": [
    {
     "name": "stdout",
     "output_type": "stream",
     "text": [
      "5 10.9 python True\n"
     ]
    }
   ],
   "source": [
    "a =5\n",
    "b = 10.9\n",
    "c = \"python\"\n",
    "d = True\n",
    "\n",
    "print(a,b,c,d,sep=\" \")"
   ]
  },
  {
   "cell_type": "code",
   "execution_count": 23,
   "id": "512bb18f",
   "metadata": {},
   "outputs": [
    {
     "name": "stdout",
     "output_type": "stream",
     "text": [
      "5+10.9+python+True\n"
     ]
    }
   ],
   "source": [
    "a =5\n",
    "b = 10.9\n",
    "c = \"python\"\n",
    "d = True\n",
    "\n",
    "print(a,b,c,d,sep=\" \")"
   ]
  },
  {
   "cell_type": "code",
   "execution_count": 29,
   "id": "c8281939",
   "metadata": {},
   "outputs": [
    {
     "name": "stdout",
     "output_type": "stream",
     "text": [
      "36\n"
     ]
    }
   ],
   "source": [
    "a =5\n",
    "b = 10.9\n",
    "c = \"python\"\n",
    "d = True\n",
    "\n",
    "def islem(a,yapı = \"+\"):\n",
    "    if yapı == \"+\":\n",
    "        return a + a\n",
    "    else:\n",
    "        return a*a\n",
    "print(islem(6,yapı=\" \"))"
   ]
  },
  {
   "cell_type": "markdown",
   "id": "e926c5e7",
   "metadata": {},
   "source": [
    "# bunu sor\n",
    "a =5\n",
    "b = \"python\"\n",
    "\n",
    "print(end=\"\\n\")"
   ]
  },
  {
   "cell_type": "code",
   "execution_count": 43,
   "id": "8ae7bd59",
   "metadata": {},
   "outputs": [
    {
     "name": "stdout",
     "output_type": "stream",
     "text": [
      "python\n",
      "python\n"
     ]
    }
   ],
   "source": [
    "a = 5\n",
    "b= \"python\"\n",
    "c = True\n",
    "\n",
    "print(b)\n",
    "print(b)"
   ]
  },
  {
   "cell_type": "code",
   "execution_count": 47,
   "id": "fec54b16",
   "metadata": {},
   "outputs": [
    {
     "name": "stdout",
     "output_type": "stream",
     "text": [
      "python -- python\n"
     ]
    }
   ],
   "source": [
    "a = 5\n",
    "b= \"python\"\n",
    "c = True\n",
    "\n",
    "print(b,end=\" -- \")\n",
    "print(b)"
   ]
  },
  {
   "cell_type": "code",
   "execution_count": 51,
   "id": "a4aca06b",
   "metadata": {},
   "outputs": [
    {
     "name": "stdout",
     "output_type": "stream",
     "text": [
      "p y t h o n\n",
      "p y t h o n\n"
     ]
    }
   ],
   "source": [
    "a = 5\n",
    "b= \"python\"\n",
    "c = True\n",
    "\n",
    "print(\"p\",\"y\",\"t\",\"h\",\"o\",\"n\")\n",
    "print(*b)"
   ]
  },
  {
   "cell_type": "code",
   "execution_count": 52,
   "id": "be05c743",
   "metadata": {},
   "outputs": [
    {
     "name": "stdout",
     "output_type": "stream",
     "text": [
      "Merhaba Sayın Fatma CİCEK Sitemize Hoş Geldiniz\n"
     ]
    }
   ],
   "source": [
    "isim = \"Fatma\"\n",
    "soyad = \"CİCEK\"\n",
    "\n",
    "print(\"Merhaba Sayın\",isim,soyad,\"Sitemize Hoş Geldiniz\")"
   ]
  },
  {
   "cell_type": "code",
   "execution_count": 55,
   "id": "787c5628",
   "metadata": {},
   "outputs": [
    {
     "name": "stdout",
     "output_type": "stream",
     "text": [
      "Merhaba Sayın Fatma CİCEK ,Sitemize Hoş Geldiniz\n"
     ]
    }
   ],
   "source": [
    "isim = \"Fatma\"\n",
    "soyad = \"CİCEK\"\n",
    "\n",
    "print(\"Merhaba Sayın {} {} ,Sitemize Hoş Geldiniz\".format(isim,soyad))"
   ]
  },
  {
   "cell_type": "code",
   "execution_count": 56,
   "id": "3b94be9d",
   "metadata": {},
   "outputs": [
    {
     "name": "stdout",
     "output_type": "stream",
     "text": [
      "Merhaba Sayın Fatma CİCEK ,Sitemize Hoş Geldiniz\n"
     ]
    }
   ],
   "source": [
    "isim = \"Fatma\"\n",
    "soyad = \"CİCEK\"\n",
    "\n",
    "print(\"Merhaba Sayın %s %s ,Sitemize Hoş Geldiniz\" % (isim,soyad))"
   ]
  },
  {
   "cell_type": "code",
   "execution_count": null,
   "id": "eefb7258",
   "metadata": {},
   "outputs": [],
   "source": [
    "# yıldız parametreler"
   ]
  },
  {
   "cell_type": "code",
   "execution_count": 66,
   "id": "9c87efa2",
   "metadata": {},
   "outputs": [
    {
     "name": "stdout",
     "output_type": "stream",
     "text": [
      "500500\n"
     ]
    }
   ],
   "source": [
    "def sayılarıTopla(*degerler):\n",
    "    toplam = 0\n",
    "    for deger in degerler:\n",
    "        toplam += deger\n",
    "    \n",
    "    return toplam \n",
    "    \n",
    "sayılar = [x for x in range(1,1001)]    \n",
    "\n",
    "print(sayılarıTopla(*sayılar))"
   ]
  },
  {
   "cell_type": "code",
   "execution_count": 67,
   "id": "4994a128",
   "metadata": {},
   "outputs": [
    {
     "name": "stdout",
     "output_type": "stream",
     "text": [
      "p y t h o n\n"
     ]
    }
   ],
   "source": [
    "b = \"python\"\n",
    "print(*b)"
   ]
  },
  {
   "cell_type": "code",
   "execution_count": null,
   "id": "83d73c9e",
   "metadata": {},
   "outputs": [],
   "source": [
    "# List obje"
   ]
  },
  {
   "cell_type": "code",
   "execution_count": null,
   "id": "10fb2c06",
   "metadata": {},
   "outputs": [],
   "source": [
    "list = [] "
   ]
  },
  {
   "cell_type": "code",
   "execution_count": null,
   "id": "a8df3fe0",
   "metadata": {},
   "outputs": [],
   "source": []
  },
  {
   "cell_type": "code",
   "execution_count": null,
   "id": "b74b3cf8",
   "metadata": {},
   "outputs": [],
   "source": []
  },
  {
   "cell_type": "code",
   "execution_count": null,
   "id": "7987b618",
   "metadata": {},
   "outputs": [],
   "source": []
  },
  {
   "cell_type": "code",
   "execution_count": null,
   "id": "310115fc",
   "metadata": {},
   "outputs": [],
   "source": []
  },
  {
   "cell_type": "code",
   "execution_count": null,
   "id": "5fa9e7ad",
   "metadata": {},
   "outputs": [],
   "source": []
  }
 ],
 "metadata": {
  "kernelspec": {
   "display_name": "Python 3",
   "language": "python",
   "name": "python3"
  },
  "language_info": {
   "codemirror_mode": {
    "name": "ipython",
    "version": 3
   },
   "file_extension": ".py",
   "mimetype": "text/x-python",
   "name": "python",
   "nbconvert_exporter": "python",
   "pygments_lexer": "ipython3",
   "version": "3.8.8"
  }
 },
 "nbformat": 4,
 "nbformat_minor": 5
}
