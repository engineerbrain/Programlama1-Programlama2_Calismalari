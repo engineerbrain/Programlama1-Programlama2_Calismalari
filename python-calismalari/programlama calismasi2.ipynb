{
 "cells": [
  {
   "cell_type": "code",
   "execution_count": 1,
   "id": "b5e9aad3",
   "metadata": {},
   "outputs": [
    {
     "name": "stdout",
     "output_type": "stream",
     "text": [
      "['1', '2', '56', '89', '78']\n"
     ]
    }
   ],
   "source": [
    "str = \"1 2 56 89 78\"\n",
    "arr = str.split()\n",
    "print(arr)"
   ]
  },
  {
   "cell_type": "code",
   "execution_count": 12,
   "id": "f6c94808",
   "metadata": {},
   "outputs": [
    {
     "name": "stdout",
     "output_type": "stream",
     "text": [
      "['sınavım', 'var']\n"
     ]
    }
   ],
   "source": [
    "\n",
    "import array as arr\n",
    "a = \"sınavım var\"\n",
    "b = a.split()\n",
    "print(b)"
   ]
  },
  {
   "cell_type": "code",
   "execution_count": 11,
   "id": "5a6c9962",
   "metadata": {},
   "outputs": [
    {
     "name": "stdout",
     "output_type": "stream",
     "text": [
      "['a', 'b', 'c']\n"
     ]
    }
   ],
   "source": [
    "import array as arr\n",
    "str = \"abc\"\n",
    "arr = list(str)\n",
    "print(arr)"
   ]
  },
  {
   "cell_type": "code",
   "execution_count": 4,
   "id": "ccc53340",
   "metadata": {},
   "outputs": [
    {
     "name": "stdout",
     "output_type": "stream",
     "text": [
      "['f', 'a', 't', 'm', 'a']\n"
     ]
    }
   ],
   "source": [
    "a = \"fatma\"\n",
    "b = list(a)\n",
    "print(b)"
   ]
  },
  {
   "cell_type": "code",
   "execution_count": 5,
   "id": "c7e908c9",
   "metadata": {},
   "outputs": [
    {
     "data": {
      "text/plain": [
       "['fatma ', ' çiçek ', ' 20 ', ' inönü']"
      ]
     },
     "execution_count": 5,
     "metadata": {},
     "output_type": "execute_result"
    }
   ],
   "source": [
    "liste = \"fatma , çiçek , 20 , inönü\"\n",
    "liste.split(',')"
   ]
  },
  {
   "cell_type": "code",
   "execution_count": 8,
   "id": "e8a9ef6b",
   "metadata": {},
   "outputs": [
    {
     "name": "stdout",
     "output_type": "stream",
     "text": [
      "365agaj@``₺€@w₺i¨~æß$½£\n"
     ]
    }
   ],
   "source": [
    "kod = \"2365agaj@``₺€@w₺i¨~æß$½£\"\n",
    "print(kod.strip('@,2'))"
   ]
  },
  {
   "cell_type": "code",
   "execution_count": 10,
   "id": "34ccc7de",
   "metadata": {},
   "outputs": [
    {
     "name": "stdout",
     "output_type": "stream",
     "text": [
      "1~7~8~9~0~56\n"
     ]
    }
   ],
   "source": [
    "liste = ['1','7','8','9','0','56']\n",
    "ayırıcı = '~'\n",
    "print(ayırıcı.join(liste))"
   ]
  },
  {
   "cell_type": "code",
   "execution_count": 13,
   "id": "64f5bbef",
   "metadata": {},
   "outputs": [
    {
     "name": "stdout",
     "output_type": "stream",
     "text": [
      "First element: 8\n",
      "Second element: 4\n"
     ]
    }
   ],
   "source": [
    "import array as arr\n",
    "a = arr.array('i', [1, 3, 4, 8])\n",
    "print(\"First element:\", a[-1])\n",
    "print(\"Second element:\", a[-2])"
   ]
  },
  {
   "cell_type": "code",
   "execution_count": 14,
   "id": "6cb20156",
   "metadata": {},
   "outputs": [
    {
     "name": "stdout",
     "output_type": "stream",
     "text": [
      "array('i', [1, 3, 4, 8, 12])\n"
     ]
    }
   ],
   "source": [
    "import array as arr\n",
    "a = arr.array('i', [1, 3, 4, 8])\n",
    "a.append(12)\n",
    "print(a)"
   ]
  },
  {
   "cell_type": "code",
   "execution_count": 15,
   "id": "debeb0ec",
   "metadata": {},
   "outputs": [
    {
     "name": "stdout",
     "output_type": "stream",
     "text": [
      "array('i', [1, 3, 4])\n"
     ]
    }
   ],
   "source": [
    "import array as arr\n",
    "a = arr.array('i', [1, 3, 4, 8])\n",
    "a.pop(3)\n",
    "print(a)"
   ]
  },
  {
   "cell_type": "code",
   "execution_count": 16,
   "id": "c4c89ae8",
   "metadata": {},
   "outputs": [
    {
     "name": "stdout",
     "output_type": "stream",
     "text": [
      "array('i', [1, 4, 8])\n"
     ]
    }
   ],
   "source": [
    "import array as arr\n",
    "a = arr.array('i', [1, 3, 4, 8])\n",
    "a.remove(3)\n",
    "print(a)"
   ]
  },
  {
   "cell_type": "code",
   "execution_count": 17,
   "id": "7f54f07b",
   "metadata": {},
   "outputs": [
    {
     "name": "stdout",
     "output_type": "stream",
     "text": [
      "array('i', [1, 3, 4, 8, 7, 2, 5])\n"
     ]
    }
   ],
   "source": [
    "import array as arr\n",
    "a = arr.array('i', [1, 3, 4, 8])\n",
    "b = arr.array('i', [7, 2, 5])\n",
    "a.extend(b)\n",
    "print(a)"
   ]
  },
  {
   "cell_type": "code",
   "execution_count": 1,
   "id": "73d36a4c",
   "metadata": {},
   "outputs": [
    {
     "name": "stdout",
     "output_type": "stream",
     "text": [
      "[-31, 2, 6, 11, 19, 27, 45, 121]\n"
     ]
    }
   ],
   "source": [
    "def bubblesort(list):\n",
    "\n",
    "#  Sırayla düzenlemek için öğeleri değiştirin\n",
    "   for iter_num in range(len(list)-1,0,-1):\n",
    "    for idx in range(iter_num):\n",
    "         if list[idx]>list[idx+1]:\n",
    "            temp = list[idx]\n",
    "            list[idx] = list[idx+1]\n",
    "            list[idx+1] = temp\n",
    "list = [19,2,-31,45,6,11,121,27]\n",
    "bubblesort(list)\n",
    "print(list)"
   ]
  },
  {
   "cell_type": "code",
   "execution_count": 2,
   "id": "fcaefe6a",
   "metadata": {},
   "outputs": [
    {
     "name": "stdout",
     "output_type": "stream",
     "text": [
      "Artan Sırada Sıralanmış Dizi:\n",
      "[-9, -2, 0, 11, 45]\n"
     ]
    }
   ],
   "source": [
    "def selectionSort(array, boyut):\n",
    "   \n",
    "    for step in range(boyut):\n",
    "        min_idx = step\n",
    "\n",
    "        for i in range(step + 1, boyut):\n",
    "          \n",
    "            #azalan düzende sıralamak için bu satırda > değerini < olarak değiştirin \n",
    "            # her döngüde minimum öğeyi seçin\n",
    "            if array[i] < array[min_idx]:\n",
    "                min_idx = i\n",
    "         \n",
    "        # min'i doğru konuma getirin\n",
    "        (array[step], array[min_idx]) = (array[min_idx], array[step])\n",
    "\n",
    "\n",
    "data = [-2, 45, 0, 11, -9]\n",
    "boyut = len(data)\n",
    "selectionSort(data, boyut)\n",
    "print('Artan Sırada Sıralanmış Dizi:')\n",
    "print(data)"
   ]
  },
  {
   "cell_type": "code",
   "execution_count": 3,
   "id": "8c60b8b7",
   "metadata": {},
   "outputs": [
    {
     "name": "stdout",
     "output_type": "stream",
     "text": [
      "Artan Sırada Sıralanmış Dizi:\n",
      "[-5, 1, 3, 4, 9]\n"
     ]
    }
   ],
   "source": [
    "def insertionSort(array):\n",
    "\n",
    "    for step in range(1, len(array)):\n",
    "        key = array[step]\n",
    "        j = step - 1\n",
    "        \n",
    "        #Anahtarı, kendisinden daha küçük bir öğe bulunana kadar solundaki her öğeyle karşılaştırın\n",
    "         # Azalan sıralama için,<dizi[j] anahtarını anahtar>dizi[j] olarak değiştirin.       \n",
    "        while j >= 0 and key < array[j]:\n",
    "            array[j + 1] = array[j]\n",
    "            j = j - 1\n",
    "        \n",
    "        # Anahtarı, kendisinden daha küçük olan öğenin arkasına yerleştirin.\n",
    "        array[j + 1] = key\n",
    "\n",
    "\n",
    "data = [9, -5, 1, 4, 3]\n",
    "insertionSort(data)\n",
    "print('Artan Sırada Sıralanmış Dizi:')\n",
    "print(data)\n"
   ]
  },
  {
   "cell_type": "code",
   "execution_count": 35,
   "id": "628806e7",
   "metadata": {},
   "outputs": [
    {
     "name": "stdout",
     "output_type": "stream",
     "text": [
      "Element found at index:  3\n"
     ]
    }
   ],
   "source": [
    "def linearSearch(array, n, x):\n",
    "\n",
    "    # Diziden sırayla geçmek\n",
    "    for i in range(0, n):\n",
    "        if (array[i] == x):\n",
    "            return i\n",
    "    return -1\n",
    "\n",
    "\n",
    "array = [2, 4, 0, 1, 9]\n",
    "x = 1\n",
    "n = len(array)\n",
    "result = linearSearch(array, n, x)\n",
    "if(result == -1):\n",
    "    print(\"İndex bulunamadı\")\n",
    "else:\n",
    "    print(\"İndex dizide bulundu: \", result)"
   ]
  },
  {
   "cell_type": "code",
   "execution_count": null,
   "id": "7eb64e25",
   "metadata": {},
   "outputs": [],
   "source": [
    "def binarySearch(array, x, low, high):\n",
    "\n",
    "    if high >= low:\n",
    "\n",
    "        mid = low + (high - low)//2\n",
    "\n",
    "        # # Ortada bulunursa geri verin\n",
    "        if array[mid] == x:\n",
    "            return mid\n",
    "\n",
    "        # Sol yarıyı ara\n",
    "        elif array[mid] > x:\n",
    "            return binarySearch(array, x, low, mid-1)\n",
    "\n",
    "        # Sağ yarıyı ara       \n",
    "            return binarySearch(array, x, mid + 1, high)\n",
    "\n",
    "    else:\n",
    "        return -1\n",
    "\n",
    "\n",
    "array = [3, 4, 5, 6, 7, 8, 9]\n",
    "x = 4\n",
    "\n",
    "result = binarySearch(array, x, 0, len(array)-1)\n",
    "\n",
    "if result != -1:\n",
    "    print(\"Element is present at index \" + str(result))\n",
    "else:\n",
    "    print(\"Not found\")"
   ]
  },
  {
   "cell_type": "code",
   "execution_count": null,
   "id": "383e967e",
   "metadata": {},
   "outputs": [],
   "source": [
    "name1 = input(\"Your name: \")\n",
    "name2 = input(\"Girlfriend's / Boyfriend's name: \")\n",
    "\n",
    "love = len(name1) + len(name2)\n",
    "\n",
    "if len(name1) > len(name2):\n",
    "    love -= 5\n",
    "else:\n",
    "    love += 3\n",
    "\n",
    "love *= 42\n",
    "love = love / (100 + len(name2))\n",
    "\n",
    "love = 10 if love > 10 else round(love, 0)\n",
    "\n",
    "print(\"{} and {} score is {} out of 10\".format(name1, name2, love))"
   ]
  }
 ],
 "metadata": {
  "kernelspec": {
   "display_name": "Python 3.9.12 ('base')",
   "language": "python",
   "name": "python3"
  },
  "language_info": {
   "codemirror_mode": {
    "name": "ipython",
    "version": 3
   },
   "file_extension": ".py",
   "mimetype": "text/x-python",
   "name": "python",
   "nbconvert_exporter": "python",
   "pygments_lexer": "ipython3",
   "version": "3.9.12"
  },
  "vscode": {
   "interpreter": {
    "hash": "1e854b30af4d22ca3d790366190bafa345d2aab608baadce5c3678fe3d7b708e"
   }
  }
 },
 "nbformat": 4,
 "nbformat_minor": 5
}
