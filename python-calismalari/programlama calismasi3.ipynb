{
 "cells": [
  {
   "cell_type": "code",
   "execution_count": 4,
   "id": "f06eeaa1",
   "metadata": {},
   "outputs": [
    {
     "name": "stdout",
     "output_type": "stream",
     "text": [
      "3\n",
      "5 2\n",
      "14 52 87 74 45\n",
      "[74, 45, 14, 52, 87]\n",
      "6 3\n",
      "14 78 4 5 6 8\n",
      "[5, 6, 8, 14, 78, 4]\n",
      "7 7\n",
      "14 5 7 8 9 0 1\n",
      "[14, 5, 7, 8, 9, 0, 1]\n"
     ]
    }
   ],
   "source": [
    "# soru1\n",
    "T = int(input()) # test sayısı\n",
    "for ti in range(T):\n",
    "    txt = input() # eleman sayısı, kaydırma sayısı\n",
    "    x = txt.split()\n",
    "    N = int(x[0])\n",
    "    K = int(x[1])\n",
    "\n",
    "    txt = input() # sayıları gir\n",
    "    A = txt.split()\n",
    "    \n",
    "    for i in range(len(A)):\n",
    "        A[i] = int(A[i])\n",
    "\n",
    "    for j in range(K):\n",
    "        tmp = A[N - 1]\n",
    "        for i in range(N,1,-1):\n",
    "            A[i-1] = A[i-2]\n",
    "        A[0] = tmp\n",
    "    print(A)"
   ]
  },
  {
   "cell_type": "code",
   "execution_count": null,
   "id": "f9fc9f5e",
   "metadata": {},
   "outputs": [],
   "source": [
    "T = int(input()) # test sayısı\n",
    "for ti in range(T):\n",
    "    N,K = map(int,input().split())\n",
    "   \n",
    "    txt = input() # sayıları gir\n",
    "    A = txt.split()\n",
    "    \n",
    "    for i in range(len(A)):\n",
    "        A[i] = int(A[i])\n",
    "\n",
    "   \n",
    "    for j in range(K):\n",
    "        tmp = A[N - 1]\n",
    "        for i in range(N,1,-1):\n",
    "            A[i-1] = A[i-2]\n",
    "        A[0] = tmp\n",
    "    print(A)"
   ]
  },
  {
   "cell_type": "code",
   "execution_count": null,
   "id": "6c65eb66",
   "metadata": {},
   "outputs": [],
   "source": [
    "# string olan ifadeyi integera çevirme algoritma mantığı; \n",
    "# for i in range(len(A)):\n",
    "#     A[i] = int(A[i])\n",
    "\n",
    "# string olan ifadeyi integera çevirme hazır kod ile;\n",
    "# A = map(int,input().split())\n",
    "# for i in A:\n",
    "#     print(i, end=\" \")"
   ]
  },
  {
   "cell_type": "code",
   "execution_count": 1,
   "id": "bc06533d",
   "metadata": {},
   "outputs": [
    {
     "name": "stdout",
     "output_type": "stream",
     "text": [
      "2\n",
      "3\n",
      "1 2 3\n",
      "4 5 6\n",
      "7 8 9\n",
      "0\n",
      "2\n",
      "4 3\n",
      "1 4\n",
      "2\n"
     ]
    }
   ],
   "source": [
    "# soru2\n",
    "T = int(input()) #Test sayısı\n",
    "\n",
    "for tekrar in range(T):\n",
    "    N = int(input())\n",
    "    arr = []\n",
    "    for x in range(N):\n",
    "        arr += [input().split()]\n",
    "        for x in range(len(arr)):\n",
    "            for y in range(len(arr)):\n",
    "                arr[x][y] = int(arr[x][y])\n",
    "\n",
    "    counter = 0\n",
    "    for j in range(len(arr)):\n",
    "        for q in range(len(arr)):\n",
    "            for i in range(len(arr)):\n",
    "                for p in range(len(arr)):\n",
    "                    if p >=i:\n",
    "                        if q >=j:\n",
    "                            if arr[i][j] > arr[p][q]:\n",
    "                                counter += 1\n",
    "    print(counter)"
   ]
  },
  {
   "cell_type": "markdown",
   "id": "1fdaf7f5",
   "metadata": {},
   "source": [
    "09.03.22  Çalışmaları"
   ]
  },
  {
   "cell_type": "code",
   "execution_count": null,
   "id": "78f434ea",
   "metadata": {},
   "outputs": [],
   "source": [
    "T = int(input()) # döngü sayısı\n",
    "for iT in range(T):\n",
    "    N = int(input()) # öğrenci sayım\n",
    "    L = list(map(int,input().split()))\n",
    "    K = []\n",
    "    for i in L:\n",
    "        ci = 0\n",
    "        for j in L:\n",
    "            if i == j:\n",
    "                ci += 1\n",
    "        K.append(ci)\n",
    "    print(K)"
   ]
  },
  {
   "cell_type": "code",
   "execution_count": null,
   "id": "41107dc1",
   "metadata": {},
   "outputs": [],
   "source": [
    "T = int(input()) # döngü sayısı\n",
    "for iT in range(T):\n",
    "    N = int(input()) # öğrenci sayım\n",
    "    #L = list(map(int,input().split()))\n",
    "    L.sort()\n",
    "    L1 = []; L2 = [];\n",
    "    i = 0;\n",
    "    while i < N:\n",
    "       \n",
    "        L1.append(L[i])\n",
    "        L2.append(1);\n",
    "        j = i + 1;\n",
    "        while j < N:\n",
    "            if L[i] == L[j]:\n",
    "                L2[len(L2)-1] += 1\n",
    "                j += 1\n",
    "            else:\n",
    "                break\n",
    "        i = j\n",
    "    h1 = L2[0]\n",
    "    h2 = L2[0]\n",
    "    for i in L2:\n",
    "        if i > h1:\n",
    "            h1 = i\n",
    "        else:\n",
    "            if i < h2:\n",
    "                h2 = i\n",
    "    if h1 - h2 > 0:\n",
    "        print(h1 - h2)\n",
    "    else:\n",
    "        print(-1)  "
   ]
  },
  {
   "cell_type": "code",
   "execution_count": null,
   "id": "a0da9ab8",
   "metadata": {},
   "outputs": [],
   "source": [
    "T = int(input())\n",
    "N = int(input())\n",
    "arr = input().split()\n",
    "\n",
    "for ix in range(len(arr)):\n",
    "    arr[ix] = int(arr[ix])\n",
    "\n",
    "arr.sort()\n",
    "gözlem = [1]\n",
    "for ix in range(len(arr)-1):\n",
    "    if arr[ix] == arr[ix+1]:\n",
    "        gözlem[-1] += 1\n",
    "    else:\n",
    "        gözlem += [1]\n",
    "print(max(gözlem)-min(gözlem))"
   ]
  },
  {
   "cell_type": "code",
   "execution_count": null,
   "id": "d8b6131d",
   "metadata": {},
   "outputs": [],
   "source": [
    "T = int(input())\n",
    "for x in range(T):\n",
    "    N = int(input())\n",
    "    height =list(map(int,input().split()))\n",
    "    byk  = 0\n",
    "    for x in range(len(height)):\n",
    "        if height[x]>byk:\n",
    "            byk = height[x]\n",
    "    arr = [0 for a in range(byk+1)]\n",
    "    for i in range(0,len(height)):\n",
    "        arr[height[i]]+=1\n",
    "    max = 0\n",
    "    min = 1\n",
    "    for b in range(len(arr)):\n",
    "        if arr[b]>max:\n",
    "            max = arr[b]\n",
    "    for k in range(len(arr)):\n",
    "        if arr[k]!=0 and arr[k]<min:\n",
    "            min = arr[k]\n",
    "    \n",
    "print(max-min)"
   ]
  },
  {
   "cell_type": "code",
   "execution_count": null,
   "id": "62bcd56e",
   "metadata": {},
   "outputs": [],
   "source": [
    "T = int(input())\n",
    "for teptekrar in range(T)\n",
    "    N = int(input())\n",
    "    arr = input().split()\n",
    "\n",
    "    for ix in range(len(arr)):\n",
    "        arr[ix] = int(arr[ix])\n",
    "    ###\n",
    "    for tekrar in arr:\n",
    "        for ix in range(len(arr)-1):\n",
    "            if arr[ix] > arr[ix+1]:\n",
    "                arr[ix], arr[ix+1] = arr[ix+1] , arr[ix]\n",
    "    ###\n",
    "    gözlem = [1]\n",
    "    for ix in range(len(arr)-1):\n",
    "        if arr[ix] == arr[ix+1]:\n",
    "            gözlem[-1] += 1\n",
    "        else:\n",
    "            gözlem += [1]\n",
    "\n",
    "    maks = gözlem[0]\n",
    "    min = gözlem[0]\n",
    "    for x in gözlem:\n",
    "        if maks < x:\n",
    "            maks = x\n",
    "        if min > x:\n",
    "            min = x\n",
    "    print(maks-min)"
   ]
  },
  {
   "cell_type": "markdown",
   "id": "1ea6b2e0",
   "metadata": {},
   "source": [
    "18.02.22 Çalışmaları"
   ]
  },
  {
   "cell_type": "code",
   "execution_count": null,
   "id": "07c2622d",
   "metadata": {},
   "outputs": [],
   "source": [
    "alphabet=['a','b','c','d','e']\n",
    "widths = list() \n",
    "S = \"aabbcdde\" \n",
    "satir = 0\n",
    "temp_list = list() \n",
    "result_list = list() \n",
    "for item in alphabet: \n",
    "    widths.append ( \n",
    "        {\n",
    "           'item': ord(item) \n",
    "        }  \n",
    "    )\n",
    "def istenen (S): \n",
    "    for item in S: \n",
    "        char = widths[item]\n",
    "        temp_list.append (char) \n",
    "        if char>100:\n",
    "            print(\"\\n\")\n",
    "            satir += 1\n",
    "    print(satir,temp_list)\n",
    "    result_list.append (len(temp_list)) \n",
    "    result_list.append (temp_list[-1]) \n",
    "    return result_list\n",
    "   \n"
   ]
  },
  {
   "cell_type": "markdown",
   "id": "18d5df5d",
   "metadata": {},
   "source": [
    "Kurbağa sorusu"
   ]
  },
  {
   "cell_type": "code",
   "execution_count": null,
   "id": "8bd041b1",
   "metadata": {},
   "outputs": [],
   "source": [
    "# x: x ekseni... s: karenin uzunluğu ... y: y ekseni... t : sürem\n",
    "x ,y , s, t = map(int(input()).split)\n",
    "count = 0 # kırmızı nokta sayısı\n",
    "\n",
    "for i in range(x,x+s+1): # kare çiziyoruz\n",
    "    for j in range(y,y+s+1):\n",
    "        if(i + j <= t):\n",
    "            count += 1\n",
    "print(count)"
   ]
  },
  {
   "cell_type": "code",
   "execution_count": null,
   "id": "76ab4fa5",
   "metadata": {},
   "outputs": [],
   "source": [
    "def binary(i,A,l): # A : dizi... l: boyut\n",
    "    ilk = 0\n",
    "    son = l-1\n",
    "    if A[son] < i or A[ilk] > i:\n",
    "        return 0\n",
    "    while ilk <= son:\n",
    "        mid = (ilk + son) // 2\n",
    "        son = mid - l\n",
    "        \n",
    "        \n",
    "        \n",
    "        elif A[mid] < i :\n",
    "            ilk = mid+l\n",
    "        elif A[mid] == i:\n",
    "            return 1\n",
    "    return 0\n",
    "\n",
    "n,q = tuple(map(int(input()).split()))\n",
    "Ar = [int(a) for a in input().strip().split()]\n",
    "Ar.sort()\n",
    "\n",
    "for i in range(q):\n",
    "    x = int(input())\n",
    "    if binary(x,Ar,n):\n",
    "        print(\"evet\")\n",
    "    else:\n",
    "        print(\"hayır\")"
   ]
  },
  {
   "cell_type": "code",
   "execution_count": null,
   "id": "d422a95b",
   "metadata": {},
   "outputs": [],
   "source": [
    "n,q=map(int,input().split())\n",
    "arr=list(map(int,input().split()))\n",
    "arr.sort()\n",
    "\n",
    "for i in range(q):\n",
    "    low=0\n",
    "    high=n-1\n",
    "    key=int(input())\n",
    "    while True:\n",
    "        mid=int((high+low)/2)\n",
    "        if arr[mid]==key:\n",
    "            print(\"YES\")\n",
    "            break\n",
    "        elif arr[mid]<key:\n",
    "            low=mid+1\n",
    "        else:\n",
    "            high=mid-1\n",
    "        if low>high:\n",
    "            print(\"NO\")\n",
    "            break"
   ]
  },
  {
   "cell_type": "markdown",
   "id": "8f2b80a6",
   "metadata": {},
   "source": [
    "# çember sorusu"
   ]
  },
  {
   "cell_type": "code",
   "execution_count": null,
   "id": "159ad26b",
   "metadata": {},
   "outputs": [],
   "source": [
    "from math import ceil,sqrt\n",
    "\n",
    "def solve(n,p,x,y,a):\n",
    "    if sum(a) < p:\n",
    "        return -1\n",
    "    \n",
    "    com = []\n",
    "    for i in range(n): # nokta sayısı\n",
    "        d = x[i]**2 + y[i]**2\n",
    "        com.append((a[i],d))\n",
    "    \n",
    "    com = sorted(com, key = lambda x: x[i])\n",
    "    s = 0\n",
    "    for v,d in com:\n",
    "        s += v\n",
    "        if s > p:\n",
    "            return ceil(sqrt(d))\n",
    "        \n",
    "        \n",
    "        \n",
    "        \n",
    "\n",
    "t = int(input())\n",
    "for i in range(t):\n",
    "    n,p = [int(i) for i in input().split()]\n",
    "    x = [int(i) for i in input().split()]\n",
    "    y = [int(i) for i in input().split()]\n",
    "    a = [int(i) for i in input().split()] # boşluk sayısı\n",
    "    \n",
    "    out=solve(n,p,x,y,a)\n",
    "    print(out)"
   ]
  },
  {
   "cell_type": "markdown",
   "id": "3905dc17",
   "metadata": {},
   "source": [
    " Matrisi İki Kat Küçültme"
   ]
  },
  {
   "cell_type": "code",
   "execution_count": null,
   "id": "baf241c8",
   "metadata": {},
   "outputs": [],
   "source": [
    "import random"
   ]
  },
  {
   "cell_type": "code",
   "execution_count": 2,
   "id": "f785c0a9",
   "metadata": {},
   "outputs": [],
   "source": [
    "N = int(input(\"NxN Matris Boyutunu Giriniz , N = \"))\n",
    "K = int(input(\"Küçültme Oranını Giriniz , K = \"))\n",
    "N = N - N%K"
   ]
  },
  {
   "cell_type": "code",
   "execution_count": null,
   "id": "9390930f",
   "metadata": {},
   "outputs": [],
   "source": [
    "M = [[round(random.random()*100) for i in range(N)] for j in range(N)]\n",
    "for i in range(N):\n",
    "    print(M[i])"
   ]
  },
  {
   "cell_type": "code",
   "execution_count": null,
   "id": "4e48afc9",
   "metadata": {},
   "outputs": [],
   "source": [
    "My = [[0 for i in range(int(N/K))] for j in range (int(N/K))]\n",
    "for i in range(int(N/K)):\n",
    "    for j in range(int(N/K)): \n",
    "        top = 0 \n",
    "        for k1 in range(K):\n",
    "            for k2 in range(K):\n",
    "                top = top + M[K*i+k1][K*j+k2] \n",
    "        My[i][j] = round(top /(K*K))      \n",
    "    print(My[i])"
   ]
  },
  {
   "cell_type": "code",
   "execution_count": null,
   "id": "f46832db",
   "metadata": {},
   "outputs": [],
   "source": [
    "import random"
   ]
  },
  {
   "cell_type": "code",
   "execution_count": null,
   "id": "d230f324",
   "metadata": {},
   "outputs": [],
   "source": [
    "N = int(input(\"NxN Matris Boyutunu Giriniz , N = \"))\n",
    "K = int(input(\"Küçültme Oranını Giriniz , K = \"))\n",
    "N = N - N%K"
   ]
  },
  {
   "cell_type": "code",
   "execution_count": null,
   "id": "f140f5cc",
   "metadata": {},
   "outputs": [],
   "source": [
    "M = [[round(random.random()*100) for i in range(N)] for j in range(N)]\n",
    "print(\"len(My)\",len(My),\"len(My[0])\",len(My[0]))\n",
    "# for i in range(N):\n",
    "#     print(M[i])"
   ]
  },
  {
   "cell_type": "code",
   "execution_count": null,
   "id": "7e67a9fc",
   "metadata": {},
   "outputs": [],
   "source": [
    "My = [[0 for i in range(int(N/K))] for j in range (int(N/K))]\n",
    "for i in range(int(N/K)):\n",
    "    for j in range(int(N/K)): \n",
    "        top = 0 \n",
    "        for k1 in range(K):\n",
    "            for k2 in range(K):\n",
    "                top = top + M[K*i+k1][K*j+k2] \n",
    "        My[i][j] = round(top /(K*K))      \n",
    "   #print(My[i])\n",
    "print(\"len(My)\",len(My),\"len(My[0])\",len(My[0]))"
   ]
  },
  {
   "cell_type": "code",
   "execution_count": null,
   "id": "67d711dd",
   "metadata": {},
   "outputs": [],
   "source": [
    "N = 8\n",
    "M = [[round(random.random()*100) for i in range(N)] for j in range(N)]\n",
    "for i in range(N):\n",
    "    print(M[i])"
   ]
  },
  {
   "cell_type": "code",
   "execution_count": null,
   "id": "6c28e46c",
   "metadata": {},
   "outputs": [],
   "source": [
    "print(M[2:4,3:5])"
   ]
  },
  {
   "cell_type": "code",
   "execution_count": null,
   "id": "90e06579",
   "metadata": {},
   "outputs": [],
   "source": [
    "#calısmalar"
   ]
  },
  {
   "cell_type": "code",
   "execution_count": null,
   "id": "d3e473ac",
   "metadata": {},
   "outputs": [],
   "source": [
    "import string\n",
    "\n",
    "metin = \"\"\n",
    "\n",
    "yeniMetin = \"\"\n",
    "for i in metin:\n",
    "    if i not in string.punctuation:\n",
    "        yeniMetin += i\n",
    "\n",
    "print(yeniMetin)"
   ]
  },
  {
   "cell_type": "code",
   "execution_count": null,
   "id": "71a04328",
   "metadata": {},
   "outputs": [],
   "source": [
    " a = 2 # Blok 1 'e ait kod\n",
    "\n",
    "if (a == 3):\n",
    "    print(a) # Blok 2'ye ait kod\n",
    "print(\"Merhaba\") # Blok 1 ' ait kod"
   ]
  },
  {
   "cell_type": "code",
   "execution_count": null,
   "id": "d8850123",
   "metadata": {},
   "outputs": [],
   "source": [
    " a = 3 # Blok 1 'e ait kod\n",
    "\n",
    "if (a == 3):\n",
    "    print(a) # Blok 2'ye ait kod\n",
    "print(\"Merhaba\") # Blok 1 ' ait kod"
   ]
  },
  {
   "cell_type": "code",
   "execution_count": null,
   "id": "e72e107e",
   "metadata": {},
   "outputs": [],
   "source": [
    "# 18 yaş kontrolü\n",
    "yaş = int(input(\"Yaşınızı giriniz:\"))\n",
    "\n",
    "if (yaş < 18):\n",
    "    # if bloğu -  Girinti ile sağlanıyor.\n",
    "    print(\"Bu mekana giremezsiniz.\")"
   ]
  },
  {
   "cell_type": "code",
   "execution_count": null,
   "id": "92be4f32",
   "metadata": {},
   "outputs": [],
   "source": [
    "# Negatif mi değil mi ?\n",
    "sayı = int (input(\"Sayıyı giriniz:\"))\n",
    "\n",
    "if (sayı < 0):\n",
    "    print(\"Negatif Sayı\")\n",
    "elif sayı ==0:\n",
    "    print(\"sıfır\")\n",
    "else:\n",
    "    print(\"pozitif\")"
   ]
  },
  {
   "cell_type": "code",
   "execution_count": null,
   "id": "df9b173b",
   "metadata": {},
   "outputs": [],
   "source": [
    "işlem =  int(input(\"İşlem seçiniz:\")) # 3 tane işlemimiz olsun.\n",
    "\n",
    "if işlem == 1:\n",
    "    print(\"1. işlem seçildi.\")\n",
    "elif işlem == 2:\n",
    "    print(\"2. işlem seçildi.\")\n",
    "elif işlem == 3:\n",
    "    print(\"3. işlem seçildi.\")\n",
    "else:\n",
    "    print(\"Geçersiz İşlem!\")"
   ]
  },
  {
   "cell_type": "code",
   "execution_count": null,
   "id": "0299ff1b",
   "metadata": {},
   "outputs": [],
   "source": [
    "islem = int(input(\"bir işlem seçiniz..: \"))\n",
    "x = int(input(\"Bir sayı giriniz ..: \"))\n",
    "y = int(input(\"Bir sayı giriniz ..: \"))\n",
    "sonuc = 0\n",
    "\n",
    "Top = 1\n",
    "cık = 2\n",
    "Carp = 3\n",
    "Bol = 4\n",
    "\n",
    "if islem == 1:\n",
    "    sonuc = x + y\n",
    "    print(\"Top sonuc \",sonuc)\n",
    "elif islem == 2:\n",
    "    sonuc = x - y\n",
    "    print(\"Cık sonuc\",sonuc)\n",
    "elif islem == 3:\n",
    "    sonuc = x * y\n",
    "    print(\"Carp sonuc \",sonuc)\n",
    "elif islem == 4:\n",
    "    sonuc = x / y\n",
    "    print(\"Bol sonuc \",sonuc)\n",
    "else:\n",
    "    print(\"Tekrar deneyiniz..\")\n",
    "\n",
    "    "
   ]
  },
  {
   "cell_type": "code",
   "execution_count": null,
   "id": "bc8ea414",
   "metadata": {},
   "outputs": [],
   "source": [
    "islem = int(input(\"bir işlem seçiniz..: \"))\n",
    "x = int(input(\"Bir sayı giriniz ..: \"))\n",
    "y = int(input(\"Bir sayı giriniz ..: \"))\n",
    "sonuc = 0\n",
    "\n",
    "Top = 1\n",
    "cık = 2\n",
    "Carp = 3\n",
    "Bol = 4\n",
    "\n",
    "if islem == 1:\n",
    "    sonuc = x + y\n",
    "    print(\"Top sonuc \",sonuc)\n",
    "elif islem == 2:\n",
    "    sonuc = x - y\n",
    "    print(\"Cık sonuc\",sonuc)\n",
    "elif islem == 3:\n",
    "    sonuc = x * y\n",
    "    print(\"Carp sonuc \",sonuc)\n",
    "elif islem == 4:\n",
    "    sonuc = x / y\n",
    "    print(\"Bol sonuc \",sonuc)\n",
    "else:\n",
    "    print(\"Tekrar deneyiniz..\")\n",
    "\n",
    "    "
   ]
  },
  {
   "cell_type": "code",
   "execution_count": null,
   "id": "0a9c76fb",
   "metadata": {},
   "outputs": [],
   "source": [
    "islem = int(input(\"bir işlem seçiniz..: \"))\n",
    "if islem <= 4:\n",
    "    x = int(input(\"Bir sayı giriniz ..: \"))\n",
    "    y = int(input(\"Bir sayı giriniz ..: \"))\n",
    "    sonuc = 0\n",
    "\n",
    "    Top = 1\n",
    "    cık = 2\n",
    "    Carp = 3\n",
    "    Bol = 4\n",
    "\n",
    "    if islem == 1:\n",
    "        sonuc = x + y\n",
    "        print(\"Top sonuc \",sonuc)\n",
    "    elif islem == 2:\n",
    "        sonuc = x - y\n",
    "        print(\"Cık sonuc\",sonuc)\n",
    "    elif islem == 3:\n",
    "        sonuc = x * y\n",
    "        print(\"Carp sonuc \",sonuc)\n",
    "    elif islem == 4:\n",
    "        sonuc = x / y\n",
    "        print(\"Bol sonuc \",sonuc)\n",
    "    else:\n",
    "        print(\"Tekrar deneyiniz..\")\n",
    "\n",
    "print(\"TTtTTTekrar deneyiniz..\")"
   ]
  },
  {
   "cell_type": "code",
   "execution_count": null,
   "id": "52255b6d",
   "metadata": {},
   "outputs": [],
   "source": [
    "print(\"\"\"-------------------------------------------------\n",
    "Hesap Makinesi Programına Hoşgeldiniz \n",
    "İşlemler;\n",
    "1. Toplama İşlemi\n",
    "2. Çıkarma İşlemi\n",
    "3. Çarpma İşlemi\n",
    "4. Bölme İşlemi\n",
    "-----------------------------------------------------------\n",
    "\"\"\")\n",
    "a = float(input(\"Birinci Sayı:\")) # Birinci Sayıyı Alıyoruz.\n",
    "b = int(input(\"İkinci Sayı:\")) # İkinci Sayıyı Alıyoruz.\n",
    "\n",
    "işlem =  input(\"İşlem Numarasını Giriniz:\") # Buna göre koşullarımızı yazacağız.\n",
    "\n",
    "if (işlem == \"1\"): # Toplama İşlemi\n",
    "\n",
    "    print(\"{} ile {} 'nin toplamı {} dır.\".format(a,b,a+b))\n",
    "elif (işlem == \"2\"):\n",
    "\n",
    "    print(\"{} ile {} 'nin farkı {} dır.\".format(a, b, a - b))\n",
    "\n",
    "elif (işlem == \"3\"):\n",
    "\n",
    "    print(\"{} ile {} 'nin çarpımı {} dır.\".format(a, b, a * b))\n",
    "\n",
    "elif (işlem == \"4\"):\n",
    "\n",
    "    print(\"{} 'nın {} 'e bölümü {} dır.\".format(a, b, a / b))\n",
    "else:\n",
    "\n",
    "    print(\"Lütfen geçerli bir işlem giriniz...\")"
   ]
  },
  {
   "cell_type": "code",
   "execution_count": null,
   "id": "3838df74",
   "metadata": {},
   "outputs": [],
   "source": [
    "print(\"**********\\nKullanıcı Girişi\\n**********\\n\")\n",
    "\n",
    "sys_kul_adı = \"fatma\" # Sistemde Kayıtlı Olduğunu Düşündüğümüz Kullanıcı Adı\n",
    "\n",
    "sys_parola  = \"12345\" # Sistemde Kayıtlı Olduğunu Düşündüğümüz Parola\n",
    "\n",
    "kullanıcı_adı = input(\"Kullanıcı Adını Giriniz:\") # Kullanıcı Adını input ile alıyoruz.\n",
    "\n",
    "parola =  input(\"Parolanızı Giriniz:\")\n",
    "\n",
    "if (kullanıcı_adı != sys_kul_adı and parola == sys_parola):\n",
    "    print(\"Kullanıcı Adı Hatalı...\")\n",
    "elif (kullanıcı_adı == sys_kul_adı and parola != sys_parola):\n",
    "    print(\"Parola Hatalı...\")\n",
    "\n",
    "elif (kullanıcı_adı != sys_kul_adı and parola != sys_parola):\n",
    "    print(\"Kullanıcı Adı ve Parola Hatalı...\")\n",
    "\n",
    "else:\n",
    "    print(\"Başarıyla Giriş Yaptınız...\")"
   ]
  },
  {
   "cell_type": "code",
   "execution_count": null,
   "id": "252dcf46",
   "metadata": {},
   "outputs": [],
   "source": [
    "import random\n",
    "\n",
    "dizi = []\n",
    "for i in range(10):\n",
    "    dizi.append(random.randint(0,100))\n",
    "print(dizi)\n"
   ]
  },
  {
   "cell_type": "code",
   "execution_count": null,
   "id": "ab8aa2cc",
   "metadata": {},
   "outputs": [],
   "source": [
    "import random\n",
    "def siralama(array):\n",
    "    boyut = len(array) # dizi boyutunu bulma..\n",
    "    cikti = [0] * boyut\n",
    "    count = [0] * 10\n",
    " \n",
    "    for i in range(0, boyut): # count saydırıldı...\n",
    "        count[array[i]] += 1\n",
    "\n",
    "    for i in range(1, 10): \n",
    "        count[i] += count[i - 1]\n",
    "\n",
    "    i = boyut - 1\n",
    "    while i >= 0: # diziye ekleme işlemi..\n",
    "        cikti[count[array[i]] - 1] = array[i]\n",
    "        count[array[i]] -= 1\n",
    "        i -= 1\n",
    "   \n",
    "    for i in range(0, boyut):\n",
    "        array[i] = cikti[i]\n",
    "\n"
   ]
  },
  {
   "cell_type": "code",
   "execution_count": null,
   "id": "528bc6af",
   "metadata": {},
   "outputs": [],
   "source": [
    "for i in range(1,a+1,1):\n",
    "    if (a%i==0) and (b%i)==0:\n",
    "        obeb = i"
   ]
  },
  {
   "cell_type": "code",
   "execution_count": null,
   "id": "840767bc",
   "metadata": {},
   "outputs": [],
   "source": [
    "import time\n",
    "tstart = time.time()\n",
    "import random\n",
    "def obeb(x,y):\n",
    "    if y ==0:\n",
    "        return x\n",
    "    else:\n",
    "        return obeb(y,x%y)\n",
    "def siralama(arr):\n",
    "    for i in range(len(arr)):\n",
    "        j = i\n",
    "        key = arr[i]\n",
    "\n",
    "        while key < arr[j-1] and j > 0 :\n",
    "        \n",
    "            arr[j] = arr[j-1]\n",
    "            j -= 1\n",
    "        arr[j] = key\n",
    "    return arr\n",
    "n = int(input())\n",
    "L =[random.randint(10, 100) for i in range(n)]\n",
    "print(L)\n",
    "M = L[:(n//2)]\n",
    "N = L[(n//2):]\n",
    "M = siralama(M)\n",
    "N = siralama(N)\n",
    "print(M)\n",
    "print(N)\n",
    "liste =[]\n",
    "for i in range(len(M)):\n",
    "    if len(M)==len(N):\n",
    "        if M[i]<N[i]:\n",
    "            liste+=[M[i],N[i]]\n",
    "        else:\n",
    "            liste+=[N[i],M[i]]\n",
    "    else:\n",
    "        if M[i]<N[i]:\n",
    "            liste+=[M[i],N[i]]\n",
    "        else:\n",
    "            liste+=[N[i],M[i]]\n",
    "        liste+=[N[-1]]\n",
    "        \n",
    "print(liste)\n",
    "print(\"OBEB\",obeb(liste[0],liste[-1]))        \n",
    "tend=time.time()    \n",
    "print(tend-tstart)\n"
   ]
  },
  {
   "cell_type": "code",
   "execution_count": null,
   "id": "710ead38",
   "metadata": {},
   "outputs": [],
   "source": [
    "import random\n",
    "\n",
    "dizi = []\n",
    "for i in range(10):\n",
    "    dizi.append(random.randint(0,100))\n",
    "print(dizi)\n",
    "for i in dizi[0:5]:\n",
    "    print(dizi)"
   ]
  },
  {
   "cell_type": "code",
   "execution_count": null,
   "id": "b7a1a3c5",
   "metadata": {},
   "outputs": [],
   "source": [
    "# bir tane n sayısı iste\n",
    "# k degişkeni iste\n",
    "# random = 1 olursa rastgele sayı\n",
    "# random = 0 olursa manuel sayı\n",
    "# n sayısı 5 ise random 1 ise rastgele 5 elemanlı bir dizi oluşacak\n",
    "# (random = 0 ise inputları kullanıcı girecek)\n",
    "# (random = 1 ise rastgele gelen sayılar 1-100 arasında olacak..)\n",
    "# k sayısı sıçrama sayısı\n",
    "# ornek \n",
    "# n = 5\n",
    "# k =3 \n",
    "# random = 1 gelsin\n",
    "# dizi = [1,5,8,9,7,6]\n",
    "# her seferinde k kadar sıçrama olacak ve üstüne denk gelen sayı diziden atacak ve bu durum diziden tek eleman kalana kadar devam edecek\n",
    "# silinen elemanları bir listeye ata ve print yap\n",
    "# bu birinci soru \n",
    "# diğer soru ise\n",
    "# sıçrama da ilk eleman ile sıçrama sonucu denk gelen sayı aralarında sayı ise listeden silme ama bu denk geliş üç kere üst üste olursa denk gelen sayıyı sil..bu da diziden tek eleman kalana kadar devam et.. silinen elemanları bir listeye ata ve print yap\n"
   ]
  },
  {
   "cell_type": "code",
   "execution_count": null,
   "id": "aad4e57b",
   "metadata": {},
   "outputs": [],
   "source": [
    "\n",
    "        import re \n",
    "ip_str = input(\"Dizeyi girin: \") \n",
    "\n",
    "ucase = re.findall(r\"[AZ]\", ip_str)\n",
    "lcase = re.findall(r\"[az]\", ip_str)\n",
    "specialc = re.findall(r\"[,.!?]\", ip_str) \n",
    "numc = re.findall(r\"[0-9]\", ip_str) \n",
    "print(\"Büyük harf karakter sayısı: \", len(ucase)) \n",
    "print (\"Küçük harf sayısı: \", len(lcase)) \n",
    "print(\"Özel karakter sayısı: \", len(specialc)) \n",
    "print(\"Sayısal karakter sayısı: \", len(numc))\n",
    "        "
   ]
  },
  {
   "cell_type": "code",
   "execution_count": null,
   "id": "a1de0b79",
   "metadata": {},
   "outputs": [],
   "source": [
    "import re \n",
    "ip_str = input(\"Dizeyi girin: \") # re.findall() kullanarak \n",
    "\n",
    "ucase = re.findall(r\"[AZ]\", ip_str) \n",
    "lcase = re.findall(r\"[az]\", ip_str) \n",
    "specialc = re.findall(r\"[,.!?]\", ip_str) \n",
    "numc = re.findall(r\"[0-9]\", ip_str) \n",
    "print(\"Büyük harf karakter sayısı: \", len(ucase)) \n",
    "print (\"Küçük harf sayısı: \", len(lcase)) \n",
    "print(\"Özel karakter sayısı: \", len(specialc)) \n",
    "print(\"Sayısal karakter sayısı: \", len(numc))"
   ]
  },
  {
   "cell_type": "code",
   "execution_count": null,
   "id": "ae4c6469",
   "metadata": {},
   "outputs": [],
   "source": []
  },
  {
   "cell_type": "code",
   "execution_count": null,
   "id": "ae03382f",
   "metadata": {},
   "outputs": [],
   "source": []
  }
 ],
 "metadata": {
  "kernelspec": {
   "display_name": "Python 3.9.12 ('base')",
   "language": "python",
   "name": "python3"
  },
  "language_info": {
   "codemirror_mode": {
    "name": "ipython",
    "version": 3
   },
   "file_extension": ".py",
   "mimetype": "text/x-python",
   "name": "python",
   "nbconvert_exporter": "python",
   "pygments_lexer": "ipython3",
   "version": "3.9.12"
  },
  "vscode": {
   "interpreter": {
    "hash": "1e854b30af4d22ca3d790366190bafa345d2aab608baadce5c3678fe3d7b708e"
   }
  }
 },
 "nbformat": 4,
 "nbformat_minor": 5
}
