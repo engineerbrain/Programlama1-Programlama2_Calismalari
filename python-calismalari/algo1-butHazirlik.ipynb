{
 "cells": [
  {
   "cell_type": "code",
   "execution_count": 1,
   "id": "02e34965",
   "metadata": {},
   "outputs": [
    {
     "name": "stdout",
     "output_type": "stream",
     "text": [
      "Akımı giriniz=3\n",
      "Direnci giriniz=4\n",
      "12\n"
     ]
    }
   ],
   "source": [
    "I = int(input(\"Akımı giriniz=\"))\n",
    "R = int(input(\"Direnci giriniz=\")) \n",
    "\n",
    "V = I * R\n",
    "print(V)"
   ]
  },
  {
   "cell_type": "code",
   "execution_count": 4,
   "id": "2eb40c5d",
   "metadata": {},
   "outputs": [
    {
     "name": "stdout",
     "output_type": "stream",
     "text": [
      "kısa kenarı giriniz =4\n",
      "uzun kenarı giriniz =8\n",
      "32\n",
      "24\n"
     ]
    }
   ],
   "source": [
    "a = int(input(\"kısa kenarı giriniz =\"))\n",
    "b = int(input(\"uzun kenarı giriniz =\"))\n",
    "\n",
    "D_Alan = a * b\n",
    "D_Cevresi = (a + b)*2 \n",
    "\n",
    "print(D_Alan)\n",
    "print(D_Cevresi)"
   ]
  },
  {
   "cell_type": "code",
   "execution_count": 10,
   "id": "c6b1fb7a",
   "metadata": {},
   "outputs": [
    {
     "name": "stdout",
     "output_type": "stream",
     "text": [
      "kısa kenarı giriniz =8\n",
      "uzun kenarı giriniz =9\n",
      "Alan= 72\n",
      "Çevre= 34\n"
     ]
    }
   ],
   "source": [
    "a = int(input(\"kısa kenarı giriniz =\"))\n",
    "b = int(input(\"uzun kenarı giriniz =\"))\n",
    "\n",
    "if a < b:\n",
    "    D_Alan = a * b\n",
    "    D_Cevresi = (a + b)*2 \n",
    "    \n",
    "    print(\"Alan=\" , D_Alan)\n",
    "    print(\"Çevre=\" , D_Cevresi)\n",
    "\n",
    "else:\n",
    "        print(\"Yanlış değer girdiniz\")\n"
   ]
  },
  {
   "cell_type": "code",
   "execution_count": 11,
   "id": "f230f084",
   "metadata": {},
   "outputs": [
    {
     "name": "stdout",
     "output_type": "stream",
     "text": [
      "Yarıçap giriniz=6\n",
      "Ç. Alanı = 113.04 Ç.Çevresi = 37.68\n"
     ]
    }
   ],
   "source": [
    "r = int(input(\"Yarıçap giriniz=\"))\n",
    "a = pi = 3.14\n",
    "\n",
    "A = Cemberin_Alanı = a*r**2\n",
    "B = Cemberin_Cevresi = (a*r)*2\n",
    "\n",
    "print(\"Ç. Alanı =\", A ,\"Ç.Çevresi =\", B)"
   ]
  },
  {
   "cell_type": "code",
   "execution_count": 12,
   "id": "af3480d1",
   "metadata": {},
   "outputs": [
    {
     "name": "stdout",
     "output_type": "stream",
     "text": [
      "Öğrenci notunu giriniz=100\n",
      "Girdiğiniz notunun 5'lik değerdeki karşılığı = 5.0\n"
     ]
    }
   ],
   "source": [
    "A = int(input(\"Öğrenci notunu giriniz=\"))\n",
    "\n",
    "# \"B\" girilen değerin 5'lik karşılığı\n",
    "B = int(A)/20 \n",
    "\n",
    "print(\"Girdiğiniz notunun 5'lik değerdeki karşılığı =\" , B)"
   ]
  },
  {
   "cell_type": "code",
   "execution_count": 16,
   "id": "93de859d",
   "metadata": {},
   "outputs": [
    {
     "name": "stdout",
     "output_type": "stream",
     "text": [
      "Bir sayı giriniz=345\n",
      "sayi= 345 yüzler= 3 onlar= 4 birler= 5\n"
     ]
    }
   ],
   "source": [
    "A = int(input(\"Bir sayı giriniz=\"))\n",
    "\n",
    "if A < 1000 and A >=100:\n",
    "    a = yuzler_bas = A // 100\n",
    "    b = onlar_bas = (A - a*100) // 10\n",
    "    c = birler_bas = (A - a*100) - (b*10)\n",
    "    print(\"sayi=\",A, \"yüzler=\",a, \"onlar=\",b, \"birler=\",c)\n",
    "else:\n",
    "    print(\"Yanlış değer girdiniz.\")"
   ]
  },
  {
   "cell_type": "code",
   "execution_count": 17,
   "id": "74de5527",
   "metadata": {},
   "outputs": [
    {
     "name": "stdout",
     "output_type": "stream",
     "text": [
      "Bir sayı giriniz=134\n",
      "sayi= 134 yüzler= 1 onlar= 3 birler= 4\n",
      "431\n"
     ]
    }
   ],
   "source": [
    "A = int(input(\"Bir sayı giriniz=\"))\n",
    "\n",
    "if A < 1000 and A >=100:\n",
    "    a = yuzler_bas = A // 100\n",
    "    b = onlar_bas = (A - a*100) // 10\n",
    "    c = birler_bas = (A - a*100) - (b*10)\n",
    "    print(\"sayi=\",A, \"yüzler=\",a, \"onlar=\",b, \"birler=\",c)\n",
    "    print(str(c) + str(b) + str(a))\n",
    "else:\n",
    "    print(\"Yanlış değer girdiniz.\")"
   ]
  },
  {
   "cell_type": "code",
   "execution_count": 20,
   "id": "186ef762",
   "metadata": {},
   "outputs": [
    {
     "name": "stdout",
     "output_type": "stream",
     "text": [
      "Gün sayısını giriniz=456\n",
      "yıl =  1   ay =  7   arta_kalan_gün =  175\n"
     ]
    }
   ],
   "source": [
    "a = int(input(\"Gün sayısını giriniz=\"))\n",
    "\n",
    "yil = x = a // 365\n",
    "ay = y = (a - (x)*365) // 12\n",
    "arta_kalan_gün = z = a - ((x)*365) + ((y)*12)\n",
    "\n",
    "print(\"yıl = \",x, \"  ay = \",y, \"  arta_kalan_gün = \",z)"
   ]
  },
  {
   "cell_type": "code",
   "execution_count": 24,
   "id": "3b2c22f0",
   "metadata": {},
   "outputs": [
    {
     "name": "stdout",
     "output_type": "stream",
     "text": [
      "a =  5  b =  9\n",
      "a =  9  b =  5\n"
     ]
    }
   ],
   "source": [
    "a = 5\n",
    "b = 9\n",
    "\n",
    "print(\"a = \" ,str(a) ,\" b = \", str(b))\n",
    "a = b = 5\n",
    "a = 9\n",
    "\n",
    "print(\"a = \" , str(a) , \" b = \" ,str(b))"
   ]
  },
  {
   "cell_type": "code",
   "execution_count": 10,
   "id": "0d315556",
   "metadata": {},
   "outputs": [
    {
     "name": "stdout",
     "output_type": "stream",
     "text": [
      "Bir sayı giriniz = 0\n",
      "0  değeri sıfıra eşittir\n"
     ]
    }
   ],
   "source": [
    "a = int(input(\"Bir sayı giriniz = \"))\n",
    "if a < 0:\n",
    "    print(a , \"değeri negatiftir\")\n",
    "elif a > 0:\n",
    "    print(a, \" değeri pozitiftir\")\n",
    "elif a == 0:\n",
    "    print(a , \" değeri sıfıra eşittir\")"
   ]
  },
  {
   "cell_type": "code",
   "execution_count": 41,
   "id": "7d9b35c2",
   "metadata": {},
   "outputs": [
    {
     "name": "stdout",
     "output_type": "stream",
     "text": [
      "Öğrencinin vize notunu giriniz = 13\n",
      "Öğrencinin final notunu giriniz = 83\n",
      "Geçtiniz\n",
      "55.0\n"
     ]
    }
   ],
   "source": [
    "a = int(input(\"Öğrencinin vize notunu giriniz = \"))\n",
    "b = int(input(\"Öğrencinin final notunu giriniz = \"))\n",
    "ort = a * 0.4 + b * 0.6\n",
    "if b >= 60 and ort >= 55:\n",
    "    print(\"Geçtiniz\")\n",
    "    print(str(ort))\n",
    "else:\n",
    "    print(\"Kaldınız\")\n",
    "    print(str(ort))\n",
    "    \n"
   ]
  },
  {
   "cell_type": "code",
   "execution_count": 48,
   "id": "aeb52cda",
   "metadata": {},
   "outputs": [
    {
     "name": "stdout",
     "output_type": "stream",
     "text": [
      "Bir sayı giriniz = 0\n",
      "Bir sayı giriniz = 0\n",
      "Bir sayı giriniz = 0\n",
      "Herhangi iki sayıda eşitlik var\n"
     ]
    }
   ],
   "source": [
    "a = int(input(\"Bir sayı giriniz = \"))\n",
    "b = int(input(\"Bir sayı giriniz = \"))\n",
    "c = int(input(\"Bir sayı giriniz = \"))\n",
    "\n",
    "if a > b and a > c:\n",
    "    print(\"En büyük sayı a'dır.\")\n",
    "elif b > c and b > c:\n",
    "    print(\"En büyük sayı b'dır.\")\n",
    "elif c > a  and c > b:\n",
    "    print(\"En büyük sayı c'dır.\")\n",
    "elif a == b or a == c or c == b:\n",
    "    print(\"Herhangi iki sayıda eşitlik var\")\n",
    "else:\n",
    "    print(\"Sayılar birbirine eşit\")"
   ]
  },
  {
   "cell_type": "code",
   "execution_count": 54,
   "id": "859e9da8",
   "metadata": {},
   "outputs": [
    {
     "name": "stdout",
     "output_type": "stream",
     "text": [
      "Bir sayı giriniz = 98\n",
      "Tam bölme gerçekleşmedi\n",
      "2\n"
     ]
    }
   ],
   "source": [
    "a = int(input(\"Bir sayı giriniz = \"))\n",
    "kalan = a % 6\n",
    "if kalan == 0:\n",
    "    print(\"Tam bölme gerçekleşti\")\n",
    "    print(str(kalan))\n",
    "else:\n",
    "    print(\"Tam bölme gerçekleşmedi\")\n",
    "    print(str(kalan))\n",
    "    \n",
    "    "
   ]
  },
  {
   "cell_type": "code",
   "execution_count": 57,
   "id": "e343017a",
   "metadata": {},
   "outputs": [
    {
     "name": "stdout",
     "output_type": "stream",
     "text": [
      "Doğruya ait katsayıları giriniz = \n",
      "a =2\n",
      "b =5\n",
      "c =8\n",
      "Çembere ait katsayları giriniz = \n",
      "x = 1\n",
      "y = 9\n",
      "r = 6\n",
      "uzaklık =  10.213243599737853  yarıçap =  6\n",
      "kesmiyor\n"
     ]
    }
   ],
   "source": [
    "import math\n",
    "\n",
    "print(\"Doğruya ait katsayıları giriniz = \")\n",
    "a = int(input(\"a =\"))\n",
    "b = int(input(\"b =\"))\n",
    "c = int(input(\"c =\"))\n",
    "\n",
    "print(\"Çembere ait katsayları giriniz = \")\n",
    "x = int(input(\"x = \"))\n",
    "y = int(input(\"y = \"))\n",
    "r = int(input(\"r = \"))\n",
    "\n",
    "d = abs(a * x + b * y + c) / math.sqrt(a**2 + b**2)\n",
    "\n",
    "print(\"uzaklık = \",d,\" yarıçap = \",r)\n",
    "\n",
    "if d > r:\n",
    "    print(\"kesmiyor\")\n",
    "\n",
    "elif d == r:\n",
    "    print(\"teğet\")\n",
    "    \n",
    "else: \n",
    "    print(\"kesiyor\")"
   ]
  },
  {
   "cell_type": "code",
   "execution_count": 58,
   "id": "0d5a6101",
   "metadata": {},
   "outputs": [
    {
     "name": "stdout",
     "output_type": "stream",
     "text": [
      "Element          Value\n",
      "0                 2\n",
      "1                 4\n",
      "2                 6\n",
      "3                 8\n",
      "4                 10\n",
      "5                 12\n",
      "6                 14\n",
      "7                 16\n",
      "8                 18\n",
      "9                 20\n"
     ]
    }
   ],
   "source": [
    "print(\"Element          Value\")\n",
    "for i in range(10):\n",
    "    print(i,\"               \",2 + 2*i)"
   ]
  },
  {
   "cell_type": "code",
   "execution_count": null,
   "id": "5161635c",
   "metadata": {},
   "outputs": [],
   "source": [
    "a = int(input(\"Bir sayı giriniz = \" ))\n",
    "x = 10\n",
    "while a < x:\n",
    "    print(a*x)\n",
    "    x += 2\n",
    "    \n",
    "    \n",
    "    break"
   ]
  },
  {
   "cell_type": "code",
   "execution_count": 67,
   "id": "87d6d9d4",
   "metadata": {},
   "outputs": [
    {
     "name": "stdout",
     "output_type": "stream",
     "text": [
      "Bir sayı giriniz = 1\n",
      "b =  1 a =  1\n",
      "Bir sayı giriniz = 2\n",
      "b =  3 a =  2\n",
      "Bir sayı giriniz = 3\n",
      "b =  6 a =  3\n",
      "Bir sayı giriniz = 4\n",
      "b =  10 a =  4\n",
      "Bir sayı giriniz = 5\n",
      "b =  15 a =  5\n",
      "15.0\n"
     ]
    }
   ],
   "source": [
    "c = 1\n",
    "b = 0\n",
    "\n",
    "for i in range(5):\n",
    "    a = int(input(\"Bir sayı giriniz = \"))\n",
    "    b += a\n",
    "    print(\"b = \", b, \"a = \",a)\n",
    "ort = b / c\n",
    "c +=1\n",
    "print(str(ort))\n",
    "\n"
   ]
  },
  {
   "cell_type": "code",
   "execution_count": 7,
   "id": "a63098c2",
   "metadata": {},
   "outputs": [
    {
     "name": "stdout",
     "output_type": "stream",
     "text": [
      "Fibonaccinin ilk n terimi = 9\n",
      "0 1 1 2 3 5 8 13 21 34 "
     ]
    }
   ],
   "source": [
    "# fibonacciyi hesaplayan program\n",
    "\n",
    "n = int(input(\"Fibonaccinin ilk n terimi = \"))\n",
    "\n",
    "a = 0\n",
    "print(a , end = \" \")\n",
    "b = 1\n",
    "print(b , end = \" \")\n",
    "\n",
    "for i in range(n -1) :\n",
    "    f = a + b\n",
    "    print(f ,  end = \" \")\n",
    "    \n",
    "    a = b\n",
    "    b = f"
   ]
  },
  {
   "cell_type": "code",
   "execution_count": 15,
   "id": "fd342319",
   "metadata": {},
   "outputs": [
    {
     "name": "stdout",
     "output_type": "stream",
     "text": [
      "Bir sayı giriniz = 7\n",
      "Bir sayı giriniz = 8\n",
      "Bir sayı giriniz = 9\n",
      "Bir sayı giriniz = 0\n",
      "Bir sayı giriniz = 0\n",
      "Bir sayı giriniz = 0\n",
      "Bir sayı giriniz = 0\n",
      "Bir sayı giriniz = -4\n",
      "Bir sayı giriniz = -5\n",
      "Bir sayı giriniz = -78\n",
      "s =  4\n",
      "p =  3\n",
      "n =  3\n"
     ]
    }
   ],
   "source": [
    "p = 0 # pozitif tam sayı adedi\n",
    "n = 0 # negatif tam sayı adedi\n",
    "s = 0 # sıfır tam sayı adedi\n",
    "\n",
    "for i in range(10):\n",
    "    a = int(input(\"Bir sayı giriniz = \"))\n",
    "    if a >0:\n",
    "        p +=1\n",
    "      \n",
    "    elif a < 0:\n",
    "        n += 1\n",
    "      \n",
    "    elif a == 0:\n",
    "        s += 1\n",
    "\n",
    "print(\"s = \", s )  \n",
    "print(\"p = \" , p )\n",
    "print(\"n = \", n )"
   ]
  },
  {
   "cell_type": "code",
   "execution_count": 2,
   "id": "2f81a7d0",
   "metadata": {},
   "outputs": [
    {
     "name": "stdout",
     "output_type": "stream",
     "text": [
      "i\n"
     ]
    }
   ],
   "source": [
    "i_count =0\n",
    "for x in 'kayisi':\n",
    "    if x == 'i':\n",
    "        i_count += 1\n",
    "        if i_count == 2:\n",
    "            break\n",
    "            \n",
    "print(x)"
   ]
  },
  {
   "cell_type": "code",
   "execution_count": 3,
   "id": "ca0506c0",
   "metadata": {},
   "outputs": [
    {
     "name": "stdout",
     "output_type": "stream",
     "text": [
      "n = 4\n",
      "4  sayısı asal değildir.\n"
     ]
    }
   ],
   "source": [
    "n = int(input(\"n = \"))\n",
    "asal = 1\n",
    "for i in range(2,n,1):\n",
    "    if n%i == 0:\n",
    "        asal = 0\n",
    "        break\n",
    "if asal==0:\n",
    "    print(n,\" sayısı asal değildir.\")\n",
    "else:\n",
    "    print(n,\" sayısı asaldır.\")"
   ]
  },
  {
   "cell_type": "code",
   "execution_count": 7,
   "id": "9102b335",
   "metadata": {},
   "outputs": [
    {
     "name": "stdout",
     "output_type": "stream",
     "text": [
      "Bir sayı giriniz = 9\n",
      "3\n",
      "9\n"
     ]
    }
   ],
   "source": [
    "n = int(input(\"Bir sayı giriniz = \"))\n",
    "asal_carpan = 0\n",
    "for i in range(1,n + 1,1):\n",
    "    if n%i ==0:\n",
    "        asal_carpan += 1\n",
    "        \n",
    "print(asal_carpan)"
   ]
  },
  {
   "cell_type": "code",
   "execution_count": 13,
   "id": "76874fa1",
   "metadata": {},
   "outputs": [
    {
     "name": "stdout",
     "output_type": "stream",
     "text": [
      "Bir sayı giriniz = 8\n",
      "2\n",
      "2\n",
      "2\n"
     ]
    }
   ],
   "source": [
    "n = int(input(\"Bir sayı giriniz = \"))\n",
    "asal_carpan = 2\n",
    "\n",
    "while n > 1:\n",
    "    if n%asal_carpan == 0:\n",
    "        n = n / asal_carpan\n",
    "        print(asal_carpan)\n",
    "    else:\n",
    "        asal_carpan += 1"
   ]
  },
  {
   "cell_type": "code",
   "execution_count": 14,
   "id": "e31e6bc5",
   "metadata": {},
   "outputs": [
    {
     "name": "stdout",
     "output_type": "stream",
     "text": [
      "0    5\n",
      "5    4.0\n",
      "13.0    3.2\n",
      "19.4    2.5600000000000005\n",
      "24.52    2.0480000000000005\n",
      "28.616    1.6384000000000005\n",
      "31.8928    1.3107200000000006\n",
      "34.51424    1.0485760000000004\n",
      "36.611392    0.8388608000000004\n"
     ]
    }
   ],
   "source": [
    "h  = 5\n",
    "yol = 0\n",
    "print(yol,\"  \",h)\n",
    "\n",
    "yol += h\n",
    "h *= 0.8\n",
    "print(yol,\"  \",h)\n",
    "\n",
    "while h > 1:\n",
    "    yol = yol + 2*h\n",
    "    h *= 0.8\n",
    "    print(yol,\"  \",h)"
   ]
  },
  {
   "cell_type": "code",
   "execution_count": 28,
   "id": "b3dbd58d",
   "metadata": {},
   "outputs": [
    {
     "name": "stdout",
     "output_type": "stream",
     "text": [
      "Kenar uzunluğu1 = 3\n",
      "Kenar uzunluğu2 = 4\n",
      "Kenar uzunluğu3 = 5\n",
      "üçgen çizilebilir\n",
      "çeşitkenar üçgen\n"
     ]
    },
    {
     "ename": "TypeError",
     "evalue": "'float' object is not callable",
     "output_type": "error",
     "traceback": [
      "\u001b[1;31m---------------------------------------------------------------------------\u001b[0m",
      "\u001b[1;31mTypeError\u001b[0m                                 Traceback (most recent call last)",
      "\u001b[1;32m<ipython-input-28-5b8ba0e1767d>\u001b[0m in \u001b[0;36m<module>\u001b[1;34m\u001b[0m\n\u001b[0;32m     19\u001b[0m     \u001b[0mcevre\u001b[0m \u001b[1;33m=\u001b[0m \u001b[0ma\u001b[0m \u001b[1;33m+\u001b[0m \u001b[0mb\u001b[0m \u001b[1;33m+\u001b[0m \u001b[0mc\u001b[0m\u001b[1;33m\u001b[0m\u001b[1;33m\u001b[0m\u001b[0m\n\u001b[0;32m     20\u001b[0m     \u001b[0mu\u001b[0m \u001b[1;33m=\u001b[0m \u001b[0mcevre\u001b[0m \u001b[1;33m/\u001b[0m \u001b[1;36m2\u001b[0m\u001b[1;33m\u001b[0m\u001b[1;33m\u001b[0m\u001b[0m\n\u001b[1;32m---> 21\u001b[1;33m     \u001b[0malan\u001b[0m \u001b[1;33m=\u001b[0m \u001b[1;33m(\u001b[0m\u001b[0mu\u001b[0m\u001b[1;33m(\u001b[0m\u001b[0mu\u001b[0m\u001b[1;33m-\u001b[0m\u001b[0ma\u001b[0m\u001b[1;33m)\u001b[0m\u001b[1;33m*\u001b[0m\u001b[1;33m(\u001b[0m\u001b[0mu\u001b[0m\u001b[1;33m-\u001b[0m\u001b[0mb\u001b[0m\u001b[1;33m)\u001b[0m\u001b[1;33m*\u001b[0m\u001b[1;33m(\u001b[0m\u001b[0mu\u001b[0m\u001b[1;33m-\u001b[0m\u001b[0mc\u001b[0m\u001b[1;33m)\u001b[0m\u001b[1;33m)\u001b[0m\u001b[1;33m(\u001b[0m\u001b[1;36m1\u001b[0m\u001b[1;33m/\u001b[0m\u001b[1;36m2\u001b[0m\u001b[1;33m)\u001b[0m\u001b[1;33m\u001b[0m\u001b[1;33m\u001b[0m\u001b[0m\n\u001b[0m\u001b[0;32m     22\u001b[0m     \u001b[0mprint\u001b[0m\u001b[1;33m(\u001b[0m\u001b[1;34m\"alan = \"\u001b[0m\u001b[1;33m,\u001b[0m\u001b[0malan\u001b[0m\u001b[1;33m,\u001b[0m\u001b[1;34m\" cevre = \"\u001b[0m\u001b[1;33m,\u001b[0m\u001b[0mcevre\u001b[0m\u001b[1;33m)\u001b[0m\u001b[1;33m\u001b[0m\u001b[1;33m\u001b[0m\u001b[0m\n",
      "\u001b[1;31mTypeError\u001b[0m: 'float' object is not callable"
     ]
    }
   ],
   "source": [
    "a = int(input(\"Kenar uzunluğu1 = \"))\n",
    "b = int(input(\"Kenar uzunluğu2 = \"))\n",
    "c = int(input(\"Kenar uzunluğu3 = \"))\n",
    "\n",
    "if a < b + c and a > abs(b-c):\n",
    "    print(\"üçgen çizilebilir\")\n",
    "     \n",
    "else:\n",
    "    print(\"üçgen çizilemez\")\n",
    "    \n",
    "if a == b == c:\n",
    "    print(\"eşkenar üçgen\")\n",
    "    \n",
    "elif a == b or a ==c or b == c:\n",
    "    print(\"ikizkenar üçgen\")\n",
    "else:\n",
    "    print(\"çeşitkenar üçgen\")\n",
    "\n",
    "    cevre = a + b + c \n",
    "    u = cevre / 2\n",
    "    alan = (u(u-a)*(u-b)*(u-c))(1/2)\n",
    "    print(\"alan = \",alan,\" cevre = \",cevre)"
   ]
  },
  {
   "cell_type": "code",
   "execution_count": 31,
   "id": "415f5375",
   "metadata": {},
   "outputs": [
    {
     "name": "stdout",
     "output_type": "stream",
     "text": [
      "Kenar uzunluğu1 = 3\n",
      "Kenar uzunluğu2 = 4\n",
      "Kenar uzunluğu3 = 5\n",
      "cesitkenar ü\n",
      " cevre =  12\n",
      "alan =  6.0\n"
     ]
    }
   ],
   "source": [
    "a = int(input(\"Kenar uzunluğu1 = \"))\n",
    "b = int(input(\"Kenar uzunluğu2 = \"))\n",
    "c = int(input(\"Kenar uzunluğu3 = \"))\n",
    "if a ==b==c:\n",
    "    print(\"eskenar ü\")\n",
    "else:\n",
    "    if a==b or a==c or b==c:\n",
    "        print(\"ikizkenar ü\")\n",
    "    else:\n",
    "        print(\"cesitkenar ü\")\n",
    "        \n",
    "        cevre = a + b + c \n",
    "        u = cevre / 2\n",
    "        alan = (u*(u-a)*(u-b)*(u-c))**(1/2)\n",
    "        print(\" cevre = \",cevre)\n",
    "        print(\"alan = \",alan)"
   ]
  },
  {
   "cell_type": "code",
   "execution_count": 39,
   "id": "221458d8",
   "metadata": {},
   "outputs": [
    {
     "name": "stdout",
     "output_type": "stream",
     "text": [
      "N = 34\n",
      "i =  1 Basamaklar toplamı =  1\n",
      "harshad\n",
      "i =  2 Basamaklar toplamı =  2\n",
      "harshad\n",
      "i =  3 Basamaklar toplamı =  3\n",
      "harshad\n",
      "i =  4 Basamaklar toplamı =  4\n",
      "harshad\n",
      "i =  5 Basamaklar toplamı =  5\n",
      "harshad\n",
      "i =  6 Basamaklar toplamı =  6\n",
      "harshad\n",
      "i =  7 Basamaklar toplamı =  7\n",
      "harshad\n",
      "i =  8 Basamaklar toplamı =  8\n",
      "harshad\n",
      "i =  9 Basamaklar toplamı =  9\n",
      "harshad\n",
      "i =  10 Basamaklar toplamı =  1\n",
      "harshad değil\n",
      "i =  11 Basamaklar toplamı =  2\n",
      "harshad değil\n",
      "i =  12 Basamaklar toplamı =  3\n",
      "harshad değil\n",
      "i =  13 Basamaklar toplamı =  4\n",
      "harshad değil\n",
      "i =  14 Basamaklar toplamı =  5\n",
      "harshad değil\n",
      "i =  15 Basamaklar toplamı =  6\n",
      "harshad değil\n",
      "i =  16 Basamaklar toplamı =  7\n",
      "harshad değil\n",
      "i =  17 Basamaklar toplamı =  8\n",
      "harshad değil\n",
      "i =  18 Basamaklar toplamı =  9\n",
      "harshad değil\n",
      "i =  19 Basamaklar toplamı =  10\n",
      "harshad değil\n",
      "i =  20 Basamaklar toplamı =  2\n",
      "harshad değil\n",
      "i =  21 Basamaklar toplamı =  3\n",
      "harshad değil\n",
      "i =  22 Basamaklar toplamı =  4\n",
      "harshad değil\n",
      "i =  23 Basamaklar toplamı =  5\n",
      "harshad değil\n",
      "i =  24 Basamaklar toplamı =  6\n",
      "harshad değil\n",
      "i =  25 Basamaklar toplamı =  7\n",
      "harshad değil\n",
      "i =  26 Basamaklar toplamı =  8\n",
      "harshad değil\n",
      "i =  27 Basamaklar toplamı =  9\n",
      "harshad değil\n",
      "i =  28 Basamaklar toplamı =  10\n",
      "harshad değil\n",
      "i =  29 Basamaklar toplamı =  11\n",
      "harshad değil\n",
      "i =  30 Basamaklar toplamı =  3\n",
      "harshad değil\n",
      "i =  31 Basamaklar toplamı =  4\n",
      "harshad değil\n",
      "i =  32 Basamaklar toplamı =  5\n",
      "harshad değil\n",
      "i =  33 Basamaklar toplamı =  6\n",
      "harshad değil\n",
      "i =  34 Basamaklar toplamı =  7\n",
      "harshad değil\n"
     ]
    }
   ],
   "source": [
    "N = int(input(\"N = \"))\n",
    "for i in range(1,N+1,1):\n",
    "    k = i\n",
    "    basamaklar_toplamı = 0\n",
    "    while k > 0:\n",
    "        son_basamak = k%10\n",
    "        basamaklar_toplamı += son_basamak\n",
    "        k = (k-son_basamak) / 10\n",
    "    print(\"i = \",i,\"Basamaklar toplamı = \",int(basamaklar_toplamı))\n",
    "    \n",
    "    if (i == basamaklar_toplamı):\n",
    "        print(\"harshad\")\n",
    "    else:\n",
    "        print(\"harshad değil\")\n",
    "        "
   ]
  },
  {
   "cell_type": "code",
   "execution_count": 47,
   "id": "5ccd0b52",
   "metadata": {},
   "outputs": [
    {
     "name": "stdout",
     "output_type": "stream",
     "text": [
      "bir sayı giriniz = 9\n",
      "bir sayı giriniz = 3\n",
      "3\n"
     ]
    }
   ],
   "source": [
    "a = int(input(\"bir sayı giriniz = \"))\n",
    "b = int(input(\"bir sayı giriniz = \"))\n",
    "\n",
    "obeb = 0\n",
    "for i in range(2,min(a + 1,b + 1)):\n",
    "    a % i == 0 and b % i == 0\n",
    "    obeb = i\n",
    "print(obeb)"
   ]
  },
  {
   "cell_type": "code",
   "execution_count": 54,
   "id": "2b1f6cf3",
   "metadata": {},
   "outputs": [
    {
     "name": "stdout",
     "output_type": "stream",
     "text": [
      "36\n",
      "4.5\n"
     ]
    }
   ],
   "source": [
    "L = [1,2,3,4,5,6,7,8]\n",
    "top = 0\n",
    "c = 0\n",
    "for x in L:\n",
    "    top += x\n",
    "    c += 1\n",
    "print(top)\n",
    "print(top/c)"
   ]
  },
  {
   "cell_type": "code",
   "execution_count": 1,
   "id": "5bb87918",
   "metadata": {},
   "outputs": [
    {
     "name": "stdout",
     "output_type": "stream",
     "text": [
      "90\n",
      "15.0\n",
      "6\n",
      "8\n"
     ]
    }
   ],
   "source": [
    "a = [1,2,3,67,9,8]\n",
    "top = 0\n",
    "c = 0\n",
    "\n",
    "for i in a:\n",
    "    top += i\n",
    "    c += 1\n",
    "print(top)\n",
    "print(top/c)\n",
    "print(c)\n",
    "print(i)"
   ]
  },
  {
   "cell_type": "code",
   "execution_count": 4,
   "id": "f2447af4",
   "metadata": {},
   "outputs": [
    {
     "name": "stdout",
     "output_type": "stream",
     "text": [
      "fatma cicek\n",
      "20\n",
      "aslı\n",
      "1.57\n"
     ]
    }
   ],
   "source": [
    "L = ['fatma cicek',20,'aslı',1.57]\n",
    "for i in L:\n",
    "    print(i)"
   ]
  },
  {
   "cell_type": "code",
   "execution_count": 14,
   "id": "6b0e9eb3",
   "metadata": {},
   "outputs": [
    {
     "name": "stdout",
     "output_type": "stream",
     "text": [
      "['fatma cicek', 'aslı', 1.57]\n"
     ]
    }
   ],
   "source": [
    "ad_soyad = 'fatma cicek'\n",
    "yas = 20\n",
    "anne_ad = 'aslı'\n",
    "boy = 1.57\n",
    "\n",
    "list = ['fatma cicek',20,'aslı',1.57]\n",
    "\n",
    "for i in range(0,3):\n",
    "    if list[i] == 20:\n",
    "        del list[i]\n",
    "print(list)"
   ]
  },
  {
   "cell_type": "code",
   "execution_count": 20,
   "id": "8c326b81",
   "metadata": {},
   "outputs": [
    {
     "name": "stdout",
     "output_type": "stream",
     "text": [
      "2\n"
     ]
    }
   ],
   "source": [
    "a = 'programlama  python'\n",
    "c = 0\n",
    "for i in a:\n",
    "    if i == ' ':\n",
    "        c += 1\n",
    "print(c)"
   ]
  },
  {
   "cell_type": "code",
   "execution_count": 24,
   "id": "80df92f1",
   "metadata": {},
   "outputs": [
    {
     "name": "stdout",
     "output_type": "stream",
     "text": [
      "cümle giriniz1 =jyercgh\n",
      "cümle giriniz2 =kgtfrr\n",
      "cümleler eşit değil\n"
     ]
    }
   ],
   "source": [
    "a = input(\"cümle giriniz1 =\")\n",
    "b = input(\"cümle giriniz2 =\")\n",
    "c = 0\n",
    "for i in range(len(a)):\n",
    "    if a[i] != b[i]:\n",
    "        c = 1\n",
    "        break\n",
    "        \n",
    "if c == 0:\n",
    "    print(\"cümleler eşit \")\n",
    "else:\n",
    "    print(\"cümleler eşit değil\")    "
   ]
  },
  {
   "cell_type": "code",
   "execution_count": null,
   "id": "c25d8fce",
   "metadata": {},
   "outputs": [],
   "source": [
    "# for i in range(ilk,son+1,artış):\n"
   ]
  },
  {
   "cell_type": "code",
   "execution_count": 1,
   "id": "fd528e2c",
   "metadata": {},
   "outputs": [
    {
     "name": "stdout",
     "output_type": "stream",
     "text": [
      "0 1 2 3 4 5 6 7 8 9 "
     ]
    }
   ],
   "source": [
    "for i in range(10):\n",
    "    print(i , end=\" \")"
   ]
  },
  {
   "cell_type": "code",
   "execution_count": 2,
   "id": "ff8f473d",
   "metadata": {},
   "outputs": [
    {
     "name": "stdout",
     "output_type": "stream",
     "text": [
      "16 48 144 432 1296 "
     ]
    }
   ],
   "source": [
    "x = 16\n",
    "while x < 2000:\n",
    "    print(x, end=\" \")\n",
    "    x = x * 3 \n",
    "     "
   ]
  },
  {
   "cell_type": "code",
   "execution_count": 3,
   "id": "fa763047",
   "metadata": {},
   "outputs": [
    {
     "name": "stdout",
     "output_type": "stream",
     "text": [
      "4 7 10 13 16 19 22 "
     ]
    }
   ],
   "source": [
    "x = range(4,25,3)\n",
    "for i in x:\n",
    "    print(i , end=\" \")"
   ]
  },
  {
   "cell_type": "code",
   "execution_count": 4,
   "id": "14bbaaa4",
   "metadata": {},
   "outputs": [],
   "source": [
    "# Liste kullanmadan girilen 5 sayının ortalamasını bulan program?\n",
    "toplam = 0\n",
    "for i in range(5):\n",
    "    a = int(input(\"Bir sayı giriniz...: \"))\n",
    "    toplam += a\n",
    "    ort = toplam / 5\n",
    "print(\"toplam..: \",toplam)\n",
    "print(\"ortalama...: \",ort)   "
   ]
  },
  {
   "cell_type": "code",
   "execution_count": null,
   "id": "3af9ecdf",
   "metadata": {},
   "outputs": [],
   "source": [
    "top = 0\n",
    "a = int(input(\"Bir sayı giriniz...: \"))\n",
    "b = int(input(\"Bir sayı giriniz...: \"))\n",
    "c = int(input(\"Bir sayı giriniz...: \"))\n",
    "f = int(input(\"Bir sayı giriniz...: \"))\n",
    "g = int(input(\"Bir sayı giriniz...: \"))\n",
    "j = int(input(\"Bir sayı giriniz...: \"))\n",
    "top = a + b + c + f + g + j\n",
    "print(top)"
   ]
  },
  {
   "cell_type": "code",
   "execution_count": null,
   "id": "694f85a7",
   "metadata": {},
   "outputs": [],
   "source": [
    "# liste = []\n",
    "# adet = int(input('Kaç Sayı Girilecek: '))\n",
    "# for n in range(adet):\n",
    "#     sayi = int(input('Sayıyı Gir: '))\n",
    "#     liste.append(sayi)\n",
    " \n",
    "# en_kucuk = min(liste)\n",
    "# en_buyuk = max(liste)\n",
    " \n",
    "# print(\"Liste İçindeki En Büyük Sayı :\", en_buyuk, \"\\nListe İçindeki En Büyük Sayı :\",en_kucuk)\n",
    " \n",
    "        "
   ]
  },
  {
   "cell_type": "code",
   "execution_count": null,
   "id": "83dec9dd",
   "metadata": {},
   "outputs": [],
   "source": [
    "# N’e kadar tek sayıları yazdıran program?\n",
    "\n",
    "N = int(input(\"N = \"))\n",
    "for i in range(1,N + 1,1):\n",
    "    if i % 2 == 0 and i % 3 ==0:\n",
    "        print(i, end=\" \")"
   ]
  },
  {
   "cell_type": "code",
   "execution_count": null,
   "id": "ba66a446",
   "metadata": {},
   "outputs": [],
   "source": [
    "# Girilen sayının tam bölenlerini bulan program?\n",
    "N = int(input(\"sayıyı giriniz = \"))\n",
    "print(\"Tam bölenler : \" )\n",
    "c = 0\n",
    "\n",
    "for i in range(1,N + 1,1):\n",
    "    if N % i == 0:\n",
    "        print(i)\n",
    "        c += 1\n",
    "print(\"tam bölen sayısı = \",c)"
   ]
  },
  {
   "cell_type": "code",
   "execution_count": null,
   "id": "07a4ac3a",
   "metadata": {},
   "outputs": [],
   "source": [
    "# küçük sayıyı bulun\n",
    "a = int(input(\"Bir sayı girin:\"))\n",
    "b = int(input(\"Bir sayı girin:\"))\n",
    "c = int(input(\"Bir sayı girin:\"))\n",
    "\n",
    "if a < b and a < c:\n",
    "    print(\"a\")\n",
    "elif b < a and b < c:\n",
    "    print(\"b\")\n",
    "elif c < a and c < b:\n",
    "    print(\"c\")\n",
    "else:\n",
    "    print(\"hiçbiri\")"
   ]
  },
  {
   "cell_type": "code",
   "execution_count": null,
   "id": "0163f218",
   "metadata": {},
   "outputs": [],
   "source": [
    "a = int(input(\"saati girin=\"))\n",
    "b = int(input(\"dakikayı girin=\"))\n",
    "\n",
    "if a < 24 and b < 60:\n",
    "    print(int(a), \":\" ,int(b))"
   ]
  },
  {
   "cell_type": "code",
   "execution_count": null,
   "id": "5e2bdcbe",
   "metadata": {},
   "outputs": [],
   "source": [
    "a = int(input(\"saati giriniz=\"))\n",
    "b = int(input(\"dakika giriniz=\"))\n",
    "        \n",
    "if a < 24 and b < 15:\n",
    "    print(int(a),\":\",int(b),\"geçiyor\")"
   ]
  }
 ],
 "metadata": {
  "kernelspec": {
   "display_name": "Python 3.9.12 ('base')",
   "language": "python",
   "name": "python3"
  },
  "language_info": {
   "codemirror_mode": {
    "name": "ipython",
    "version": 3
   },
   "file_extension": ".py",
   "mimetype": "text/x-python",
   "name": "python",
   "nbconvert_exporter": "python",
   "pygments_lexer": "ipython3",
   "version": "3.9.12"
  },
  "vscode": {
   "interpreter": {
    "hash": "1e854b30af4d22ca3d790366190bafa345d2aab608baadce5c3678fe3d7b708e"
   }
  }
 },
 "nbformat": 4,
 "nbformat_minor": 5
}
