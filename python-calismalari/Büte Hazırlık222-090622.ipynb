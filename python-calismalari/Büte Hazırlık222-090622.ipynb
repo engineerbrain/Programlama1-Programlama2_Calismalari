{
 "cells": [
  {
   "cell_type": "code",
   "execution_count": 21,
   "id": "ef1571a5",
   "metadata": {},
   "outputs": [],
   "source": [
    "a = [5,8,9,4,3,9]\n"
   ]
  },
  {
   "cell_type": "code",
   "execution_count": 22,
   "id": "d54cc21f",
   "metadata": {},
   "outputs": [
    {
     "name": "stdout",
     "output_type": "stream",
     "text": [
      "[5, 8, 9, 4, 3, 9, 6]\n"
     ]
    }
   ],
   "source": [
    "a.append(6) # listeye eleman ekler\n",
    "print(a)"
   ]
  },
  {
   "cell_type": "code",
   "execution_count": 23,
   "id": "8c015349",
   "metadata": {},
   "outputs": [
    {
     "name": "stdout",
     "output_type": "stream",
     "text": [
      "[5, 8, 6, 9, 4, 3, 9, 6]\n"
     ]
    }
   ],
   "source": [
    "a.insert(2,6) # listede istenen indekse eleman ekler\n",
    "print(a)"
   ]
  },
  {
   "cell_type": "code",
   "execution_count": 24,
   "id": "be1cd861",
   "metadata": {},
   "outputs": [
    {
     "name": "stdout",
     "output_type": "stream",
     "text": [
      "[5, 8, 6, 9, 4, 9, 6]\n"
     ]
    }
   ],
   "source": [
    "a.remove(3) # listeden eleman siler\n",
    "print(a)"
   ]
  },
  {
   "cell_type": "code",
   "execution_count": 25,
   "id": "53bf5481",
   "metadata": {},
   "outputs": [
    {
     "name": "stdout",
     "output_type": "stream",
     "text": [
      "6\n"
     ]
    }
   ],
   "source": [
    "print(a.pop()) # listeden son elemanı siler"
   ]
  },
  {
   "cell_type": "code",
   "execution_count": 26,
   "id": "4fa8288c",
   "metadata": {},
   "outputs": [],
   "source": [
    "b = [5,9,87,3,4,5]"
   ]
  },
  {
   "cell_type": "code",
   "execution_count": 27,
   "id": "c01c6a37",
   "metadata": {},
   "outputs": [
    {
     "name": "stdout",
     "output_type": "stream",
     "text": [
      "[5, 8, 6, 9, 4, 9, 5, 9, 87, 3, 4, 5]\n"
     ]
    }
   ],
   "source": [
    "a.extend(b) # iki listeyi birleştirir.\n",
    "print(a)"
   ]
  },
  {
   "cell_type": "code",
   "execution_count": 28,
   "id": "253d19a9",
   "metadata": {},
   "outputs": [
    {
     "name": "stdout",
     "output_type": "stream",
     "text": [
      "8\n"
     ]
    }
   ],
   "source": [
    "print(a.index(87)) "
   ]
  },
  {
   "cell_type": "code",
   "execution_count": 29,
   "id": "1522612a",
   "metadata": {},
   "outputs": [
    {
     "name": "stdout",
     "output_type": "stream",
     "text": [
      "[3, 4, 4, 5, 5, 5, 6, 8, 9, 9, 9, 87]\n"
     ]
    }
   ],
   "source": [
    "a.sort() # listeyi sıralar\n",
    "print(a)"
   ]
  },
  {
   "cell_type": "code",
   "execution_count": 30,
   "id": "98b00b01",
   "metadata": {},
   "outputs": [
    {
     "name": "stdout",
     "output_type": "stream",
     "text": [
      "2\n"
     ]
    }
   ],
   "source": [
    "print(a.count(4)) # listede elemandan kaç tane olduğunu gösterir."
   ]
  },
  {
   "cell_type": "code",
   "execution_count": 31,
   "id": "bee9a917",
   "metadata": {},
   "outputs": [
    {
     "name": "stdout",
     "output_type": "stream",
     "text": [
      "[3, 4, 4, 5, 5, 5, 6, 8, 9, 9, 9, 87, [5, 9, 87, 3, 4, 5]]\n"
     ]
    }
   ],
   "source": [
    "a.append(b)\n",
    "print(a)"
   ]
  },
  {
   "cell_type": "code",
   "execution_count": 33,
   "id": "9c6b2a7a",
   "metadata": {},
   "outputs": [
    {
     "name": "stdout",
     "output_type": "stream",
     "text": [
      "[]\n"
     ]
    }
   ],
   "source": [
    "c = [5,9,7,4,3]\n",
    "c.clear()\n",
    "print(c)"
   ]
  },
  {
   "cell_type": "code",
   "execution_count": 40,
   "id": "62f7cdcd",
   "metadata": {},
   "outputs": [
    {
     "name": "stdout",
     "output_type": "stream",
     "text": [
      "[5, 9, 7, 4, 3]\n",
      "[5, 9, 7, 4, 3, 600]\n",
      "[5, 9, 7, 4, 3, 600]\n"
     ]
    }
   ],
   "source": [
    "c = [5,9,7,4,3]\n",
    "d = []\n",
    "d = c\n",
    "print(d)\n",
    "d.append(600)\n",
    "print(c)\n",
    "print(d)"
   ]
  },
  {
   "cell_type": "code",
   "execution_count": 41,
   "id": "86b7e38a",
   "metadata": {},
   "outputs": [
    {
     "name": "stdout",
     "output_type": "stream",
     "text": [
      "[5, 9, 7, 4, 3, 600]\n",
      "[5, 9, 7, 4, 3, 600, 71]\n"
     ]
    }
   ],
   "source": [
    "liste = c.copy()\n",
    "liste.append(71)\n",
    "print(c)\n",
    "print(liste)"
   ]
  },
  {
   "cell_type": "code",
   "execution_count": 42,
   "id": "9a37d79f",
   "metadata": {},
   "outputs": [
    {
     "name": "stdout",
     "output_type": "stream",
     "text": [
      "[5, 9, 7, 4, 3, 600, 71]\n",
      "71\n",
      "[5, 9, 7, 4, 3, 600]\n",
      "600\n",
      "[5, 9, 7, 4, 3]\n"
     ]
    }
   ],
   "source": [
    "liste1 = [1,2,3]\n",
    "liste1.append(55)\n",
    "print(liste)\n",
    "print(liste.pop())\n",
    "print(liste)\n",
    "print(liste.pop())\n",
    "print(liste)"
   ]
  },
  {
   "cell_type": "code",
   "execution_count": null,
   "id": "03dfb6dd",
   "metadata": {},
   "outputs": [],
   "source": [
    "l = []\n",
    "\n",
    "for x in range(1,11):\n",
    "    l.append(x**2)\n",
    "    \n",
    "print(l)\n",
    "print(x)\n",
    "\n",
    "squares = list(map(lambda x: x**2, range(1,11)))\n",
    "\n",
    "print(squares)\n",
    "\n",
    "print(range(1,11))\n",
    "\n",
    "def f(x):\n",
    "    return x+5\n",
    "\n",
    "l2 = [2,8,3]\n",
    "\n",
    "print(list(map(lambda x:x+5, l2 )))"
   ]
  },
  {
   "cell_type": "markdown",
   "id": "36a13822",
   "metadata": {},
   "source": [
    "15.06.2022"
   ]
  },
  {
   "cell_type": "code",
   "execution_count": 1,
   "id": "3253a5f7",
   "metadata": {},
   "outputs": [
    {
     "name": "stdout",
     "output_type": "stream",
     "text": [
      "[1, 2, 3, 4]\n"
     ]
    }
   ],
   "source": [
    "l = [1,2,3,4]\n",
    "print(l)"
   ]
  },
  {
   "cell_type": "code",
   "execution_count": 2,
   "id": "ede4c8fc",
   "metadata": {},
   "outputs": [
    {
     "name": "stdout",
     "output_type": "stream",
     "text": [
      "[1, 2, 3, 4, 55]\n"
     ]
    }
   ],
   "source": [
    "l.append(55) # listenin sonuna eleman ekler\n",
    "print(l)"
   ]
  },
  {
   "cell_type": "code",
   "execution_count": 7,
   "id": "8f76cd6a",
   "metadata": {},
   "outputs": [
    {
     "name": "stdout",
     "output_type": "stream",
     "text": [
      "[1, 2, 111, 3, 4]\n"
     ]
    }
   ],
   "source": [
    "l = [1,2,3,4] # listeye istenen indekse eleman ekler\n",
    "l.insert(2,111)\n",
    "print(l)"
   ]
  },
  {
   "cell_type": "code",
   "execution_count": 8,
   "id": "8cf6851c",
   "metadata": {},
   "outputs": [
    {
     "name": "stdout",
     "output_type": "stream",
     "text": [
      "[1, 2, 3, 4]\n"
     ]
    }
   ],
   "source": [
    "l.remove(111)# listeden istenen elemanı siler\n",
    "print(l)"
   ]
  },
  {
   "cell_type": "code",
   "execution_count": 9,
   "id": "06756d36",
   "metadata": {},
   "outputs": [],
   "source": [
    "# listede silmek istediğim eleman birden fazla ise remove ilkm bulduğu elemanı siler"
   ]
  },
  {
   "cell_type": "code",
   "execution_count": 10,
   "id": "0afe81b6",
   "metadata": {},
   "outputs": [
    {
     "name": "stdout",
     "output_type": "stream",
     "text": [
      "4\n",
      "[1, 2, 3]\n"
     ]
    }
   ],
   "source": [
    "print(l.pop()) # listeden son elemanı çıkarır.\n",
    "print(l)"
   ]
  },
  {
   "cell_type": "code",
   "execution_count": 12,
   "id": "6250d9d7",
   "metadata": {},
   "outputs": [
    {
     "name": "stdout",
     "output_type": "stream",
     "text": [
      "1\n"
     ]
    }
   ],
   "source": [
    "print(l.index(2))"
   ]
  },
  {
   "cell_type": "code",
   "execution_count": 14,
   "id": "1a7b3818",
   "metadata": {},
   "outputs": [
    {
     "name": "stdout",
     "output_type": "stream",
     "text": [
      "1\n"
     ]
    }
   ],
   "source": [
    "print(l.count(1)) # listedeki elemanın listede kaç tane olduğunu gösterir"
   ]
  },
  {
   "cell_type": "code",
   "execution_count": 15,
   "id": "d45ae84a",
   "metadata": {},
   "outputs": [
    {
     "name": "stdout",
     "output_type": "stream",
     "text": [
      "[7, 36, 45, 78, 85, 96]\n"
     ]
    }
   ],
   "source": [
    "a = [45,78,96,7,85,36]\n",
    "a.sort()\n",
    "print(a)"
   ]
  },
  {
   "cell_type": "code",
   "execution_count": 16,
   "id": "3ba53918",
   "metadata": {},
   "outputs": [],
   "source": [
    "b = [2,68,4,8,0,33]"
   ]
  },
  {
   "cell_type": "code",
   "execution_count": 18,
   "id": "b5e6e04a",
   "metadata": {},
   "outputs": [
    {
     "name": "stdout",
     "output_type": "stream",
     "text": [
      "[7, 36, 45, 78, 85, 96, 2, 68, 4, 8, 0, 33, 2, 68, 4, 8, 0, 33]\n"
     ]
    }
   ],
   "source": [
    "a.extend(b) # iki listeyi birleştirir. Tek liste haline getirir.\n",
    "print(a)"
   ]
  },
  {
   "cell_type": "code",
   "execution_count": 19,
   "id": "7ddd0148",
   "metadata": {},
   "outputs": [
    {
     "name": "stdout",
     "output_type": "stream",
     "text": [
      "[7, 36, 45, 78, 85, 96, 2, 68, 4, 8, 0, 33, 2, 68, 4, 8, 0, 33, [2, 68, 4, 8, 0, 33]]\n"
     ]
    }
   ],
   "source": [
    "a.append(b)\n",
    "print(a)"
   ]
  },
  {
   "cell_type": "code",
   "execution_count": 20,
   "id": "54e5bf76",
   "metadata": {},
   "outputs": [
    {
     "name": "stdout",
     "output_type": "stream",
     "text": [
      "[]\n"
     ]
    }
   ],
   "source": [
    "a.clear() # listeyi tamamen siler\n",
    "print(a)"
   ]
  },
  {
   "cell_type": "code",
   "execution_count": 27,
   "id": "64e76a5f",
   "metadata": {},
   "outputs": [
    {
     "name": "stdout",
     "output_type": "stream",
     "text": [
      "[2, 68, 4, 8, 0, 33, 569, 569, 569, 569, 56]\n",
      "[2, 68, 4, 8, 0, 33, 569, 569, 569, 569, 56, 36]\n",
      "[2, 68, 4, 8, 0, 33, 569, 569, 569, 569, 56, 36]\n"
     ]
    }
   ],
   "source": [
    "d = b\n",
    "print(d)\n",
    "d.append(36)\n",
    "print(b)\n",
    "print(d)"
   ]
  },
  {
   "cell_type": "code",
   "execution_count": 28,
   "id": "993fdf37",
   "metadata": {},
   "outputs": [
    {
     "name": "stdout",
     "output_type": "stream",
     "text": [
      "[]\n",
      "[700]\n"
     ]
    }
   ],
   "source": [
    "k = a.copy()\n",
    "k.append(700)\n",
    "print(a)\n",
    "print(k)"
   ]
  },
  {
   "cell_type": "code",
   "execution_count": 1,
   "id": "d681028a",
   "metadata": {},
   "outputs": [
    {
     "data": {
      "text/plain": [
       "'Fatma'"
      ]
     },
     "execution_count": 1,
     "metadata": {},
     "output_type": "execute_result"
    }
   ],
   "source": [
    "\"\"\"Fatma\"\"\""
   ]
  },
  {
   "cell_type": "code",
   "execution_count": 2,
   "id": "48af59ff",
   "metadata": {},
   "outputs": [
    {
     "data": {
      "text/plain": [
       "5"
      ]
     },
     "execution_count": 2,
     "metadata": {},
     "output_type": "execute_result"
    }
   ],
   "source": [
    "a = \"fatma\"\n",
    "len(a)"
   ]
  },
  {
   "cell_type": "code",
   "execution_count": 3,
   "id": "2625a05e",
   "metadata": {},
   "outputs": [
    {
     "name": "stdout",
     "output_type": "stream",
     "text": [
      "n = 568975\n"
     ]
    },
    {
     "data": {
      "text/plain": [
       "6"
      ]
     },
     "execution_count": 3,
     "metadata": {},
     "output_type": "execute_result"
    }
   ],
   "source": [
    "n = int(input(\"n = \"))\n",
    "len(str(n))"
   ]
  },
  {
   "cell_type": "code",
   "execution_count": 4,
   "id": "7005f664",
   "metadata": {},
   "outputs": [
    {
     "name": "stdout",
     "output_type": "stream",
     "text": [
      "n = 56\n",
      "0\n",
      "1\n"
     ]
    }
   ],
   "source": [
    "n = int(input(\"n = \"))\n",
    "for i in range(len(str(n))):\n",
    "    print(i)"
   ]
  },
  {
   "cell_type": "code",
   "execution_count": 6,
   "id": "dd2957a2",
   "metadata": {},
   "outputs": [
    {
     "name": "stdout",
     "output_type": "stream",
     "text": [
      "t = 56\n",
      "v = 12\n",
      "56,12\n"
     ]
    }
   ],
   "source": [
    "t = int(input(\"t = \"))\n",
    "v = int(input(\"v = \"))\n",
    "a = str(t) + \",\" +str(v) \n",
    "if t > v and  len(str(v)) < 3:\n",
    "    print(a)"
   ]
  },
  {
   "cell_type": "code",
   "execution_count": 7,
   "id": "e5b7f904",
   "metadata": {},
   "outputs": [
    {
     "name": "stdout",
     "output_type": "stream",
     "text": [
      "t = 56\n",
      "v = 89\n",
      "Koşula uymuyor -->  56,89\n"
     ]
    }
   ],
   "source": [
    "t = int(input(\"t = \"))\n",
    "v = int(input(\"v = \"))\n",
    "a = str(t) + \",\" +str(v) \n",
    "if t > v and  len(str(v)) < 3:\n",
    "    print(a)\n",
    "else:\n",
    "    print(\"Koşula uymuyor --> \", a)"
   ]
  },
  {
   "cell_type": "code",
   "execution_count": 1,
   "id": "484d4c9e",
   "metadata": {},
   "outputs": [
    {
     "name": "stdout",
     "output_type": "stream",
     "text": [
      "[0, 1, 4, 9, 16, 25, 36, 49, 64, 81]\n"
     ]
    }
   ],
   "source": [
    "l = []\n",
    "\n",
    "for i in range(10):\n",
    "    l.append(i**2)\n",
    "    \n",
    "print(l)"
   ]
  },
  {
   "cell_type": "code",
   "execution_count": 26,
   "id": "0c9f4cde",
   "metadata": {},
   "outputs": [
    {
     "name": "stdout",
     "output_type": "stream",
     "text": [
      "Liste kaç elemanlı olacak => 3\n",
      "0 veya 1 girin   = > 1\n",
      "[79, 4, 14]\n"
     ]
    }
   ],
   "source": [
    "import random\n",
    "\n",
    "n = int(input(\"Liste kaç elemanlı olacak => \"))\n",
    "r = int(input(\"0 veya 1 girin   = > \"))\n",
    "a = []\n",
    "#silinen = a.pop()\n",
    "if r == 0:\n",
    "    for i in range(n):\n",
    "        x = input(\"Bir sayı giriniz: \")\n",
    "        a += [x]\n",
    "        \n",
    "        print(a)\n",
    "\n",
    "else:\n",
    "    sayilar =range(100)\n",
    "    secilen =  random.sample(sayilar,n)\n",
    "    print(secilen)\n",
    "    \n",
    "while len(str(n)) <= 1:\n",
    "    "
   ]
  },
  {
   "cell_type": "code",
   "execution_count": null,
   "id": "a8c4fb83",
   "metadata": {},
   "outputs": [],
   "source": [
    "# import random \n",
    "# N = int(input())\n",
    "\n",
    "# start_time = time.time()\n",
    "\n",
    "# arr = [[random.random() for e in range(N)] for e in range(N)]"
   ]
  },
  {
   "cell_type": "code",
   "execution_count": null,
   "id": "9d9a8c00",
   "metadata": {},
   "outputs": [],
   "source": [
    "sayilar = [1,5,89,-9,23,56,89,2,0,897,-23]\n",
    "sayilar.sort() #listeyi sıralar\n",
    "sayilar "
   ]
  },
  {
   "cell_type": "code",
   "execution_count": null,
   "id": "6f0deea6",
   "metadata": {},
   "outputs": [],
   "source": [
    "liste1 = ['a', 'b', 'c', 'd', 'e', 'f']\n",
    "liste1.pop(3)\n",
    "liste1"
   ]
  },
  {
   "cell_type": "code",
   "execution_count": null,
   "id": "69dfdf6b",
   "metadata": {},
   "outputs": [],
   "source": []
  }
 ],
 "metadata": {
  "kernelspec": {
   "display_name": "Python 3 (ipykernel)",
   "language": "python",
   "name": "python3"
  },
  "language_info": {
   "codemirror_mode": {
    "name": "ipython",
    "version": 3
   },
   "file_extension": ".py",
   "mimetype": "text/x-python",
   "name": "python",
   "nbconvert_exporter": "python",
   "pygments_lexer": "ipython3",
   "version": "3.9.7"
  }
 },
 "nbformat": 4,
 "nbformat_minor": 5
}
