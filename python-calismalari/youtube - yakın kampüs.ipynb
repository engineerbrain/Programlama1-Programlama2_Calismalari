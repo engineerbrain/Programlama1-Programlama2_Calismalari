{
 "cells": [
  {
   "cell_type": "markdown",
   "id": "306a64bf",
   "metadata": {},
   "source": [
    "# print komutu ve kullanımı"
   ]
  },
  {
   "cell_type": "code",
   "execution_count": 7,
   "id": "11f21bb9",
   "metadata": {},
   "outputs": [
    {
     "name": "stdout",
     "output_type": "stream",
     "text": [
      "Merhaba Yakin Kampüs\n",
      "Merhaba \n",
      "Yakin Kampüs\n",
      "Merhaba \tYakin Kampüs\n"
     ]
    }
   ],
   "source": [
    "print(\"Merhaba Yakin Kampüs\") # yazdırır\n",
    "print(\"Merhaba \\nYakin Kampüs\") # yeni satıra geçirir\n",
    "print(\"Merhaba \\tYakin Kampüs\") # ikinci kelime kadar boşluk bırakır tab özelliğini gösterir "
   ]
  },
  {
   "cell_type": "code",
   "execution_count": 10,
   "id": "b34aaa7c",
   "metadata": {},
   "outputs": [
    {
     "name": "stdout",
     "output_type": "stream",
     "text": [
      "Benim adım ==> Fatma\n",
      "--------------------------------------------------------------- \n",
      "Benim adım ==> Fatma ; yaş ==> 20\n",
      "----------------------------------------------------------------\n",
      "Benim adım ==> Fatma ; yaş ==> 20\n",
      "-----------------------------------------------------------------\n",
      "Benim adım ==> Fatma ; yaş ==> 20\n",
      "-----------------------------------------------------------------\n",
      "Benim adım ==> Fatma ; yaş ==> 20\n",
      "-----------------------------------------------------------------\n",
      "Benim adım ==> Fatma ; yaş ==> 20\n"
     ]
    }
   ],
   "source": [
    "print(\"Benim adım ==> {}\".format(\"Fatma\"))\n",
    "print(\"--------------------------------------------------------------- \")\n",
    "print(\"Benim adım ==> {} ; yaş ==> {}\".format(\"Fatma\",20))\n",
    "print(\"----------------------------------------------------------------\")\n",
    "print(\"Benim adım ==> {} ; yaş ==> {}\".format(\"Fatma\",20)) \n",
    "print(\"-----------------------------------------------------------------\")\n",
    "print(\"Benim adım ==> {0} ; yaş ==> {1}\".format(\"Fatma\",20)) \n",
    "print(\"-----------------------------------------------------------------\")\n",
    "print(\"Benim adım ==> {ad} ; yaş ==> {yas}\".format(ad = \"Fatma\", yas = 20)) \n",
    "print(\"-----------------------------------------------------------------\")\n",
    "print(\"Benim adım ==> {ad} ; yaş ==> {yas}\".format(yas = 20,ad = \"Fatma\")) \n"
   ]
  },
  {
   "cell_type": "markdown",
   "id": "e07c6952",
   "metadata": {},
   "source": [
    "# Değişkenler"
   ]
  },
  {
   "cell_type": "raw",
   "id": "559e6bd4",
   "metadata": {},
   "source": [
    "Kabul edilmeyen değişken isim atama senaryoları:\n",
    "    \n",
    "    * sayı ile başlamak\n",
    "    * boşluk içermek\n",
    "    * \" * ( / gibi semboller içermek \n",
    "    * rezerve edilmiş isimleri kullanmak"
   ]
  },
  {
   "cell_type": "code",
   "execution_count": 11,
   "id": "ae04de55",
   "metadata": {},
   "outputs": [
    {
     "name": "stdout",
     "output_type": "stream",
     "text": [
      "10\n"
     ]
    }
   ],
   "source": [
    "sayi=10\n",
    "print(sayi)"
   ]
  },
  {
   "cell_type": "markdown",
   "id": "69b54b89",
   "metadata": {},
   "source": [
    "# Veri Tipleri"
   ]
  },
  {
   "cell_type": "markdown",
   "id": "7e0e4bc4",
   "metadata": {},
   "source": [
    "SAYILAR\n",
    "  * int: Tam sayılar\n",
    "  * float: Ondalık sayılar"
   ]
  },
  {
   "cell_type": "code",
   "execution_count": 12,
   "id": "ad047027",
   "metadata": {},
   "outputs": [
    {
     "data": {
      "text/plain": [
       "float"
      ]
     },
     "execution_count": 12,
     "metadata": {},
     "output_type": "execute_result"
    }
   ],
   "source": [
    "type(1.5)"
   ]
  },
  {
   "cell_type": "markdown",
   "id": "dcb4679e",
   "metadata": {},
   "source": [
    "ARİTMETİK OPERASYONLAR"
   ]
  },
  {
   "cell_type": "code",
   "execution_count": 13,
   "id": "b3080ab1",
   "metadata": {},
   "outputs": [
    {
     "data": {
      "text/plain": [
       "7"
      ]
     },
     "execution_count": 13,
     "metadata": {},
     "output_type": "execute_result"
    }
   ],
   "source": [
    "3+4"
   ]
  },
  {
   "cell_type": "code",
   "execution_count": 14,
   "id": "b32e0b61",
   "metadata": {},
   "outputs": [
    {
     "data": {
      "text/plain": [
       "12"
      ]
     },
     "execution_count": 14,
     "metadata": {},
     "output_type": "execute_result"
    }
   ],
   "source": [
    "3*4"
   ]
  },
  {
   "cell_type": "code",
   "execution_count": 15,
   "id": "b7aa59a6",
   "metadata": {},
   "outputs": [
    {
     "data": {
      "text/plain": [
       "-1"
      ]
     },
     "execution_count": 15,
     "metadata": {},
     "output_type": "execute_result"
    }
   ],
   "source": [
    "3-4"
   ]
  },
  {
   "cell_type": "code",
   "execution_count": 16,
   "id": "55073bd5",
   "metadata": {},
   "outputs": [
    {
     "data": {
      "text/plain": [
       "0.75"
      ]
     },
     "execution_count": 16,
     "metadata": {},
     "output_type": "execute_result"
    }
   ],
   "source": [
    "3/4"
   ]
  },
  {
   "cell_type": "code",
   "execution_count": 17,
   "id": "b1d1cd42",
   "metadata": {},
   "outputs": [
    {
     "data": {
      "text/plain": [
       "0"
      ]
     },
     "execution_count": 17,
     "metadata": {},
     "output_type": "execute_result"
    }
   ],
   "source": [
    "3//4"
   ]
  },
  {
   "cell_type": "code",
   "execution_count": 18,
   "id": "b8d76772",
   "metadata": {},
   "outputs": [
    {
     "data": {
      "text/plain": [
       "3"
      ]
     },
     "execution_count": 18,
     "metadata": {},
     "output_type": "execute_result"
    }
   ],
   "source": [
    "3%4"
   ]
  },
  {
   "cell_type": "code",
   "execution_count": 19,
   "id": "96973855",
   "metadata": {},
   "outputs": [
    {
     "name": "stdout",
     "output_type": "stream",
     "text": [
      "Python\n"
     ]
    }
   ],
   "source": [
    "strvar = \"Python\"\n",
    "print(strvar)"
   ]
  },
  {
   "cell_type": "code",
   "execution_count": 20,
   "id": "fc8067c8",
   "metadata": {},
   "outputs": [
    {
     "data": {
      "text/plain": [
       "'P'"
      ]
     },
     "execution_count": 20,
     "metadata": {},
     "output_type": "execute_result"
    }
   ],
   "source": [
    "strvar[0]"
   ]
  },
  {
   "cell_type": "code",
   "execution_count": 21,
   "id": "e88bc665",
   "metadata": {},
   "outputs": [
    {
     "data": {
      "text/plain": [
       "'y'"
      ]
     },
     "execution_count": 21,
     "metadata": {},
     "output_type": "execute_result"
    }
   ],
   "source": [
    "strvar[-5]"
   ]
  },
  {
   "cell_type": "code",
   "execution_count": 22,
   "id": "1c94629f",
   "metadata": {},
   "outputs": [
    {
     "data": {
      "text/plain": [
       "'thon'"
      ]
     },
     "execution_count": 22,
     "metadata": {},
     "output_type": "execute_result"
    }
   ],
   "source": [
    "strvar[2:]"
   ]
  },
  {
   "cell_type": "code",
   "execution_count": 23,
   "id": "a5438999",
   "metadata": {},
   "outputs": [
    {
     "data": {
      "text/plain": [
       "'Pyt'"
      ]
     },
     "execution_count": 23,
     "metadata": {},
     "output_type": "execute_result"
    }
   ],
   "source": [
    "strvar[:3]"
   ]
  },
  {
   "cell_type": "code",
   "execution_count": 27,
   "id": "868f826e",
   "metadata": {},
   "outputs": [
    {
     "data": {
      "text/plain": [
       "'yo'"
      ]
     },
     "execution_count": 27,
     "metadata": {},
     "output_type": "execute_result"
    }
   ],
   "source": [
    "strvar[1:5:3]"
   ]
  },
  {
   "cell_type": "code",
   "execution_count": 30,
   "id": "6e52a35c",
   "metadata": {},
   "outputs": [
    {
     "data": {
      "text/plain": [
       "'Pythonpythonpython45python45'"
      ]
     },
     "execution_count": 30,
     "metadata": {},
     "output_type": "execute_result"
    }
   ],
   "source": [
    "strvar = strvar + \"python45\"\n",
    "strvar"
   ]
  },
  {
   "cell_type": "code",
   "execution_count": null,
   "id": "92daa98b",
   "metadata": {},
   "outputs": [],
   "source": [
    "[] # tek bir eleman alır\n",
    "[ : ] # başlangıç ve bitiş arasındaki elemanları alır\n",
    "[ : : ] # başlangıç ve bitiş arasındaki elemanlar üçüncü kısımdaki değere göre atlayarak değerler alınır "
   ]
  },
  {
   "cell_type": "code",
   "execution_count": 7,
   "id": "3f2828d9",
   "metadata": {},
   "outputs": [
    {
     "data": {
      "text/plain": [
       "' Python  öğren '"
      ]
     },
     "execution_count": 7,
     "metadata": {},
     "output_type": "execute_result"
    }
   ],
   "source": [
    "strvar = \"Python\"\n",
    "strvar + \" öğren \""
   ]
  },
  {
   "cell_type": "code",
   "execution_count": 8,
   "id": "a83d2ef2",
   "metadata": {},
   "outputs": [
    {
     "data": {
      "text/plain": [
       "' Python  Python  Python  Python  Python '"
      ]
     },
     "execution_count": 8,
     "metadata": {},
     "output_type": "execute_result"
    }
   ],
   "source": [
    "strvar * 5"
   ]
  },
  {
   "cell_type": "code",
   "execution_count": 9,
   "id": "3f71e2dd",
   "metadata": {},
   "outputs": [
    {
     "data": {
      "text/plain": [
       "8"
      ]
     },
     "execution_count": 9,
     "metadata": {},
     "output_type": "execute_result"
    }
   ],
   "source": [
    "len(strvar)"
   ]
  },
  {
   "cell_type": "code",
   "execution_count": 15,
   "id": "63520686",
   "metadata": {},
   "outputs": [
    {
     "name": "stdout",
     "output_type": "stream",
     "text": [
      " PYTHON \n",
      " python \n",
      "['Python']\n",
      "[' Pyth', 'n ']\n"
     ]
    }
   ],
   "source": [
    "print(strvar.upper()) #harfleri büyük yazar\n",
    "print(strvar.lower()) #harfleri küçük yazar\n",
    "print(strvar.split()) # diziye dönüştürüyor\n",
    "print(strvar.split(\"o\"))\n",
    "strvar.split() #shift + tab\n",
    "strvar. # tab"
   ]
  },
  {
   "cell_type": "markdown",
   "id": "ff2ddd7b",
   "metadata": {},
   "source": [
    "Boolen"
   ]
  },
  {
   "cell_type": "code",
   "execution_count": 6,
   "id": "fe3484aa",
   "metadata": {},
   "outputs": [
    {
     "name": "stdout",
     "output_type": "stream",
     "text": [
      "<class 'bool'>\n",
      "True\n",
      "<class 'str'>\n"
     ]
    }
   ],
   "source": [
    "a = True\n",
    "print(type(a))\n",
    "b = True\n",
    "print(b)\n",
    "c = \"True\"\n",
    "print(type(c))"
   ]
  },
  {
   "cell_type": "code",
   "execution_count": 9,
   "id": "823d9d2d",
   "metadata": {},
   "outputs": [
    {
     "name": "stdout",
     "output_type": "stream",
     "text": [
      "True\n",
      "False\n"
     ]
    }
   ],
   "source": [
    "yas1 = 20\n",
    "yas2 = 15\n",
    "\n",
    "print(yas1 != yas2) # eşit değil mi\n",
    "print(yas1 == yas2) # eşit mi"
   ]
  },
  {
   "cell_type": "code",
   "execution_count": 11,
   "id": "73d2cf81",
   "metadata": {},
   "outputs": [
    {
     "data": {
      "text/plain": [
       "True"
      ]
     },
     "execution_count": 11,
     "metadata": {},
     "output_type": "execute_result"
    }
   ],
   "source": [
    "not yas2 > 22 # yas2, 22'den büyük değildir"
   ]
  },
  {
   "cell_type": "markdown",
   "id": "fcc2e0b0",
   "metadata": {},
   "source": [
    "list & set"
   ]
  },
  {
   "cell_type": "code",
   "execution_count": 12,
   "id": "ffb7c615",
   "metadata": {},
   "outputs": [
    {
     "name": "stdout",
     "output_type": "stream",
     "text": [
      "['a', 'b', 'c', 'd', 'e']\n"
     ]
    }
   ],
   "source": [
    "liste = [\"a\",\"b\",\"c\",\"d\",\"e\"]\n",
    "print(liste)"
   ]
  },
  {
   "cell_type": "code",
   "execution_count": 17,
   "id": "e8ff0a9a",
   "metadata": {},
   "outputs": [
    {
     "data": {
      "text/plain": [
       "['a', 'b', 'c', 'd', 'e', 'f']"
      ]
     },
     "execution_count": 17,
     "metadata": {},
     "output_type": "execute_result"
    }
   ],
   "source": [
    "liste = [\"a\",\"b\",\"c\",\"d\",\"e\"]\n",
    "liste = liste + [\"f\"]\n",
    "liste"
   ]
  },
  {
   "cell_type": "code",
   "execution_count": 30,
   "id": "02ec1969",
   "metadata": {},
   "outputs": [
    {
     "data": {
      "text/plain": [
       "['a', 'b', 'c', 'd', 'e', 'f', 'p']"
      ]
     },
     "execution_count": 30,
     "metadata": {},
     "output_type": "execute_result"
    }
   ],
   "source": [
    "liste1 = ['a', 'b', 'c', 'd', 'e', 'f']\n",
    "liste1.append('p')\n",
    "liste1"
   ]
  },
  {
   "cell_type": "code",
   "execution_count": 34,
   "id": "19c6abcf",
   "metadata": {},
   "outputs": [
    {
     "data": {
      "text/plain": [
       "['a', 'b', 'c', 'd', 'e']"
      ]
     },
     "execution_count": 34,
     "metadata": {},
     "output_type": "execute_result"
    }
   ],
   "source": [
    "liste1 = ['a', 'b', 'c', 'd', 'e', 'f']\n",
    "liste1.pop() # son elemanını listeden atıyor\n",
    "liste1"
   ]
  },
  {
   "cell_type": "code",
   "execution_count": 35,
   "id": "a5452083",
   "metadata": {},
   "outputs": [
    {
     "data": {
      "text/plain": [
       "'d'"
      ]
     },
     "execution_count": 35,
     "metadata": {},
     "output_type": "execute_result"
    }
   ],
   "source": [
    "liste1 = ['a', 'b', 'c', 'd', 'e', 'f']\n",
    "liste1.pop(3) # listeden atacağı indeksi gösterir"
   ]
  },
  {
   "cell_type": "code",
   "execution_count": 36,
   "id": "26b86a1e",
   "metadata": {},
   "outputs": [
    {
     "data": {
      "text/plain": [
       "['a', 'b', 'c', 'e', 'f']"
      ]
     },
     "execution_count": 36,
     "metadata": {},
     "output_type": "execute_result"
    }
   ],
   "source": [
    "liste1 = ['a', 'b', 'c', 'd', 'e', 'f']\n",
    "liste1.pop(3)\n",
    "liste1"
   ]
  },
  {
   "cell_type": "code",
   "execution_count": 41,
   "id": "6ce1c8e1",
   "metadata": {},
   "outputs": [
    {
     "data": {
      "text/plain": [
       "[-23, -9, 0, 1, 2, 5, 23, 56, 89, 89, 897]"
      ]
     },
     "execution_count": 41,
     "metadata": {},
     "output_type": "execute_result"
    }
   ],
   "source": [
    "sayilar = [1,5,89,-9,23,56,89,2,0,897,-23]\n",
    "sayilar.sort() #listeyi sıralar\n",
    "sayilar "
   ]
  },
  {
   "cell_type": "code",
   "execution_count": 46,
   "id": "ce2bd8e1",
   "metadata": {},
   "outputs": [
    {
     "name": "stdout",
     "output_type": "stream",
     "text": [
      "[-23, 897, 0, 2, 89, 56, 23, -9, 89, 5, 1]\n"
     ]
    }
   ],
   "source": [
    "sayilar = [1,5,89,-9,23,56,89,2,0,897,-23]\n",
    "sayilar.reverse()\n",
    "print(sayilar)"
   ]
  },
  {
   "cell_type": "code",
   "execution_count": 47,
   "id": "20b148f3",
   "metadata": {},
   "outputs": [
    {
     "data": {
      "text/plain": [
       "{1, 3, 5, 6, 7, 8, 9, 89}"
      ]
     },
     "execution_count": 47,
     "metadata": {},
     "output_type": "execute_result"
    }
   ],
   "source": [
    "# tipini değiştirmeyi hem de birden fazla olan indexleri teke düşürmeyi sağlar..\n",
    "sayilar1 = [1,5,5,8,9,7,6,3,6,6,8,6,89]\n",
    "set(sayilar1)"
   ]
  },
  {
   "cell_type": "markdown",
   "id": "0e01b79e",
   "metadata": {},
   "source": [
    "tuple"
   ]
  },
  {
   "cell_type": "code",
   "execution_count": 57,
   "id": "ea70baf4",
   "metadata": {},
   "outputs": [
    {
     "name": "stdout",
     "output_type": "stream",
     "text": [
      "['a', 'b', 'c', 'd', 'e']\n",
      "('a', 'b', 'c', 'd', 'e')\n"
     ]
    }
   ],
   "source": [
    "liste = [\"a\",\"b\",\"c\",\"d\",\"e\"]\n",
    "print(liste)\n",
    "tup = (\"a\",\"b\",\"c\",\"d\",\"e\")\n",
    "print(tup)"
   ]
  },
  {
   "cell_type": "code",
   "execution_count": 51,
   "id": "fa2e6f45",
   "metadata": {},
   "outputs": [
    {
     "data": {
      "text/plain": [
       "[12345, 'b', 'c', 'd', 'e']"
      ]
     },
     "execution_count": 51,
     "metadata": {},
     "output_type": "execute_result"
    }
   ],
   "source": [
    "liste[0]= 12345\n",
    "liste"
   ]
  },
  {
   "cell_type": "code",
   "execution_count": 52,
   "id": "ce1f426c",
   "metadata": {},
   "outputs": [
    {
     "ename": "TypeError",
     "evalue": "'set' object does not support item assignment",
     "output_type": "error",
     "traceback": [
      "\u001b[1;31m---------------------------------------------------------------------------\u001b[0m",
      "\u001b[1;31mTypeError\u001b[0m                                 Traceback (most recent call last)",
      "\u001b[1;32m~\\AppData\\Local\\Temp/ipykernel_7428/98616969.py\u001b[0m in \u001b[0;36m<module>\u001b[1;34m\u001b[0m\n\u001b[1;32m----> 1\u001b[1;33m \u001b[0mtup\u001b[0m\u001b[1;33m[\u001b[0m\u001b[1;36m0\u001b[0m\u001b[1;33m]\u001b[0m \u001b[1;33m=\u001b[0m \u001b[1;36m123156\u001b[0m\u001b[1;33m\u001b[0m\u001b[1;33m\u001b[0m\u001b[0m\n\u001b[0m\u001b[0;32m      2\u001b[0m \u001b[0mtup\u001b[0m\u001b[1;33m\u001b[0m\u001b[1;33m\u001b[0m\u001b[0m\n",
      "\u001b[1;31mTypeError\u001b[0m: 'set' object does not support item assignment"
     ]
    }
   ],
   "source": [
    "tup[0] = 123156\n",
    "tup"
   ]
  },
  {
   "cell_type": "code",
   "execution_count": null,
   "id": "2947f042",
   "metadata": {},
   "outputs": [],
   "source": [
    "# değiştirilemez indekstir.. atama olmaz"
   ]
  },
  {
   "cell_type": "code",
   "execution_count": 58,
   "id": "c84c957f",
   "metadata": {},
   "outputs": [
    {
     "data": {
      "text/plain": [
       "2"
      ]
     },
     "execution_count": 58,
     "metadata": {},
     "output_type": "execute_result"
    }
   ],
   "source": [
    "tup = ('a','b','c','d','e','a')\n",
    "tup.count('a')\n",
    "# elemandan kaç tane olduğunu gösterir"
   ]
  },
  {
   "cell_type": "code",
   "execution_count": 59,
   "id": "d2bce02f",
   "metadata": {},
   "outputs": [
    {
     "data": {
      "text/plain": [
       "2"
      ]
     },
     "execution_count": 59,
     "metadata": {},
     "output_type": "execute_result"
    }
   ],
   "source": [
    "tup.index('c') \n",
    "# aradığın elemanın konumu gösterir"
   ]
  },
  {
   "cell_type": "code",
   "execution_count": 63,
   "id": "cf711f2e",
   "metadata": {},
   "outputs": [
    {
     "data": {
      "text/plain": [
       "5"
      ]
     },
     "execution_count": 63,
     "metadata": {},
     "output_type": "execute_result"
    }
   ],
   "source": [
    "tup.index('a',1) "
   ]
  },
  {
   "cell_type": "code",
   "execution_count": 64,
   "id": "d0261fcc",
   "metadata": {},
   "outputs": [
    {
     "ename": "ValueError",
     "evalue": "tuple.index(x): x not in tuple",
     "output_type": "error",
     "traceback": [
      "\u001b[1;31m---------------------------------------------------------------------------\u001b[0m",
      "\u001b[1;31mValueError\u001b[0m                                Traceback (most recent call last)",
      "\u001b[1;32m~\\AppData\\Local\\Temp/ipykernel_7428/2996090797.py\u001b[0m in \u001b[0;36m<module>\u001b[1;34m\u001b[0m\n\u001b[1;32m----> 1\u001b[1;33m \u001b[0mtup\u001b[0m\u001b[1;33m.\u001b[0m\u001b[0mindex\u001b[0m\u001b[1;33m(\u001b[0m\u001b[1;32mTrue\u001b[0m\u001b[1;33m)\u001b[0m\u001b[1;33m\u001b[0m\u001b[1;33m\u001b[0m\u001b[0m\n\u001b[0m",
      "\u001b[1;31mValueError\u001b[0m: tuple.index(x): x not in tuple"
     ]
    }
   ],
   "source": [
    "tup.index(True) # olmadığı için hata verdi"
   ]
  },
  {
   "cell_type": "markdown",
   "id": "7f625968",
   "metadata": {},
   "source": [
    "dictionary"
   ]
  },
  {
   "cell_type": "code",
   "execution_count": 66,
   "id": "81042567",
   "metadata": {},
   "outputs": [
    {
     "data": {
      "text/plain": [
       "{'isim': 'Fatma', 'yas': 20}"
      ]
     },
     "execution_count": 66,
     "metadata": {},
     "output_type": "execute_result"
    }
   ],
   "source": [
    "dic1 = {'isim': 'Fatma', 'yas': 20}\n",
    "dic1"
   ]
  },
  {
   "cell_type": "code",
   "execution_count": 72,
   "id": "9ae61ec4",
   "metadata": {},
   "outputs": [
    {
     "data": {
      "text/plain": [
       "20"
      ]
     },
     "execution_count": 72,
     "metadata": {},
     "output_type": "execute_result"
    }
   ],
   "source": [
    "dic1['yas']"
   ]
  },
  {
   "cell_type": "code",
   "execution_count": 73,
   "id": "32181fdf",
   "metadata": {},
   "outputs": [
    {
     "data": {
      "text/plain": [
       "20"
      ]
     },
     "execution_count": 73,
     "metadata": {},
     "output_type": "execute_result"
    }
   ],
   "source": [
    "dic1.get('yas')"
   ]
  },
  {
   "cell_type": "code",
   "execution_count": 74,
   "id": "855e6ef2",
   "metadata": {},
   "outputs": [
    {
     "data": {
      "text/plain": [
       "dict_keys(['isim', 'yas'])"
      ]
     },
     "execution_count": 74,
     "metadata": {},
     "output_type": "execute_result"
    }
   ],
   "source": [
    "dic1.keys()"
   ]
  },
  {
   "cell_type": "code",
   "execution_count": 75,
   "id": "a1caa9b1",
   "metadata": {},
   "outputs": [
    {
     "data": {
      "text/plain": [
       "dict_values(['Fatma', 20])"
      ]
     },
     "execution_count": 75,
     "metadata": {},
     "output_type": "execute_result"
    }
   ],
   "source": [
    "dic1.values()"
   ]
  },
  {
   "cell_type": "code",
   "execution_count": 76,
   "id": "83802b8c",
   "metadata": {},
   "outputs": [
    {
     "data": {
      "text/plain": [
       "dict_items([('isim', 'Fatma'), ('yas', 20)])"
      ]
     },
     "execution_count": 76,
     "metadata": {},
     "output_type": "execute_result"
    }
   ],
   "source": [
    "dic1.items()"
   ]
  },
  {
   "cell_type": "markdown",
   "id": "dea8a0c4",
   "metadata": {},
   "source": [
    "# quiz_1"
   ]
  },
  {
   "cell_type": "code",
   "execution_count": 77,
   "id": "fddd1460",
   "metadata": {},
   "outputs": [
    {
     "name": "stdout",
     "output_type": "stream",
     "text": [
      "5\n"
     ]
    }
   ],
   "source": [
    "print(3+2)"
   ]
  },
  {
   "cell_type": "code",
   "execution_count": 78,
   "id": "b5fe557a",
   "metadata": {},
   "outputs": [
    {
     "name": "stdout",
     "output_type": "stream",
     "text": [
      "20\n"
     ]
    }
   ],
   "source": [
    "print(5*4)"
   ]
  },
  {
   "cell_type": "code",
   "execution_count": 79,
   "id": "66b3d9c7",
   "metadata": {},
   "outputs": [
    {
     "name": "stdout",
     "output_type": "stream",
     "text": [
      "1\n"
     ]
    }
   ],
   "source": [
    "print(5%4)"
   ]
  },
  {
   "cell_type": "code",
   "execution_count": 80,
   "id": "c5828c07",
   "metadata": {},
   "outputs": [
    {
     "name": "stdout",
     "output_type": "stream",
     "text": [
      "1\n"
     ]
    }
   ],
   "source": [
    "print(5//4)"
   ]
  },
  {
   "cell_type": "code",
   "execution_count": 81,
   "id": "f9cb22f0",
   "metadata": {},
   "outputs": [
    {
     "name": "stdout",
     "output_type": "stream",
     "text": [
      "4\n"
     ]
    }
   ],
   "source": [
    "print(4%5)"
   ]
  },
  {
   "cell_type": "code",
   "execution_count": 82,
   "id": "ce9b1a71",
   "metadata": {},
   "outputs": [
    {
     "name": "stdout",
     "output_type": "stream",
     "text": [
      "0\n"
     ]
    }
   ],
   "source": [
    "print(4//5)"
   ]
  },
  {
   "cell_type": "code",
   "execution_count": 88,
   "id": "6fc524bb",
   "metadata": {},
   "outputs": [
    {
     "name": "stdout",
     "output_type": "stream",
     "text": [
      "İşlem sonucu ==>  ' 7.2 '\n",
      "-----------------------\n",
      "<class 'float'>\n"
     ]
    }
   ],
   "source": [
    "a = 2.3 + 4.9\n",
    "print(\"İşlem sonucu ==> \",\"'\",a,\"'\")\n",
    "print(\"-----------------------\")\n",
    "print(type(a))"
   ]
  },
  {
   "cell_type": "code",
   "execution_count": 89,
   "id": "f7b8d4f9",
   "metadata": {},
   "outputs": [],
   "source": [
    "strvar = \"Yakın Kampüs\""
   ]
  },
  {
   "cell_type": "code",
   "execution_count": 92,
   "id": "be595e57",
   "metadata": {},
   "outputs": [
    {
     "data": {
      "text/plain": [
       "'p'"
      ]
     },
     "execution_count": 92,
     "metadata": {},
     "output_type": "execute_result"
    }
   ],
   "source": [
    "strvar[9]"
   ]
  },
  {
   "cell_type": "code",
   "execution_count": 93,
   "id": "10629e80",
   "metadata": {},
   "outputs": [
    {
     "data": {
      "text/plain": [
       "9"
      ]
     },
     "execution_count": 93,
     "metadata": {},
     "output_type": "execute_result"
    }
   ],
   "source": [
    "strvar.index('p')"
   ]
  },
  {
   "cell_type": "code",
   "execution_count": 95,
   "id": "768916ae",
   "metadata": {},
   "outputs": [
    {
     "data": {
      "text/plain": [
       "['Y', 'kın K', 'mpüs']"
      ]
     },
     "execution_count": 95,
     "metadata": {},
     "output_type": "execute_result"
    }
   ],
   "source": [
    "strvar.split('a')"
   ]
  },
  {
   "cell_type": "code",
   "execution_count": 96,
   "id": "247d848d",
   "metadata": {},
   "outputs": [],
   "source": [
    "a = 5\n",
    "b = 4"
   ]
  },
  {
   "cell_type": "code",
   "execution_count": 97,
   "id": "816dbb1b",
   "metadata": {},
   "outputs": [
    {
     "data": {
      "text/plain": [
       "False"
      ]
     },
     "execution_count": 97,
     "metadata": {},
     "output_type": "execute_result"
    }
   ],
   "source": [
    "a == b"
   ]
  },
  {
   "cell_type": "code",
   "execution_count": 98,
   "id": "98d6c736",
   "metadata": {},
   "outputs": [
    {
     "data": {
      "text/plain": [
       "True"
      ]
     },
     "execution_count": 98,
     "metadata": {},
     "output_type": "execute_result"
    }
   ],
   "source": [
    "a != b"
   ]
  },
  {
   "cell_type": "code",
   "execution_count": null,
   "id": "9619b383",
   "metadata": {},
   "outputs": [],
   "source": [
    "# < ya da > işareti ile ! aynı anda kullanılamaz ama not ifadesi kullanılabilir"
   ]
  },
  {
   "cell_type": "code",
   "execution_count": 99,
   "id": "cce49157",
   "metadata": {},
   "outputs": [
    {
     "data": {
      "text/plain": [
       "False"
      ]
     },
     "execution_count": 99,
     "metadata": {},
     "output_type": "execute_result"
    }
   ],
   "source": [
    "type(4) == type('4')"
   ]
  },
  {
   "cell_type": "code",
   "execution_count": null,
   "id": "4f8f4e81",
   "metadata": {},
   "outputs": [],
   "source": [
    "# append\n",
    "# pop\n",
    "# reverse\n",
    "# sort"
   ]
  },
  {
   "cell_type": "markdown",
   "id": "d840c13d",
   "metadata": {},
   "source": [
    "# if sorguları"
   ]
  },
  {
   "cell_type": "code",
   "execution_count": null,
   "id": "99586a4c",
   "metadata": {},
   "outputs": [],
   "source": [
    "# if < koşul sağlanıyorsa >:\n",
    "#     <burada yazılanı yap>\n",
    "#elif < koşul sağlanıyorsa >:\n",
    "#     <burada yazılanı yap>\n",
    "#else:\n",
    "#     <burada yazılanı yap>\n"
   ]
  },
  {
   "cell_type": "code",
   "execution_count": 103,
   "id": "55c1080f",
   "metadata": {},
   "outputs": [
    {
     "name": "stdout",
     "output_type": "stream",
     "text": [
      "güneşli\n",
      "Sıkıntı yok\n"
     ]
    }
   ],
   "source": [
    "hava_durumu = input()\n",
    "if hava_durumu == \"Yağışlı\":\n",
    "    print(\"Şemsiyeni al\")\n",
    "elif hava_durumu == \"Karlı\":\n",
    "    print(\"Atkını al\")\n",
    "else:\n",
    "    print(\"Sıkıntı yok\")"
   ]
  },
  {
   "cell_type": "code",
   "execution_count": 104,
   "id": "fbf552c8",
   "metadata": {},
   "outputs": [
    {
     "name": "stdout",
     "output_type": "stream",
     "text": [
      "p\n",
      "Yeni liste ==> ['a', 'b', 'c', 'd', 'e', 'p']\n"
     ]
    }
   ],
   "source": [
    "liste = ['a','b','c','d','e']\n",
    "hedef_harf = input()\n",
    "if hedef_harf in liste:\n",
    "    print(\"Hedef harf olan \",hedef_harf,\" harfi listenin içindedir.\")\n",
    "else:\n",
    "    liste.append(hedef_harf)\n",
    "    print(\"Yeni liste ==> {}\".format(liste))"
   ]
  },
  {
   "cell_type": "code",
   "execution_count": 2,
   "id": "63165588",
   "metadata": {},
   "outputs": [
    {
     "name": "stdout",
     "output_type": "stream",
     "text": [
      "a\n",
      "Hedef harf olan  a  harfi listenin içindedir ve ilk eleman konumundadır. \n"
     ]
    }
   ],
   "source": [
    "liste = ['a','b','c','d','e']\n",
    "hedef_harf = input()\n",
    "if hedef_harf in liste and hedef_harf == liste[0]:\n",
    "    print(\"Hedef harf olan \",hedef_harf,\" harfi listenin içindedir ve ilk eleman konumundadır. \")\n",
    "elif hedef_harf in liste:\n",
    "    print(\"Hedef harf olan \",hedef_harf,\" harfi listenin içindedir\")\n",
    "else:\n",
    "    liste.append(hedef_harf)\n",
    "    print(\"Yeni liste ==> {}\".format(liste))"
   ]
  },
  {
   "cell_type": "markdown",
   "id": "86b0d3dc",
   "metadata": {},
   "source": [
    "# for döngüleri"
   ]
  },
  {
   "cell_type": "code",
   "execution_count": null,
   "id": "63bbce9e",
   "metadata": {},
   "outputs": [],
   "source": [
    "# for <değişken> in <iterable>:\n",
    "#     <buraya yazlanı yap>"
   ]
  },
  {
   "cell_type": "code",
   "execution_count": 4,
   "id": "206a25ec",
   "metadata": {},
   "outputs": [
    {
     "name": "stdout",
     "output_type": "stream",
     "text": [
      "['a', 'b', 'c', 'd', 'e', 'f']\n",
      "['a', 'b', 'c', 'd', 'e', 'f']\n",
      "['a', 'b', 'c', 'd', 'e', 'f']\n",
      "['a', 'b', 'c', 'd', 'e', 'f']\n",
      "['a', 'b', 'c', 'd', 'e', 'f']\n",
      "['a', 'b', 'c', 'd', 'e', 'f']\n"
     ]
    }
   ],
   "source": [
    "yorum = [\"a\",\"b\",\"c\",\"d\",\"e\",\"f\"]\n",
    "for harf in yorum:\n",
    "    print(yorum)"
   ]
  },
  {
   "cell_type": "code",
   "execution_count": 12,
   "id": "feb5a656",
   "metadata": {},
   "outputs": [
    {
     "name": "stdout",
     "output_type": "stream",
     "text": [
      "0 a\n",
      "1 b\n",
      "2 c\n",
      "3 d\n",
      "4 e\n",
      "5 f\n"
     ]
    }
   ],
   "source": [
    "harf_sayisi = 0\n",
    "\n",
    "\n",
    "for harf in yorum:\n",
    "    print(harf_sayisi,harf)\n",
    "    harf_sayisi = harf_sayisi+1"
   ]
  },
  {
   "cell_type": "code",
   "execution_count": 15,
   "id": "2fddeb5a",
   "metadata": {},
   "outputs": [
    {
     "name": "stdout",
     "output_type": "stream",
     "text": [
      "1.Arkadaş Adı...: Zehra ve Soyadı...: Aykan\n",
      "2.Arkadaş Adı...: Sedef ve Soyadı...: Yıldırımcı\n",
      "3.Arkadaş Adı...: Ayşenur ve Soyadı...: Kürklü\n",
      "4.Arkadaş Adı...: Aslı ve Soyadı...: Çiçek\n"
     ]
    }
   ],
   "source": [
    "arkadas_grubu = [\"Zehra Aykan\",\"Sedef Yıldırımcı\",\"Ayşenur Kürklü\",\"Aslı Çiçek\"]\n",
    "arkadas_sayisi = 0\n",
    "\n",
    "for arkadas in arkadas_grubu:\n",
    "    arkadas_sayisi = arkadas_sayisi + 1\n",
    "    ad , soyad = arkadas.split()[0],arkadas.split()[1]\n",
    "    print('{0}.Arkadaş Adı...: {1} ve Soyadı...: {2}'.format(arkadas_sayisi,ad,soyad))"
   ]
  },
  {
   "cell_type": "code",
   "execution_count": 16,
   "id": "bfa7d8e4",
   "metadata": {},
   "outputs": [
    {
     "name": "stdout",
     "output_type": "stream",
     "text": [
      "1\n",
      "2\n",
      "5\n",
      "9\n"
     ]
    }
   ],
   "source": [
    "tup1 = (1,2,5,9)\n",
    "for sayi in tup1:\n",
    "    print(sayi)"
   ]
  },
  {
   "cell_type": "code",
   "execution_count": 19,
   "id": "63b5f184",
   "metadata": {},
   "outputs": [
    {
     "name": "stdout",
     "output_type": "stream",
     "text": [
      "x..:  1\n",
      "-------------\n",
      "y..:  80\n",
      "-------------\n",
      "x*y..: 80\n",
      "################\n",
      "x..:  8\n",
      "-------------\n",
      "y..:  96\n",
      "-------------\n",
      "x*y..: 768\n",
      "################\n"
     ]
    }
   ],
   "source": [
    "liste = [[1,80],[8,96]]\n",
    "\n",
    "for x,y in liste:\n",
    "    print(\"x..: \",x)\n",
    "    print(\"-------------\")\n",
    "    print(\"y..: \",y)\n",
    "    print(\"-------------\")\n",
    "    print(\"x*y..:\",x*y)\n",
    "    print(\"################\")"
   ]
  },
  {
   "cell_type": "code",
   "execution_count": null,
   "id": "20596f95",
   "metadata": {},
   "outputs": [],
   "source": [
    "kullanici1 = {\n",
    "    'ad': 'Nazlı',\n",
    "    'soyad': 'Koçyiğit'\n",
    "}\n",
    "kullanici1.items()"
   ]
  },
  {
   "cell_type": "code",
   "execution_count": 26,
   "id": "a3d13b0c",
   "metadata": {},
   "outputs": [
    {
     "name": "stdout",
     "output_type": "stream",
     "text": [
      "Key: ad \t  Value: Nazlı\n",
      "Key: soyad \t  Value: Koçyiğit\n"
     ]
    }
   ],
   "source": [
    "for k,v in kullanici1.items():\n",
    "    print(\"Key: {} \\t  Value: {}\".format(k,v))"
   ]
  },
  {
   "cell_type": "markdown",
   "id": "9e4a1906",
   "metadata": {},
   "source": [
    "# while döngüleri"
   ]
  },
  {
   "cell_type": "code",
   "execution_count": null,
   "id": "c2c3adc9",
   "metadata": {},
   "outputs": [],
   "source": [
    "# while <şart doğruysa>:\n",
    "#     <burada yazılanı yap>"
   ]
  },
  {
   "cell_type": "code",
   "execution_count": 29,
   "id": "da893e59",
   "metadata": {},
   "outputs": [
    {
     "name": "stdout",
     "output_type": "stream",
     "text": [
      "0 değeri 10'dan küçüktür.\n",
      "1 değeri 10'dan küçüktür.\n",
      "2 değeri 10'dan küçüktür.\n",
      "3 değeri 10'dan küçüktür.\n",
      "4 değeri 10'dan küçüktür.\n",
      "5 değeri 10'dan küçüktür.\n",
      "6 değeri 10'dan küçüktür.\n",
      "7 değeri 10'dan küçüktür.\n",
      "8 değeri 10'dan küçüktür.\n",
      "9 değeri 10'dan küçüktür.\n"
     ]
    }
   ],
   "source": [
    "x = 0\n",
    "\n",
    "while x < 10:\n",
    "    print(\"{} değeri 10'dan küçüktür.\".format(x))\n",
    "    x +=1"
   ]
  },
  {
   "cell_type": "code",
   "execution_count": null,
   "id": "912392f3",
   "metadata": {},
   "outputs": [],
   "source": [
    "#while <şart doğruysa>:\n",
    "#     <burada yazılanı yap>\n",
    "#else:\n",
    "#     <burada yazılanı yap>\n"
   ]
  },
  {
   "cell_type": "code",
   "execution_count": null,
   "id": "83693ae5",
   "metadata": {},
   "outputs": [],
   "source": [
    "x = 0\n",
    "\n",
    "while x < 10:\n",
    "    print(\"{} değeri 10'dan küçüktür.\".format(x))\n",
    "    x +=1\n",
    "else:\n",
    "    print(\"{} değeri 10'dan küçük değildir.\".format(x))\n",
    "    "
   ]
  },
  {
   "cell_type": "code",
   "execution_count": 32,
   "id": "c6b14ca6",
   "metadata": {},
   "outputs": [
    {
     "name": "stdout",
     "output_type": "stream",
     "text": [
      "8\n",
      "40320\n"
     ]
    }
   ],
   "source": [
    "sayi = int(input())\n",
    "sonuc = 1\n",
    "\n",
    "while sayi >0:\n",
    "    sonuc *= sayi\n",
    "    sayi -= 1\n",
    "    \n",
    "print(sonuc)"
   ]
  },
  {
   "cell_type": "markdown",
   "id": "fa945d14",
   "metadata": {},
   "source": [
    "# range"
   ]
  },
  {
   "cell_type": "code",
   "execution_count": 33,
   "id": "da9f3025",
   "metadata": {},
   "outputs": [
    {
     "data": {
      "text/plain": [
       "range(0, 10)"
      ]
     },
     "execution_count": 33,
     "metadata": {},
     "output_type": "execute_result"
    }
   ],
   "source": [
    " range(10) #[start:end]"
   ]
  },
  {
   "cell_type": "code",
   "execution_count": 35,
   "id": "97c42d1c",
   "metadata": {},
   "outputs": [
    {
     "data": {
      "text/plain": [
       "[0, 1, 2, 3, 4, 5, 6, 7, 8, 9]"
      ]
     },
     "execution_count": 35,
     "metadata": {},
     "output_type": "execute_result"
    }
   ],
   "source": [
    "list(range(10))"
   ]
  },
  {
   "cell_type": "code",
   "execution_count": 34,
   "id": "b8c24322",
   "metadata": {},
   "outputs": [
    {
     "data": {
      "text/plain": [
       "list"
      ]
     },
     "execution_count": 34,
     "metadata": {},
     "output_type": "execute_result"
    }
   ],
   "source": [
    "liste = [1,2,3]\n",
    "type(liste)"
   ]
  },
  {
   "cell_type": "code",
   "execution_count": 36,
   "id": "7fd662bc",
   "metadata": {},
   "outputs": [
    {
     "data": {
      "text/plain": [
       "[0, 1, 2, 3, 4, 5, 6, 7, 8, 9]"
      ]
     },
     "execution_count": 36,
     "metadata": {},
     "output_type": "execute_result"
    }
   ],
   "source": [
    "[*range(10)]"
   ]
  },
  {
   "cell_type": "code",
   "execution_count": 38,
   "id": "b7620a85",
   "metadata": {},
   "outputs": [
    {
     "data": {
      "text/plain": [
       "[2, 3, 4, 5, 6, 7]"
      ]
     },
     "execution_count": 38,
     "metadata": {},
     "output_type": "execute_result"
    }
   ],
   "source": [
    "[*range(2,8)]"
   ]
  },
  {
   "cell_type": "code",
   "execution_count": 39,
   "id": "5c33b2a2",
   "metadata": {},
   "outputs": [
    {
     "name": "stdout",
     "output_type": "stream",
     "text": [
      "0\n",
      "1\n",
      "2\n",
      "3\n",
      "4\n",
      "5\n",
      "6\n",
      "7\n",
      "8\n",
      "9\n"
     ]
    }
   ],
   "source": [
    "for sayi in range(10):\n",
    "    print(sayi)"
   ]
  },
  {
   "cell_type": "code",
   "execution_count": 40,
   "id": "b886cebd",
   "metadata": {},
   "outputs": [
    {
     "name": "stdout",
     "output_type": "stream",
     "text": [
      "6\n",
      "7\n",
      "8\n",
      "9\n"
     ]
    }
   ],
   "source": [
    "for sayi in range(10):\n",
    "    if sayi > 5:\n",
    "        print(sayi)"
   ]
  },
  {
   "cell_type": "markdown",
   "id": "27075452",
   "metadata": {},
   "source": [
    "# enumerate"
   ]
  },
  {
   "cell_type": "code",
   "execution_count": 41,
   "id": "0d49043e",
   "metadata": {},
   "outputs": [
    {
     "name": "stdout",
     "output_type": "stream",
     "text": [
      "(0, 'a')\n",
      "(1, 'b')\n",
      "(2, 'c')\n",
      "(3, 'd')\n",
      "(4, 'e')\n"
     ]
    }
   ],
   "source": [
    "harfler = ['a','b','c','d','e']\n",
    "for harf in enumerate(harfler):\n",
    "    print(harf)"
   ]
  },
  {
   "cell_type": "code",
   "execution_count": 47,
   "id": "d65c1c5d",
   "metadata": {},
   "outputs": [
    {
     "name": "stdout",
     "output_type": "stream",
     "text": [
      "0. harf:a\n",
      "1. harf:b\n",
      "2. harf:c\n",
      "3. harf:d\n",
      "4. harf:e\n"
     ]
    }
   ],
   "source": [
    "for index,harf in enumerate(harfler):\n",
    "    print(\"{}. harf:{}\".format(index,harf))\n",
    "    #print(index)\n"
   ]
  },
  {
   "cell_type": "markdown",
   "id": "583a480b",
   "metadata": {},
   "source": [
    "# zip"
   ]
  },
  {
   "cell_type": "code",
   "execution_count": 48,
   "id": "5a2f055b",
   "metadata": {},
   "outputs": [
    {
     "name": "stdout",
     "output_type": "stream",
     "text": [
      "('TR', 1)\n",
      "('FR', 2)\n",
      "('DE', 3)\n"
     ]
    }
   ],
   "source": [
    "ulkeler = ['TR','FR','DE']\n",
    "siramalar = range(1,4)\n",
    "\n",
    "for ulke in zip(ulkeler,siramalar):\n",
    "    print(ulke)"
   ]
  },
  {
   "cell_type": "markdown",
   "id": "202a1a3b",
   "metadata": {},
   "source": [
    "# break"
   ]
  },
  {
   "cell_type": "code",
   "execution_count": 56,
   "id": "5a49c28e",
   "metadata": {},
   "outputs": [
    {
     "name": "stdout",
     "output_type": "stream",
     "text": [
      "c harfi 2. indekste tutuluyor.\n"
     ]
    }
   ],
   "source": [
    "harfler = ['a','b','c','d','e'] *100\n",
    "for index,harf in enumerate(harfler):\n",
    "    if harf == 'c':\n",
    "        print('{} harfi {}. indekste tutuluyor.'.format(harf,index))\n",
    "        break"
   ]
  },
  {
   "cell_type": "markdown",
   "id": "815cc8a2",
   "metadata": {},
   "source": [
    "# continue"
   ]
  },
  {
   "cell_type": "code",
   "execution_count": 57,
   "id": "319dd076",
   "metadata": {},
   "outputs": [
    {
     "name": "stdout",
     "output_type": "stream",
     "text": [
      "1\n",
      "3\n",
      "5\n"
     ]
    }
   ],
   "source": [
    "for sayi in range(1,6):\n",
    "    if sayi%2==0:\n",
    "        continue\n",
    "    print(sayi)"
   ]
  },
  {
   "cell_type": "markdown",
   "id": "b1dafac0",
   "metadata": {},
   "source": [
    "\n",
    "# pass"
   ]
  },
  {
   "cell_type": "code",
   "execution_count": 58,
   "id": "aee80f6f",
   "metadata": {},
   "outputs": [
    {
     "name": "stdout",
     "output_type": "stream",
     "text": [
      "1\n",
      "3\n",
      "5\n"
     ]
    }
   ],
   "source": [
    "for sayi in range(1,6):\n",
    "    if sayi%2==0:\n",
    "        pass\n",
    "    else: \n",
    "        print(sayi)"
   ]
  },
  {
   "cell_type": "code",
   "execution_count": 67,
   "id": "39a9f86f",
   "metadata": {},
   "outputs": [
    {
     "ename": "IndentationError",
     "evalue": "expected an indented block (Temp/ipykernel_8712/2969756919.py, line 3)",
     "output_type": "error",
     "traceback": [
      "\u001b[1;36m  File \u001b[1;32m\"C:\\Users\\MONSTER\\AppData\\Local\\Temp/ipykernel_8712/2969756919.py\"\u001b[1;36m, line \u001b[1;32m3\u001b[0m\n\u001b[1;33m    else:\u001b[0m\n\u001b[1;37m    ^\u001b[0m\n\u001b[1;31mIndentationError\u001b[0m\u001b[1;31m:\u001b[0m expected an indented block\n"
     ]
    }
   ],
   "source": [
    "if sayi < 5:\n",
    "    \n",
    "else:\n",
    "    print(\"Hey!\")"
   ]
  },
  {
   "cell_type": "code",
   "execution_count": 60,
   "id": "4b287df5",
   "metadata": {},
   "outputs": [
    {
     "name": "stdout",
     "output_type": "stream",
     "text": [
      "Hey!\n"
     ]
    }
   ],
   "source": [
    "if sayi < 5:\n",
    "    pass \n",
    "else:\n",
    "    print(\"Hey!\")"
   ]
  },
  {
   "cell_type": "code",
   "execution_count": 66,
   "id": "8662bfe3",
   "metadata": {},
   "outputs": [
    {
     "name": "stdout",
     "output_type": "stream",
     "text": [
      "5 sayısı asaldır!\n"
     ]
    }
   ],
   "source": [
    "deger = 5\n",
    "x = deger-1\n",
    "while x > 1:\n",
    "    if deger % x == 0:\n",
    "        print('{} sayısı asal değil!'.format(deger))\n",
    "        break\n",
    "    else:\n",
    "        x -= 1\n",
    "else:\n",
    "    print('{} sayısı asaldır!'.format(deger))"
   ]
  },
  {
   "cell_type": "markdown",
   "id": "b2ac69ec",
   "metadata": {},
   "source": [
    "# Fonksiyon Yapısı"
   ]
  },
  {
   "cell_type": "markdown",
   "id": "9b9c657e",
   "metadata": {},
   "source": [
    "def < fonksiyon_ismi >(<argümanlar>): #snake_case\n",
    "    \"\"\"\"\n",
    "    Bu kod ne işe yarar               # docstring\n",
    "    \"\"\"\"\n",
    "    ...                               # return / print"
   ]
  },
  {
   "cell_type": "code",
   "execution_count": 72,
   "id": "94724a02",
   "metadata": {},
   "outputs": [
    {
     "name": "stdout",
     "output_type": "stream",
     "text": [
      "5\n",
      "5\n"
     ]
    }
   ],
   "source": [
    "def bes_bastir():\n",
    "    print(5)\n",
    "bes_bastir()\n",
    "print(5)"
   ]
  },
  {
   "cell_type": "markdown",
   "id": "b840a178",
   "metadata": {},
   "source": [
    "# Fonksiyonlarda print ve return farkı"
   ]
  },
  {
   "cell_type": "code",
   "execution_count": 75,
   "id": "881e882f",
   "metadata": {},
   "outputs": [
    {
     "data": {
      "text/plain": [
       "5"
      ]
     },
     "execution_count": 75,
     "metadata": {},
     "output_type": "execute_result"
    }
   ],
   "source": [
    "def bes_bastir():\n",
    "     return 5\n",
    "bes_bastir()"
   ]
  },
  {
   "cell_type": "code",
   "execution_count": 76,
   "id": "e8267910",
   "metadata": {},
   "outputs": [
    {
     "data": {
      "text/plain": [
       "5"
      ]
     },
     "execution_count": 76,
     "metadata": {},
     "output_type": "execute_result"
    }
   ],
   "source": [
    "a = bes_bastir()\n",
    "a"
   ]
  },
  {
   "cell_type": "code",
   "execution_count": 80,
   "id": "1efc6d34",
   "metadata": {},
   "outputs": [
    {
     "name": "stdout",
     "output_type": "stream",
     "text": [
      "5\n"
     ]
    },
    {
     "data": {
      "text/plain": [
       "5"
      ]
     },
     "execution_count": 80,
     "metadata": {},
     "output_type": "execute_result"
    }
   ],
   "source": [
    "a = bes_bastir()\n",
    "print(a)\n",
    "a"
   ]
  },
  {
   "cell_type": "markdown",
   "id": "cd2eed12",
   "metadata": {},
   "source": [
    "# Fonksiyonlarda Argümanlar"
   ]
  },
  {
   "cell_type": "code",
   "execution_count": 81,
   "id": "f96f1504",
   "metadata": {},
   "outputs": [
    {
     "data": {
      "text/plain": [
       "100"
      ]
     },
     "execution_count": 81,
     "metadata": {},
     "output_type": "execute_result"
    }
   ],
   "source": [
    "def sayi_döndür(sayi):\n",
    "    return sayi\n",
    "sayi_döndür(100)"
   ]
  },
  {
   "cell_type": "code",
   "execution_count": 82,
   "id": "44ab9287",
   "metadata": {},
   "outputs": [
    {
     "data": {
      "text/plain": [
       "79"
      ]
     },
     "execution_count": 82,
     "metadata": {},
     "output_type": "execute_result"
    }
   ],
   "source": [
    "def büyük_sayi_döndür(a,b):\n",
    "    if a>b:\n",
    "        return a\n",
    "    else:\n",
    "        return b\n",
    "büyük_sayi_döndür(8,79)"
   ]
  },
  {
   "cell_type": "code",
   "execution_count": 84,
   "id": "96c3a171",
   "metadata": {},
   "outputs": [
    {
     "data": {
      "text/plain": [
       "5"
      ]
     },
     "execution_count": 84,
     "metadata": {},
     "output_type": "execute_result"
    }
   ],
   "source": [
    "def büyük_sayi_döndür(a,b):\n",
    "    return a\n",
    "    return b\n",
    "büyük_sayi_döndür(5,10) # herhangi bir koşul yoksa ilk return işleme alınır."
   ]
  },
  {
   "cell_type": "markdown",
   "id": "ecd09232",
   "metadata": {},
   "source": [
    "# Fonksiyonların Birbiri ile İlişki"
   ]
  },
  {
   "cell_type": "code",
   "execution_count": 86,
   "id": "909fbcb7",
   "metadata": {},
   "outputs": [],
   "source": [
    "def büyük_sayi_döndür(a,b):\n",
    "    if a>b:\n",
    "        return a\n",
    "    else:\n",
    "        return b"
   ]
  },
  {
   "cell_type": "code",
   "execution_count": 88,
   "id": "d138c812",
   "metadata": {},
   "outputs": [
    {
     "name": "stdout",
     "output_type": "stream",
     "text": [
      "565 daha büyük sayıdır\n"
     ]
    }
   ],
   "source": [
    "def metin_yazdir(a,b):\n",
    "    buyuk_sayi = büyük_sayi_döndür(a,b)\n",
    "    sablon_metin = \"{} daha büyük sayıdır\".format(buyuk_sayi)\n",
    "    print(sablon_metin)\n",
    "metin_yazdir(565,8)"
   ]
  },
  {
   "cell_type": "markdown",
   "id": "a2fd2ca3",
   "metadata": {},
   "source": [
    "# Fonksiyonlar Birden Fazla Sonuç Döndürebilir"
   ]
  },
  {
   "cell_type": "code",
   "execution_count": 91,
   "id": "1556dbe1",
   "metadata": {},
   "outputs": [
    {
     "data": {
      "text/plain": [
       "('Fatma', 'ÇİÇEK')"
      ]
     },
     "execution_count": 91,
     "metadata": {},
     "output_type": "execute_result"
    }
   ],
   "source": [
    "def isim_soyisim_ayirma(isim_soyisim):\n",
    "    isim = isim_soyisim.split()[0]\n",
    "    soyisim = isim_soyisim.split()[1]\n",
    "    return isim,soyisim\n",
    "isim_soyisim_ayirma(\"Fatma ÇİÇEK\")\n",
    "    "
   ]
  },
  {
   "cell_type": "markdown",
   "id": "e125abd2",
   "metadata": {},
   "source": [
    "# *args Argümanı"
   ]
  },
  {
   "cell_type": "code",
   "execution_count": null,
   "id": "f9a8ff81",
   "metadata": {},
   "outputs": [],
   "source": [
    "\" \".join([\"Fatma\",\"ÇİÇEK\"])\n"
   ]
  },
  {
   "cell_type": "code",
   "execution_count": 95,
   "id": "9251ff94",
   "metadata": {},
   "outputs": [
    {
     "name": "stdout",
     "output_type": "stream",
     "text": [
      "Fatma\n",
      "Surullah\n",
      "Mesut\n"
     ]
    },
    {
     "data": {
      "text/plain": [
       "'Fatma Surullah Mesut'"
      ]
     },
     "execution_count": 95,
     "metadata": {},
     "output_type": "execute_result"
    }
   ],
   "source": [
    "def isim_soyisim_birlestirme(*args):\n",
    "    for item in args:\n",
    "        print(item)\n",
    "    return\" \".join(args)\n",
    "isim_soyisim_birlestirme(\"Fatma\",\"Surullah\",\"Mesut\")"
   ]
  },
  {
   "cell_type": "code",
   "execution_count": 100,
   "id": "f0adbe2c",
   "metadata": {},
   "outputs": [
    {
     "name": "stdout",
     "output_type": "stream",
     "text": [
      "\n"
     ]
    }
   ],
   "source": [
    "def gobek_adi_yazdir(**kwargs):\n",
    "    if 'gobekadi' in kwargs:\n",
    "        print(kwargs['gobekadi'])\n",
    "    else:\n",
    "        print(\"Göbek adı yok...\")\n",
    "\n",
    "        \n",
    "gobek_adi_yazdir(adi=\"Fatma\",gobekadi=\"\",soyadi =\"ÇİÇEK\")"
   ]
  },
  {
   "cell_type": "markdown",
   "id": "7620617c",
   "metadata": {},
   "source": [
    "# map,filter ve lambda Expressions"
   ]
  },
  {
   "cell_type": "code",
   "execution_count": 1,
   "id": "63468ea4",
   "metadata": {},
   "outputs": [],
   "source": [
    "def karesini_al(x):\n",
    "    return x ** 2"
   ]
  },
  {
   "cell_type": "code",
   "execution_count": 2,
   "id": "175aed8d",
   "metadata": {},
   "outputs": [
    {
     "data": {
      "text/plain": [
       "25"
      ]
     },
     "execution_count": 2,
     "metadata": {},
     "output_type": "execute_result"
    }
   ],
   "source": [
    "karesini_al(5)"
   ]
  },
  {
   "cell_type": "code",
   "execution_count": 5,
   "id": "287c2f54",
   "metadata": {},
   "outputs": [
    {
     "data": {
      "text/plain": [
       "[1, 2, 3, 4, 5]"
      ]
     },
     "execution_count": 5,
     "metadata": {},
     "output_type": "execute_result"
    }
   ],
   "source": [
    "sayilar = [*range(1,6)]\n",
    "sayilar"
   ]
  },
  {
   "cell_type": "code",
   "execution_count": 8,
   "id": "de061ec4",
   "metadata": {},
   "outputs": [
    {
     "name": "stdout",
     "output_type": "stream",
     "text": [
      "[1, 2, 3, 4, 5]\n",
      "[1, 4, 9, 16, 25]\n"
     ]
    }
   ],
   "source": [
    "sayilar = [*range(1,6)]\n",
    "print(sayilar)\n",
    "for index in range(len(sayilar)):\n",
    "    sayilar[index] = karesini_al(sayilar[index])\n",
    "print(sayilar)"
   ]
  },
  {
   "cell_type": "code",
   "execution_count": 9,
   "id": "d61d6ca1",
   "metadata": {},
   "outputs": [
    {
     "data": {
      "text/plain": [
       "[1, 4, 9, 16, 25]"
      ]
     },
     "execution_count": 9,
     "metadata": {},
     "output_type": "execute_result"
    }
   ],
   "source": [
    "sayilar = [*range(1,6)]\n",
    "[*map(karesini_al,sayilar)] #fonksiyonu her elemana uygulamamı sağlıyor.."
   ]
  },
  {
   "cell_type": "code",
   "execution_count": 14,
   "id": "1030a469",
   "metadata": {},
   "outputs": [
    {
     "data": {
      "text/plain": [
       "4"
      ]
     },
     "execution_count": 14,
     "metadata": {},
     "output_type": "execute_result"
    }
   ],
   "source": [
    "# her elemana uygulamaktansa istenene uygular..yani şarta göre çalışır..\n",
    "def cift_sayilari_filtrele(x):\n",
    "    if x%2==0:\n",
    "        return x\n",
    "#     else:\n",
    "#         return None\n",
    "\n",
    "cift_sayilari_filtrele(4)\n",
    "#fonksiyon tek sayılarda çalışmaz çünkü çift sayıları filtrelemek istedim.."
   ]
  },
  {
   "cell_type": "code",
   "execution_count": 15,
   "id": "56e5ab64",
   "metadata": {},
   "outputs": [
    {
     "data": {
      "text/plain": [
       "4"
      ]
     },
     "execution_count": 15,
     "metadata": {},
     "output_type": "execute_result"
    }
   ],
   "source": [
    "def cift_sayilari_filtrele (x):\n",
    "#     if x%2==0:\n",
    "#         return x \n",
    "    return x if x%2==0 else None # None: hiçliği ifade eder\n",
    "cift_sayilari_filtrele(4)"
   ]
  },
  {
   "cell_type": "code",
   "execution_count": 16,
   "id": "8cdb4c78",
   "metadata": {},
   "outputs": [
    {
     "data": {
      "text/plain": [
       "[2, 4]"
      ]
     },
     "execution_count": 16,
     "metadata": {},
     "output_type": "execute_result"
    }
   ],
   "source": [
    "sayilar = [*range(1,6)]\n",
    "[*filter(cift_sayilari_filtrele,sayilar)] #[* outta görmeyi sağlar.]"
   ]
  },
  {
   "cell_type": "code",
   "execution_count": 20,
   "id": "1b3e5afa",
   "metadata": {},
   "outputs": [],
   "source": [
    "def karesini_al(x):\n",
    "    return x ** 2"
   ]
  },
  {
   "cell_type": "code",
   "execution_count": 19,
   "id": "a4805dca",
   "metadata": {},
   "outputs": [
    {
     "data": {
      "text/plain": [
       "[1, 4, 9, 16, 25]"
      ]
     },
     "execution_count": 19,
     "metadata": {},
     "output_type": "execute_result"
    }
   ],
   "source": [
    "# fonksiyonu oluşturmadan yol üstünden çağırmayı sağlar..\n",
    "sayilar = [*range(1,6)]\n",
    "list(map(lambda sayi : sayi**2 ,sayilar))\n",
    "# list(map(lambda x : x**2 ,sayilar))\n",
    "# [*map(lambda x : x**2 ,sayilar)]\n"
   ]
  },
  {
   "cell_type": "code",
   "execution_count": 22,
   "id": "5e76cf88",
   "metadata": {},
   "outputs": [
    {
     "data": {
      "text/plain": [
       "[2, 4]"
      ]
     },
     "execution_count": 22,
     "metadata": {},
     "output_type": "execute_result"
    }
   ],
   "source": [
    "sayilar = [*range(1,6)]\n",
    "[*filter(cift_sayilari_filtrele,sayilar)] #[* outta görmeyi sağlar.]"
   ]
  },
  {
   "cell_type": "code",
   "execution_count": 21,
   "id": "e70c3484",
   "metadata": {},
   "outputs": [
    {
     "data": {
      "text/plain": [
       "[2, 4]"
      ]
     },
     "execution_count": 21,
     "metadata": {},
     "output_type": "execute_result"
    }
   ],
   "source": [
    "sayilar = [*range(1,6)]\n",
    "[*filter(lambda x:x if x%2==0 else None,sayilar)]"
   ]
  },
  {
   "cell_type": "markdown",
   "id": "3ea2162f",
   "metadata": {},
   "source": [
    "# Kullanıcı Girdisi"
   ]
  },
  {
   "cell_type": "code",
   "execution_count": 23,
   "id": "326a64bf",
   "metadata": {},
   "outputs": [
    {
     "name": "stdout",
     "output_type": "stream",
     "text": [
      "Bir sayı girin: 15\n"
     ]
    },
    {
     "data": {
      "text/plain": [
       "'15'"
      ]
     },
     "execution_count": 23,
     "metadata": {},
     "output_type": "execute_result"
    }
   ],
   "source": [
    "input(\"Bir sayı girin: \")"
   ]
  },
  {
   "cell_type": "code",
   "execution_count": 24,
   "id": "27fd5c05",
   "metadata": {},
   "outputs": [
    {
     "name": "stdout",
     "output_type": "stream",
     "text": [
      "Bir sayı girin: 45\n"
     ]
    },
    {
     "data": {
      "text/plain": [
       "str"
      ]
     },
     "execution_count": 24,
     "metadata": {},
     "output_type": "execute_result"
    }
   ],
   "source": [
    "girdi = input(\"Bir sayı girin: \")\n",
    "type(girdi)"
   ]
  },
  {
   "cell_type": "code",
   "execution_count": 25,
   "id": "0699f297",
   "metadata": {},
   "outputs": [
    {
     "name": "stdout",
     "output_type": "stream",
     "text": [
      "Bir sayı girin: 6\n"
     ]
    },
    {
     "data": {
      "text/plain": [
       "int"
      ]
     },
     "execution_count": 25,
     "metadata": {},
     "output_type": "execute_result"
    }
   ],
   "source": [
    "girdi = int(input(\"Bir sayı girin: \"))\n",
    "type(girdi)"
   ]
  },
  {
   "cell_type": "code",
   "execution_count": 26,
   "id": "54a24250",
   "metadata": {},
   "outputs": [
    {
     "name": "stdout",
     "output_type": "stream",
     "text": [
      "Bir sayı girin: fdşl\n"
     ]
    },
    {
     "ename": "ValueError",
     "evalue": "invalid literal for int() with base 10: 'fdşl'",
     "output_type": "error",
     "traceback": [
      "\u001b[1;31m---------------------------------------------------------------------------\u001b[0m",
      "\u001b[1;31mValueError\u001b[0m                                Traceback (most recent call last)",
      "\u001b[1;32m~\\AppData\\Local\\Temp/ipykernel_13352/363988904.py\u001b[0m in \u001b[0;36m<module>\u001b[1;34m\u001b[0m\n\u001b[1;32m----> 1\u001b[1;33m \u001b[0mgirdi\u001b[0m \u001b[1;33m=\u001b[0m \u001b[0mint\u001b[0m\u001b[1;33m(\u001b[0m\u001b[0minput\u001b[0m\u001b[1;33m(\u001b[0m\u001b[1;34m\"Bir sayı girin: \"\u001b[0m\u001b[1;33m)\u001b[0m\u001b[1;33m)\u001b[0m\u001b[1;33m\u001b[0m\u001b[1;33m\u001b[0m\u001b[0m\n\u001b[0m\u001b[0;32m      2\u001b[0m \u001b[0mtype\u001b[0m\u001b[1;33m(\u001b[0m\u001b[0mgirdi\u001b[0m\u001b[1;33m)\u001b[0m\u001b[1;33m\u001b[0m\u001b[1;33m\u001b[0m\u001b[0m\n",
      "\u001b[1;31mValueError\u001b[0m: invalid literal for int() with base 10: 'fdşl'"
     ]
    }
   ],
   "source": [
    "girdi = int(input(\"Bir sayı girin: \"))\n",
    "type(girdi)\n"
   ]
  },
  {
   "cell_type": "code",
   "execution_count": 28,
   "id": "f44b2fd7",
   "metadata": {},
   "outputs": [],
   "source": [
    "def uygulama():\n",
    "    girdi = input(\"Bir sayı girin: \")\n",
    "    islem = input(\"Verinin tek mi çift mi olduğunu sorgula: \")\n",
    "    \n",
    "    if islem == \"cift\":\n",
    "        if int(girdi)%2==0:\n",
    "            return \"Evet {} sayısı bir çift sayıdır\".format(girdi)\n",
    "        else:\n",
    "            return \"Hayır bu bir çift sayı değildir.\"\n",
    "    elif islem == \"tek\":\n",
    "        if int(girdi)%2==1:\n",
    "            return \"Evet bu bir tek sayıdır\"\n",
    "        else:\n",
    "            return \"Hayır bu bir tek sayı değildir.\""
   ]
  },
  {
   "cell_type": "code",
   "execution_count": 29,
   "id": "ff63c211",
   "metadata": {},
   "outputs": [
    {
     "name": "stdout",
     "output_type": "stream",
     "text": [
      "Bir sayı girin: 5\n",
      "Verinin tek mi çift mi olduğunu sorgula: tek\n"
     ]
    },
    {
     "data": {
      "text/plain": [
       "'Evet bu bir tek sayıdır'"
      ]
     },
     "execution_count": 29,
     "metadata": {},
     "output_type": "execute_result"
    }
   ],
   "source": [
    "uygulama()"
   ]
  },
  {
   "cell_type": "code",
   "execution_count": 34,
   "id": "d113669e",
   "metadata": {},
   "outputs": [],
   "source": [
    "def uygulama():\n",
    "    girdi = input(\"Bir sayı girin: \")\n",
    "    islem = input(\"Verinin tek mi çift mi olduğunu sorgula: \")\n",
    "    \n",
    "    if islem == \"cift\":\n",
    "        if int(girdi)%2==0:\n",
    "            return \"Evet {} sayısı bir çift sayıdır\".format(girdi)\n",
    "        else:\n",
    "            return \"Hayır bu bir çift sayı değildir.\"\n",
    "    elif islem == \"tek\":\n",
    "        if int(girdi)%2==1:\n",
    "            return \"Evet bu bir tek sayıdır\"\n",
    "        else:\n",
    "            return \"Hayır bu bir tek sayı değildir.\""
   ]
  },
  {
   "cell_type": "code",
   "execution_count": 35,
   "id": "42f390a5",
   "metadata": {},
   "outputs": [
    {
     "name": "stdout",
     "output_type": "stream",
     "text": [
      "Bir sayı girin: 8\n",
      "Verinin tek mi çift mi olduğunu sorgula: cift\n"
     ]
    },
    {
     "data": {
      "text/plain": [
       "'Evet 8 sayısı bir çift sayıdır'"
      ]
     },
     "execution_count": 35,
     "metadata": {},
     "output_type": "execute_result"
    }
   ],
   "source": [
    "uygulama()"
   ]
  },
  {
   "cell_type": "markdown",
   "id": "836ffbb1",
   "metadata": {},
   "source": [
    "# Kullanıcı Girdisini Onaylamak"
   ]
  },
  {
   "cell_type": "code",
   "execution_count": 38,
   "id": "819ad9da",
   "metadata": {},
   "outputs": [],
   "source": [
    "def sayi_girdisi_kontrol():\n",
    "    girdi = input(\"Bir sayı giriniz: \")\n",
    "    \n",
    "    if girdi.isdigit():\n",
    "        print(\"Tebrikler! Sayı  tipi değer girdiniz.\")\n",
    "    else:\n",
    "        print(\"Üzgünüm! Bu bir sayı tipi değişkeni değil.\")"
   ]
  },
  {
   "cell_type": "code",
   "execution_count": 37,
   "id": "4c833242",
   "metadata": {},
   "outputs": [
    {
     "name": "stdout",
     "output_type": "stream",
     "text": [
      "Bir sayı giriniz: a\n",
      "Üzgünüm! Bu bir sayı tip değişkeni değil.\n"
     ]
    }
   ],
   "source": [
    "sayi_girdisi_kontrol()"
   ]
  },
  {
   "cell_type": "code",
   "execution_count": 39,
   "id": "c03baa39",
   "metadata": {},
   "outputs": [],
   "source": [
    "def sayi_girdisi_kontrol_döngüsü():\n",
    "    girdi = input(\"Bir sayı giriniz: \")\n",
    "    \n",
    "    while not girdi.isdigit(): #Sayı  tipi değeri olup olmadığını sorgular.\n",
    "        print(\"Üzgünüm! Bu bir sayı tipi değişkeni değil.\")\n",
    "        girdi = input(\"Bir sayı giriniz: \")\n",
    "    else:\n",
    "        print(\"Tebrikler! Sayı  tipi değer girdiniz.\")"
   ]
  },
  {
   "cell_type": "code",
   "execution_count": 40,
   "id": "af798abf",
   "metadata": {},
   "outputs": [
    {
     "name": "stdout",
     "output_type": "stream",
     "text": [
      "Bir sayı giriniz: a\n",
      "Üzgünüm! Bu bir sayı tipi değişkeni değil.\n",
      "Bir sayı giriniz: ç\n",
      "Üzgünüm! Bu bir sayı tipi değişkeni değil.\n",
      "Bir sayı giriniz: 56\n",
      "Tebrikler! Sayı  tipi değer girdiniz.\n"
     ]
    }
   ],
   "source": [
    "sayi_girdisi_kontrol_döngüsü()"
   ]
  },
  {
   "cell_type": "code",
   "execution_count": 42,
   "id": "845ae4d9",
   "metadata": {},
   "outputs": [],
   "source": [
    "def eposta_kontrol():\n",
    "    \n",
    "    #fatmacicek0144@gmail.com\n",
    "    girdi = input(\"Geçerli bir e-posta adresi giriniz: \")\n",
    "    \n",
    "    while not (\".\" in girdi and \"@\" in girdi):\n",
    "        print(\"Üzgünüm! BU geçerli bir e-posta adresi değil.\")\n",
    "        girdi = input(\"Geçerli bir e-posta adresi giriniz: \")\n",
    "        \n",
    "    \n",
    "    else:\n",
    "        print(\"Tebrikler! Geçerli bir e-posta adresi girdiniz.\")"
   ]
  },
  {
   "cell_type": "code",
   "execution_count": 43,
   "id": "2c9c32ca",
   "metadata": {},
   "outputs": [
    {
     "name": "stdout",
     "output_type": "stream",
     "text": [
      "Geçerli bir e-posta adresi giriniz:     fatmacicek0144@gmailcom\n",
      "Üzgünüm! BU geçerli bir e-posta adresi değil.\n",
      "Geçerli bir e-posta adresi giriniz:     fatmacicek0144@gmail.com\n",
      "Tebrikler! Geçerli bir e-posta adresi girdiniz.\n"
     ]
    }
   ],
   "source": [
    "eposta_kontrol()\n"
   ]
  },
  {
   "cell_type": "markdown",
   "id": "a54e023d",
   "metadata": {},
   "source": [
    "# Try,Except ve Finally Komutları"
   ]
  },
  {
   "cell_type": "code",
   "execution_count": null,
   "id": "65d1042f",
   "metadata": {},
   "outputs": [],
   "source": [
    "video25"
   ]
  },
  {
   "cell_type": "markdown",
   "id": "cdcca25e",
   "metadata": {},
   "source": [
    "# Exception Tipleri"
   ]
  },
  {
   "cell_type": "code",
   "execution_count": null,
   "id": "0d602b98",
   "metadata": {},
   "outputs": [],
   "source": []
  },
  {
   "cell_type": "code",
   "execution_count": null,
   "id": "ff8c8c9e",
   "metadata": {},
   "outputs": [],
   "source": []
  },
  {
   "cell_type": "code",
   "execution_count": null,
   "id": "40679c05",
   "metadata": {},
   "outputs": [],
   "source": []
  }
 ],
 "metadata": {
  "kernelspec": {
   "display_name": "Python 3 (ipykernel)",
   "language": "python",
   "name": "python3"
  },
  "language_info": {
   "codemirror_mode": {
    "name": "ipython",
    "version": 3
   },
   "file_extension": ".py",
   "mimetype": "text/x-python",
   "name": "python",
   "nbconvert_exporter": "python",
   "pygments_lexer": "ipython3",
   "version": "3.9.7"
  }
 },
 "nbformat": 4,
 "nbformat_minor": 5
}
